{
  "cells": [
    {
      "cell_type": "code",
      "execution_count": null,
      "metadata": {
        "id": "Pekjgm-QD-x6"
      },
      "outputs": [],
      "source": [
        "import pandas as pd\n",
        "import numpy as np"
      ]
    },
    {
      "cell_type": "code",
      "execution_count": null,
      "metadata": {
        "colab": {
          "base_uri": "https://localhost:8080/"
        },
        "id": "pf9wONYlFb2g",
        "outputId": "f36c5089-9af7-4759-80e1-28fddbf2bdf6"
      },
      "outputs": [
        {
          "name": "stdout",
          "output_type": "stream",
          "text": [
            "Looking in indexes: https://pypi.org/simple, https://us-python.pkg.dev/colab-wheels/public/simple/\n",
            "Requirement already satisfied: darts in /usr/local/lib/python3.9/dist-packages (0.23.1)\n",
            "Requirement already satisfied: statsmodels>=0.13.0 in /usr/local/lib/python3.9/dist-packages (from darts) (0.13.5)\n",
            "Requirement already satisfied: matplotlib>=3.3.0 in /usr/local/lib/python3.9/dist-packages (from darts) (3.7.1)\n",
            "Requirement already satisfied: pyod>=0.9.5 in /usr/local/lib/python3.9/dist-packages (from darts) (1.0.9)\n",
            "Requirement already satisfied: nfoursid>=1.0.0 in /usr/local/lib/python3.9/dist-packages (from darts) (1.0.1)\n",
            "Requirement already satisfied: statsforecast>=1.0.0 in /usr/local/lib/python3.9/dist-packages (from darts) (1.5.0)\n",
            "Requirement already satisfied: lightgbm>=3.2.0 in /usr/local/lib/python3.9/dist-packages (from darts) (3.3.5)\n",
            "Requirement already satisfied: pmdarima>=1.8.0 in /usr/local/lib/python3.9/dist-packages (from darts) (2.0.3)\n",
            "Requirement already satisfied: scikit-learn>=1.0.1 in /usr/local/lib/python3.9/dist-packages (from darts) (1.2.2)\n",
            "Requirement already satisfied: joblib>=0.16.0 in /usr/local/lib/python3.9/dist-packages (from darts) (1.1.1)\n",
            "Requirement already satisfied: torch>=1.8.0 in /usr/local/lib/python3.9/dist-packages (from darts) (1.13.1+cu116)\n",
            "Requirement already satisfied: prophet>=1.1.1 in /usr/local/lib/python3.9/dist-packages (from darts) (1.1.2)\n",
            "Requirement already satisfied: scipy>=1.3.2 in /usr/local/lib/python3.9/dist-packages (from darts) (1.10.1)\n",
            "Requirement already satisfied: numpy>=1.19.0 in /usr/local/lib/python3.9/dist-packages (from darts) (1.22.4)\n",
            "Requirement already satisfied: tqdm>=4.60.0 in /usr/local/lib/python3.9/dist-packages (from darts) (4.65.0)\n",
            "Requirement already satisfied: catboost>=1.0.6 in /usr/local/lib/python3.9/dist-packages (from darts) (1.1.1)\n",
            "Requirement already satisfied: xarray>=0.17.0 in /usr/local/lib/python3.9/dist-packages (from darts) (2022.12.0)\n",
            "Requirement already satisfied: pandas>=1.0.5 in /usr/local/lib/python3.9/dist-packages (from darts) (1.4.4)\n",
            "Requirement already satisfied: xgboost>=1.6.0 in /usr/local/lib/python3.9/dist-packages (from darts) (1.7.4)\n",
            "Requirement already satisfied: pytorch-lightning>=1.5.0 in /usr/local/lib/python3.9/dist-packages (from darts) (2.0.1)\n",
            "Requirement already satisfied: tbats>=1.1.0 in /usr/local/lib/python3.9/dist-packages (from darts) (1.1.2)\n",
            "Requirement already satisfied: holidays>=0.11.1 in /usr/local/lib/python3.9/dist-packages (from darts) (0.21.13)\n",
            "Requirement already satisfied: requests>=2.22.0 in /usr/local/lib/python3.9/dist-packages (from darts) (2.27.1)\n",
            "Requirement already satisfied: shap>=0.40.0 in /usr/local/lib/python3.9/dist-packages (from darts) (0.41.0)\n",
            "Requirement already satisfied: six in /usr/local/lib/python3.9/dist-packages (from catboost>=1.0.6->darts) (1.16.0)\n",
            "Requirement already satisfied: graphviz in /usr/local/lib/python3.9/dist-packages (from catboost>=1.0.6->darts) (0.20.1)\n",
            "Requirement already satisfied: plotly in /usr/local/lib/python3.9/dist-packages (from catboost>=1.0.6->darts) (5.13.1)\n",
            "Requirement already satisfied: python-dateutil in /usr/local/lib/python3.9/dist-packages (from holidays>=0.11.1->darts) (2.8.2)\n",
            "Requirement already satisfied: hijri-converter in /usr/local/lib/python3.9/dist-packages (from holidays>=0.11.1->darts) (2.2.4)\n",
            "Requirement already satisfied: korean-lunar-calendar in /usr/local/lib/python3.9/dist-packages (from holidays>=0.11.1->darts) (0.3.1)\n",
            "Requirement already satisfied: PyMeeus in /usr/local/lib/python3.9/dist-packages (from holidays>=0.11.1->darts) (0.5.12)\n",
            "Requirement already satisfied: convertdate>=2.3.0 in /usr/local/lib/python3.9/dist-packages (from holidays>=0.11.1->darts) (2.4.0)\n",
            "Requirement already satisfied: wheel in /usr/local/lib/python3.9/dist-packages (from lightgbm>=3.2.0->darts) (0.40.0)\n",
            "Requirement already satisfied: fonttools>=4.22.0 in /usr/local/lib/python3.9/dist-packages (from matplotlib>=3.3.0->darts) (4.39.3)\n",
            "Requirement already satisfied: cycler>=0.10 in /usr/local/lib/python3.9/dist-packages (from matplotlib>=3.3.0->darts) (0.11.0)\n",
            "Requirement already satisfied: pillow>=6.2.0 in /usr/local/lib/python3.9/dist-packages (from matplotlib>=3.3.0->darts) (8.4.0)\n",
            "Requirement already satisfied: kiwisolver>=1.0.1 in /usr/local/lib/python3.9/dist-packages (from matplotlib>=3.3.0->darts) (1.4.4)\n",
            "Requirement already satisfied: pyparsing>=2.3.1 in /usr/local/lib/python3.9/dist-packages (from matplotlib>=3.3.0->darts) (3.0.9)\n",
            "Requirement already satisfied: importlib-resources>=3.2.0 in /usr/local/lib/python3.9/dist-packages (from matplotlib>=3.3.0->darts) (5.12.0)\n",
            "Requirement already satisfied: contourpy>=1.0.1 in /usr/local/lib/python3.9/dist-packages (from matplotlib>=3.3.0->darts) (1.0.7)\n",
            "Requirement already satisfied: packaging>=20.0 in /usr/local/lib/python3.9/dist-packages (from matplotlib>=3.3.0->darts) (23.0)\n",
            "Requirement already satisfied: pytz>=2020.1 in /usr/local/lib/python3.9/dist-packages (from pandas>=1.0.5->darts) (2022.7.1)\n",
            "Requirement already satisfied: Cython!=0.29.18,!=0.29.31,>=0.29 in /usr/local/lib/python3.9/dist-packages (from pmdarima>=1.8.0->darts) (0.29.33)\n",
            "Requirement already satisfied: setuptools!=50.0.0,>=38.6.0 in /usr/local/lib/python3.9/dist-packages (from pmdarima>=1.8.0->darts) (67.6.1)\n",
            "Requirement already satisfied: urllib3 in /usr/local/lib/python3.9/dist-packages (from pmdarima>=1.8.0->darts) (1.26.15)\n",
            "Requirement already satisfied: cmdstanpy>=1.0.4 in /usr/local/lib/python3.9/dist-packages (from prophet>=1.1.1->darts) (1.1.0)\n",
            "Requirement already satisfied: LunarCalendar>=0.0.9 in /usr/local/lib/python3.9/dist-packages (from prophet>=1.1.1->darts) (0.0.9)\n",
            "Requirement already satisfied: numba>=0.51 in /usr/local/lib/python3.9/dist-packages (from pyod>=0.9.5->darts) (0.56.4)\n",
            "Requirement already satisfied: lightning-utilities>=0.7.0 in /usr/local/lib/python3.9/dist-packages (from pytorch-lightning>=1.5.0->darts) (0.8.0)\n",
            "Requirement already satisfied: typing-extensions>=4.0.0 in /usr/local/lib/python3.9/dist-packages (from pytorch-lightning>=1.5.0->darts) (4.5.0)\n",
            "Requirement already satisfied: fsspec[http]>2021.06.0 in /usr/local/lib/python3.9/dist-packages (from pytorch-lightning>=1.5.0->darts) (2023.3.0)\n",
            "Requirement already satisfied: torchmetrics>=0.7.0 in /usr/local/lib/python3.9/dist-packages (from pytorch-lightning>=1.5.0->darts) (0.11.4)\n",
            "Requirement already satisfied: PyYAML>=5.4 in /usr/local/lib/python3.9/dist-packages (from pytorch-lightning>=1.5.0->darts) (6.0)\n",
            "Requirement already satisfied: charset-normalizer~=2.0.0 in /usr/local/lib/python3.9/dist-packages (from requests>=2.22.0->darts) (2.0.12)\n",
            "Requirement already satisfied: idna<4,>=2.5 in /usr/local/lib/python3.9/dist-packages (from requests>=2.22.0->darts) (3.4)\n",
            "Requirement already satisfied: certifi>=2017.4.17 in /usr/local/lib/python3.9/dist-packages (from requests>=2.22.0->darts) (2022.12.7)\n",
            "Requirement already satisfied: threadpoolctl>=2.0.0 in /usr/local/lib/python3.9/dist-packages (from scikit-learn>=1.0.1->darts) (3.1.0)\n",
            "Requirement already satisfied: cloudpickle in /usr/local/lib/python3.9/dist-packages (from shap>=0.40.0->darts) (2.2.1)\n",
            "Requirement already satisfied: slicer==0.0.7 in /usr/local/lib/python3.9/dist-packages (from shap>=0.40.0->darts) (0.0.7)\n",
            "Requirement already satisfied: fugue>=0.8.1 in /usr/local/lib/python3.9/dist-packages (from statsforecast>=1.0.0->darts) (0.8.3)\n",
            "Requirement already satisfied: plotly-resampler in /usr/local/lib/python3.9/dist-packages (from statsforecast>=1.0.0->darts) (0.8.3.2)\n",
            "Requirement already satisfied: patsy>=0.5.2 in /usr/local/lib/python3.9/dist-packages (from statsmodels>=0.13.0->darts) (0.5.3)\n",
            "Requirement already satisfied: aiohttp!=4.0.0a0,!=4.0.0a1 in /usr/local/lib/python3.9/dist-packages (from fsspec[http]>2021.06.0->pytorch-lightning>=1.5.0->darts) (3.8.4)\n",
            "Requirement already satisfied: triad>=0.8.4 in /usr/local/lib/python3.9/dist-packages (from fugue>=0.8.1->statsforecast>=1.0.0->darts) (0.8.4)\n",
            "Requirement already satisfied: sqlglot in /usr/local/lib/python3.9/dist-packages (from fugue>=0.8.1->statsforecast>=1.0.0->darts) (11.4.5)\n",
            "Requirement already satisfied: jinja2 in /usr/local/lib/python3.9/dist-packages (from fugue>=0.8.1->statsforecast>=1.0.0->darts) (3.1.2)\n",
            "Requirement already satisfied: qpd>=0.4.0 in /usr/local/lib/python3.9/dist-packages (from fugue>=0.8.1->statsforecast>=1.0.0->darts) (0.4.0)\n",
            "Requirement already satisfied: fugue-sql-antlr>=0.1.6 in /usr/local/lib/python3.9/dist-packages (from fugue>=0.8.1->statsforecast>=1.0.0->darts) (0.1.6)\n",
            "Requirement already satisfied: pyarrow>=0.15.1 in /usr/local/lib/python3.9/dist-packages (from fugue>=0.8.1->statsforecast>=1.0.0->darts) (9.0.0)\n",
            "Requirement already satisfied: adagio>=0.2.4 in /usr/local/lib/python3.9/dist-packages (from fugue>=0.8.1->statsforecast>=1.0.0->darts) (0.2.4)\n",
            "Requirement already satisfied: zipp>=3.1.0 in /usr/local/lib/python3.9/dist-packages (from importlib-resources>=3.2.0->matplotlib>=3.3.0->darts) (3.15.0)\n",
            "Requirement already satisfied: ephem>=3.7.5.3 in /usr/local/lib/python3.9/dist-packages (from LunarCalendar>=0.0.9->prophet>=1.1.1->darts) (4.1.4)\n",
            "Requirement already satisfied: llvmlite<0.40,>=0.39.0dev0 in /usr/local/lib/python3.9/dist-packages (from numba>=0.51->pyod>=0.9.5->darts) (0.39.1)\n",
            "Requirement already satisfied: tenacity>=6.2.0 in /usr/local/lib/python3.9/dist-packages (from plotly->catboost>=1.0.6->darts) (8.2.2)\n",
            "Requirement already satisfied: dash<3.0.0,>=2.2.0 in /usr/local/lib/python3.9/dist-packages (from plotly-resampler->statsforecast>=1.0.0->darts) (2.9.2)\n",
            "Requirement already satisfied: jupyter-dash>=0.4.2 in /usr/local/lib/python3.9/dist-packages (from plotly-resampler->statsforecast>=1.0.0->darts) (0.4.2)\n",
            "Requirement already satisfied: orjson<4.0.0,>=3.8.0 in /usr/local/lib/python3.9/dist-packages (from plotly-resampler->statsforecast>=1.0.0->darts) (3.8.9)\n",
            "Requirement already satisfied: trace-updater>=0.0.8 in /usr/local/lib/python3.9/dist-packages (from plotly-resampler->statsforecast>=1.0.0->darts) (0.0.9)\n",
            "Requirement already satisfied: multidict<7.0,>=4.5 in /usr/local/lib/python3.9/dist-packages (from aiohttp!=4.0.0a0,!=4.0.0a1->fsspec[http]>2021.06.0->pytorch-lightning>=1.5.0->darts) (6.0.4)\n",
            "Requirement already satisfied: yarl<2.0,>=1.0 in /usr/local/lib/python3.9/dist-packages (from aiohttp!=4.0.0a0,!=4.0.0a1->fsspec[http]>2021.06.0->pytorch-lightning>=1.5.0->darts) (1.8.2)\n",
            "Requirement already satisfied: async-timeout<5.0,>=4.0.0a3 in /usr/local/lib/python3.9/dist-packages (from aiohttp!=4.0.0a0,!=4.0.0a1->fsspec[http]>2021.06.0->pytorch-lightning>=1.5.0->darts) (4.0.2)\n",
            "Requirement already satisfied: attrs>=17.3.0 in /usr/local/lib/python3.9/dist-packages (from aiohttp!=4.0.0a0,!=4.0.0a1->fsspec[http]>2021.06.0->pytorch-lightning>=1.5.0->darts) (22.2.0)\n",
            "Requirement already satisfied: frozenlist>=1.1.1 in /usr/local/lib/python3.9/dist-packages (from aiohttp!=4.0.0a0,!=4.0.0a1->fsspec[http]>2021.06.0->pytorch-lightning>=1.5.0->darts) (1.3.3)\n",
            "Requirement already satisfied: aiosignal>=1.1.2 in /usr/local/lib/python3.9/dist-packages (from aiohttp!=4.0.0a0,!=4.0.0a1->fsspec[http]>2021.06.0->pytorch-lightning>=1.5.0->darts) (1.3.1)\n",
            "Requirement already satisfied: Flask>=1.0.4 in /usr/local/lib/python3.9/dist-packages (from dash<3.0.0,>=2.2.0->plotly-resampler->statsforecast>=1.0.0->darts) (2.2.3)\n",
            "Requirement already satisfied: dash-html-components==2.0.0 in /usr/local/lib/python3.9/dist-packages (from dash<3.0.0,>=2.2.0->plotly-resampler->statsforecast>=1.0.0->darts) (2.0.0)\n",
            "Requirement already satisfied: dash-core-components==2.0.0 in /usr/local/lib/python3.9/dist-packages (from dash<3.0.0,>=2.2.0->plotly-resampler->statsforecast>=1.0.0->darts) (2.0.0)\n",
            "Requirement already satisfied: dash-table==5.0.0 in /usr/local/lib/python3.9/dist-packages (from dash<3.0.0,>=2.2.0->plotly-resampler->statsforecast>=1.0.0->darts) (5.0.0)\n",
            "Requirement already satisfied: antlr4-python3-runtime<4.12,>=4.11.1 in /usr/local/lib/python3.9/dist-packages (from fugue-sql-antlr>=0.1.6->fugue>=0.8.1->statsforecast>=1.0.0->darts) (4.11.1)\n",
            "Requirement already satisfied: ansi2html in /usr/local/lib/python3.9/dist-packages (from jupyter-dash>=0.4.2->plotly-resampler->statsforecast>=1.0.0->darts) (1.8.0)\n",
            "Requirement already satisfied: nest-asyncio in /usr/local/lib/python3.9/dist-packages (from jupyter-dash>=0.4.2->plotly-resampler->statsforecast>=1.0.0->darts) (1.5.6)\n",
            "Requirement already satisfied: ipykernel in /usr/local/lib/python3.9/dist-packages (from jupyter-dash>=0.4.2->plotly-resampler->statsforecast>=1.0.0->darts) (5.5.6)\n",
            "Requirement already satisfied: retrying in /usr/local/lib/python3.9/dist-packages (from jupyter-dash>=0.4.2->plotly-resampler->statsforecast>=1.0.0->darts) (1.3.4)\n",
            "Requirement already satisfied: ipython in /usr/local/lib/python3.9/dist-packages (from jupyter-dash>=0.4.2->plotly-resampler->statsforecast>=1.0.0->darts) (7.34.0)\n",
            "Requirement already satisfied: fs in /usr/local/lib/python3.9/dist-packages (from triad>=0.8.4->fugue>=0.8.1->statsforecast>=1.0.0->darts) (2.4.16)\n",
            "Requirement already satisfied: MarkupSafe>=2.0 in /usr/local/lib/python3.9/dist-packages (from jinja2->fugue>=0.8.1->statsforecast>=1.0.0->darts) (2.1.2)\n",
            "Requirement already satisfied: Werkzeug>=2.2.2 in /usr/local/lib/python3.9/dist-packages (from Flask>=1.0.4->dash<3.0.0,>=2.2.0->plotly-resampler->statsforecast>=1.0.0->darts) (2.2.3)\n",
            "Requirement already satisfied: itsdangerous>=2.0 in /usr/local/lib/python3.9/dist-packages (from Flask>=1.0.4->dash<3.0.0,>=2.2.0->plotly-resampler->statsforecast>=1.0.0->darts) (2.1.2)\n",
            "Requirement already satisfied: importlib-metadata>=3.6.0 in /usr/local/lib/python3.9/dist-packages (from Flask>=1.0.4->dash<3.0.0,>=2.2.0->plotly-resampler->statsforecast>=1.0.0->darts) (6.1.0)\n",
            "Requirement already satisfied: click>=8.0 in /usr/local/lib/python3.9/dist-packages (from Flask>=1.0.4->dash<3.0.0,>=2.2.0->plotly-resampler->statsforecast>=1.0.0->darts) (8.1.3)\n",
            "Requirement already satisfied: appdirs~=1.4.3 in /usr/local/lib/python3.9/dist-packages (from fs->triad>=0.8.4->fugue>=0.8.1->statsforecast>=1.0.0->darts) (1.4.4)\n",
            "Requirement already satisfied: traitlets>=4.1.0 in /usr/local/lib/python3.9/dist-packages (from ipykernel->jupyter-dash>=0.4.2->plotly-resampler->statsforecast>=1.0.0->darts) (5.7.1)\n",
            "Requirement already satisfied: tornado>=4.2 in /usr/local/lib/python3.9/dist-packages (from ipykernel->jupyter-dash>=0.4.2->plotly-resampler->statsforecast>=1.0.0->darts) (6.2)\n",
            "Requirement already satisfied: jupyter-client in /usr/local/lib/python3.9/dist-packages (from ipykernel->jupyter-dash>=0.4.2->plotly-resampler->statsforecast>=1.0.0->darts) (6.1.12)\n",
            "Requirement already satisfied: ipython-genutils in /usr/local/lib/python3.9/dist-packages (from ipykernel->jupyter-dash>=0.4.2->plotly-resampler->statsforecast>=1.0.0->darts) (0.2.0)\n",
            "Requirement already satisfied: decorator in /usr/local/lib/python3.9/dist-packages (from ipython->jupyter-dash>=0.4.2->plotly-resampler->statsforecast>=1.0.0->darts) (4.4.2)\n",
            "Requirement already satisfied: pickleshare in /usr/local/lib/python3.9/dist-packages (from ipython->jupyter-dash>=0.4.2->plotly-resampler->statsforecast>=1.0.0->darts) (0.7.5)\n",
            "Requirement already satisfied: pexpect>4.3 in /usr/local/lib/python3.9/dist-packages (from ipython->jupyter-dash>=0.4.2->plotly-resampler->statsforecast>=1.0.0->darts) (4.8.0)\n",
            "Requirement already satisfied: backcall in /usr/local/lib/python3.9/dist-packages (from ipython->jupyter-dash>=0.4.2->plotly-resampler->statsforecast>=1.0.0->darts) (0.2.0)\n",
            "Requirement already satisfied: matplotlib-inline in /usr/local/lib/python3.9/dist-packages (from ipython->jupyter-dash>=0.4.2->plotly-resampler->statsforecast>=1.0.0->darts) (0.1.6)\n",
            "Requirement already satisfied: pygments in /usr/local/lib/python3.9/dist-packages (from ipython->jupyter-dash>=0.4.2->plotly-resampler->statsforecast>=1.0.0->darts) (2.14.0)\n",
            "Requirement already satisfied: prompt-toolkit!=3.0.0,!=3.0.1,<3.1.0,>=2.0.0 in /usr/local/lib/python3.9/dist-packages (from ipython->jupyter-dash>=0.4.2->plotly-resampler->statsforecast>=1.0.0->darts) (3.0.38)\n",
            "Requirement already satisfied: jedi>=0.16 in /usr/local/lib/python3.9/dist-packages (from ipython->jupyter-dash>=0.4.2->plotly-resampler->statsforecast>=1.0.0->darts) (0.18.2)\n",
            "Requirement already satisfied: parso<0.9.0,>=0.8.0 in /usr/local/lib/python3.9/dist-packages (from jedi>=0.16->ipython->jupyter-dash>=0.4.2->plotly-resampler->statsforecast>=1.0.0->darts) (0.8.3)\n",
            "Requirement already satisfied: ptyprocess>=0.5 in /usr/local/lib/python3.9/dist-packages (from pexpect>4.3->ipython->jupyter-dash>=0.4.2->plotly-resampler->statsforecast>=1.0.0->darts) (0.7.0)\n",
            "Requirement already satisfied: wcwidth in /usr/local/lib/python3.9/dist-packages (from prompt-toolkit!=3.0.0,!=3.0.1,<3.1.0,>=2.0.0->ipython->jupyter-dash>=0.4.2->plotly-resampler->statsforecast>=1.0.0->darts) (0.2.6)\n",
            "Requirement already satisfied: pyzmq>=13 in /usr/local/lib/python3.9/dist-packages (from jupyter-client->ipykernel->jupyter-dash>=0.4.2->plotly-resampler->statsforecast>=1.0.0->darts) (23.2.1)\n",
            "Requirement already satisfied: jupyter-core>=4.6.0 in /usr/local/lib/python3.9/dist-packages (from jupyter-client->ipykernel->jupyter-dash>=0.4.2->plotly-resampler->statsforecast>=1.0.0->darts) (5.3.0)\n",
            "Requirement already satisfied: platformdirs>=2.5 in /usr/local/lib/python3.9/dist-packages (from jupyter-core>=4.6.0->jupyter-client->ipykernel->jupyter-dash>=0.4.2->plotly-resampler->statsforecast>=1.0.0->darts) (3.2.0)\n"
          ]
        }
      ],
      "source": [
        "!pip install darts"
      ]
    },
    {
      "cell_type": "code",
      "execution_count": null,
      "metadata": {
        "id": "19gdBLtnF7jM"
      },
      "outputs": [],
      "source": [
        "import matplotlib.pyplot as plt\n",
        "import darts"
      ]
    },
    {
      "cell_type": "code",
      "execution_count": null,
      "metadata": {
        "id": "YMJHToDAGgv7"
      },
      "outputs": [],
      "source": [
        "from darts import TimeSeries\n",
        "from darts.models.forecasting.arima import ARIMA\n",
        "from darts.models.forecasting.regression_model import RegressionModel"
      ]
    },
    {
      "cell_type": "code",
      "execution_count": null,
      "metadata": {
        "id": "oluxpkgVGSyV"
      },
      "outputs": [],
      "source": [
        "# read the csv using pandas csv\n",
        "df = pd.read_csv(\"/content/KhindipadaBhandupWestMumbaiIITM.csv\")"
      ]
    },
    {
      "cell_type": "code",
      "execution_count": null,
      "metadata": {
        "colab": {
          "base_uri": "https://localhost:8080/",
          "height": 577
        },
        "id": "Nb2LO5pqGWQL",
        "outputId": "340a2541-7daa-4010-e80d-e9356d7c4d49"
      },
      "outputs": [
        {
          "data": {
            "text/html": [
              "\n",
              "  <div id=\"df-86c39dcd-e81d-490c-ba56-02c60d9957d4\">\n",
              "    <div class=\"colab-df-container\">\n",
              "      <div>\n",
              "<style scoped>\n",
              "    .dataframe tbody tr th:only-of-type {\n",
              "        vertical-align: middle;\n",
              "    }\n",
              "\n",
              "    .dataframe tbody tr th {\n",
              "        vertical-align: top;\n",
              "    }\n",
              "\n",
              "    .dataframe thead th {\n",
              "        text-align: right;\n",
              "    }\n",
              "</style>\n",
              "<table border=\"1\" class=\"dataframe\">\n",
              "  <thead>\n",
              "    <tr style=\"text-align: right;\">\n",
              "      <th></th>\n",
              "      <th>Unnamed: 0</th>\n",
              "      <th>From Date</th>\n",
              "      <th>To Date</th>\n",
              "      <th>PM2.5</th>\n",
              "      <th>PM10</th>\n",
              "      <th>NO</th>\n",
              "      <th>NO2</th>\n",
              "      <th>NOx</th>\n",
              "      <th>NH3</th>\n",
              "      <th>SO2</th>\n",
              "      <th>...</th>\n",
              "      <th>MP-Xylene</th>\n",
              "      <th>RH</th>\n",
              "      <th>WS</th>\n",
              "      <th>WD</th>\n",
              "      <th>BP</th>\n",
              "      <th>Xylene</th>\n",
              "      <th>AT</th>\n",
              "      <th>RF</th>\n",
              "      <th>TOT-RF</th>\n",
              "      <th>Unnamed: 24</th>\n",
              "    </tr>\n",
              "  </thead>\n",
              "  <tbody>\n",
              "    <tr>\n",
              "      <th>0</th>\n",
              "      <td>1</td>\n",
              "      <td>01-01-2021 00:00</td>\n",
              "      <td>01-01-2021 00:15</td>\n",
              "      <td>60.5</td>\n",
              "      <td>118.02</td>\n",
              "      <td>7</td>\n",
              "      <td>48.61</td>\n",
              "      <td>25.86</td>\n",
              "      <td>10.19</td>\n",
              "      <td>1.18</td>\n",
              "      <td>...</td>\n",
              "      <td>10.27</td>\n",
              "      <td>70.47</td>\n",
              "      <td>0.5</td>\n",
              "      <td>110.11</td>\n",
              "      <td>989.2</td>\n",
              "      <td>5.24</td>\n",
              "      <td>None</td>\n",
              "      <td>0</td>\n",
              "      <td>0.0</td>\n",
              "      <td>NaN</td>\n",
              "    </tr>\n",
              "    <tr>\n",
              "      <th>1</th>\n",
              "      <td>2</td>\n",
              "      <td>01-01-2021 00:15</td>\n",
              "      <td>01-01-2021 00:30</td>\n",
              "      <td>54.4</td>\n",
              "      <td>107.2</td>\n",
              "      <td>9</td>\n",
              "      <td>43.36</td>\n",
              "      <td>23.07</td>\n",
              "      <td>9.93</td>\n",
              "      <td>3.7</td>\n",
              "      <td>...</td>\n",
              "      <td>10.06</td>\n",
              "      <td>71.66</td>\n",
              "      <td>0.17</td>\n",
              "      <td>134.45</td>\n",
              "      <td>988.3</td>\n",
              "      <td>5.12</td>\n",
              "      <td>None</td>\n",
              "      <td>0</td>\n",
              "      <td>0.0</td>\n",
              "      <td>NaN</td>\n",
              "    </tr>\n",
              "    <tr>\n",
              "      <th>2</th>\n",
              "      <td>3</td>\n",
              "      <td>01-01-2021 00:30</td>\n",
              "      <td>01-01-2021 00:45</td>\n",
              "      <td>62.3</td>\n",
              "      <td>120.44</td>\n",
              "      <td>11</td>\n",
              "      <td>53.99</td>\n",
              "      <td>28.72</td>\n",
              "      <td>9.47</td>\n",
              "      <td>3.41</td>\n",
              "      <td>...</td>\n",
              "      <td>10.02</td>\n",
              "      <td>73.65</td>\n",
              "      <td>None</td>\n",
              "      <td>None</td>\n",
              "      <td>987.2</td>\n",
              "      <td>5.07</td>\n",
              "      <td>None</td>\n",
              "      <td>0</td>\n",
              "      <td>0.0</td>\n",
              "      <td>NaN</td>\n",
              "    </tr>\n",
              "    <tr>\n",
              "      <th>3</th>\n",
              "      <td>4</td>\n",
              "      <td>01-01-2021 00:45</td>\n",
              "      <td>01-01-2021 01:00</td>\n",
              "      <td>60.72</td>\n",
              "      <td>117.71</td>\n",
              "      <td>7</td>\n",
              "      <td>53.32</td>\n",
              "      <td>28.36</td>\n",
              "      <td>9.15</td>\n",
              "      <td>3.94</td>\n",
              "      <td>...</td>\n",
              "      <td>9.96</td>\n",
              "      <td>76.32</td>\n",
              "      <td>None</td>\n",
              "      <td>None</td>\n",
              "      <td>986.1</td>\n",
              "      <td>5.03</td>\n",
              "      <td>None</td>\n",
              "      <td>0</td>\n",
              "      <td>0.0</td>\n",
              "      <td>NaN</td>\n",
              "    </tr>\n",
              "    <tr>\n",
              "      <th>4</th>\n",
              "      <td>5</td>\n",
              "      <td>01-01-2021 01:00</td>\n",
              "      <td>01-01-2021 01:15</td>\n",
              "      <td>59.77</td>\n",
              "      <td>116.14</td>\n",
              "      <td>13</td>\n",
              "      <td>69.67</td>\n",
              "      <td>37.06</td>\n",
              "      <td>7.9</td>\n",
              "      <td>3.32</td>\n",
              "      <td>...</td>\n",
              "      <td>9.89</td>\n",
              "      <td>78.4</td>\n",
              "      <td>0.21</td>\n",
              "      <td>154.1</td>\n",
              "      <td>985.4</td>\n",
              "      <td>5.01</td>\n",
              "      <td>None</td>\n",
              "      <td>0</td>\n",
              "      <td>0.0</td>\n",
              "      <td>NaN</td>\n",
              "    </tr>\n",
              "  </tbody>\n",
              "</table>\n",
              "<p>5 rows × 25 columns</p>\n",
              "</div>\n",
              "      <button class=\"colab-df-convert\" onclick=\"convertToInteractive('df-86c39dcd-e81d-490c-ba56-02c60d9957d4')\"\n",
              "              title=\"Convert this dataframe to an interactive table.\"\n",
              "              style=\"display:none;\">\n",
              "        \n",
              "  <svg xmlns=\"http://www.w3.org/2000/svg\" height=\"24px\"viewBox=\"0 0 24 24\"\n",
              "       width=\"24px\">\n",
              "    <path d=\"M0 0h24v24H0V0z\" fill=\"none\"/>\n",
              "    <path d=\"M18.56 5.44l.94 2.06.94-2.06 2.06-.94-2.06-.94-.94-2.06-.94 2.06-2.06.94zm-11 1L8.5 8.5l.94-2.06 2.06-.94-2.06-.94L8.5 2.5l-.94 2.06-2.06.94zm10 10l.94 2.06.94-2.06 2.06-.94-2.06-.94-.94-2.06-.94 2.06-2.06.94z\"/><path d=\"M17.41 7.96l-1.37-1.37c-.4-.4-.92-.59-1.43-.59-.52 0-1.04.2-1.43.59L10.3 9.45l-7.72 7.72c-.78.78-.78 2.05 0 2.83L4 21.41c.39.39.9.59 1.41.59.51 0 1.02-.2 1.41-.59l7.78-7.78 2.81-2.81c.8-.78.8-2.07 0-2.86zM5.41 20L4 18.59l7.72-7.72 1.47 1.35L5.41 20z\"/>\n",
              "  </svg>\n",
              "      </button>\n",
              "      \n",
              "  <style>\n",
              "    .colab-df-container {\n",
              "      display:flex;\n",
              "      flex-wrap:wrap;\n",
              "      gap: 12px;\n",
              "    }\n",
              "\n",
              "    .colab-df-convert {\n",
              "      background-color: #E8F0FE;\n",
              "      border: none;\n",
              "      border-radius: 50%;\n",
              "      cursor: pointer;\n",
              "      display: none;\n",
              "      fill: #1967D2;\n",
              "      height: 32px;\n",
              "      padding: 0 0 0 0;\n",
              "      width: 32px;\n",
              "    }\n",
              "\n",
              "    .colab-df-convert:hover {\n",
              "      background-color: #E2EBFA;\n",
              "      box-shadow: 0px 1px 2px rgba(60, 64, 67, 0.3), 0px 1px 3px 1px rgba(60, 64, 67, 0.15);\n",
              "      fill: #174EA6;\n",
              "    }\n",
              "\n",
              "    [theme=dark] .colab-df-convert {\n",
              "      background-color: #3B4455;\n",
              "      fill: #D2E3FC;\n",
              "    }\n",
              "\n",
              "    [theme=dark] .colab-df-convert:hover {\n",
              "      background-color: #434B5C;\n",
              "      box-shadow: 0px 1px 3px 1px rgba(0, 0, 0, 0.15);\n",
              "      filter: drop-shadow(0px 1px 2px rgba(0, 0, 0, 0.3));\n",
              "      fill: #FFFFFF;\n",
              "    }\n",
              "  </style>\n",
              "\n",
              "      <script>\n",
              "        const buttonEl =\n",
              "          document.querySelector('#df-86c39dcd-e81d-490c-ba56-02c60d9957d4 button.colab-df-convert');\n",
              "        buttonEl.style.display =\n",
              "          google.colab.kernel.accessAllowed ? 'block' : 'none';\n",
              "\n",
              "        async function convertToInteractive(key) {\n",
              "          const element = document.querySelector('#df-86c39dcd-e81d-490c-ba56-02c60d9957d4');\n",
              "          const dataTable =\n",
              "            await google.colab.kernel.invokeFunction('convertToInteractive',\n",
              "                                                     [key], {});\n",
              "          if (!dataTable) return;\n",
              "\n",
              "          const docLinkHtml = 'Like what you see? Visit the ' +\n",
              "            '<a target=\"_blank\" href=https://colab.research.google.com/notebooks/data_table.ipynb>data table notebook</a>'\n",
              "            + ' to learn more about interactive tables.';\n",
              "          element.innerHTML = '';\n",
              "          dataTable['output_type'] = 'display_data';\n",
              "          await google.colab.output.renderOutput(dataTable, element);\n",
              "          const docLink = document.createElement('div');\n",
              "          docLink.innerHTML = docLinkHtml;\n",
              "          element.appendChild(docLink);\n",
              "        }\n",
              "      </script>\n",
              "    </div>\n",
              "  </div>\n",
              "  "
            ],
            "text/plain": [
              "   Unnamed: 0         From Date           To Date  PM2.5    PM10  NO    NO2  \\\n",
              "0           1  01-01-2021 00:00  01-01-2021 00:15   60.5  118.02   7  48.61   \n",
              "1           2  01-01-2021 00:15  01-01-2021 00:30   54.4   107.2   9  43.36   \n",
              "2           3  01-01-2021 00:30  01-01-2021 00:45   62.3  120.44  11  53.99   \n",
              "3           4  01-01-2021 00:45  01-01-2021 01:00  60.72  117.71   7  53.32   \n",
              "4           5  01-01-2021 01:00  01-01-2021 01:15  59.77  116.14  13  69.67   \n",
              "\n",
              "     NOx    NH3   SO2  ... MP-Xylene     RH    WS      WD     BP Xylene    AT  \\\n",
              "0  25.86  10.19  1.18  ...     10.27  70.47   0.5  110.11  989.2   5.24  None   \n",
              "1  23.07   9.93   3.7  ...     10.06  71.66  0.17  134.45  988.3   5.12  None   \n",
              "2  28.72   9.47  3.41  ...     10.02  73.65  None    None  987.2   5.07  None   \n",
              "3  28.36   9.15  3.94  ...      9.96  76.32  None    None  986.1   5.03  None   \n",
              "4  37.06    7.9  3.32  ...      9.89   78.4  0.21   154.1  985.4   5.01  None   \n",
              "\n",
              "  RF TOT-RF Unnamed: 24  \n",
              "0  0    0.0         NaN  \n",
              "1  0    0.0         NaN  \n",
              "2  0    0.0         NaN  \n",
              "3  0    0.0         NaN  \n",
              "4  0    0.0         NaN  \n",
              "\n",
              "[5 rows x 25 columns]"
            ]
          },
          "execution_count": 12,
          "metadata": {},
          "output_type": "execute_result"
        }
      ],
      "source": [
        "df.head()"
      ]
    },
    {
      "cell_type": "code",
      "execution_count": null,
      "metadata": {
        "colab": {
          "base_uri": "https://localhost:8080/"
        },
        "id": "SEq-XoIwG660",
        "outputId": "1aa0999b-baff-46ca-8f5e-f7f821bdb3a1"
      },
      "outputs": [
        {
          "name": "stdout",
          "output_type": "stream",
          "text": [
            "<class 'pandas.core.frame.DataFrame'>\n",
            "RangeIndex: 51263 entries, 0 to 51262\n",
            "Data columns (total 25 columns):\n",
            " #   Column       Non-Null Count  Dtype  \n",
            "---  ------       --------------  -----  \n",
            " 0   Unnamed: 0   51263 non-null  int64  \n",
            " 1   From Date    51263 non-null  object \n",
            " 2   To Date      51262 non-null  object \n",
            " 3   PM2.5        51262 non-null  object \n",
            " 4   PM10         51262 non-null  object \n",
            " 5   NO           51262 non-null  object \n",
            " 6   NO2          51262 non-null  object \n",
            " 7   NOx          51262 non-null  object \n",
            " 8   NH3          51262 non-null  object \n",
            " 9   SO2          51262 non-null  object \n",
            " 10  CO           51262 non-null  object \n",
            " 11  Ozone        51262 non-null  object \n",
            " 12  Benzene      51262 non-null  object \n",
            " 13  Toluene      51262 non-null  object \n",
            " 14  Eth-Benzene  51262 non-null  object \n",
            " 15  MP-Xylene    51262 non-null  object \n",
            " 16  RH           51262 non-null  object \n",
            " 17  WS           51262 non-null  object \n",
            " 18  WD           51262 non-null  object \n",
            " 19  BP           51262 non-null  object \n",
            " 20  Xylene       51262 non-null  object \n",
            " 21  AT           51262 non-null  object \n",
            " 22  RF           51262 non-null  object \n",
            " 23  TOT-RF       51262 non-null  float64\n",
            " 24  Unnamed: 24  0 non-null      float64\n",
            "dtypes: float64(2), int64(1), object(22)\n",
            "memory usage: 9.8+ MB\n"
          ]
        }
      ],
      "source": [
        "df.info()\n"
      ]
    },
    {
      "cell_type": "code",
      "execution_count": null,
      "metadata": {
        "colab": {
          "base_uri": "https://localhost:8080/",
          "height": 206
        },
        "id": "fJwj9XdTOYsr",
        "outputId": "599c457b-b3fb-4249-9b65-757e330dd601"
      },
      "outputs": [
        {
          "data": {
            "text/html": [
              "\n",
              "  <div id=\"df-4dd098dc-91c5-439b-bf91-e804c0ae1f5f\">\n",
              "    <div class=\"colab-df-container\">\n",
              "      <div>\n",
              "<style scoped>\n",
              "    .dataframe tbody tr th:only-of-type {\n",
              "        vertical-align: middle;\n",
              "    }\n",
              "\n",
              "    .dataframe tbody tr th {\n",
              "        vertical-align: top;\n",
              "    }\n",
              "\n",
              "    .dataframe thead th {\n",
              "        text-align: right;\n",
              "    }\n",
              "</style>\n",
              "<table border=\"1\" class=\"dataframe\">\n",
              "  <thead>\n",
              "    <tr style=\"text-align: right;\">\n",
              "      <th></th>\n",
              "      <th>From Date</th>\n",
              "      <th>PM2.5</th>\n",
              "      <th>PM10</th>\n",
              "      <th>NO</th>\n",
              "      <th>NO2</th>\n",
              "      <th>NOx</th>\n",
              "      <th>NH3</th>\n",
              "      <th>SO2</th>\n",
              "      <th>CO</th>\n",
              "      <th>Ozone</th>\n",
              "    </tr>\n",
              "  </thead>\n",
              "  <tbody>\n",
              "    <tr>\n",
              "      <th>0</th>\n",
              "      <td>01-01-2021 00:00</td>\n",
              "      <td>60.5</td>\n",
              "      <td>118.02</td>\n",
              "      <td>7</td>\n",
              "      <td>48.61</td>\n",
              "      <td>25.86</td>\n",
              "      <td>10.19</td>\n",
              "      <td>1.18</td>\n",
              "      <td>1.46</td>\n",
              "      <td>39.32</td>\n",
              "    </tr>\n",
              "    <tr>\n",
              "      <th>1</th>\n",
              "      <td>01-01-2021 00:15</td>\n",
              "      <td>54.4</td>\n",
              "      <td>107.2</td>\n",
              "      <td>9</td>\n",
              "      <td>43.36</td>\n",
              "      <td>23.07</td>\n",
              "      <td>9.93</td>\n",
              "      <td>3.7</td>\n",
              "      <td>1.44</td>\n",
              "      <td>40.28</td>\n",
              "    </tr>\n",
              "    <tr>\n",
              "      <th>2</th>\n",
              "      <td>01-01-2021 00:30</td>\n",
              "      <td>62.3</td>\n",
              "      <td>120.44</td>\n",
              "      <td>11</td>\n",
              "      <td>53.99</td>\n",
              "      <td>28.72</td>\n",
              "      <td>9.47</td>\n",
              "      <td>3.41</td>\n",
              "      <td>1.48</td>\n",
              "      <td>33.73</td>\n",
              "    </tr>\n",
              "    <tr>\n",
              "      <th>3</th>\n",
              "      <td>01-01-2021 00:45</td>\n",
              "      <td>60.72</td>\n",
              "      <td>117.71</td>\n",
              "      <td>7</td>\n",
              "      <td>53.32</td>\n",
              "      <td>28.36</td>\n",
              "      <td>9.15</td>\n",
              "      <td>3.94</td>\n",
              "      <td>1.48</td>\n",
              "      <td>31.5</td>\n",
              "    </tr>\n",
              "    <tr>\n",
              "      <th>4</th>\n",
              "      <td>01-01-2021 01:00</td>\n",
              "      <td>59.77</td>\n",
              "      <td>116.14</td>\n",
              "      <td>13</td>\n",
              "      <td>69.67</td>\n",
              "      <td>37.06</td>\n",
              "      <td>7.9</td>\n",
              "      <td>3.32</td>\n",
              "      <td>1.43</td>\n",
              "      <td>25.99</td>\n",
              "    </tr>\n",
              "  </tbody>\n",
              "</table>\n",
              "</div>\n",
              "      <button class=\"colab-df-convert\" onclick=\"convertToInteractive('df-4dd098dc-91c5-439b-bf91-e804c0ae1f5f')\"\n",
              "              title=\"Convert this dataframe to an interactive table.\"\n",
              "              style=\"display:none;\">\n",
              "        \n",
              "  <svg xmlns=\"http://www.w3.org/2000/svg\" height=\"24px\"viewBox=\"0 0 24 24\"\n",
              "       width=\"24px\">\n",
              "    <path d=\"M0 0h24v24H0V0z\" fill=\"none\"/>\n",
              "    <path d=\"M18.56 5.44l.94 2.06.94-2.06 2.06-.94-2.06-.94-.94-2.06-.94 2.06-2.06.94zm-11 1L8.5 8.5l.94-2.06 2.06-.94-2.06-.94L8.5 2.5l-.94 2.06-2.06.94zm10 10l.94 2.06.94-2.06 2.06-.94-2.06-.94-.94-2.06-.94 2.06-2.06.94z\"/><path d=\"M17.41 7.96l-1.37-1.37c-.4-.4-.92-.59-1.43-.59-.52 0-1.04.2-1.43.59L10.3 9.45l-7.72 7.72c-.78.78-.78 2.05 0 2.83L4 21.41c.39.39.9.59 1.41.59.51 0 1.02-.2 1.41-.59l7.78-7.78 2.81-2.81c.8-.78.8-2.07 0-2.86zM5.41 20L4 18.59l7.72-7.72 1.47 1.35L5.41 20z\"/>\n",
              "  </svg>\n",
              "      </button>\n",
              "      \n",
              "  <style>\n",
              "    .colab-df-container {\n",
              "      display:flex;\n",
              "      flex-wrap:wrap;\n",
              "      gap: 12px;\n",
              "    }\n",
              "\n",
              "    .colab-df-convert {\n",
              "      background-color: #E8F0FE;\n",
              "      border: none;\n",
              "      border-radius: 50%;\n",
              "      cursor: pointer;\n",
              "      display: none;\n",
              "      fill: #1967D2;\n",
              "      height: 32px;\n",
              "      padding: 0 0 0 0;\n",
              "      width: 32px;\n",
              "    }\n",
              "\n",
              "    .colab-df-convert:hover {\n",
              "      background-color: #E2EBFA;\n",
              "      box-shadow: 0px 1px 2px rgba(60, 64, 67, 0.3), 0px 1px 3px 1px rgba(60, 64, 67, 0.15);\n",
              "      fill: #174EA6;\n",
              "    }\n",
              "\n",
              "    [theme=dark] .colab-df-convert {\n",
              "      background-color: #3B4455;\n",
              "      fill: #D2E3FC;\n",
              "    }\n",
              "\n",
              "    [theme=dark] .colab-df-convert:hover {\n",
              "      background-color: #434B5C;\n",
              "      box-shadow: 0px 1px 3px 1px rgba(0, 0, 0, 0.15);\n",
              "      filter: drop-shadow(0px 1px 2px rgba(0, 0, 0, 0.3));\n",
              "      fill: #FFFFFF;\n",
              "    }\n",
              "  </style>\n",
              "\n",
              "      <script>\n",
              "        const buttonEl =\n",
              "          document.querySelector('#df-4dd098dc-91c5-439b-bf91-e804c0ae1f5f button.colab-df-convert');\n",
              "        buttonEl.style.display =\n",
              "          google.colab.kernel.accessAllowed ? 'block' : 'none';\n",
              "\n",
              "        async function convertToInteractive(key) {\n",
              "          const element = document.querySelector('#df-4dd098dc-91c5-439b-bf91-e804c0ae1f5f');\n",
              "          const dataTable =\n",
              "            await google.colab.kernel.invokeFunction('convertToInteractive',\n",
              "                                                     [key], {});\n",
              "          if (!dataTable) return;\n",
              "\n",
              "          const docLinkHtml = 'Like what you see? Visit the ' +\n",
              "            '<a target=\"_blank\" href=https://colab.research.google.com/notebooks/data_table.ipynb>data table notebook</a>'\n",
              "            + ' to learn more about interactive tables.';\n",
              "          element.innerHTML = '';\n",
              "          dataTable['output_type'] = 'display_data';\n",
              "          await google.colab.output.renderOutput(dataTable, element);\n",
              "          const docLink = document.createElement('div');\n",
              "          docLink.innerHTML = docLinkHtml;\n",
              "          element.appendChild(docLink);\n",
              "        }\n",
              "      </script>\n",
              "    </div>\n",
              "  </div>\n",
              "  "
            ],
            "text/plain": [
              "          From Date  PM2.5    PM10  NO    NO2    NOx    NH3   SO2    CO  Ozone\n",
              "0  01-01-2021 00:00   60.5  118.02   7  48.61  25.86  10.19  1.18  1.46  39.32\n",
              "1  01-01-2021 00:15   54.4   107.2   9  43.36  23.07   9.93   3.7  1.44  40.28\n",
              "2  01-01-2021 00:30   62.3  120.44  11  53.99  28.72   9.47  3.41  1.48  33.73\n",
              "3  01-01-2021 00:45  60.72  117.71   7  53.32  28.36   9.15  3.94  1.48   31.5\n",
              "4  01-01-2021 01:00  59.77  116.14  13  69.67  37.06    7.9  3.32  1.43  25.99"
            ]
          },
          "execution_count": 45,
          "metadata": {},
          "output_type": "execute_result"
        }
      ],
      "source": [
        "new_df = df[['From Date','PM2.5','PM10','NO','NO2','NOx','NH3','SO2','CO','Ozone']]\n",
        "new_df.head()"
      ]
    },
    {
      "cell_type": "code",
      "execution_count": null,
      "metadata": {
        "id": "dnw9VsJKPrEa"
      },
      "outputs": [],
      "source": [
        "def dtype_convert(df):\n",
        "    cols = ['PM2.5','PM10','NO','NO2','NOx','NH3','SO2','CO','Ozone']\n",
        "    for col in cols:\n",
        "        df[col] = [float(str(i).replace(\"None\", '0'))for i in df[col]]\n",
        "        \n",
        "    df['From Date'] = pd.to_datetime(df['From Date'], errors='coerce')\n",
        "    return df"
      ]
    },
    {
      "cell_type": "code",
      "execution_count": null,
      "metadata": {
        "colab": {
          "base_uri": "https://localhost:8080/"
        },
        "id": "EKTNzQ0kYQif",
        "outputId": "3d7146de-de60-4cc6-9402-7c712485c260"
      },
      "outputs": [
        {
          "name": "stderr",
          "output_type": "stream",
          "text": [
            "<ipython-input-53-4f11f3f50d5a>:4: SettingWithCopyWarning: \n",
            "A value is trying to be set on a copy of a slice from a DataFrame.\n",
            "Try using .loc[row_indexer,col_indexer] = value instead\n",
            "\n",
            "See the caveats in the documentation: https://pandas.pydata.org/pandas-docs/stable/user_guide/indexing.html#returning-a-view-versus-a-copy\n",
            "  df[col] = [float(str(i).replace(\"None\", '0'))for i in df[col]]\n",
            "<ipython-input-53-4f11f3f50d5a>:6: SettingWithCopyWarning: \n",
            "A value is trying to be set on a copy of a slice from a DataFrame.\n",
            "Try using .loc[row_indexer,col_indexer] = value instead\n",
            "\n",
            "See the caveats in the documentation: https://pandas.pydata.org/pandas-docs/stable/user_guide/indexing.html#returning-a-view-versus-a-copy\n",
            "  df['From Date'] = pd.to_datetime(df['From Date'], errors='coerce')\n"
          ]
        }
      ],
      "source": [
        "ndf = dtype_convert(new_df)"
      ]
    },
    {
      "cell_type": "code",
      "execution_count": null,
      "metadata": {
        "colab": {
          "base_uri": "https://localhost:8080/"
        },
        "id": "PVSRgiKEYor-",
        "outputId": "7318d51a-4be5-477a-caaf-69f8bee02a8f"
      },
      "outputs": [
        {
          "name": "stdout",
          "output_type": "stream",
          "text": [
            "<class 'pandas.core.frame.DataFrame'>\n",
            "RangeIndex: 51263 entries, 0 to 51262\n",
            "Data columns (total 10 columns):\n",
            " #   Column     Non-Null Count  Dtype         \n",
            "---  ------     --------------  -----         \n",
            " 0   From Date  51262 non-null  datetime64[ns]\n",
            " 1   PM2.5      51262 non-null  float64       \n",
            " 2   PM10       51262 non-null  float64       \n",
            " 3   NO         51262 non-null  float64       \n",
            " 4   NO2        51262 non-null  float64       \n",
            " 5   NOx        51262 non-null  float64       \n",
            " 6   NH3        51262 non-null  float64       \n",
            " 7   SO2        51262 non-null  float64       \n",
            " 8   CO         51262 non-null  float64       \n",
            " 9   Ozone      51262 non-null  float64       \n",
            "dtypes: datetime64[ns](1), float64(9)\n",
            "memory usage: 3.9 MB\n"
          ]
        }
      ],
      "source": [
        "ndf.info()"
      ]
    },
    {
      "cell_type": "markdown",
      "metadata": {
        "id": "NZcDGav1rkQh"
      },
      "source": [
        "## Data Viz"
      ]
    },
    {
      "cell_type": "code",
      "execution_count": null,
      "metadata": {
        "colab": {
          "base_uri": "https://localhost:8080/",
          "height": 468
        },
        "id": "DgLkePugoZNR",
        "outputId": "6749c8a7-0341-4507-fb32-3c3472420d48"
      },
      "outputs": [
        {
          "data": {
            "text/plain": [
              "<Axes: title={'center': 'PM2.5'}>"
            ]
          },
          "execution_count": 31,
          "metadata": {},
          "output_type": "execute_result"
        },
        {
          "data": {
            "image/png": "[encoded data removed]",
            "text/plain": [
              "<Figure size 640x480 with 1 Axes>"
            ]
          },
          "metadata": {},
          "output_type": "display_data"
        }
      ],
      "source": [
        "# plot the each columns\n",
        "ndf['PM2.5'].plot(title='PM2.5')"
      ]
    },
    {
      "cell_type": "code",
      "execution_count": null,
      "metadata": {
        "colab": {
          "base_uri": "https://localhost:8080/",
          "height": 446
        },
        "id": "0b68sVaFqQeB",
        "outputId": "eb0f864f-2598-4b9f-82fc-4cb80075b4cf"
      },
      "outputs": [
        {
          "data": {
            "text/plain": [
              "<Axes: >"
            ]
          },
          "execution_count": 32,
          "metadata": {},
          "output_type": "execute_result"
        },
        {
          "data": {
            "image/png": "[encoded data removed]",
            "text/plain": [
              "<Figure size 640x480 with 1 Axes>"
            ]
          },
          "metadata": {},
          "output_type": "display_data"
        }
      ],
      "source": [
        "ndf['PM10'].plot()"
      ]
    },
    {
      "cell_type": "code",
      "execution_count": null,
      "metadata": {
        "colab": {
          "base_uri": "https://localhost:8080/",
          "height": 446
        },
        "id": "1GwWx-qtqn3P",
        "outputId": "bf6c08ae-5cf5-48b5-fda5-03778248d1a0"
      },
      "outputs": [
        {
          "data": {
            "text/plain": [
              "<Axes: >"
            ]
          },
          "execution_count": 33,
          "metadata": {},
          "output_type": "execute_result"
        },
        {
          "data": {
            "image/png": "[encoded data removed]",
            "text/plain": [
              "<Figure size 640x480 with 1 Axes>"
            ]
          },
          "metadata": {},
          "output_type": "display_data"
        }
      ],
      "source": [
        "ndf['NO'].plot()"
      ]
    },
    {
      "cell_type": "code",
      "execution_count": null,
      "metadata": {
        "colab": {
          "base_uri": "https://localhost:8080/",
          "height": 446
        },
        "id": "YaXYL36eqwlA",
        "outputId": "d44c6bfa-c87c-4943-b498-bdf1bb75682a"
      },
      "outputs": [
        {
          "data": {
            "text/plain": [
              "<Axes: >"
            ]
          },
          "execution_count": 34,
          "metadata": {},
          "output_type": "execute_result"
        },
        {
          "data": {
            "image/png": "[encoded data removed]",
            "text/plain": [
              "<Figure size 640x480 with 1 Axes>"
            ]
          },
          "metadata": {},
          "output_type": "display_data"
        }
      ],
      "source": [
        "ndf['NO2'].plot()"
      ]
    },
    {
      "cell_type": "code",
      "execution_count": null,
      "metadata": {
        "colab": {
          "base_uri": "https://localhost:8080/",
          "height": 446
        },
        "id": "iOzGIYwbrs0b",
        "outputId": "f9db033e-6a25-4e7a-e55e-2eadc7c21d64"
      },
      "outputs": [
        {
          "data": {
            "text/plain": [
              "<Axes: >"
            ]
          },
          "execution_count": 35,
          "metadata": {},
          "output_type": "execute_result"
        },
        {
          "data": {
            "image/png": "[encoded data removed]",
            "text/plain": [
              "<Figure size 640x480 with 1 Axes>"
            ]
          },
          "metadata": {},
          "output_type": "display_data"
        }
      ],
      "source": [
        "ndf['NOx'].plot()"
      ]
    },
    {
      "cell_type": "markdown",
      "metadata": {
        "id": "nWSp1kKKrZK4"
      },
      "source": [
        "## Darts modeling\n",
        "\n",
        "1. Timeseries object"
      ]
    },
    {
      "cell_type": "code",
      "execution_count": null,
      "metadata": {
        "colab": {
          "base_uri": "https://localhost:8080/"
        },
        "id": "g7B3Wm7zz_Jt",
        "outputId": "302191da-5d89-4717-843d-4430bcb9f6d7"
      },
      "outputs": [
        {
          "data": {
            "text/plain": [
              "Index(['From Date', 'PM2.5', 'PM10', 'NO', 'NO2', 'NOx', 'NH3', 'SO2', 'CO',\n",
              "       'Ozone'],\n",
              "      dtype='object')"
            ]
          },
          "execution_count": 36,
          "metadata": {},
          "output_type": "execute_result"
        }
      ],
      "source": [
        "ndf.columns"
      ]
    },
    {
      "cell_type": "code",
      "execution_count": null,
      "metadata": {
        "colab": {
          "base_uri": "https://localhost:8080/",
          "height": 206
        },
        "id": "3BAr6ueuwjRy",
        "outputId": "28322f13-a766-495c-8f11-ec6261a528bc"
      },
      "outputs": [
        {
          "data": {
            "text/html": [
              "\n",
              "  <div id=\"df-b65cff7d-0d97-4b72-a001-be76ba7dc1f9\">\n",
              "    <div class=\"colab-df-container\">\n",
              "      <div>\n",
              "<style scoped>\n",
              "    .dataframe tbody tr th:only-of-type {\n",
              "        vertical-align: middle;\n",
              "    }\n",
              "\n",
              "    .dataframe tbody tr th {\n",
              "        vertical-align: top;\n",
              "    }\n",
              "\n",
              "    .dataframe thead th {\n",
              "        text-align: right;\n",
              "    }\n",
              "</style>\n",
              "<table border=\"1\" class=\"dataframe\">\n",
              "  <thead>\n",
              "    <tr style=\"text-align: right;\">\n",
              "      <th></th>\n",
              "      <th>From Date</th>\n",
              "      <th>PM2.5</th>\n",
              "      <th>PM10</th>\n",
              "      <th>NO</th>\n",
              "      <th>NO2</th>\n",
              "      <th>NOx</th>\n",
              "      <th>NH3</th>\n",
              "      <th>SO2</th>\n",
              "      <th>CO</th>\n",
              "      <th>Ozone</th>\n",
              "    </tr>\n",
              "  </thead>\n",
              "  <tbody>\n",
              "    <tr>\n",
              "      <th>0</th>\n",
              "      <td>2021-01-01 00:00:00</td>\n",
              "      <td>60.50</td>\n",
              "      <td>118.02</td>\n",
              "      <td>7.0</td>\n",
              "      <td>48.61</td>\n",
              "      <td>25.86</td>\n",
              "      <td>10.19</td>\n",
              "      <td>1.18</td>\n",
              "      <td>1.46</td>\n",
              "      <td>39.32</td>\n",
              "    </tr>\n",
              "    <tr>\n",
              "      <th>1</th>\n",
              "      <td>2021-01-01 00:15:00</td>\n",
              "      <td>54.40</td>\n",
              "      <td>107.20</td>\n",
              "      <td>9.0</td>\n",
              "      <td>43.36</td>\n",
              "      <td>23.07</td>\n",
              "      <td>9.93</td>\n",
              "      <td>3.70</td>\n",
              "      <td>1.44</td>\n",
              "      <td>40.28</td>\n",
              "    </tr>\n",
              "    <tr>\n",
              "      <th>2</th>\n",
              "      <td>2021-01-01 00:30:00</td>\n",
              "      <td>62.30</td>\n",
              "      <td>120.44</td>\n",
              "      <td>11.0</td>\n",
              "      <td>53.99</td>\n",
              "      <td>28.72</td>\n",
              "      <td>9.47</td>\n",
              "      <td>3.41</td>\n",
              "      <td>1.48</td>\n",
              "      <td>33.73</td>\n",
              "    </tr>\n",
              "    <tr>\n",
              "      <th>3</th>\n",
              "      <td>2021-01-01 00:45:00</td>\n",
              "      <td>60.72</td>\n",
              "      <td>117.71</td>\n",
              "      <td>7.0</td>\n",
              "      <td>53.32</td>\n",
              "      <td>28.36</td>\n",
              "      <td>9.15</td>\n",
              "      <td>3.94</td>\n",
              "      <td>1.48</td>\n",
              "      <td>31.50</td>\n",
              "    </tr>\n",
              "    <tr>\n",
              "      <th>4</th>\n",
              "      <td>2021-01-01 01:00:00</td>\n",
              "      <td>59.77</td>\n",
              "      <td>116.14</td>\n",
              "      <td>13.0</td>\n",
              "      <td>69.67</td>\n",
              "      <td>37.06</td>\n",
              "      <td>7.90</td>\n",
              "      <td>3.32</td>\n",
              "      <td>1.43</td>\n",
              "      <td>25.99</td>\n",
              "    </tr>\n",
              "  </tbody>\n",
              "</table>\n",
              "</div>\n",
              "      <button class=\"colab-df-convert\" onclick=\"convertToInteractive('df-b65cff7d-0d97-4b72-a001-be76ba7dc1f9')\"\n",
              "              title=\"Convert this dataframe to an interactive table.\"\n",
              "              style=\"display:none;\">\n",
              "        \n",
              "  <svg xmlns=\"http://www.w3.org/2000/svg\" height=\"24px\"viewBox=\"0 0 24 24\"\n",
              "       width=\"24px\">\n",
              "    <path d=\"M0 0h24v24H0V0z\" fill=\"none\"/>\n",
              "    <path d=\"M18.56 5.44l.94 2.06.94-2.06 2.06-.94-2.06-.94-.94-2.06-.94 2.06-2.06.94zm-11 1L8.5 8.5l.94-2.06 2.06-.94-2.06-.94L8.5 2.5l-.94 2.06-2.06.94zm10 10l.94 2.06.94-2.06 2.06-.94-2.06-.94-.94-2.06-.94 2.06-2.06.94z\"/><path d=\"M17.41 7.96l-1.37-1.37c-.4-.4-.92-.59-1.43-.59-.52 0-1.04.2-1.43.59L10.3 9.45l-7.72 7.72c-.78.78-.78 2.05 0 2.83L4 21.41c.39.39.9.59 1.41.59.51 0 1.02-.2 1.41-.59l7.78-7.78 2.81-2.81c.8-.78.8-2.07 0-2.86zM5.41 20L4 18.59l7.72-7.72 1.47 1.35L5.41 20z\"/>\n",
              "  </svg>\n",
              "      </button>\n",
              "      \n",
              "  <style>\n",
              "    .colab-df-container {\n",
              "      display:flex;\n",
              "      flex-wrap:wrap;\n",
              "      gap: 12px;\n",
              "    }\n",
              "\n",
              "    .colab-df-convert {\n",
              "      background-color: #E8F0FE;\n",
              "      border: none;\n",
              "      border-radius: 50%;\n",
              "      cursor: pointer;\n",
              "      display: none;\n",
              "      fill: #1967D2;\n",
              "      height: 32px;\n",
              "      padding: 0 0 0 0;\n",
              "      width: 32px;\n",
              "    }\n",
              "\n",
              "    .colab-df-convert:hover {\n",
              "      background-color: #E2EBFA;\n",
              "      box-shadow: 0px 1px 2px rgba(60, 64, 67, 0.3), 0px 1px 3px 1px rgba(60, 64, 67, 0.15);\n",
              "      fill: #174EA6;\n",
              "    }\n",
              "\n",
              "    [theme=dark] .colab-df-convert {\n",
              "      background-color: #3B4455;\n",
              "      fill: #D2E3FC;\n",
              "    }\n",
              "\n",
              "    [theme=dark] .colab-df-convert:hover {\n",
              "      background-color: #434B5C;\n",
              "      box-shadow: 0px 1px 3px 1px rgba(0, 0, 0, 0.15);\n",
              "      filter: drop-shadow(0px 1px 2px rgba(0, 0, 0, 0.3));\n",
              "      fill: #FFFFFF;\n",
              "    }\n",
              "  </style>\n",
              "\n",
              "      <script>\n",
              "        const buttonEl =\n",
              "          document.querySelector('#df-b65cff7d-0d97-4b72-a001-be76ba7dc1f9 button.colab-df-convert');\n",
              "        buttonEl.style.display =\n",
              "          google.colab.kernel.accessAllowed ? 'block' : 'none';\n",
              "\n",
              "        async function convertToInteractive(key) {\n",
              "          const element = document.querySelector('#df-b65cff7d-0d97-4b72-a001-be76ba7dc1f9');\n",
              "          const dataTable =\n",
              "            await google.colab.kernel.invokeFunction('convertToInteractive',\n",
              "                                                     [key], {});\n",
              "          if (!dataTable) return;\n",
              "\n",
              "          const docLinkHtml = 'Like what you see? Visit the ' +\n",
              "            '<a target=\"_blank\" href=https://colab.research.google.com/notebooks/data_table.ipynb>data table notebook</a>'\n",
              "            + ' to learn more about interactive tables.';\n",
              "          element.innerHTML = '';\n",
              "          dataTable['output_type'] = 'display_data';\n",
              "          await google.colab.output.renderOutput(dataTable, element);\n",
              "          const docLink = document.createElement('div');\n",
              "          docLink.innerHTML = docLinkHtml;\n",
              "          element.appendChild(docLink);\n",
              "        }\n",
              "      </script>\n",
              "    </div>\n",
              "  </div>\n",
              "  "
            ],
            "text/plain": [
              "            From Date  PM2.5    PM10    NO    NO2    NOx    NH3   SO2    CO  \\\n",
              "0 2021-01-01 00:00:00  60.50  118.02   7.0  48.61  25.86  10.19  1.18  1.46   \n",
              "1 2021-01-01 00:15:00  54.40  107.20   9.0  43.36  23.07   9.93  3.70  1.44   \n",
              "2 2021-01-01 00:30:00  62.30  120.44  11.0  53.99  28.72   9.47  3.41  1.48   \n",
              "3 2021-01-01 00:45:00  60.72  117.71   7.0  53.32  28.36   9.15  3.94  1.48   \n",
              "4 2021-01-01 01:00:00  59.77  116.14  13.0  69.67  37.06   7.90  3.32  1.43   \n",
              "\n",
              "   Ozone  \n",
              "0  39.32  \n",
              "1  40.28  \n",
              "2  33.73  \n",
              "3  31.50  \n",
              "4  25.99  "
            ]
          },
          "execution_count": 57,
          "metadata": {},
          "output_type": "execute_result"
        }
      ],
      "source": [
        "ndf.head()"
      ]
    },
    {
      "cell_type": "code",
      "execution_count": null,
      "metadata": {
        "id": "I62bqmf23NmD"
      },
      "outputs": [],
      "source": [
        "df_hourly = ndf.set_index('From Date').resample('H').mean().reset_index()"
      ]
    },
    {
      "cell_type": "code",
      "execution_count": null,
      "metadata": {
        "colab": {
          "base_uri": "https://localhost:8080/"
        },
        "id": "CliWdUP53RGa",
        "outputId": "15c569e3-0f2c-4326-f396-64aad6a40d63"
      },
      "outputs": [
        {
          "name": "stdout",
          "output_type": "stream",
          "text": [
            "<class 'pandas.core.frame.DataFrame'>\n",
            "RangeIndex: 16920 entries, 0 to 16919\n",
            "Data columns (total 10 columns):\n",
            " #   Column     Non-Null Count  Dtype         \n",
            "---  ------     --------------  -----         \n",
            " 0   From Date  16920 non-null  datetime64[ns]\n",
            " 1   PM2.5      12816 non-null  float64       \n",
            " 2   PM10       12816 non-null  float64       \n",
            " 3   NO         12816 non-null  float64       \n",
            " 4   NO2        12816 non-null  float64       \n",
            " 5   NOx        12816 non-null  float64       \n",
            " 6   NH3        12816 non-null  float64       \n",
            " 7   SO2        12816 non-null  float64       \n",
            " 8   CO         12816 non-null  float64       \n",
            " 9   Ozone      12816 non-null  float64       \n",
            "dtypes: datetime64[ns](1), float64(9)\n",
            "memory usage: 1.3 MB\n"
          ]
        }
      ],
      "source": [
        "df_hourly.info()"
      ]
    },
    {
      "cell_type": "code",
      "execution_count": null,
      "metadata": {
        "id": "HIOql6335Y6x"
      },
      "outputs": [],
      "source": [
        "df_hourly['PM2.5'] = df_hourly['PM2.5'].fillna(df_hourly['PM2.5'].mean())\n",
        "df_hourly['PM10'] = df_hourly['PM10'].fillna(df_hourly['PM10'].mean())\n",
        "df_hourly['NO'] = df_hourly['NO'].fillna(df_hourly['NO'].mean())\n",
        "df_hourly['NO2'] = df_hourly['NO2'].fillna(df_hourly['NO2'].mean())\n",
        "df_hourly['NOx'] = df_hourly['NOx'].fillna(df_hourly['NOx'].mean())\n",
        "df_hourly['NH3'] = df_hourly['NH3'].fillna(df_hourly['NH3'].mean())\n",
        "df_hourly['SO2'] = df_hourly['SO2'].fillna(df_hourly['SO2'].mean())\n",
        "df_hourly['CO'] = df_hourly['CO'].fillna(df_hourly['CO'].mean())\n",
        "df_hourly['Ozone'] = df_hourly['Ozone'].fillna(df_hourly['Ozone'].mean())"
      ]
    },
    {
      "cell_type": "code",
      "execution_count": null,
      "metadata": {
        "colab": {
          "base_uri": "https://localhost:8080/"
        },
        "id": "bQd5E0uF5shf",
        "outputId": "e75b71fd-e62a-4ff8-e96f-4e22ce1b547b"
      },
      "outputs": [
        {
          "name": "stdout",
          "output_type": "stream",
          "text": [
            "<class 'pandas.core.frame.DataFrame'>\n",
            "RangeIndex: 16920 entries, 0 to 16919\n",
            "Data columns (total 10 columns):\n",
            " #   Column     Non-Null Count  Dtype         \n",
            "---  ------     --------------  -----         \n",
            " 0   From Date  16920 non-null  datetime64[ns]\n",
            " 1   PM2.5      16920 non-null  float64       \n",
            " 2   PM10       16920 non-null  float64       \n",
            " 3   NO         16920 non-null  float64       \n",
            " 4   NO2        16920 non-null  float64       \n",
            " 5   NOx        16920 non-null  float64       \n",
            " 6   NH3        16920 non-null  float64       \n",
            " 7   SO2        16920 non-null  float64       \n",
            " 8   CO         16920 non-null  float64       \n",
            " 9   Ozone      16920 non-null  float64       \n",
            "dtypes: datetime64[ns](1), float64(9)\n",
            "memory usage: 1.3 MB\n"
          ]
        }
      ],
      "source": [
        "df_hourly.info()"
      ]
    },
    {
      "cell_type": "code",
      "execution_count": null,
      "metadata": {
        "id": "_q40981vy8tZ"
      },
      "outputs": [],
      "source": [
        "# convert datetime into darts timeseries object\n",
        "ts = TimeSeries.from_dataframe(df=df_hourly, time_col='From Date', value_cols= ['PM2.5'], fill_missing_dates=True, freq=None)"
      ]
    },
    {
      "cell_type": "code",
      "execution_count": null,
      "metadata": {
        "colab": {
          "base_uri": "https://localhost:8080/",
          "height": 474
        },
        "id": "ymcy8pzozwR-",
        "outputId": "81b7275a-27d6-4562-dd64-788ee5deaf1b"
      },
      "outputs": [
        {
          "data": {
            "image/png": "[encoded data removed]",
            "text/plain": [
              "<Figure size 640x480 with 1 Axes>"
            ]
          },
          "metadata": {},
          "output_type": "display_data"
        }
      ],
      "source": [
        "ts.plot()"
      ]
    },
    {
      "cell_type": "code",
      "execution_count": null,
      "metadata": {
        "id": "iDbSl1lO4l4E"
      },
      "outputs": [],
      "source": [
        "# split the timeseries after 1st of october 2022\n",
        "train, val = ts.split_after(pd.Timestamp(\"20221001\"))"
      ]
    },
    {
      "cell_type": "code",
      "execution_count": null,
      "metadata": {
        "colab": {
          "base_uri": "https://localhost:8080/",
          "height": 600
        },
        "id": "s8iu_WRk48rs",
        "outputId": "351c9ed8-192b-4455-c253-195b60872b57"
      },
      "outputs": [
        {
          "data": {
            "image/png": "[encoded data removed]",
            "text/plain": [
              "<Figure size 1400x800 with 1 Axes>"
            ]
          },
          "metadata": {},
          "output_type": "display_data"
        }
      ],
      "source": [
        "plt.figure(figsize=(14,8))\n",
        "train.plot(label='Train')\n",
        "val.plot(label='Validation')"
      ]
    }
  ],
  "metadata": {
    "colab": {
      "provenance": []
    },
    "kernelspec": {
      "display_name": "Python 3",
      "name": "python3"
    },
    "language_info": {
      "name": "python",
      "version": "3.11.2"
    }
  },
  "nbformat": 4,
  "nbformat_minor": 0
}
