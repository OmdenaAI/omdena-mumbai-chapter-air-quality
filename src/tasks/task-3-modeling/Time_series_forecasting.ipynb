{
 "cells": [
  {
   "cell_type": "code",
   "execution_count": 1,
   "metadata": {},
   "outputs": [],
   "source": [
    "# modeling of individual pollutants\n",
    "import statsmodels.tsa.api as tsa\n",
    "import statsmodels\n",
    "import pandas as pd\n",
    "import numpy as np\n",
    "import matplotlib.pyplot as plt"
   ]
  },
  {
   "cell_type": "code",
   "execution_count": 2,
   "metadata": {},
   "outputs": [
    {
     "data": {
      "text/html": [
       "<div>\n",
       "<style scoped>\n",
       "    .dataframe tbody tr th:only-of-type {\n",
       "        vertical-align: middle;\n",
       "    }\n",
       "\n",
       "    .dataframe tbody tr th {\n",
       "        vertical-align: top;\n",
       "    }\n",
       "\n",
       "    .dataframe thead th {\n",
       "        text-align: right;\n",
       "    }\n",
       "</style>\n",
       "<table border=\"1\" class=\"dataframe\">\n",
       "  <thead>\n",
       "    <tr style=\"text-align: right;\">\n",
       "      <th></th>\n",
       "      <th>From Date</th>\n",
       "      <th>PM2.5</th>\n",
       "      <th>PM10</th>\n",
       "      <th>NO</th>\n",
       "      <th>NO2</th>\n",
       "      <th>NOx</th>\n",
       "      <th>NH3</th>\n",
       "      <th>SO2</th>\n",
       "      <th>CO</th>\n",
       "      <th>Ozone</th>\n",
       "      <th>Date</th>\n",
       "    </tr>\n",
       "  </thead>\n",
       "  <tbody>\n",
       "    <tr>\n",
       "      <th>1</th>\n",
       "      <td>2021-01-01 00:00:00</td>\n",
       "      <td>79.18</td>\n",
       "      <td>116.33</td>\n",
       "      <td>0.36</td>\n",
       "      <td>10.86</td>\n",
       "      <td>11.22</td>\n",
       "      <td>7.79</td>\n",
       "      <td>5.72</td>\n",
       "      <td>0.41</td>\n",
       "      <td>107.72</td>\n",
       "      <td>2021-01-01</td>\n",
       "    </tr>\n",
       "    <tr>\n",
       "      <th>2</th>\n",
       "      <td>2021-01-01 00:15:00</td>\n",
       "      <td>75.00</td>\n",
       "      <td>107.00</td>\n",
       "      <td>0.53</td>\n",
       "      <td>9.04</td>\n",
       "      <td>9.58</td>\n",
       "      <td>7.64</td>\n",
       "      <td>5.52</td>\n",
       "      <td>0.41</td>\n",
       "      <td>104.27</td>\n",
       "      <td>2021-01-01</td>\n",
       "    </tr>\n",
       "    <tr>\n",
       "      <th>3</th>\n",
       "      <td>2021-01-01 00:30:00</td>\n",
       "      <td>75.00</td>\n",
       "      <td>107.00</td>\n",
       "      <td>1.02</td>\n",
       "      <td>10.77</td>\n",
       "      <td>11.79</td>\n",
       "      <td>7.78</td>\n",
       "      <td>6.18</td>\n",
       "      <td>0.53</td>\n",
       "      <td>98.05</td>\n",
       "      <td>2021-01-01</td>\n",
       "    </tr>\n",
       "    <tr>\n",
       "      <th>4</th>\n",
       "      <td>2021-01-01 00:45:00</td>\n",
       "      <td>75.00</td>\n",
       "      <td>107.00</td>\n",
       "      <td>1.47</td>\n",
       "      <td>17.84</td>\n",
       "      <td>19.33</td>\n",
       "      <td>8.12</td>\n",
       "      <td>6.69</td>\n",
       "      <td>0.60</td>\n",
       "      <td>86.91</td>\n",
       "      <td>2021-01-01</td>\n",
       "    </tr>\n",
       "    <tr>\n",
       "      <th>5</th>\n",
       "      <td>2021-01-01 01:00:00</td>\n",
       "      <td>76.40</td>\n",
       "      <td>107.44</td>\n",
       "      <td>1.46</td>\n",
       "      <td>17.81</td>\n",
       "      <td>19.28</td>\n",
       "      <td>8.57</td>\n",
       "      <td>6.40</td>\n",
       "      <td>0.59</td>\n",
       "      <td>83.05</td>\n",
       "      <td>2021-01-01</td>\n",
       "    </tr>\n",
       "  </tbody>\n",
       "</table>\n",
       "</div>"
      ],
      "text/plain": [
       "             From Date  PM2.5    PM10    NO    NO2    NOx   NH3   SO2    CO  \\\n",
       "1  2021-01-01 00:00:00  79.18  116.33  0.36  10.86  11.22  7.79  5.72  0.41   \n",
       "2  2021-01-01 00:15:00  75.00  107.00  0.53   9.04   9.58  7.64  5.52  0.41   \n",
       "3  2021-01-01 00:30:00  75.00  107.00  1.02  10.77  11.79  7.78  6.18  0.53   \n",
       "4  2021-01-01 00:45:00  75.00  107.00  1.47  17.84  19.33  8.12  6.69  0.60   \n",
       "5  2021-01-01 01:00:00  76.40  107.44  1.46  17.81  19.28  8.57  6.40  0.59   \n",
       "\n",
       "    Ozone        Date  \n",
       "1  107.72  2021-01-01  \n",
       "2  104.27  2021-01-01  \n",
       "3   98.05  2021-01-01  \n",
       "4   86.91  2021-01-01  \n",
       "5   83.05  2021-01-01  "
      ]
     },
     "execution_count": 2,
     "metadata": {},
     "output_type": "execute_result"
    }
   ],
   "source": [
    "df = pd.read_csv(r\"F:\\omdena-mumbai-chapter-air-quality\\src\\tasks\\task-2-eda\\final_powai_df.csv\", index_col=0)\n",
    "df.head()"
   ]
  },
  {
   "cell_type": "code",
   "execution_count": 3,
   "metadata": {},
   "outputs": [
    {
     "name": "stdout",
     "output_type": "stream",
     "text": [
      "<class 'pandas.core.frame.DataFrame'>\n",
      "Int64Index: 76321 entries, 1 to 76321\n",
      "Data columns (total 11 columns):\n",
      " #   Column     Non-Null Count  Dtype  \n",
      "---  ------     --------------  -----  \n",
      " 0   From Date  76321 non-null  object \n",
      " 1   PM2.5      76321 non-null  float64\n",
      " 2   PM10       76321 non-null  float64\n",
      " 3   NO         76321 non-null  float64\n",
      " 4   NO2        76321 non-null  float64\n",
      " 5   NOx        76321 non-null  float64\n",
      " 6   NH3        76321 non-null  float64\n",
      " 7   SO2        76321 non-null  float64\n",
      " 8   CO         76321 non-null  float64\n",
      " 9   Ozone      76321 non-null  float64\n",
      " 10  Date       76321 non-null  object \n",
      "dtypes: float64(9), object(2)\n",
      "memory usage: 7.0+ MB\n"
     ]
    }
   ],
   "source": [
    "df.info()"
   ]
  },
  {
   "cell_type": "code",
   "execution_count": 4,
   "metadata": {},
   "outputs": [
    {
     "data": {
      "text/plain": [
       "From Date    False\n",
       "PM2.5        False\n",
       "PM10         False\n",
       "NO           False\n",
       "NO2          False\n",
       "NOx          False\n",
       "NH3          False\n",
       "SO2          False\n",
       "CO           False\n",
       "Ozone        False\n",
       "Date         False\n",
       "dtype: bool"
      ]
     },
     "execution_count": 4,
     "metadata": {},
     "output_type": "execute_result"
    }
   ],
   "source": [
    "df.isnull().any()"
   ]
  },
  {
   "cell_type": "code",
   "execution_count": 5,
   "metadata": {},
   "outputs": [
    {
     "data": {
      "text/html": [
       "<div>\n",
       "<style scoped>\n",
       "    .dataframe tbody tr th:only-of-type {\n",
       "        vertical-align: middle;\n",
       "    }\n",
       "\n",
       "    .dataframe tbody tr th {\n",
       "        vertical-align: top;\n",
       "    }\n",
       "\n",
       "    .dataframe thead th {\n",
       "        text-align: right;\n",
       "    }\n",
       "</style>\n",
       "<table border=\"1\" class=\"dataframe\">\n",
       "  <thead>\n",
       "    <tr style=\"text-align: right;\">\n",
       "      <th></th>\n",
       "      <th>PM2.5</th>\n",
       "      <th>PM10</th>\n",
       "      <th>NO</th>\n",
       "      <th>NO2</th>\n",
       "      <th>NOx</th>\n",
       "      <th>NH3</th>\n",
       "      <th>SO2</th>\n",
       "      <th>CO</th>\n",
       "      <th>Ozone</th>\n",
       "    </tr>\n",
       "  </thead>\n",
       "  <tbody>\n",
       "    <tr>\n",
       "      <th>count</th>\n",
       "      <td>76321.000000</td>\n",
       "      <td>76321.000000</td>\n",
       "      <td>76321.000000</td>\n",
       "      <td>76321.000000</td>\n",
       "      <td>76321.000000</td>\n",
       "      <td>76321.000000</td>\n",
       "      <td>76321.000000</td>\n",
       "      <td>76321.000000</td>\n",
       "      <td>76321.000000</td>\n",
       "    </tr>\n",
       "    <tr>\n",
       "      <th>mean</th>\n",
       "      <td>48.589556</td>\n",
       "      <td>92.203691</td>\n",
       "      <td>9.692436</td>\n",
       "      <td>20.382562</td>\n",
       "      <td>25.924529</td>\n",
       "      <td>4.450456</td>\n",
       "      <td>9.215890</td>\n",
       "      <td>0.646329</td>\n",
       "      <td>28.499424</td>\n",
       "    </tr>\n",
       "    <tr>\n",
       "      <th>std</th>\n",
       "      <td>35.014979</td>\n",
       "      <td>54.382158</td>\n",
       "      <td>11.790700</td>\n",
       "      <td>12.627772</td>\n",
       "      <td>20.765238</td>\n",
       "      <td>5.047033</td>\n",
       "      <td>12.037002</td>\n",
       "      <td>0.489995</td>\n",
       "      <td>35.955481</td>\n",
       "    </tr>\n",
       "    <tr>\n",
       "      <th>min</th>\n",
       "      <td>0.730000</td>\n",
       "      <td>5.000000</td>\n",
       "      <td>0.010000</td>\n",
       "      <td>0.010000</td>\n",
       "      <td>0.000000</td>\n",
       "      <td>0.000000</td>\n",
       "      <td>0.000000</td>\n",
       "      <td>0.000000</td>\n",
       "      <td>0.000000</td>\n",
       "    </tr>\n",
       "    <tr>\n",
       "      <th>25%</th>\n",
       "      <td>20.440000</td>\n",
       "      <td>55.870000</td>\n",
       "      <td>2.090000</td>\n",
       "      <td>12.430000</td>\n",
       "      <td>9.410000</td>\n",
       "      <td>1.020000</td>\n",
       "      <td>1.150000</td>\n",
       "      <td>0.220000</td>\n",
       "      <td>1.660000</td>\n",
       "    </tr>\n",
       "    <tr>\n",
       "      <th>50%</th>\n",
       "      <td>44.567449</td>\n",
       "      <td>76.993327</td>\n",
       "      <td>7.290000</td>\n",
       "      <td>17.783457</td>\n",
       "      <td>23.350000</td>\n",
       "      <td>3.870000</td>\n",
       "      <td>4.880000</td>\n",
       "      <td>0.680000</td>\n",
       "      <td>14.320000</td>\n",
       "    </tr>\n",
       "    <tr>\n",
       "      <th>75%</th>\n",
       "      <td>68.000000</td>\n",
       "      <td>120.000000</td>\n",
       "      <td>10.600000</td>\n",
       "      <td>25.590000</td>\n",
       "      <td>38.590000</td>\n",
       "      <td>6.690000</td>\n",
       "      <td>10.670000</td>\n",
       "      <td>0.930000</td>\n",
       "      <td>42.390000</td>\n",
       "    </tr>\n",
       "    <tr>\n",
       "      <th>max</th>\n",
       "      <td>585.770000</td>\n",
       "      <td>587.200000</td>\n",
       "      <td>185.310000</td>\n",
       "      <td>148.270000</td>\n",
       "      <td>261.410000</td>\n",
       "      <td>342.670000</td>\n",
       "      <td>99.820000</td>\n",
       "      <td>3.940000</td>\n",
       "      <td>199.930000</td>\n",
       "    </tr>\n",
       "  </tbody>\n",
       "</table>\n",
       "</div>"
      ],
      "text/plain": [
       "              PM2.5          PM10            NO           NO2           NOx  \\\n",
       "count  76321.000000  76321.000000  76321.000000  76321.000000  76321.000000   \n",
       "mean      48.589556     92.203691      9.692436     20.382562     25.924529   \n",
       "std       35.014979     54.382158     11.790700     12.627772     20.765238   \n",
       "min        0.730000      5.000000      0.010000      0.010000      0.000000   \n",
       "25%       20.440000     55.870000      2.090000     12.430000      9.410000   \n",
       "50%       44.567449     76.993327      7.290000     17.783457     23.350000   \n",
       "75%       68.000000    120.000000     10.600000     25.590000     38.590000   \n",
       "max      585.770000    587.200000    185.310000    148.270000    261.410000   \n",
       "\n",
       "                NH3           SO2            CO         Ozone  \n",
       "count  76321.000000  76321.000000  76321.000000  76321.000000  \n",
       "mean       4.450456      9.215890      0.646329     28.499424  \n",
       "std        5.047033     12.037002      0.489995     35.955481  \n",
       "min        0.000000      0.000000      0.000000      0.000000  \n",
       "25%        1.020000      1.150000      0.220000      1.660000  \n",
       "50%        3.870000      4.880000      0.680000     14.320000  \n",
       "75%        6.690000     10.670000      0.930000     42.390000  \n",
       "max      342.670000     99.820000      3.940000    199.930000  "
      ]
     },
     "execution_count": 5,
     "metadata": {},
     "output_type": "execute_result"
    }
   ],
   "source": [
    "df.describe()"
   ]
  },
  {
   "attachments": {},
   "cell_type": "markdown",
   "metadata": {},
   "source": [
    "- ACF test"
   ]
  },
  {
   "cell_type": "code",
   "execution_count": 6,
   "metadata": {},
   "outputs": [
    {
     "data": {
      "text/plain": [
       "array([1.        , 0.97780873, 0.95259484, 0.92734031, 0.90425621,\n",
       "       0.88355387, 0.86489445, 0.84626252, 0.8286732 , 0.81477857,\n",
       "       0.80242772])"
      ]
     },
     "execution_count": 6,
     "metadata": {},
     "output_type": "execute_result"
    }
   ],
   "source": [
    "auto_corr_array = tsa.stattools.acf(df['PM2.5'], nlags=10)\n",
    "auto_corr_array"
   ]
  },
  {
   "attachments": {},
   "cell_type": "markdown",
   "metadata": {},
   "source": [
    "Above method shows auto_correlation with each lagged time-series"
   ]
  },
  {
   "attachments": {},
   "cell_type": "markdown",
   "metadata": {},
   "source": [
    "- Stationarity test"
   ]
  },
  {
   "cell_type": "code",
   "execution_count": 7,
   "metadata": {},
   "outputs": [
    {
     "data": {
      "text/plain": [
       "(-25.0227375332124,\n",
       " 0.0,\n",
       " {'1%': -3.9588886407096857,\n",
       "  '5%': -3.410547535295761,\n",
       "  '10%': -3.1270838835203616},\n",
       " <statsmodels.stats.diagnostic.ResultsStore at 0x1d715adec40>)"
      ]
     },
     "execution_count": 7,
     "metadata": {},
     "output_type": "execute_result"
    }
   ],
   "source": [
    "adfuller = tsa.stattools.adfuller(df['PM2.5'], maxlag=10, regression=\"ct\", store=True)\n",
    "adfuller"
   ]
  },
  {
   "attachments": {},
   "cell_type": "markdown",
   "metadata": {},
   "source": [
    "- Time-series decomposition"
   ]
  },
  {
   "cell_type": "code",
   "execution_count": 13,
   "metadata": {},
   "outputs": [],
   "source": [
    "ts_decompose = statsmodels.tsa.seasonal.seasonal_decompose(df['PM2.5'], model='multiplicative', period=96)\n"
   ]
  },
  {
   "cell_type": "code",
   "execution_count": 14,
   "metadata": {},
   "outputs": [
    {
     "data": {
      "image/png": "[encoded data removed]",
      "text/plain": [
       "<Figure size 640x480 with 4 Axes>"
      ]
     },
     "execution_count": 14,
     "metadata": {},
     "output_type": "execute_result"
    },
    {
     "data": {
      "image/png": "[encoded data removed]",
      "text/plain": [
       "<Figure size 640x480 with 4 Axes>"
      ]
     },
     "metadata": {},
     "output_type": "display_data"
    }
   ],
   "source": [
    "ts_decompose.plot()"
   ]
  },
  {
   "attachments": {},
   "cell_type": "markdown",
   "metadata": {},
   "source": [
    "- Auto-correlation and partial auto-correlation plots"
   ]
  },
  {
   "cell_type": "code",
   "execution_count": 9,
   "metadata": {},
   "outputs": [],
   "source": [
    "from statsmodels.graphics.tsaplots import plot_acf, plot_pacf"
   ]
  },
  {
   "attachments": {},
   "cell_type": "markdown",
   "metadata": {},
   "source": [
    "## plot the acf_plot"
   ]
  },
  {
   "cell_type": "code",
   "execution_count": 11,
   "metadata": {},
   "outputs": [
    {
     "data": {
      "image/png": "[encoded data removed]",
      "text/plain": [
       "<Figure size 640x480 with 1 Axes>"
      ]
     },
     "metadata": {},
     "output_type": "display_data"
    }
   ],
   "source": [
    "acf_plot = plot_acf(df['PM2.5'], lags=30)"
   ]
  },
  {
   "attachments": {},
   "cell_type": "markdown",
   "metadata": {},
   "source": [
    "We are not sure if time-series is stationary or non-stationary"
   ]
  },
  {
   "attachments": {},
   "cell_type": "markdown",
   "metadata": {},
   "source": [
    "- Differencing"
   ]
  },
  {
   "cell_type": "code",
   "execution_count": 15,
   "metadata": {},
   "outputs": [],
   "source": [
    "df['PM2.5_Diff'] = df['PM2.5'] - df['PM2.5'].shift(1)"
   ]
  },
  {
   "cell_type": "code",
   "execution_count": 16,
   "metadata": {},
   "outputs": [
    {
     "data": {
      "text/html": [
       "<div>\n",
       "<style scoped>\n",
       "    .dataframe tbody tr th:only-of-type {\n",
       "        vertical-align: middle;\n",
       "    }\n",
       "\n",
       "    .dataframe tbody tr th {\n",
       "        vertical-align: top;\n",
       "    }\n",
       "\n",
       "    .dataframe thead th {\n",
       "        text-align: right;\n",
       "    }\n",
       "</style>\n",
       "<table border=\"1\" class=\"dataframe\">\n",
       "  <thead>\n",
       "    <tr style=\"text-align: right;\">\n",
       "      <th></th>\n",
       "      <th>From Date</th>\n",
       "      <th>PM2.5</th>\n",
       "      <th>PM10</th>\n",
       "      <th>NO</th>\n",
       "      <th>NO2</th>\n",
       "      <th>NOx</th>\n",
       "      <th>NH3</th>\n",
       "      <th>SO2</th>\n",
       "      <th>CO</th>\n",
       "      <th>Ozone</th>\n",
       "      <th>Date</th>\n",
       "      <th>PM2.5_Diff</th>\n",
       "    </tr>\n",
       "  </thead>\n",
       "  <tbody>\n",
       "    <tr>\n",
       "      <th>1</th>\n",
       "      <td>2021-01-01 00:00:00</td>\n",
       "      <td>79.18</td>\n",
       "      <td>116.33</td>\n",
       "      <td>0.36</td>\n",
       "      <td>10.86</td>\n",
       "      <td>11.22</td>\n",
       "      <td>7.79</td>\n",
       "      <td>5.72</td>\n",
       "      <td>0.41</td>\n",
       "      <td>107.72</td>\n",
       "      <td>2021-01-01</td>\n",
       "      <td>NaN</td>\n",
       "    </tr>\n",
       "    <tr>\n",
       "      <th>2</th>\n",
       "      <td>2021-01-01 00:15:00</td>\n",
       "      <td>75.00</td>\n",
       "      <td>107.00</td>\n",
       "      <td>0.53</td>\n",
       "      <td>9.04</td>\n",
       "      <td>9.58</td>\n",
       "      <td>7.64</td>\n",
       "      <td>5.52</td>\n",
       "      <td>0.41</td>\n",
       "      <td>104.27</td>\n",
       "      <td>2021-01-01</td>\n",
       "      <td>-4.18</td>\n",
       "    </tr>\n",
       "    <tr>\n",
       "      <th>3</th>\n",
       "      <td>2021-01-01 00:30:00</td>\n",
       "      <td>75.00</td>\n",
       "      <td>107.00</td>\n",
       "      <td>1.02</td>\n",
       "      <td>10.77</td>\n",
       "      <td>11.79</td>\n",
       "      <td>7.78</td>\n",
       "      <td>6.18</td>\n",
       "      <td>0.53</td>\n",
       "      <td>98.05</td>\n",
       "      <td>2021-01-01</td>\n",
       "      <td>0.00</td>\n",
       "    </tr>\n",
       "    <tr>\n",
       "      <th>4</th>\n",
       "      <td>2021-01-01 00:45:00</td>\n",
       "      <td>75.00</td>\n",
       "      <td>107.00</td>\n",
       "      <td>1.47</td>\n",
       "      <td>17.84</td>\n",
       "      <td>19.33</td>\n",
       "      <td>8.12</td>\n",
       "      <td>6.69</td>\n",
       "      <td>0.60</td>\n",
       "      <td>86.91</td>\n",
       "      <td>2021-01-01</td>\n",
       "      <td>0.00</td>\n",
       "    </tr>\n",
       "    <tr>\n",
       "      <th>5</th>\n",
       "      <td>2021-01-01 01:00:00</td>\n",
       "      <td>76.40</td>\n",
       "      <td>107.44</td>\n",
       "      <td>1.46</td>\n",
       "      <td>17.81</td>\n",
       "      <td>19.28</td>\n",
       "      <td>8.57</td>\n",
       "      <td>6.40</td>\n",
       "      <td>0.59</td>\n",
       "      <td>83.05</td>\n",
       "      <td>2021-01-01</td>\n",
       "      <td>1.40</td>\n",
       "    </tr>\n",
       "  </tbody>\n",
       "</table>\n",
       "</div>"
      ],
      "text/plain": [
       "             From Date  PM2.5    PM10    NO    NO2    NOx   NH3   SO2    CO  \\\n",
       "1  2021-01-01 00:00:00  79.18  116.33  0.36  10.86  11.22  7.79  5.72  0.41   \n",
       "2  2021-01-01 00:15:00  75.00  107.00  0.53   9.04   9.58  7.64  5.52  0.41   \n",
       "3  2021-01-01 00:30:00  75.00  107.00  1.02  10.77  11.79  7.78  6.18  0.53   \n",
       "4  2021-01-01 00:45:00  75.00  107.00  1.47  17.84  19.33  8.12  6.69  0.60   \n",
       "5  2021-01-01 01:00:00  76.40  107.44  1.46  17.81  19.28  8.57  6.40  0.59   \n",
       "\n",
       "    Ozone        Date  PM2.5_Diff  \n",
       "1  107.72  2021-01-01         NaN  \n",
       "2  104.27  2021-01-01       -4.18  \n",
       "3   98.05  2021-01-01        0.00  \n",
       "4   86.91  2021-01-01        0.00  \n",
       "5   83.05  2021-01-01        1.40  "
      ]
     },
     "execution_count": 16,
     "metadata": {},
     "output_type": "execute_result"
    }
   ],
   "source": [
    "df.head()"
   ]
  },
  {
   "cell_type": "code",
   "execution_count": 17,
   "metadata": {},
   "outputs": [
    {
     "data": {
      "text/plain": [
       "<AxesSubplot: >"
      ]
     },
     "execution_count": 17,
     "metadata": {},
     "output_type": "execute_result"
    },
    {
     "data": {
      "image/png": "[encoded data removed]",
      "text/plain": [
       "<Figure size 640x480 with 1 Axes>"
      ]
     },
     "metadata": {},
     "output_type": "display_data"
    }
   ],
   "source": [
    "df['PM2.5_Diff'].plot()"
   ]
  },
  {
   "cell_type": "code",
   "execution_count": 18,
   "metadata": {},
   "outputs": [
    {
     "name": "stderr",
     "output_type": "stream",
     "text": [
      "c:\\Users\\Avi\\.conda\\envs\\mlcollab\\lib\\site-packages\\statsmodels\\graphics\\tsaplots.py:348: FutureWarning: The default method 'yw' can produce PACF values outside of the [-1,1] interval. After 0.13, the default will change tounadjusted Yule-Walker ('ywm'). You can use this method now by setting method='ywm'.\n",
      "  warnings.warn(\n"
     ]
    },
    {
     "data": {
      "image/png": "[encoded data removed]",
      "text/plain": [
       "<Figure size 640x480 with 1 Axes>"
      ]
     },
     "metadata": {},
     "output_type": "display_data"
    }
   ],
   "source": [
    "# plot the pacf plot for PM2.5_Diff \n",
    "pacf_plot = plot_pacf(df['PM2.5_Diff'].dropna(), lags=20)"
   ]
  },
  {
   "attachments": {},
   "cell_type": "markdown",
   "metadata": {},
   "source": [
    "- Here, we have differencing factor of 1 as Pacf immediatly cuts off to zero."
   ]
  },
  {
   "attachments": {},
   "cell_type": "markdown",
   "metadata": {},
   "source": [
    "## ARIMA model"
   ]
  },
  {
   "attachments": {},
   "cell_type": "markdown",
   "metadata": {},
   "source": [
    "- We will build ARIMA model of order  (1,1,1) as we have differencing factor of 1"
   ]
  },
  {
   "cell_type": "code",
   "execution_count": 26,
   "metadata": {},
   "outputs": [
    {
     "name": "stderr",
     "output_type": "stream",
     "text": [
      "C:\\Users\\Avi\\AppData\\Local\\Temp\\ipykernel_19460\\4164358965.py:3: FutureWarning: The behavior of `series[i:j]` with an integer-dtype index is deprecated. In a future version, this will be treated as *label-based* indexing, consistent with e.g. `series[i]` lookups. To retain the old behavior, use `series.iloc[i:j]`. To get the future behavior, use `series.loc[i:j]`.\n",
      "  pm25_train = df['PM2.5'][:60000]\n",
      "C:\\Users\\Avi\\AppData\\Local\\Temp\\ipykernel_19460\\4164358965.py:4: FutureWarning: The behavior of `series[i:j]` with an integer-dtype index is deprecated. In a future version, this will be treated as *label-based* indexing, consistent with e.g. `series[i]` lookups. To retain the old behavior, use `series.iloc[i:j]`. To get the future behavior, use `series.loc[i:j]`.\n",
      "  pm25_test = df['PM2.5'][60000:]\n"
     ]
    }
   ],
   "source": [
    "from statsmodels.tsa.arima.model import ARIMA\n",
    "\n",
    "pm25_train = df['PM2.5'][:60000]\n",
    "pm25_test = df['PM2.5'][60000:]"
   ]
  },
  {
   "cell_type": "code",
   "execution_count": 29,
   "metadata": {},
   "outputs": [
    {
     "name": "stderr",
     "output_type": "stream",
     "text": [
      "c:\\Users\\Avi\\.conda\\envs\\mlcollab\\lib\\site-packages\\statsmodels\\tsa\\base\\tsa_model.py:471: ValueWarning: An unsupported index was provided and will be ignored when e.g. forecasting.\n",
      "  self._init_dates(dates, freq)\n",
      "c:\\Users\\Avi\\.conda\\envs\\mlcollab\\lib\\site-packages\\statsmodels\\tsa\\base\\tsa_model.py:471: ValueWarning: An unsupported index was provided and will be ignored when e.g. forecasting.\n",
      "  self._init_dates(dates, freq)\n",
      "c:\\Users\\Avi\\.conda\\envs\\mlcollab\\lib\\site-packages\\statsmodels\\tsa\\base\\tsa_model.py:471: ValueWarning: An unsupported index was provided and will be ignored when e.g. forecasting.\n",
      "  self._init_dates(dates, freq)\n"
     ]
    },
    {
     "data": {
      "text/html": [
       "<table class=\"simpletable\">\n",
       "<caption>SARIMAX Results</caption>\n",
       "<tr>\n",
       "  <th>Dep. Variable:</th>         <td>PM2.5</td>      <th>  No. Observations:  </th>    <td>60000</td>   \n",
       "</tr>\n",
       "<tr>\n",
       "  <th>Model:</th>            <td>ARIMA(1, 1, 1)</td>  <th>  Log Likelihood     </th> <td>-205908.921</td>\n",
       "</tr>\n",
       "<tr>\n",
       "  <th>Date:</th>            <td>Fri, 24 Mar 2023</td> <th>  AIC                </th> <td>411823.842</td> \n",
       "</tr>\n",
       "<tr>\n",
       "  <th>Time:</th>                <td>18:23:53</td>     <th>  BIC                </th> <td>411850.848</td> \n",
       "</tr>\n",
       "<tr>\n",
       "  <th>Sample:</th>                  <td>0</td>        <th>  HQIC               </th> <td>411832.230</td> \n",
       "</tr>\n",
       "<tr>\n",
       "  <th></th>                     <td> - 60000</td>     <th>                     </th>      <td> </td>     \n",
       "</tr>\n",
       "<tr>\n",
       "  <th>Covariance Type:</th>        <td>opg</td>       <th>                     </th>      <td> </td>     \n",
       "</tr>\n",
       "</table>\n",
       "<table class=\"simpletable\">\n",
       "<tr>\n",
       "     <td></td>       <th>coef</th>     <th>std err</th>      <th>z</th>      <th>P>|z|</th>  <th>[0.025</th>    <th>0.975]</th>  \n",
       "</tr>\n",
       "<tr>\n",
       "  <th>ar.L1</th>  <td>    0.0415</td> <td>    0.118</td> <td>    0.350</td> <td> 0.726</td> <td>   -0.190</td> <td>    0.273</td>\n",
       "</tr>\n",
       "<tr>\n",
       "  <th>ma.L1</th>  <td>   -0.0158</td> <td>    0.118</td> <td>   -0.134</td> <td> 0.894</td> <td>   -0.248</td> <td>    0.216</td>\n",
       "</tr>\n",
       "<tr>\n",
       "  <th>sigma2</th> <td>   56.0285</td> <td>    0.020</td> <td> 2764.185</td> <td> 0.000</td> <td>   55.989</td> <td>   56.068</td>\n",
       "</tr>\n",
       "</table>\n",
       "<table class=\"simpletable\">\n",
       "<tr>\n",
       "  <th>Ljung-Box (L1) (Q):</th>     <td>0.00</td> <th>  Jarque-Bera (JB):  </th> <td>2338270286.36</td>\n",
       "</tr>\n",
       "<tr>\n",
       "  <th>Prob(Q):</th>                <td>1.00</td> <th>  Prob(JB):          </th>     <td>0.00</td>     \n",
       "</tr>\n",
       "<tr>\n",
       "  <th>Heteroskedasticity (H):</th> <td>5.32</td> <th>  Skew:              </th>     <td>-6.11</td>    \n",
       "</tr>\n",
       "<tr>\n",
       "  <th>Prob(H) (two-sided):</th>    <td>0.00</td> <th>  Kurtosis:          </th>    <td>970.04</td>    \n",
       "</tr>\n",
       "</table><br/><br/>Warnings:<br/>[1] Covariance matrix calculated using the outer product of gradients (complex-step)."
      ],
      "text/plain": [
       "<class 'statsmodels.iolib.summary.Summary'>\n",
       "\"\"\"\n",
       "                               SARIMAX Results                                \n",
       "==============================================================================\n",
       "Dep. Variable:                  PM2.5   No. Observations:                60000\n",
       "Model:                 ARIMA(1, 1, 1)   Log Likelihood             -205908.921\n",
       "Date:                Fri, 24 Mar 2023   AIC                         411823.842\n",
       "Time:                        18:23:53   BIC                         411850.848\n",
       "Sample:                             0   HQIC                        411832.230\n",
       "                              - 60000                                         \n",
       "Covariance Type:                  opg                                         \n",
       "==============================================================================\n",
       "                 coef    std err          z      P>|z|      [0.025      0.975]\n",
       "------------------------------------------------------------------------------\n",
       "ar.L1          0.0415      0.118      0.350      0.726      -0.190       0.273\n",
       "ma.L1         -0.0158      0.118     -0.134      0.894      -0.248       0.216\n",
       "sigma2        56.0285      0.020   2764.185      0.000      55.989      56.068\n",
       "===================================================================================\n",
       "Ljung-Box (L1) (Q):                   0.00   Jarque-Bera (JB):        2338270286.36\n",
       "Prob(Q):                              1.00   Prob(JB):                         0.00\n",
       "Heteroskedasticity (H):               5.32   Skew:                            -6.11\n",
       "Prob(H) (two-sided):                  0.00   Kurtosis:                       970.04\n",
       "===================================================================================\n",
       "\n",
       "Warnings:\n",
       "[1] Covariance matrix calculated using the outer product of gradients (complex-step).\n",
       "\"\"\""
      ]
     },
     "execution_count": 29,
     "metadata": {},
     "output_type": "execute_result"
    }
   ],
   "source": [
    "arima = ARIMA(pm25_train.astype(np.float64), order=(1,1,1))\n",
    "arima_model = arima.fit()\n",
    "arima_model.summary()"
   ]
  },
  {
   "cell_type": "code",
   "execution_count": 36,
   "metadata": {},
   "outputs": [
    {
     "name": "stderr",
     "output_type": "stream",
     "text": [
      "c:\\Users\\Avi\\.conda\\envs\\mlcollab\\lib\\site-packages\\statsmodels\\tsa\\base\\tsa_model.py:834: ValueWarning: No supported index is available. Prediction results will be given with an integer index beginning at `start`.\n",
      "  return get_prediction_index(\n"
     ]
    }
   ],
   "source": [
    "# predict and calculate RMSE\n",
    "predictions = arima_model.forecast(steps=20)"
   ]
  },
  {
   "cell_type": "code",
   "execution_count": 37,
   "metadata": {},
   "outputs": [
    {
     "data": {
      "text/plain": [
       "60000    3.999971\n",
       "60001    3.999970\n",
       "60002    3.999970\n",
       "60003    3.999970\n",
       "60004    3.999970\n",
       "60005    3.999970\n",
       "60006    3.999970\n",
       "60007    3.999970\n",
       "60008    3.999970\n",
       "60009    3.999970\n",
       "60010    3.999970\n",
       "60011    3.999970\n",
       "60012    3.999970\n",
       "60013    3.999970\n",
       "60014    3.999970\n",
       "60015    3.999970\n",
       "60016    3.999970\n",
       "60017    3.999970\n",
       "60018    3.999970\n",
       "60019    3.999970\n",
       "Name: predicted_mean, dtype: float64"
      ]
     },
     "execution_count": 37,
     "metadata": {},
     "output_type": "execute_result"
    }
   ],
   "source": [
    "predictions"
   ]
  },
  {
   "attachments": {},
   "cell_type": "markdown",
   "metadata": {},
   "source": [
    "## Regression based model"
   ]
  },
  {
   "cell_type": "code",
   "execution_count": 38,
   "metadata": {},
   "outputs": [],
   "source": [
    "df['pm2.5_autoreg'] = df['PM2.5'].shift(1)"
   ]
  },
  {
   "cell_type": "code",
   "execution_count": 39,
   "metadata": {},
   "outputs": [
    {
     "data": {
      "text/html": [
       "<div>\n",
       "<style scoped>\n",
       "    .dataframe tbody tr th:only-of-type {\n",
       "        vertical-align: middle;\n",
       "    }\n",
       "\n",
       "    .dataframe tbody tr th {\n",
       "        vertical-align: top;\n",
       "    }\n",
       "\n",
       "    .dataframe thead th {\n",
       "        text-align: right;\n",
       "    }\n",
       "</style>\n",
       "<table border=\"1\" class=\"dataframe\">\n",
       "  <thead>\n",
       "    <tr style=\"text-align: right;\">\n",
       "      <th></th>\n",
       "      <th>From Date</th>\n",
       "      <th>PM2.5</th>\n",
       "      <th>PM10</th>\n",
       "      <th>NO</th>\n",
       "      <th>NO2</th>\n",
       "      <th>NOx</th>\n",
       "      <th>NH3</th>\n",
       "      <th>SO2</th>\n",
       "      <th>CO</th>\n",
       "      <th>Ozone</th>\n",
       "      <th>Date</th>\n",
       "      <th>PM2.5_Diff</th>\n",
       "      <th>pm2.5_autoreg</th>\n",
       "    </tr>\n",
       "  </thead>\n",
       "  <tbody>\n",
       "    <tr>\n",
       "      <th>1</th>\n",
       "      <td>2021-01-01 00:00:00</td>\n",
       "      <td>79.18</td>\n",
       "      <td>116.33</td>\n",
       "      <td>0.36</td>\n",
       "      <td>10.86</td>\n",
       "      <td>11.22</td>\n",
       "      <td>7.79</td>\n",
       "      <td>5.72</td>\n",
       "      <td>0.41</td>\n",
       "      <td>107.72</td>\n",
       "      <td>2021-01-01</td>\n",
       "      <td>NaN</td>\n",
       "      <td>NaN</td>\n",
       "    </tr>\n",
       "    <tr>\n",
       "      <th>2</th>\n",
       "      <td>2021-01-01 00:15:00</td>\n",
       "      <td>75.00</td>\n",
       "      <td>107.00</td>\n",
       "      <td>0.53</td>\n",
       "      <td>9.04</td>\n",
       "      <td>9.58</td>\n",
       "      <td>7.64</td>\n",
       "      <td>5.52</td>\n",
       "      <td>0.41</td>\n",
       "      <td>104.27</td>\n",
       "      <td>2021-01-01</td>\n",
       "      <td>-4.18</td>\n",
       "      <td>79.18</td>\n",
       "    </tr>\n",
       "    <tr>\n",
       "      <th>3</th>\n",
       "      <td>2021-01-01 00:30:00</td>\n",
       "      <td>75.00</td>\n",
       "      <td>107.00</td>\n",
       "      <td>1.02</td>\n",
       "      <td>10.77</td>\n",
       "      <td>11.79</td>\n",
       "      <td>7.78</td>\n",
       "      <td>6.18</td>\n",
       "      <td>0.53</td>\n",
       "      <td>98.05</td>\n",
       "      <td>2021-01-01</td>\n",
       "      <td>0.00</td>\n",
       "      <td>75.00</td>\n",
       "    </tr>\n",
       "    <tr>\n",
       "      <th>4</th>\n",
       "      <td>2021-01-01 00:45:00</td>\n",
       "      <td>75.00</td>\n",
       "      <td>107.00</td>\n",
       "      <td>1.47</td>\n",
       "      <td>17.84</td>\n",
       "      <td>19.33</td>\n",
       "      <td>8.12</td>\n",
       "      <td>6.69</td>\n",
       "      <td>0.60</td>\n",
       "      <td>86.91</td>\n",
       "      <td>2021-01-01</td>\n",
       "      <td>0.00</td>\n",
       "      <td>75.00</td>\n",
       "    </tr>\n",
       "    <tr>\n",
       "      <th>5</th>\n",
       "      <td>2021-01-01 01:00:00</td>\n",
       "      <td>76.40</td>\n",
       "      <td>107.44</td>\n",
       "      <td>1.46</td>\n",
       "      <td>17.81</td>\n",
       "      <td>19.28</td>\n",
       "      <td>8.57</td>\n",
       "      <td>6.40</td>\n",
       "      <td>0.59</td>\n",
       "      <td>83.05</td>\n",
       "      <td>2021-01-01</td>\n",
       "      <td>1.40</td>\n",
       "      <td>75.00</td>\n",
       "    </tr>\n",
       "  </tbody>\n",
       "</table>\n",
       "</div>"
      ],
      "text/plain": [
       "             From Date  PM2.5    PM10    NO    NO2    NOx   NH3   SO2    CO  \\\n",
       "1  2021-01-01 00:00:00  79.18  116.33  0.36  10.86  11.22  7.79  5.72  0.41   \n",
       "2  2021-01-01 00:15:00  75.00  107.00  0.53   9.04   9.58  7.64  5.52  0.41   \n",
       "3  2021-01-01 00:30:00  75.00  107.00  1.02  10.77  11.79  7.78  6.18  0.53   \n",
       "4  2021-01-01 00:45:00  75.00  107.00  1.47  17.84  19.33  8.12  6.69  0.60   \n",
       "5  2021-01-01 01:00:00  76.40  107.44  1.46  17.81  19.28  8.57  6.40  0.59   \n",
       "\n",
       "    Ozone        Date  PM2.5_Diff  pm2.5_autoreg  \n",
       "1  107.72  2021-01-01         NaN            NaN  \n",
       "2  104.27  2021-01-01       -4.18          79.18  \n",
       "3   98.05  2021-01-01        0.00          75.00  \n",
       "4   86.91  2021-01-01        0.00          75.00  \n",
       "5   83.05  2021-01-01        1.40          75.00  "
      ]
     },
     "execution_count": 39,
     "metadata": {},
     "output_type": "execute_result"
    }
   ],
   "source": [
    "df.head()"
   ]
  },
  {
   "cell_type": "code",
   "execution_count": 42,
   "metadata": {},
   "outputs": [],
   "source": [
    "# modeling using regression method and autoregression\n",
    "model_df = df[['PM2.5','pm2.5_autoreg']].dropna()"
   ]
  },
  {
   "cell_type": "code",
   "execution_count": 44,
   "metadata": {},
   "outputs": [],
   "source": [
    "# split the data without shuffling\n",
    "ts_train = model_df[:60000]\n",
    "ts_test = model_df[60000:]"
   ]
  },
  {
   "cell_type": "code",
   "execution_count": 46,
   "metadata": {},
   "outputs": [],
   "source": [
    "X_train = ts_train['pm2.5_autoreg']\n",
    "y_train = ts_train['PM2.5']"
   ]
  }
 ],
 "metadata": {
  "kernelspec": {
   "display_name": "mlcollab",
   "language": "python",
   "name": "python3"
  },
  "language_info": {
   "codemirror_mode": {
    "name": "ipython",
    "version": 3
   },
   "file_extension": ".py",
   "mimetype": "text/x-python",
   "name": "python",
   "nbconvert_exporter": "python",
   "pygments_lexer": "ipython3",
   "version": "3.8.13"
  },
  "orig_nbformat": 4
 },
 "nbformat": 4,
 "nbformat_minor": 2
}
