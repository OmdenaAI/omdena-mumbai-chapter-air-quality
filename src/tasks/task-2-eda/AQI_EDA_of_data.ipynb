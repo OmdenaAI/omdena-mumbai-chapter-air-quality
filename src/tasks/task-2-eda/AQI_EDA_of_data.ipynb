{
  "cells": [
    {
      "cell_type": "code",
      "execution_count": null,
      "id": "95078957",
      "metadata": {
        "id": "95078957"
      },
      "outputs": [],
      "source": [
        "import requests\n",
        "import pandas as pd\n",
        "import numpy as np\n",
        "import json\n",
        "from datetime import datetime\n",
        "import time\n",
        "import os.path"
      ]
    },
    {
      "cell_type": "code",
      "execution_count": null,
      "id": "PKWLN1G3WkO1",
      "metadata": {
        "id": "PKWLN1G3WkO1"
      },
      "outputs": [],
      "source": [
        "#check your in colab\n",
        "try:\n",
        "  import google.colab\n",
        "  IN_COLAB = True\n",
        "except:\n",
        "  IN_COLAB = False\n",
        "IN_COLAB"
      ]
    },
    {
      "cell_type": "code",
      "execution_count": null,
      "id": "df39289f",
      "metadata": {},
      "outputs": [],
      "source": [
        "# folder_path = '..\\\\..\\\\data\\\\notion\\\\'\n",
        "folder_path = '..//..//data//notion//'\n",
        "file_path = folder_path + 'BandraKurlaComplexMumbaiIITM.csv'"
      ]
    },
    {
      "cell_type": "code",
      "execution_count": null,
      "id": "34d66562",
      "metadata": {},
      "outputs": [],
      "source": [
        "df = pd.read_csv(file_path)\n",
        "# df.head()"
      ]
    },
    {
      "cell_type": "code",
      "execution_count": null,
      "id": "6b0ed5a8",
      "metadata": {},
      "outputs": [],
      "source": [
        "col_list = [\"Unnamed: 0\", \"Unnamed: 25\"]\n",
        "# df['Unnamed: 25'].value_counts()\n",
        "# df['Unnamed: 25'].isnull().sum()\n",
        "for col in col_list :\n",
        "    if col in df.columns:\n",
        "        df.drop(col,axis=1,inplace=True)\n",
        "\n",
        "df.drop(\"To Date\",axis=1,inplace=True)\n",
        "df.rename(columns={'From Date':'DateTime'},inplace=True)\n",
        "df['DateTime'].isnull().sum()"
      ]
    },
    {
      "cell_type": "code",
      "execution_count": null,
      "id": "86cf0c8b",
      "metadata": {},
      "outputs": [],
      "source": [
        "# df"
      ]
    },
    {
      "cell_type": "code",
      "execution_count": null,
      "id": "2944494e",
      "metadata": {},
      "outputs": [],
      "source": [
        "# df.set_index('DateTime',inplace=True)\n",
        "df['DateTime'] = pd.to_datetime(df['DateTime'])\n",
        "df['Date'] = df['DateTime'].dt.date\n",
        "df['Time'] = df['DateTime'].dt.time\n",
        "# df.rename(columns={'DateTime':'Date'},inplace=True)"
      ]
    },
    {
      "cell_type": "code",
      "execution_count": null,
      "id": "ff67dd3c",
      "metadata": {},
      "outputs": [],
      "source": [
        "cols = df.columns.tolist()\n",
        "cols = cols[0:1] + cols[-2:] + cols[1:-2]\n",
        "df = df[cols]"
      ]
    },
    {
      "cell_type": "code",
      "execution_count": null,
      "id": "86ab8858",
      "metadata": {},
      "outputs": [],
      "source": [
        "# df"
      ]
    },
    {
      "cell_type": "code",
      "execution_count": null,
      "id": "c6d07c04",
      "metadata": {},
      "outputs": [],
      "source": [
        "# df[df['PM2.5'] == 'None'].value_counts()\n",
        "df = df.replace('None', np.nan)\n",
        "df.head(2)"
      ]
    },
    {
      "cell_type": "code",
      "execution_count": null,
      "id": "354c8bc5",
      "metadata": {},
      "outputs": [],
      "source": [
        "print(df.columns)\n",
        "df = df.astype({\n",
        "       'PM2.5': 'float','PM10': 'float','NO': 'float','NO2': 'float','NOx': 'float','NH3': 'float',\n",
        "       'SO2': 'float','CO': 'float','Ozone': 'float','Benzene': 'float','Toluene': 'float','Eth-Benzene': 'float','MP-Xylene': 'float',\n",
        "       'RH': 'float','WS': 'float','WD': 'float','SR': 'float','BP': 'float','Xylene': 'float','AT': 'float','RF': 'float','TOT-RF': 'float'\n",
        "       })"
      ]
    },
    {
      "cell_type": "code",
      "execution_count": null,
      "id": "7a0c5917",
      "metadata": {},
      "outputs": [],
      "source": [
        "# print(df.columns)\n",
        "# check for other files SR is having any values\n",
        "# df['SR']\n",
        "df.drop(\"SR\",axis=1,inplace=True)"
      ]
    },
    {
      "attachments": {},
      "cell_type": "markdown",
      "id": "6a7dd1d9",
      "metadata": {},
      "source": [
        "### Outlier detection is pending (It has to be done before applying mean)\n",
        "- Steps \n",
        "    - Check Outliers exist\n",
        "    - If exist then correct it"
      ]
    },
    {
      "attachments": {},
      "cell_type": "markdown",
      "id": "b3ad7277",
      "metadata": {},
      "source": [
        "### Changing NaN values with mean values"
      ]
    },
    {
      "cell_type": "code",
      "execution_count": null,
      "id": "d17d81f6",
      "metadata": {},
      "outputs": [],
      "source": [
        "# df.std()\n",
        "# df_mean = df.mean()\n",
        "# df_mean\n",
        "df.fillna(df.mean(), inplace=True)"
      ]
    },
    {
      "cell_type": "code",
      "execution_count": null,
      "id": "087fbd50",
      "metadata": {},
      "outputs": [],
      "source": [
        "df.info()"
      ]
    },
    {
      "cell_type": "code",
      "execution_count": null,
      "id": "35df4ad2",
      "metadata": {},
      "outputs": [],
      "source": [
        "df.iloc[:,:14].describe()"
      ]
    },
    {
      "cell_type": "code",
      "execution_count": null,
      "id": "dd4c4934",
      "metadata": {},
      "outputs": [],
      "source": [
        "df.iloc[:,14:].describe()"
      ]
    },
    {
      "cell_type": "code",
      "execution_count": null,
      "id": "6577694a",
      "metadata": {},
      "outputs": [],
      "source": [
        "s = df[df['PM10'].isnull()].shape\n",
        "print(s)\n",
        "print(76475 -54415 )"
      ]
    },
    {
      "cell_type": "code",
      "execution_count": null,
      "id": "406e96eb",
      "metadata": {},
      "outputs": [],
      "source": [
        "df['DateTime'].min(), df['DateTime'].max()"
      ]
    },
    {
      "cell_type": "code",
      "execution_count": null,
      "id": "a9d4bd9e",
      "metadata": {},
      "outputs": [],
      "source": [
        "column_for_mean =  ['PM2.5', 'PM10', 'NO', 'NO2', 'NOx', 'NH3',\n",
        "       'SO2', 'CO', 'Ozone', 'Benzene', 'Toluene', 'Eth-Benzene', 'MP-Xylene',\n",
        "       'RH', 'WS', 'WD', 'BP', 'Xylene', 'AT', 'RF', 'TOT-RF']"
      ]
    },
    {
      "cell_type": "code",
      "execution_count": null,
      "id": "a68eb0fd",
      "metadata": {},
      "outputs": [],
      "source": [
        "df.isnull().sum()/len(df)*100"
      ]
    },
    {
      "cell_type": "code",
      "execution_count": null,
      "id": "ec855714",
      "metadata": {},
      "outputs": [],
      "source": [
        "df.describe()"
      ]
    },
    {
      "cell_type": "code",
      "execution_count": null,
      "id": "cbec27ba",
      "metadata": {},
      "outputs": [],
      "source": [
        "# folder_path, '---', file_path"
      ]
    },
    {
      "attachments": {},
      "cell_type": "markdown",
      "id": "1855c5e2",
      "metadata": {},
      "source": [
        "### Save cleaned data to new file"
      ]
    },
    {
      "cell_type": "code",
      "execution_count": null,
      "id": "02f4416d",
      "metadata": {},
      "outputs": [],
      "source": [
        "import os\n",
        "fname = os.path.basename(file_path).split('/')[-1]\n",
        "fname_new = os.path.splitext(fname)[0] + \"_clean.csv\"\n",
        "file_path_new = folder_path + fname_new\n",
        "# print(file_path_new)\n",
        "df.to_csv(file_path_new)"
      ]
    },
    {
      "attachments": {},
      "cell_type": "markdown",
      "id": "2660c28b",
      "metadata": {},
      "source": [
        "# [URL]\n",
        "(https://towardsdatascience.com/4-libraries-that-can-perform-eda-in-one-line-of-python-code-b13938a06ae)\n",
        "\n",
        "## Uncomment below to install"
      ]
    },
    {
      "cell_type": "code",
      "execution_count": null,
      "id": "6fa4c0b2",
      "metadata": {},
      "outputs": [],
      "source": [
        "\n",
        "# !pip install sweetviz\n",
        "# !pip install autoviz\n",
        "# !pip install dtale\n",
        "# !pip install pandas-profiling"
      ]
    },
    {
      "cell_type": "code",
      "execution_count": null,
      "id": "44264271",
      "metadata": {},
      "outputs": [],
      "source": [
        "use_auto_eda = 4\n",
        "if(use_auto_eda == 1):\n",
        "    import sweetviz as sv\n",
        "    #EDA using sweetviz\n",
        "    report = sv.analyze(df)\n",
        "    #Saving results to HTML file\n",
        "    report.show_html('sweet_report.html')\n",
        "elif(use_auto_eda == 2):\n",
        "    import pandas as pd\n",
        "    from autoviz.AutoViz_Class import AutoViz_Class\n",
        "    #EDA using Autoviz\n",
        "    autoviz = AutoViz_Class().AutoViz(file_path_new)\n",
        "elif(use_auto_eda == 3):\n",
        "    # from ydata_profiling import ProfileReport\n",
        "    from pandas_profiling import ProfileReport\n",
        "    #EDA using pandas-profiling\n",
        "    profile = ProfileReport(df, explorative=True)\n",
        "    #Saving results to a HTML file\n",
        "    profile.to_file(\"output.html\")\n",
        "elif(use_auto_eda == 4):\n",
        "    import dtale\n",
        "    dtale.show(df)"
      ]
    },
    {
      "cell_type": "code",
      "execution_count": null,
      "id": "deb13110",
      "metadata": {},
      "outputs": [],
      "source": [
        "# # time sample every 5 mins\n",
        "# idx = pd.date_range('2018-01-01', '2018-01-31', freq='300s')\n",
        "# np.random.seed(2019)\n",
        "\n",
        "# # create toy data\n",
        "# df = pd.DataFrame({'idx':idx,\n",
        "#                    'data':np.random.uniform(0,5, len(idx))})\n",
        "# df.loc[np.random.uniform(0,1,len(idx)) > 0.95, 'data'] = None\n",
        "\n",
        "# # means by the hour, can also use median\n",
        "# means = df.resample('H', on='idx').data.mean()\n",
        "\n",
        "# # get the timestamp on the hour\n",
        "# df['hour'] = df['idx'] - pd.to_timedelta(df.idx.dt.minute, unit='m')\n",
        "\n",
        "# # get the hour stamp of previous day\n",
        "# df['hour'] -= pd.to_timedelta(1, unit='d')\n",
        "\n",
        "# # update NaN\n",
        "# # df.loc[df.data.isna(), 'data'] = means[nan_hour]\n"
      ]
    },
    {
      "cell_type": "code",
      "execution_count": null,
      "id": "1c5b99d3",
      "metadata": {},
      "outputs": [],
      "source": [
        "# the original mapping raised a ValueError due to duplicates in nan_hour\n",
        "# df.loc[df.data.isna(), 'data'] = df.loc[df.data.isna(), 'data'].replace({'data': means})"
      ]
    },
    {
      "attachments": {},
      "cell_type": "markdown",
      "id": "a1f6be7f",
      "metadata": {},
      "source": [
        "Pandas | https://pandas.pydata.org/docs/getting_started/intro_tutorials/09_timeseries.html?highlight=datetime"
      ]
    },
    {
      "cell_type": "code",
      "execution_count": null,
      "id": "f98d5093",
      "metadata": {},
      "outputs": [],
      "source": [
        "df.iloc[:,:14].describe()\n",
        "df.iloc[:,14:].describe()"
      ]
    }
  ],
  "metadata": {
    "colab": {
      "provenance": []
    },
    "kernelspec": {
      "display_name": "mil",
      "language": "python",
      "name": "python3"
    },
    "language_info": {
      "codemirror_mode": {
        "name": "ipython",
        "version": 3
      },
      "file_extension": ".py",
      "mimetype": "text/x-python",
      "name": "python",
      "nbconvert_exporter": "python",
      "pygments_lexer": "ipython3",
      "version": "3.10.8 | packaged by conda-forge | (main, Nov 24 2022, 14:07:00) [MSC v.1916 64 bit (AMD64)]"
    },
    "vscode": {
      "interpreter": {
        "hash": "b4bda4aaba8de7bc16e51c0dd354fbbee990c3e67240801a595ff6b8b9534aa4"
      }
    }
  },
  "nbformat": 4,
  "nbformat_minor": 5
}
