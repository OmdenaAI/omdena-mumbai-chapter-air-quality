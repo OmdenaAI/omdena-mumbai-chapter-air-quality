{
 "cells": [
  {
   "cell_type": "code",
   "execution_count": 1,
   "id": "3b68e705",
   "metadata": {},
   "outputs": [],
   "source": [
    "import pandas as pd\n",
    "import numpy as np\n",
    "import matplotlib.pyplot as plt\n",
    "import seaborn as sns\n",
    "import os\n",
    "from datetime import datetime"
   ]
  },
  {
   "cell_type": "code",
   "execution_count": 2,
   "id": "d3074cb2",
   "metadata": {},
   "outputs": [],
   "source": [
    "FOLDER_PATH = '/home/surbhit/Omdena/omdena-mumbai-chapter-air-quality/src/data'"
   ]
  },
  {
   "cell_type": "code",
   "execution_count": 3,
   "id": "a7668070",
   "metadata": {},
   "outputs": [
    {
     "name": "stdout",
     "output_type": "stream",
     "text": [
      "KhindipadaBhandupWestMumbaiIITM.csv\n",
      "KandivaliEastMumbaiMPCB.csv\n",
      "BorivaliEastMumbaiIITM.csv\n",
      "BandraMumbaiMPCB.csv\n",
      "VasaiWestMumbaiMPCB.csv\n",
      "VileParleWestMumbaiMPCB.csv\n",
      "README.md\n",
      "ColabaMumbaiMPCB.csv\n",
      "WorliMumbaiMPCB.csv\n",
      "NavyNagarColabaMumbaiIITM.csv\n",
      "MazgaonMumbaiIITM.csv\n",
      "SiddharthNagarWorliMumbaiIITM.csv\n",
      "MaladWestMumbaiIITM.csv\n",
      "MulundWestMumbaiMPCB.csv\n",
      "KurlaMumbaiMPCB.csv\n",
      "ChakalaAndheriEastMumbaiIITM.csv\n",
      "SionMumbaiMPCB.csv\n",
      "ChhatrapatiShivajiIntlAirportT2MumbaiMPCB.csv\n",
      "PowaiMumbaiMPCB.csv\n",
      "airQuality.csv\n",
      "BorivaliEastMumbaiMPCB.csv\n"
     ]
    }
   ],
   "source": [
    "for file in os.listdir(FOLDER_PATH):\n",
    "    print(file)"
   ]
  },
  {
   "cell_type": "code",
   "execution_count": 5,
   "id": "cc170617",
   "metadata": {},
   "outputs": [],
   "source": [
    "df = pd.read_csv('../../data/BandraKurlaComplexMumbaiIITM.csv')"
   ]
  },
  {
   "cell_type": "code",
   "execution_count": 6,
   "id": "1fc72588",
   "metadata": {},
   "outputs": [
    {
     "data": {
      "text/html": [
       "<div>\n",
       "<style scoped>\n",
       "    .dataframe tbody tr th:only-of-type {\n",
       "        vertical-align: middle;\n",
       "    }\n",
       "\n",
       "    .dataframe tbody tr th {\n",
       "        vertical-align: top;\n",
       "    }\n",
       "\n",
       "    .dataframe thead th {\n",
       "        text-align: right;\n",
       "    }\n",
       "</style>\n",
       "<table border=\"1\" class=\"dataframe\">\n",
       "  <thead>\n",
       "    <tr style=\"text-align: right;\">\n",
       "      <th></th>\n",
       "      <th>Unnamed: 0</th>\n",
       "      <th>From Date</th>\n",
       "      <th>To Date</th>\n",
       "      <th>PM2.5</th>\n",
       "      <th>PM10</th>\n",
       "      <th>NO</th>\n",
       "      <th>NO2</th>\n",
       "      <th>NOx</th>\n",
       "      <th>NH3</th>\n",
       "      <th>SO2</th>\n",
       "      <th>...</th>\n",
       "      <th>MP-Xylene</th>\n",
       "      <th>RH</th>\n",
       "      <th>WS</th>\n",
       "      <th>WD</th>\n",
       "      <th>SR</th>\n",
       "      <th>BP</th>\n",
       "      <th>Xylene</th>\n",
       "      <th>AT</th>\n",
       "      <th>RF</th>\n",
       "      <th>TOT-RF</th>\n",
       "    </tr>\n",
       "  </thead>\n",
       "  <tbody>\n",
       "    <tr>\n",
       "      <th>0</th>\n",
       "      <td>1</td>\n",
       "      <td>01-01-2021 00:00</td>\n",
       "      <td>01-01-2021 00:15</td>\n",
       "      <td>147.26</td>\n",
       "      <td>175.93</td>\n",
       "      <td>16.23</td>\n",
       "      <td>61.72</td>\n",
       "      <td>45.3</td>\n",
       "      <td>79.76</td>\n",
       "      <td>4.68</td>\n",
       "      <td>...</td>\n",
       "      <td>None</td>\n",
       "      <td>94.14</td>\n",
       "      <td>0.46</td>\n",
       "      <td>187.53</td>\n",
       "      <td>None</td>\n",
       "      <td>953.2</td>\n",
       "      <td>0</td>\n",
       "      <td>21.84</td>\n",
       "      <td>0</td>\n",
       "      <td>0.0</td>\n",
       "    </tr>\n",
       "    <tr>\n",
       "      <th>1</th>\n",
       "      <td>2</td>\n",
       "      <td>01-01-2021 00:15</td>\n",
       "      <td>01-01-2021 00:30</td>\n",
       "      <td>145.37</td>\n",
       "      <td>173.96</td>\n",
       "      <td>16.88</td>\n",
       "      <td>61.5</td>\n",
       "      <td>45.75</td>\n",
       "      <td>79.01</td>\n",
       "      <td>18.49</td>\n",
       "      <td>...</td>\n",
       "      <td>None</td>\n",
       "      <td>94.99</td>\n",
       "      <td>0.47</td>\n",
       "      <td>224.11</td>\n",
       "      <td>None</td>\n",
       "      <td>953.2</td>\n",
       "      <td>0</td>\n",
       "      <td>21.84</td>\n",
       "      <td>0</td>\n",
       "      <td>0.0</td>\n",
       "    </tr>\n",
       "    <tr>\n",
       "      <th>2</th>\n",
       "      <td>3</td>\n",
       "      <td>01-01-2021 00:30</td>\n",
       "      <td>01-01-2021 00:45</td>\n",
       "      <td>156.71</td>\n",
       "      <td>186.12</td>\n",
       "      <td>22.71</td>\n",
       "      <td>62.99</td>\n",
       "      <td>51.15</td>\n",
       "      <td>84.96</td>\n",
       "      <td>17.62</td>\n",
       "      <td>...</td>\n",
       "      <td>None</td>\n",
       "      <td>93.88</td>\n",
       "      <td>0.46</td>\n",
       "      <td>212.47</td>\n",
       "      <td>None</td>\n",
       "      <td>953.2</td>\n",
       "      <td>0</td>\n",
       "      <td>22.01</td>\n",
       "      <td>0</td>\n",
       "      <td>0.0</td>\n",
       "    </tr>\n",
       "    <tr>\n",
       "      <th>3</th>\n",
       "      <td>4</td>\n",
       "      <td>01-01-2021 00:45</td>\n",
       "      <td>01-01-2021 01:00</td>\n",
       "      <td>171.18</td>\n",
       "      <td>205.41</td>\n",
       "      <td>16.55</td>\n",
       "      <td>59.13</td>\n",
       "      <td>44.19</td>\n",
       "      <td>77.83</td>\n",
       "      <td>18.14</td>\n",
       "      <td>...</td>\n",
       "      <td>None</td>\n",
       "      <td>93.38</td>\n",
       "      <td>0.27</td>\n",
       "      <td>216.65</td>\n",
       "      <td>None</td>\n",
       "      <td>954.2</td>\n",
       "      <td>0</td>\n",
       "      <td>21.99</td>\n",
       "      <td>0</td>\n",
       "      <td>0.0</td>\n",
       "    </tr>\n",
       "    <tr>\n",
       "      <th>4</th>\n",
       "      <td>5</td>\n",
       "      <td>01-01-2021 01:00</td>\n",
       "      <td>01-01-2021 01:15</td>\n",
       "      <td>183.17</td>\n",
       "      <td>219.31</td>\n",
       "      <td>20.39</td>\n",
       "      <td>59.87</td>\n",
       "      <td>47.66</td>\n",
       "      <td>81.63</td>\n",
       "      <td>18.69</td>\n",
       "      <td>...</td>\n",
       "      <td>None</td>\n",
       "      <td>92.44</td>\n",
       "      <td>0.17</td>\n",
       "      <td>103.12</td>\n",
       "      <td>None</td>\n",
       "      <td>954.9</td>\n",
       "      <td>0</td>\n",
       "      <td>22.04</td>\n",
       "      <td>0</td>\n",
       "      <td>0.0</td>\n",
       "    </tr>\n",
       "  </tbody>\n",
       "</table>\n",
       "<p>5 rows × 25 columns</p>\n",
       "</div>"
      ],
      "text/plain": [
       "   Unnamed: 0         From Date           To Date   PM2.5    PM10     NO  \\\n",
       "0           1  01-01-2021 00:00  01-01-2021 00:15  147.26  175.93  16.23   \n",
       "1           2  01-01-2021 00:15  01-01-2021 00:30  145.37  173.96  16.88   \n",
       "2           3  01-01-2021 00:30  01-01-2021 00:45  156.71  186.12  22.71   \n",
       "3           4  01-01-2021 00:45  01-01-2021 01:00  171.18  205.41  16.55   \n",
       "4           5  01-01-2021 01:00  01-01-2021 01:15  183.17  219.31  20.39   \n",
       "\n",
       "     NO2    NOx    NH3    SO2  ... MP-Xylene     RH    WS      WD    SR  \\\n",
       "0  61.72   45.3  79.76   4.68  ...      None  94.14  0.46  187.53  None   \n",
       "1   61.5  45.75  79.01  18.49  ...      None  94.99  0.47  224.11  None   \n",
       "2  62.99  51.15  84.96  17.62  ...      None  93.88  0.46  212.47  None   \n",
       "3  59.13  44.19  77.83  18.14  ...      None  93.38  0.27  216.65  None   \n",
       "4  59.87  47.66  81.63  18.69  ...      None  92.44  0.17  103.12  None   \n",
       "\n",
       "      BP Xylene     AT RF TOT-RF  \n",
       "0  953.2      0  21.84  0    0.0  \n",
       "1  953.2      0  21.84  0    0.0  \n",
       "2  953.2      0  22.01  0    0.0  \n",
       "3  954.2      0  21.99  0    0.0  \n",
       "4  954.9      0  22.04  0    0.0  \n",
       "\n",
       "[5 rows x 25 columns]"
      ]
     },
     "execution_count": 6,
     "metadata": {},
     "output_type": "execute_result"
    }
   ],
   "source": [
    "df.head()"
   ]
  },
  {
   "cell_type": "code",
   "execution_count": 7,
   "id": "f3dbefc5",
   "metadata": {},
   "outputs": [],
   "source": [
    "df.drop(columns=['Unnamed: 0'], axis=1,inplace=True)"
   ]
  },
  {
   "cell_type": "code",
   "execution_count": 8,
   "id": "9f462241",
   "metadata": {},
   "outputs": [],
   "source": [
    "df_new = df.copy()"
   ]
  },
  {
   "cell_type": "code",
   "execution_count": 9,
   "id": "dc459335",
   "metadata": {},
   "outputs": [],
   "source": [
    "df_new.replace('None',np.nan,inplace=True)"
   ]
  },
  {
   "cell_type": "code",
   "execution_count": 10,
   "id": "1c494a28",
   "metadata": {},
   "outputs": [],
   "source": [
    "df_new.rename(columns={'From Date':'Start'},inplace=True)"
   ]
  },
  {
   "cell_type": "code",
   "execution_count": 11,
   "id": "4d73e6de",
   "metadata": {},
   "outputs": [],
   "source": [
    "df_new.drop(columns=['To Date'], inplace=True)"
   ]
  },
  {
   "cell_type": "markdown",
   "id": "48a3152a",
   "metadata": {},
   "source": [
    "**NULL VALUES**"
   ]
  },
  {
   "cell_type": "code",
   "execution_count": 12,
   "id": "6729bd39",
   "metadata": {},
   "outputs": [
    {
     "data": {
      "text/plain": [
       "Start              0\n",
       "PM2.5          21769\n",
       "PM10           22060\n",
       "NO             24876\n",
       "NO2            24336\n",
       "NOx            24236\n",
       "NH3            24698\n",
       "SO2            24429\n",
       "CO             21873\n",
       "Ozone          22107\n",
       "Benzene        19965\n",
       "Toluene        20050\n",
       "Eth-Benzene    22646\n",
       "MP-Xylene      23564\n",
       "RH             20197\n",
       "WS             20521\n",
       "WD             20391\n",
       "SR             76475\n",
       "BP             20139\n",
       "Xylene         20058\n",
       "AT             33700\n",
       "RF             20106\n",
       "TOT-RF             0\n",
       "dtype: int64"
      ]
     },
     "execution_count": 12,
     "metadata": {},
     "output_type": "execute_result"
    }
   ],
   "source": [
    "df_new.isnull().sum()"
   ]
  },
  {
   "cell_type": "code",
   "execution_count": 13,
   "id": "82da5f4a",
   "metadata": {},
   "outputs": [
    {
     "data": {
      "text/plain": [
       "Start          0.000000\n",
       "PM2.5          0.284655\n",
       "PM10           0.288460\n",
       "NO             0.325283\n",
       "NO2            0.318222\n",
       "NOx            0.316914\n",
       "NH3            0.322955\n",
       "SO2            0.319438\n",
       "CO             0.286015\n",
       "Ozone          0.289075\n",
       "Benzene        0.261066\n",
       "Toluene        0.262177\n",
       "Eth-Benzene    0.296123\n",
       "MP-Xylene      0.308127\n",
       "RH             0.264099\n",
       "WS             0.268336\n",
       "WD             0.266636\n",
       "SR             1.000000\n",
       "BP             0.263341\n",
       "Xylene         0.262282\n",
       "AT             0.440667\n",
       "RF             0.262909\n",
       "TOT-RF         0.000000\n",
       "dtype: float64"
      ]
     },
     "execution_count": 13,
     "metadata": {},
     "output_type": "execute_result"
    }
   ],
   "source": [
    "df_new.isnull().sum()/df_new.shape[0]"
   ]
  },
  {
   "cell_type": "markdown",
   "id": "84cbb1a1",
   "metadata": {},
   "source": [
    "**SELECTING FEW PARAMETERS FOR INITIAL EXPLORATION**\n",
    "* PM2.5, PM10, NO, NO2, NOx, NH3, SO2, CO, Ozone"
   ]
  },
  {
   "cell_type": "code",
   "execution_count": 14,
   "id": "123bbb53",
   "metadata": {},
   "outputs": [
    {
     "data": {
      "text/html": [
       "<div>\n",
       "<style scoped>\n",
       "    .dataframe tbody tr th:only-of-type {\n",
       "        vertical-align: middle;\n",
       "    }\n",
       "\n",
       "    .dataframe tbody tr th {\n",
       "        vertical-align: top;\n",
       "    }\n",
       "\n",
       "    .dataframe thead th {\n",
       "        text-align: right;\n",
       "    }\n",
       "</style>\n",
       "<table border=\"1\" class=\"dataframe\">\n",
       "  <thead>\n",
       "    <tr style=\"text-align: right;\">\n",
       "      <th></th>\n",
       "      <th>Start</th>\n",
       "      <th>PM2.5</th>\n",
       "      <th>PM10</th>\n",
       "      <th>NO</th>\n",
       "      <th>NO2</th>\n",
       "      <th>NOx</th>\n",
       "      <th>NH3</th>\n",
       "      <th>SO2</th>\n",
       "      <th>CO</th>\n",
       "      <th>Ozone</th>\n",
       "    </tr>\n",
       "  </thead>\n",
       "  <tbody>\n",
       "    <tr>\n",
       "      <th>0</th>\n",
       "      <td>01-01-2021 00:00</td>\n",
       "      <td>147.26</td>\n",
       "      <td>175.93</td>\n",
       "      <td>16.23</td>\n",
       "      <td>61.72</td>\n",
       "      <td>45.3</td>\n",
       "      <td>79.76</td>\n",
       "      <td>4.68</td>\n",
       "      <td>1.38</td>\n",
       "      <td>13</td>\n",
       "    </tr>\n",
       "    <tr>\n",
       "      <th>1</th>\n",
       "      <td>01-01-2021 00:15</td>\n",
       "      <td>145.37</td>\n",
       "      <td>173.96</td>\n",
       "      <td>16.88</td>\n",
       "      <td>61.5</td>\n",
       "      <td>45.75</td>\n",
       "      <td>79.01</td>\n",
       "      <td>18.49</td>\n",
       "      <td>1.38</td>\n",
       "      <td>15</td>\n",
       "    </tr>\n",
       "    <tr>\n",
       "      <th>2</th>\n",
       "      <td>01-01-2021 00:30</td>\n",
       "      <td>156.71</td>\n",
       "      <td>186.12</td>\n",
       "      <td>22.71</td>\n",
       "      <td>62.99</td>\n",
       "      <td>51.15</td>\n",
       "      <td>84.96</td>\n",
       "      <td>17.62</td>\n",
       "      <td>1.27</td>\n",
       "      <td>10</td>\n",
       "    </tr>\n",
       "    <tr>\n",
       "      <th>3</th>\n",
       "      <td>01-01-2021 00:45</td>\n",
       "      <td>171.18</td>\n",
       "      <td>205.41</td>\n",
       "      <td>16.55</td>\n",
       "      <td>59.13</td>\n",
       "      <td>44.19</td>\n",
       "      <td>77.83</td>\n",
       "      <td>18.14</td>\n",
       "      <td>1.23</td>\n",
       "      <td>12</td>\n",
       "    </tr>\n",
       "    <tr>\n",
       "      <th>4</th>\n",
       "      <td>01-01-2021 01:00</td>\n",
       "      <td>183.17</td>\n",
       "      <td>219.31</td>\n",
       "      <td>20.39</td>\n",
       "      <td>59.87</td>\n",
       "      <td>47.66</td>\n",
       "      <td>81.63</td>\n",
       "      <td>18.69</td>\n",
       "      <td>1.24</td>\n",
       "      <td>14</td>\n",
       "    </tr>\n",
       "  </tbody>\n",
       "</table>\n",
       "</div>"
      ],
      "text/plain": [
       "              Start   PM2.5    PM10     NO    NO2    NOx    NH3    SO2    CO  \\\n",
       "0  01-01-2021 00:00  147.26  175.93  16.23  61.72   45.3  79.76   4.68  1.38   \n",
       "1  01-01-2021 00:15  145.37  173.96  16.88   61.5  45.75  79.01  18.49  1.38   \n",
       "2  01-01-2021 00:30  156.71  186.12  22.71  62.99  51.15  84.96  17.62  1.27   \n",
       "3  01-01-2021 00:45  171.18  205.41  16.55  59.13  44.19  77.83  18.14  1.23   \n",
       "4  01-01-2021 01:00  183.17  219.31  20.39  59.87  47.66  81.63  18.69  1.24   \n",
       "\n",
       "  Ozone  \n",
       "0    13  \n",
       "1    15  \n",
       "2    10  \n",
       "3    12  \n",
       "4    14  "
      ]
     },
     "execution_count": 14,
     "metadata": {},
     "output_type": "execute_result"
    }
   ],
   "source": [
    "important_features = ['Start', 'PM2.5', 'PM10', 'NO', 'NO2', 'NOx', 'NH3', 'SO2', 'CO', 'Ozone']\n",
    "\n",
    "important_features_df = df_new[important_features]\n",
    "\n",
    "important_features_df.head()"
   ]
  },
  {
   "cell_type": "code",
   "execution_count": 15,
   "id": "d333092a",
   "metadata": {},
   "outputs": [
    {
     "name": "stderr",
     "output_type": "stream",
     "text": [
      "<ipython-input-15-c230cc0a79f4>:1: SettingWithCopyWarning: \n",
      "A value is trying to be set on a copy of a slice from a DataFrame\n",
      "\n",
      "See the caveats in the documentation: https://pandas.pydata.org/pandas-docs/stable/user_guide/indexing.html#returning-a-view-versus-a-copy\n",
      "  important_features_df.rename(columns={'Start':'Date'},inplace=True)\n"
     ]
    }
   ],
   "source": [
    "important_features_df.rename(columns={'Start':'Date'},inplace=True)"
   ]
  },
  {
   "cell_type": "code",
   "execution_count": 16,
   "id": "ae8a15e6",
   "metadata": {},
   "outputs": [
    {
     "data": {
      "text/html": [
       "<div>\n",
       "<style scoped>\n",
       "    .dataframe tbody tr th:only-of-type {\n",
       "        vertical-align: middle;\n",
       "    }\n",
       "\n",
       "    .dataframe tbody tr th {\n",
       "        vertical-align: top;\n",
       "    }\n",
       "\n",
       "    .dataframe thead th {\n",
       "        text-align: right;\n",
       "    }\n",
       "</style>\n",
       "<table border=\"1\" class=\"dataframe\">\n",
       "  <thead>\n",
       "    <tr style=\"text-align: right;\">\n",
       "      <th></th>\n",
       "      <th>Date</th>\n",
       "      <th>PM2.5</th>\n",
       "      <th>PM10</th>\n",
       "      <th>NO</th>\n",
       "      <th>NO2</th>\n",
       "      <th>NOx</th>\n",
       "      <th>NH3</th>\n",
       "      <th>SO2</th>\n",
       "      <th>CO</th>\n",
       "      <th>Ozone</th>\n",
       "    </tr>\n",
       "  </thead>\n",
       "  <tbody>\n",
       "    <tr>\n",
       "      <th>0</th>\n",
       "      <td>01-01-2021 00:00</td>\n",
       "      <td>147.26</td>\n",
       "      <td>175.93</td>\n",
       "      <td>16.23</td>\n",
       "      <td>61.72</td>\n",
       "      <td>45.3</td>\n",
       "      <td>79.76</td>\n",
       "      <td>4.68</td>\n",
       "      <td>1.38</td>\n",
       "      <td>13</td>\n",
       "    </tr>\n",
       "    <tr>\n",
       "      <th>1</th>\n",
       "      <td>01-01-2021 00:15</td>\n",
       "      <td>145.37</td>\n",
       "      <td>173.96</td>\n",
       "      <td>16.88</td>\n",
       "      <td>61.5</td>\n",
       "      <td>45.75</td>\n",
       "      <td>79.01</td>\n",
       "      <td>18.49</td>\n",
       "      <td>1.38</td>\n",
       "      <td>15</td>\n",
       "    </tr>\n",
       "    <tr>\n",
       "      <th>2</th>\n",
       "      <td>01-01-2021 00:30</td>\n",
       "      <td>156.71</td>\n",
       "      <td>186.12</td>\n",
       "      <td>22.71</td>\n",
       "      <td>62.99</td>\n",
       "      <td>51.15</td>\n",
       "      <td>84.96</td>\n",
       "      <td>17.62</td>\n",
       "      <td>1.27</td>\n",
       "      <td>10</td>\n",
       "    </tr>\n",
       "    <tr>\n",
       "      <th>3</th>\n",
       "      <td>01-01-2021 00:45</td>\n",
       "      <td>171.18</td>\n",
       "      <td>205.41</td>\n",
       "      <td>16.55</td>\n",
       "      <td>59.13</td>\n",
       "      <td>44.19</td>\n",
       "      <td>77.83</td>\n",
       "      <td>18.14</td>\n",
       "      <td>1.23</td>\n",
       "      <td>12</td>\n",
       "    </tr>\n",
       "    <tr>\n",
       "      <th>4</th>\n",
       "      <td>01-01-2021 01:00</td>\n",
       "      <td>183.17</td>\n",
       "      <td>219.31</td>\n",
       "      <td>20.39</td>\n",
       "      <td>59.87</td>\n",
       "      <td>47.66</td>\n",
       "      <td>81.63</td>\n",
       "      <td>18.69</td>\n",
       "      <td>1.24</td>\n",
       "      <td>14</td>\n",
       "    </tr>\n",
       "  </tbody>\n",
       "</table>\n",
       "</div>"
      ],
      "text/plain": [
       "               Date   PM2.5    PM10     NO    NO2    NOx    NH3    SO2    CO  \\\n",
       "0  01-01-2021 00:00  147.26  175.93  16.23  61.72   45.3  79.76   4.68  1.38   \n",
       "1  01-01-2021 00:15  145.37  173.96  16.88   61.5  45.75  79.01  18.49  1.38   \n",
       "2  01-01-2021 00:30  156.71  186.12  22.71  62.99  51.15  84.96  17.62  1.27   \n",
       "3  01-01-2021 00:45  171.18  205.41  16.55  59.13  44.19  77.83  18.14  1.23   \n",
       "4  01-01-2021 01:00  183.17  219.31  20.39  59.87  47.66  81.63  18.69  1.24   \n",
       "\n",
       "  Ozone  \n",
       "0    13  \n",
       "1    15  \n",
       "2    10  \n",
       "3    12  \n",
       "4    14  "
      ]
     },
     "execution_count": 16,
     "metadata": {},
     "output_type": "execute_result"
    }
   ],
   "source": [
    "important_features_df.head()"
   ]
  },
  {
   "cell_type": "code",
   "execution_count": 17,
   "id": "279a9917",
   "metadata": {},
   "outputs": [],
   "source": [
    "time = pd.DataFrame()\n",
    "time = important_features_df['Date']"
   ]
  },
  {
   "cell_type": "code",
   "execution_count": 18,
   "id": "07120a66",
   "metadata": {},
   "outputs": [],
   "source": [
    "df = pd.DataFrame()\n",
    "\n",
    "df[['Date','Time']] = important_features_df.Date.str.split(\" \",expand=True)\n",
    "df['Hours'] = df.Time.str.split(':',expand=True)[0]"
   ]
  },
  {
   "cell_type": "code",
   "execution_count": 19,
   "id": "e046b1a1",
   "metadata": {},
   "outputs": [
    {
     "name": "stderr",
     "output_type": "stream",
     "text": [
      "<ipython-input-19-26607d18cc19>:1: SettingWithCopyWarning: \n",
      "A value is trying to be set on a copy of a slice from a DataFrame\n",
      "\n",
      "See the caveats in the documentation: https://pandas.pydata.org/pandas-docs/stable/user_guide/indexing.html#returning-a-view-versus-a-copy\n",
      "  important_features_df.drop(columns=['Date'],axis=1,inplace=True)\n"
     ]
    }
   ],
   "source": [
    "important_features_df.drop(columns=['Date'],axis=1,inplace=True)\n",
    "\n",
    "important_features_df.insert(loc=0,column='Date',value=df['Date'])\n",
    "important_features_df.insert(loc=1,column='Time',value=df['Time'])\n",
    "important_features_df.insert(loc=1,column='Hours',value=df['Hours'])"
   ]
  },
  {
   "cell_type": "code",
   "execution_count": 20,
   "id": "ca460523",
   "metadata": {},
   "outputs": [],
   "source": [
    "#Converting nuerical features to float\n",
    "important_features_df = important_features_df.astype({'Hours':'float','PM2.5': 'float','PM10': 'float','NO': 'float','NO2': 'float','NOx': 'float','NH3': 'float','SO2': 'float','CO': 'float','Ozone': 'float'})"
   ]
  },
  {
   "cell_type": "code",
   "execution_count": 21,
   "id": "51881e00",
   "metadata": {},
   "outputs": [],
   "source": [
    "important_features_df.drop(columns=['Time'],inplace=True)"
   ]
  },
  {
   "cell_type": "code",
   "execution_count": 22,
   "id": "25f74edb",
   "metadata": {},
   "outputs": [
    {
     "data": {
      "text/html": [
       "<div>\n",
       "<style scoped>\n",
       "    .dataframe tbody tr th:only-of-type {\n",
       "        vertical-align: middle;\n",
       "    }\n",
       "\n",
       "    .dataframe tbody tr th {\n",
       "        vertical-align: top;\n",
       "    }\n",
       "\n",
       "    .dataframe thead th {\n",
       "        text-align: right;\n",
       "    }\n",
       "</style>\n",
       "<table border=\"1\" class=\"dataframe\">\n",
       "  <thead>\n",
       "    <tr style=\"text-align: right;\">\n",
       "      <th></th>\n",
       "      <th>Date</th>\n",
       "      <th>Hours</th>\n",
       "      <th>PM2.5</th>\n",
       "      <th>PM10</th>\n",
       "      <th>NO</th>\n",
       "      <th>NO2</th>\n",
       "      <th>NOx</th>\n",
       "      <th>NH3</th>\n",
       "      <th>SO2</th>\n",
       "      <th>CO</th>\n",
       "      <th>Ozone</th>\n",
       "    </tr>\n",
       "  </thead>\n",
       "  <tbody>\n",
       "    <tr>\n",
       "      <th>0</th>\n",
       "      <td>01-01-2021</td>\n",
       "      <td>0.0</td>\n",
       "      <td>147.26</td>\n",
       "      <td>175.93</td>\n",
       "      <td>16.23</td>\n",
       "      <td>61.72</td>\n",
       "      <td>45.30</td>\n",
       "      <td>79.76</td>\n",
       "      <td>4.68</td>\n",
       "      <td>1.38</td>\n",
       "      <td>13.0</td>\n",
       "    </tr>\n",
       "    <tr>\n",
       "      <th>1</th>\n",
       "      <td>01-01-2021</td>\n",
       "      <td>0.0</td>\n",
       "      <td>145.37</td>\n",
       "      <td>173.96</td>\n",
       "      <td>16.88</td>\n",
       "      <td>61.50</td>\n",
       "      <td>45.75</td>\n",
       "      <td>79.01</td>\n",
       "      <td>18.49</td>\n",
       "      <td>1.38</td>\n",
       "      <td>15.0</td>\n",
       "    </tr>\n",
       "    <tr>\n",
       "      <th>2</th>\n",
       "      <td>01-01-2021</td>\n",
       "      <td>0.0</td>\n",
       "      <td>156.71</td>\n",
       "      <td>186.12</td>\n",
       "      <td>22.71</td>\n",
       "      <td>62.99</td>\n",
       "      <td>51.15</td>\n",
       "      <td>84.96</td>\n",
       "      <td>17.62</td>\n",
       "      <td>1.27</td>\n",
       "      <td>10.0</td>\n",
       "    </tr>\n",
       "    <tr>\n",
       "      <th>3</th>\n",
       "      <td>01-01-2021</td>\n",
       "      <td>0.0</td>\n",
       "      <td>171.18</td>\n",
       "      <td>205.41</td>\n",
       "      <td>16.55</td>\n",
       "      <td>59.13</td>\n",
       "      <td>44.19</td>\n",
       "      <td>77.83</td>\n",
       "      <td>18.14</td>\n",
       "      <td>1.23</td>\n",
       "      <td>12.0</td>\n",
       "    </tr>\n",
       "    <tr>\n",
       "      <th>4</th>\n",
       "      <td>01-01-2021</td>\n",
       "      <td>1.0</td>\n",
       "      <td>183.17</td>\n",
       "      <td>219.31</td>\n",
       "      <td>20.39</td>\n",
       "      <td>59.87</td>\n",
       "      <td>47.66</td>\n",
       "      <td>81.63</td>\n",
       "      <td>18.69</td>\n",
       "      <td>1.24</td>\n",
       "      <td>14.0</td>\n",
       "    </tr>\n",
       "  </tbody>\n",
       "</table>\n",
       "</div>"
      ],
      "text/plain": [
       "         Date  Hours   PM2.5    PM10     NO    NO2    NOx    NH3    SO2    CO  \\\n",
       "0  01-01-2021    0.0  147.26  175.93  16.23  61.72  45.30  79.76   4.68  1.38   \n",
       "1  01-01-2021    0.0  145.37  173.96  16.88  61.50  45.75  79.01  18.49  1.38   \n",
       "2  01-01-2021    0.0  156.71  186.12  22.71  62.99  51.15  84.96  17.62  1.27   \n",
       "3  01-01-2021    0.0  171.18  205.41  16.55  59.13  44.19  77.83  18.14  1.23   \n",
       "4  01-01-2021    1.0  183.17  219.31  20.39  59.87  47.66  81.63  18.69  1.24   \n",
       "\n",
       "   Ozone  \n",
       "0   13.0  \n",
       "1   15.0  \n",
       "2   10.0  \n",
       "3   12.0  \n",
       "4   14.0  "
      ]
     },
     "execution_count": 22,
     "metadata": {},
     "output_type": "execute_result"
    }
   ],
   "source": [
    "important_features_df.head()"
   ]
  },
  {
   "cell_type": "code",
   "execution_count": 23,
   "id": "efc275fb",
   "metadata": {},
   "outputs": [
    {
     "data": {
      "text/html": [
       "<div>\n",
       "<style scoped>\n",
       "    .dataframe tbody tr th:only-of-type {\n",
       "        vertical-align: middle;\n",
       "    }\n",
       "\n",
       "    .dataframe tbody tr th {\n",
       "        vertical-align: top;\n",
       "    }\n",
       "\n",
       "    .dataframe thead th {\n",
       "        text-align: right;\n",
       "    }\n",
       "</style>\n",
       "<table border=\"1\" class=\"dataframe\">\n",
       "  <thead>\n",
       "    <tr style=\"text-align: right;\">\n",
       "      <th></th>\n",
       "      <th>Date</th>\n",
       "      <th>Hours</th>\n",
       "      <th>PM2.5</th>\n",
       "      <th>PM10</th>\n",
       "      <th>NO</th>\n",
       "      <th>NO2</th>\n",
       "      <th>NOx</th>\n",
       "      <th>NH3</th>\n",
       "      <th>SO2</th>\n",
       "      <th>CO</th>\n",
       "      <th>Ozone</th>\n",
       "    </tr>\n",
       "  </thead>\n",
       "  <tbody>\n",
       "    <tr>\n",
       "      <th>0</th>\n",
       "      <td>01-01-2021</td>\n",
       "      <td>0.0</td>\n",
       "      <td>147.26</td>\n",
       "      <td>175.93</td>\n",
       "      <td>16.23</td>\n",
       "      <td>61.72</td>\n",
       "      <td>45.30</td>\n",
       "      <td>79.76</td>\n",
       "      <td>4.68</td>\n",
       "      <td>1.38</td>\n",
       "      <td>13.0</td>\n",
       "    </tr>\n",
       "    <tr>\n",
       "      <th>1</th>\n",
       "      <td>01-01-2021</td>\n",
       "      <td>0.0</td>\n",
       "      <td>145.37</td>\n",
       "      <td>173.96</td>\n",
       "      <td>16.88</td>\n",
       "      <td>61.50</td>\n",
       "      <td>45.75</td>\n",
       "      <td>79.01</td>\n",
       "      <td>18.49</td>\n",
       "      <td>1.38</td>\n",
       "      <td>15.0</td>\n",
       "    </tr>\n",
       "    <tr>\n",
       "      <th>2</th>\n",
       "      <td>01-01-2021</td>\n",
       "      <td>0.0</td>\n",
       "      <td>156.71</td>\n",
       "      <td>186.12</td>\n",
       "      <td>22.71</td>\n",
       "      <td>62.99</td>\n",
       "      <td>51.15</td>\n",
       "      <td>84.96</td>\n",
       "      <td>17.62</td>\n",
       "      <td>1.27</td>\n",
       "      <td>10.0</td>\n",
       "    </tr>\n",
       "    <tr>\n",
       "      <th>3</th>\n",
       "      <td>01-01-2021</td>\n",
       "      <td>0.0</td>\n",
       "      <td>171.18</td>\n",
       "      <td>205.41</td>\n",
       "      <td>16.55</td>\n",
       "      <td>59.13</td>\n",
       "      <td>44.19</td>\n",
       "      <td>77.83</td>\n",
       "      <td>18.14</td>\n",
       "      <td>1.23</td>\n",
       "      <td>12.0</td>\n",
       "    </tr>\n",
       "    <tr>\n",
       "      <th>4</th>\n",
       "      <td>01-01-2021</td>\n",
       "      <td>1.0</td>\n",
       "      <td>183.17</td>\n",
       "      <td>219.31</td>\n",
       "      <td>20.39</td>\n",
       "      <td>59.87</td>\n",
       "      <td>47.66</td>\n",
       "      <td>81.63</td>\n",
       "      <td>18.69</td>\n",
       "      <td>1.24</td>\n",
       "      <td>14.0</td>\n",
       "    </tr>\n",
       "    <tr>\n",
       "      <th>...</th>\n",
       "      <td>...</td>\n",
       "      <td>...</td>\n",
       "      <td>...</td>\n",
       "      <td>...</td>\n",
       "      <td>...</td>\n",
       "      <td>...</td>\n",
       "      <td>...</td>\n",
       "      <td>...</td>\n",
       "      <td>...</td>\n",
       "      <td>...</td>\n",
       "      <td>...</td>\n",
       "    </tr>\n",
       "    <tr>\n",
       "      <th>76470</th>\n",
       "      <td>08-03-2023</td>\n",
       "      <td>13.0</td>\n",
       "      <td>89.07</td>\n",
       "      <td>187.55</td>\n",
       "      <td>128.94</td>\n",
       "      <td>107.15</td>\n",
       "      <td>163.90</td>\n",
       "      <td>173.35</td>\n",
       "      <td>50.83</td>\n",
       "      <td>0.00</td>\n",
       "      <td>165.0</td>\n",
       "    </tr>\n",
       "    <tr>\n",
       "      <th>76471</th>\n",
       "      <td>08-03-2023</td>\n",
       "      <td>13.0</td>\n",
       "      <td>93.35</td>\n",
       "      <td>177.91</td>\n",
       "      <td>96.45</td>\n",
       "      <td>105.15</td>\n",
       "      <td>128.26</td>\n",
       "      <td>148.24</td>\n",
       "      <td>43.74</td>\n",
       "      <td>0.00</td>\n",
       "      <td>150.0</td>\n",
       "    </tr>\n",
       "    <tr>\n",
       "      <th>76472</th>\n",
       "      <td>08-03-2023</td>\n",
       "      <td>14.0</td>\n",
       "      <td>95.64</td>\n",
       "      <td>177.82</td>\n",
       "      <td>118.26</td>\n",
       "      <td>158.14</td>\n",
       "      <td>177.40</td>\n",
       "      <td>179.00</td>\n",
       "      <td>40.37</td>\n",
       "      <td>0.00</td>\n",
       "      <td>192.0</td>\n",
       "    </tr>\n",
       "    <tr>\n",
       "      <th>76473</th>\n",
       "      <td>08-03-2023</td>\n",
       "      <td>14.0</td>\n",
       "      <td>101.09</td>\n",
       "      <td>175.04</td>\n",
       "      <td>105.69</td>\n",
       "      <td>149.00</td>\n",
       "      <td>163.99</td>\n",
       "      <td>155.00</td>\n",
       "      <td>40.38</td>\n",
       "      <td>0.00</td>\n",
       "      <td>51.0</td>\n",
       "    </tr>\n",
       "    <tr>\n",
       "      <th>76474</th>\n",
       "      <td>08-03-2023</td>\n",
       "      <td>14.0</td>\n",
       "      <td>92.99</td>\n",
       "      <td>196.95</td>\n",
       "      <td>101.40</td>\n",
       "      <td>159.51</td>\n",
       "      <td>164.63</td>\n",
       "      <td>171.00</td>\n",
       "      <td>42.69</td>\n",
       "      <td>0.00</td>\n",
       "      <td>166.0</td>\n",
       "    </tr>\n",
       "  </tbody>\n",
       "</table>\n",
       "<p>76475 rows × 11 columns</p>\n",
       "</div>"
      ],
      "text/plain": [
       "             Date  Hours   PM2.5    PM10      NO     NO2     NOx     NH3  \\\n",
       "0      01-01-2021    0.0  147.26  175.93   16.23   61.72   45.30   79.76   \n",
       "1      01-01-2021    0.0  145.37  173.96   16.88   61.50   45.75   79.01   \n",
       "2      01-01-2021    0.0  156.71  186.12   22.71   62.99   51.15   84.96   \n",
       "3      01-01-2021    0.0  171.18  205.41   16.55   59.13   44.19   77.83   \n",
       "4      01-01-2021    1.0  183.17  219.31   20.39   59.87   47.66   81.63   \n",
       "...           ...    ...     ...     ...     ...     ...     ...     ...   \n",
       "76470  08-03-2023   13.0   89.07  187.55  128.94  107.15  163.90  173.35   \n",
       "76471  08-03-2023   13.0   93.35  177.91   96.45  105.15  128.26  148.24   \n",
       "76472  08-03-2023   14.0   95.64  177.82  118.26  158.14  177.40  179.00   \n",
       "76473  08-03-2023   14.0  101.09  175.04  105.69  149.00  163.99  155.00   \n",
       "76474  08-03-2023   14.0   92.99  196.95  101.40  159.51  164.63  171.00   \n",
       "\n",
       "         SO2    CO  Ozone  \n",
       "0       4.68  1.38   13.0  \n",
       "1      18.49  1.38   15.0  \n",
       "2      17.62  1.27   10.0  \n",
       "3      18.14  1.23   12.0  \n",
       "4      18.69  1.24   14.0  \n",
       "...      ...   ...    ...  \n",
       "76470  50.83  0.00  165.0  \n",
       "76471  43.74  0.00  150.0  \n",
       "76472  40.37  0.00  192.0  \n",
       "76473  40.38  0.00   51.0  \n",
       "76474  42.69  0.00  166.0  \n",
       "\n",
       "[76475 rows x 11 columns]"
      ]
     },
     "execution_count": 23,
     "metadata": {},
     "output_type": "execute_result"
    }
   ],
   "source": [
    "important_features_df"
   ]
  },
  {
   "cell_type": "code",
   "execution_count": 24,
   "id": "35b3eedb",
   "metadata": {},
   "outputs": [
    {
     "name": "stderr",
     "output_type": "stream",
     "text": [
      "<ipython-input-24-bbcace53d05d>:2: UserWarning: Parsing dates in DD/MM/YYYY format when dayfirst=False (the default) was specified. This may lead to inconsistently parsed dates! Specify a format to ensure consistent parsing.\n",
      "  important_features_df['Date'] = pd.to_datetime(important_features_df.Date, infer_datetime_format = True)\n"
     ]
    }
   ],
   "source": [
    "#Converting to date time format\n",
    "important_features_df['Date'] = pd.to_datetime(important_features_df.Date, infer_datetime_format = True)"
   ]
  },
  {
   "cell_type": "code",
   "execution_count": 25,
   "id": "16dcfdd2",
   "metadata": {},
   "outputs": [],
   "source": [
    "important_features_df.set_index('Date', inplace=True)"
   ]
  },
  {
   "cell_type": "code",
   "execution_count": 26,
   "id": "3a29b384",
   "metadata": {},
   "outputs": [
    {
     "data": {
      "text/html": [
       "<div>\n",
       "<style scoped>\n",
       "    .dataframe tbody tr th:only-of-type {\n",
       "        vertical-align: middle;\n",
       "    }\n",
       "\n",
       "    .dataframe tbody tr th {\n",
       "        vertical-align: top;\n",
       "    }\n",
       "\n",
       "    .dataframe thead th {\n",
       "        text-align: right;\n",
       "    }\n",
       "</style>\n",
       "<table border=\"1\" class=\"dataframe\">\n",
       "  <thead>\n",
       "    <tr style=\"text-align: right;\">\n",
       "      <th></th>\n",
       "      <th>Hours</th>\n",
       "      <th>PM2.5</th>\n",
       "      <th>PM10</th>\n",
       "      <th>NO</th>\n",
       "      <th>NO2</th>\n",
       "      <th>NOx</th>\n",
       "      <th>NH3</th>\n",
       "      <th>SO2</th>\n",
       "      <th>CO</th>\n",
       "      <th>Ozone</th>\n",
       "    </tr>\n",
       "    <tr>\n",
       "      <th>Date</th>\n",
       "      <th></th>\n",
       "      <th></th>\n",
       "      <th></th>\n",
       "      <th></th>\n",
       "      <th></th>\n",
       "      <th></th>\n",
       "      <th></th>\n",
       "      <th></th>\n",
       "      <th></th>\n",
       "      <th></th>\n",
       "    </tr>\n",
       "  </thead>\n",
       "  <tbody>\n",
       "    <tr>\n",
       "      <th>2021-01-01</th>\n",
       "      <td>0.0</td>\n",
       "      <td>147.26</td>\n",
       "      <td>175.93</td>\n",
       "      <td>16.23</td>\n",
       "      <td>61.72</td>\n",
       "      <td>45.30</td>\n",
       "      <td>79.76</td>\n",
       "      <td>4.68</td>\n",
       "      <td>1.38</td>\n",
       "      <td>13.0</td>\n",
       "    </tr>\n",
       "    <tr>\n",
       "      <th>2021-01-01</th>\n",
       "      <td>0.0</td>\n",
       "      <td>145.37</td>\n",
       "      <td>173.96</td>\n",
       "      <td>16.88</td>\n",
       "      <td>61.50</td>\n",
       "      <td>45.75</td>\n",
       "      <td>79.01</td>\n",
       "      <td>18.49</td>\n",
       "      <td>1.38</td>\n",
       "      <td>15.0</td>\n",
       "    </tr>\n",
       "    <tr>\n",
       "      <th>2021-01-01</th>\n",
       "      <td>0.0</td>\n",
       "      <td>156.71</td>\n",
       "      <td>186.12</td>\n",
       "      <td>22.71</td>\n",
       "      <td>62.99</td>\n",
       "      <td>51.15</td>\n",
       "      <td>84.96</td>\n",
       "      <td>17.62</td>\n",
       "      <td>1.27</td>\n",
       "      <td>10.0</td>\n",
       "    </tr>\n",
       "    <tr>\n",
       "      <th>2021-01-01</th>\n",
       "      <td>0.0</td>\n",
       "      <td>171.18</td>\n",
       "      <td>205.41</td>\n",
       "      <td>16.55</td>\n",
       "      <td>59.13</td>\n",
       "      <td>44.19</td>\n",
       "      <td>77.83</td>\n",
       "      <td>18.14</td>\n",
       "      <td>1.23</td>\n",
       "      <td>12.0</td>\n",
       "    </tr>\n",
       "    <tr>\n",
       "      <th>2021-01-01</th>\n",
       "      <td>1.0</td>\n",
       "      <td>183.17</td>\n",
       "      <td>219.31</td>\n",
       "      <td>20.39</td>\n",
       "      <td>59.87</td>\n",
       "      <td>47.66</td>\n",
       "      <td>81.63</td>\n",
       "      <td>18.69</td>\n",
       "      <td>1.24</td>\n",
       "      <td>14.0</td>\n",
       "    </tr>\n",
       "  </tbody>\n",
       "</table>\n",
       "</div>"
      ],
      "text/plain": [
       "            Hours   PM2.5    PM10     NO    NO2    NOx    NH3    SO2    CO  \\\n",
       "Date                                                                         \n",
       "2021-01-01    0.0  147.26  175.93  16.23  61.72  45.30  79.76   4.68  1.38   \n",
       "2021-01-01    0.0  145.37  173.96  16.88  61.50  45.75  79.01  18.49  1.38   \n",
       "2021-01-01    0.0  156.71  186.12  22.71  62.99  51.15  84.96  17.62  1.27   \n",
       "2021-01-01    0.0  171.18  205.41  16.55  59.13  44.19  77.83  18.14  1.23   \n",
       "2021-01-01    1.0  183.17  219.31  20.39  59.87  47.66  81.63  18.69  1.24   \n",
       "\n",
       "            Ozone  \n",
       "Date               \n",
       "2021-01-01   13.0  \n",
       "2021-01-01   15.0  \n",
       "2021-01-01   10.0  \n",
       "2021-01-01   12.0  \n",
       "2021-01-01   14.0  "
      ]
     },
     "execution_count": 26,
     "metadata": {},
     "output_type": "execute_result"
    }
   ],
   "source": [
    "important_features_df.head()"
   ]
  },
  {
   "cell_type": "markdown",
   "id": "6df440ec",
   "metadata": {},
   "source": [
    "**BOXPLOT FOR INDIVIDUAL FEATURES**"
   ]
  },
  {
   "cell_type": "code",
   "execution_count": 27,
   "id": "b0a7ef4b",
   "metadata": {},
   "outputs": [
    {
     "data": {
      "image/png": "[encoded data removed]",
      "text/plain": [
       "<Figure size 432x288 with 1 Axes>"
      ]
     },
     "metadata": {},
     "output_type": "display_data"
    },
    {
     "data": {
      "image/png": "[encoded data removed]",
      "text/plain": [
       "<Figure size 432x288 with 1 Axes>"
      ]
     },
     "metadata": {},
     "output_type": "display_data"
    },
    {
     "data": {
      "image/png": "[encoded data removed]",
      "text/plain": [
       "<Figure size 432x288 with 1 Axes>"
      ]
     },
     "metadata": {},
     "output_type": "display_data"
    },
    {
     "data": {
      "image/png": "[encoded data removed]",
      "text/plain": [
       "<Figure size 432x288 with 1 Axes>"
      ]
     },
     "metadata": {},
     "output_type": "display_data"
    },
    {
     "data": {
      "image/png": "[encoded data removed]",
      "text/plain": [
       "<Figure size 432x288 with 1 Axes>"
      ]
     },
     "metadata": {},
     "output_type": "display_data"
    },
    {
     "data": {
      "image/png": "[encoded data removed]",
      "text/plain": [
       "<Figure size 432x288 with 1 Axes>"
      ]
     },
     "metadata": {},
     "output_type": "display_data"
    },
    {
     "data": {
      "image/png": "[encoded data removed]",
      "text/plain": [
       "<Figure size 432x288 with 1 Axes>"
      ]
     },
     "metadata": {},
     "output_type": "display_data"
    },
    {
     "data": {
      "image/png": "[encoded data removed]",
      "text/plain": [
       "<Figure size 432x288 with 1 Axes>"
      ]
     },
     "metadata": {},
     "output_type": "display_data"
    },
    {
     "data": {
      "image/png": "[encoded data removed]",
      "text/plain": [
       "<Figure size 432x288 with 1 Axes>"
      ]
     },
     "metadata": {},
     "output_type": "display_data"
    }
   ],
   "source": [
    "sns.set_theme(style=\"whitegrid\")\n",
    "\n",
    "for i in important_features_df.columns[1:10]:\n",
    "    sns.boxplot(x=important_features_df[i])\n",
    "    plt.title('Boxplot of the sensors data')\n",
    "    plt.show()"
   ]
  },
  {
   "cell_type": "code",
   "execution_count": 28,
   "id": "9baefff5",
   "metadata": {},
   "outputs": [
    {
     "data": {
      "text/plain": [
       "Index(['PM2.5', 'PM10', 'NO', 'NO2', 'NOx', 'NH3', 'SO2', 'CO', 'Ozone'], dtype='object')"
      ]
     },
     "execution_count": 28,
     "metadata": {},
     "output_type": "execute_result"
    }
   ],
   "source": [
    "important_features_df.columns[1:10]"
   ]
  },
  {
   "cell_type": "markdown",
   "id": "edad0db6",
   "metadata": {},
   "source": [
    "**CHECKING FOR OUTLIERS USING IQR METHOD AND VISUALIZING THE DATA DISTRIBUTION**"
   ]
  },
  {
   "cell_type": "code",
   "execution_count": 29,
   "id": "97c286dc",
   "metadata": {},
   "outputs": [],
   "source": [
    "def outlierAndVisualization(data,col):\n",
    "    print('*'*50)\n",
    "    print(col)\n",
    "    q1 = data[col].quantile(0.25)\n",
    "    q3 = data[col].quantile(0.75)\n",
    "    lower_lim = q1 - (q3-q1)*1.5\n",
    "    upper_lim = q3 + (q3-q1)*1.5\n",
    "    print('Lower limit: {}'.format(lower_lim))\n",
    "    print('Upper limit: {}'.format(upper_lim))\n",
    "    lower_vals = len(data[data[col] < lower_lim])\n",
    "    upper_vals = len(data[data[col] > upper_lim])\n",
    "    print('Values less than lower limit and more than upper limit: {}'.format(lower_vals+upper_vals))\n",
    "    print('%age of above number: {}'.format(round((lower_vals+upper_vals)/len(data[col])*100,2)))\n",
    "    plt.hist(data[col])\n",
    "    plt.xlabel(col)\n",
    "    plt.show()"
   ]
  },
  {
   "cell_type": "code",
   "execution_count": 30,
   "id": "56415ec2",
   "metadata": {},
   "outputs": [
    {
     "name": "stdout",
     "output_type": "stream",
     "text": [
      "**************************************************\n",
      "PM2.5\n",
      "Lower limit: -64.51000000000002\n",
      "Upper limit: 177.57000000000002\n",
      "Values less than lower limit and more than upper limit: 3128\n",
      "%age of above number: 4.09\n"
     ]
    },
    {
     "data": {
      "image/png": "[encoded data removed]",
      "text/plain": [
       "<Figure size 432x288 with 1 Axes>"
      ]
     },
     "metadata": {},
     "output_type": "display_data"
    },
    {
     "name": "stdout",
     "output_type": "stream",
     "text": [
      "**************************************************\n",
      "PM10\n",
      "Lower limit: -128.64999999999995\n",
      "Upper limit: 391.30999999999995\n",
      "Values less than lower limit and more than upper limit: 1408\n",
      "%age of above number: 1.84\n"
     ]
    },
    {
     "data": {
      "image/png": "[encoded data removed]",
      "text/plain": [
       "<Figure size 432x288 with 1 Axes>"
      ]
     },
     "metadata": {},
     "output_type": "display_data"
    },
    {
     "name": "stdout",
     "output_type": "stream",
     "text": [
      "**************************************************\n",
      "NO\n",
      "Lower limit: -63.864999999999995\n",
      "Upper limit: 118.815\n",
      "Values less than lower limit and more than upper limit: 2734\n",
      "%age of above number: 3.58\n"
     ]
    },
    {
     "data": {
      "image/png": "[encoded data removed]",
      "text/plain": [
       "<Figure size 432x288 with 1 Axes>"
      ]
     },
     "metadata": {},
     "output_type": "display_data"
    },
    {
     "name": "stdout",
     "output_type": "stream",
     "text": [
      "**************************************************\n",
      "NO2\n",
      "Lower limit: -112.0875\n",
      "Upper limit: 202.4125\n",
      "Values less than lower limit and more than upper limit: 2803\n",
      "%age of above number: 3.67\n"
     ]
    },
    {
     "data": {
      "image/png": "[encoded data removed]",
      "text/plain": [
       "<Figure size 432x288 with 1 Axes>"
      ]
     },
     "metadata": {},
     "output_type": "display_data"
    },
    {
     "name": "stdout",
     "output_type": "stream",
     "text": [
      "**************************************************\n",
      "NOx\n",
      "Lower limit: -115.42999999999998\n",
      "Upper limit: 218.48999999999998\n",
      "Values less than lower limit and more than upper limit: 1501\n",
      "%age of above number: 1.96\n"
     ]
    },
    {
     "data": {
      "image/png": "[encoded data removed]",
      "text/plain": [
       "<Figure size 432x288 with 1 Axes>"
      ]
     },
     "metadata": {},
     "output_type": "display_data"
    },
    {
     "name": "stdout",
     "output_type": "stream",
     "text": [
      "**************************************************\n",
      "NH3\n",
      "Lower limit: -117.30000000000001\n",
      "Upper limit: 219.5\n",
      "Values less than lower limit and more than upper limit: 3030\n",
      "%age of above number: 3.96\n"
     ]
    },
    {
     "data": {
      "image/png": "[encoded data removed]",
      "text/plain": [
       "<Figure size 432x288 with 1 Axes>"
      ]
     },
     "metadata": {},
     "output_type": "display_data"
    },
    {
     "name": "stdout",
     "output_type": "stream",
     "text": [
      "**************************************************\n",
      "SO2\n",
      "Lower limit: -20.648750000000007\n",
      "Upper limit: 47.46125000000001\n",
      "Values less than lower limit and more than upper limit: 2646\n",
      "%age of above number: 3.46\n"
     ]
    },
    {
     "data": {
      "image/png": "[encoded data removed]",
      "text/plain": [
       "<Figure size 432x288 with 1 Axes>"
      ]
     },
     "metadata": {},
     "output_type": "display_data"
    },
    {
     "name": "stdout",
     "output_type": "stream",
     "text": [
      "**************************************************\n",
      "CO\n",
      "Lower limit: -2.0\n",
      "Upper limit: 4.0\n",
      "Values less than lower limit and more than upper limit: 2372\n",
      "%age of above number: 3.1\n"
     ]
    },
    {
     "data": {
      "image/png": "[encoded data removed]",
      "text/plain": [
       "<Figure size 432x288 with 1 Axes>"
      ]
     },
     "metadata": {},
     "output_type": "display_data"
    },
    {
     "name": "stdout",
     "output_type": "stream",
     "text": [
      "**************************************************\n",
      "Ozone\n",
      "Lower limit: -24.0\n",
      "Upper limit: 56.0\n",
      "Values less than lower limit and more than upper limit: 3368\n",
      "%age of above number: 4.4\n"
     ]
    },
    {
     "data": {
      "image/png": "[encoded data removed]",
      "text/plain": [
       "<Figure size 432x288 with 1 Axes>"
      ]
     },
     "metadata": {},
     "output_type": "display_data"
    }
   ],
   "source": [
    "#Performing IQR and distribution visualization on original dataset\n",
    "\n",
    "for x in important_features_df.columns[1:10]:\n",
    "    outlierAndVisualization(important_features_df,x)"
   ]
  },
  {
   "cell_type": "markdown",
   "id": "29aaff0a",
   "metadata": {},
   "source": [
    "**USING ITERATIVE IMPUTER TO FILL MISSING VALUES**\n",
    "\n",
    "* Performing the missing values inputation using Random Forest, bayesian Ridge and KNN Imputer"
   ]
  },
  {
   "cell_type": "code",
   "execution_count": 31,
   "id": "3cb05861",
   "metadata": {},
   "outputs": [],
   "source": [
    "from sklearn.experimental import enable_iterative_imputer\n",
    "from sklearn.impute import IterativeImputer, KNNImputer\n",
    "from sklearn.ensemble import RandomForestRegressor\n",
    "from sklearn import linear_model"
   ]
  },
  {
   "cell_type": "code",
   "execution_count": 32,
   "id": "0dac9950",
   "metadata": {},
   "outputs": [
    {
     "data": {
      "text/plain": [
       "Hours    0\n",
       "PM2.5    0\n",
       "PM10     0\n",
       "NO       0\n",
       "NO2      0\n",
       "NOx      0\n",
       "NH3      0\n",
       "SO2      0\n",
       "CO       0\n",
       "Ozone    0\n",
       "dtype: int64"
      ]
     },
     "execution_count": 32,
     "metadata": {},
     "output_type": "execute_result"
    }
   ],
   "source": [
    "#Random Forest Imputer\n",
    "#RF_imputer = IterativeImputer(estimator=RandomForestRegressor(n_estimators=4,max_depth=10,bootstrap=True,max_samples=0.5,n_jobs=2,random_state=0))\n",
    "#important_features_df_imputed = pd.DataFrame(RF_imputer.fit_transform(important_features_df), columns=important_features_df.columns, index=important_features_df.index)\n",
    "\n",
    "#Linear Model - bayesian Riger Imputer\n",
    "#LM_imputer = IterativeImputer(estimator=linear_model.BayesianRidge(), n_nearest_features=None, imputation_order='ascending')\n",
    "#important_features_df_imputed = pd.DataFrame(LM_imputer.fit_transform(important_features_df), columns=important_features_df.columns, index=important_features_df.index)\n",
    "\n",
    "#KNN imputer\n",
    "KNN_imputer= KNNImputer(missing_values=np.nan, n_neighbors=5, weights='uniform')\n",
    "important_features_df_imputed = pd.DataFrame(KNN_imputer.fit_transform(important_features_df), columns=important_features_df.columns, index=important_features_df.index)\n",
    "\n",
    "\n",
    "important_features_df_imputed.isnull().sum()"
   ]
  },
  {
   "cell_type": "code",
   "execution_count": 33,
   "id": "24756b3b",
   "metadata": {},
   "outputs": [
    {
     "ename": "NameError",
     "evalue": "name 'checkOutliers' is not defined",
     "output_type": "error",
     "traceback": [
      "\u001b[0;31m---------------------------------------------------------------------------\u001b[0m",
      "\u001b[0;31mNameError\u001b[0m                                 Traceback (most recent call last)",
      "\u001b[0;32m<ipython-input-33-aa9a82c1f126>\u001b[0m in \u001b[0;36m<module>\u001b[0;34m\u001b[0m\n\u001b[1;32m      2\u001b[0m \u001b[0;34m\u001b[0m\u001b[0m\n\u001b[1;32m      3\u001b[0m \u001b[0;32mfor\u001b[0m \u001b[0mx\u001b[0m \u001b[0;32min\u001b[0m \u001b[0mimportant_features_df_imputed\u001b[0m\u001b[0;34m.\u001b[0m\u001b[0mcolumns\u001b[0m\u001b[0;34m[\u001b[0m\u001b[0;36m1\u001b[0m\u001b[0;34m:\u001b[0m\u001b[0;36m10\u001b[0m\u001b[0;34m]\u001b[0m\u001b[0;34m:\u001b[0m\u001b[0;34m\u001b[0m\u001b[0;34m\u001b[0m\u001b[0m\n\u001b[0;32m----> 4\u001b[0;31m     \u001b[0mcheckOutliers\u001b[0m\u001b[0;34m(\u001b[0m\u001b[0mimportant_features_df_imputed\u001b[0m\u001b[0;34m,\u001b[0m\u001b[0mx\u001b[0m\u001b[0;34m)\u001b[0m\u001b[0;34m\u001b[0m\u001b[0;34m\u001b[0m\u001b[0m\n\u001b[0m",
      "\u001b[0;31mNameError\u001b[0m: name 'checkOutliers' is not defined"
     ]
    }
   ],
   "source": [
    "#Performing IQR and distribution visualization on imputed\n",
    "\n",
    "for x in important_features_df_imputed.columns[1:10]:\n",
    "    checkOutliers(important_features_df_imputed,x)"
   ]
  },
  {
   "cell_type": "markdown",
   "id": "ccd86bbf",
   "metadata": {},
   "source": [
    "**TO DO**\n",
    "* Check which imputation method performs accurate\n",
    "* Do we require any manual imputation based on previous data\n",
    "* Analyse the dataset for more info on missing values and check for patterns"
   ]
  },
  {
   "cell_type": "code",
   "execution_count": null,
   "id": "7fb0e14f",
   "metadata": {},
   "outputs": [],
   "source": []
  }
 ],
 "metadata": {
  "kernelspec": {
   "display_name": "Python 3",
   "language": "python",
   "name": "python3"
  },
  "language_info": {
   "codemirror_mode": {
    "name": "ipython",
    "version": 3
   },
   "file_extension": ".py",
   "mimetype": "text/x-python",
   "name": "python",
   "nbconvert_exporter": "python",
   "pygments_lexer": "ipython3",
   "version": "3.8.8"
  }
 },
 "nbformat": 4,
 "nbformat_minor": 5
}
