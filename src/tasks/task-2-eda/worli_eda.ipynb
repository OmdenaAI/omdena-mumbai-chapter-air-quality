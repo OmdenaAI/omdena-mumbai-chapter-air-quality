{
 "cells": [
  {
   "attachments": {},
   "cell_type": "markdown",
   "metadata": {},
   "source": [
    "Data Preparation For Worli,Mumbai "
   ]
  },
  {
   "cell_type": "code",
   "execution_count": 1,
   "metadata": {},
   "outputs": [],
   "source": [
    "import pandas as pd\n",
    "import matplotlib.pyplot as plt\n",
    "import numpy as np\n",
    "import seaborn as sns"
   ]
  },
  {
   "cell_type": "code",
   "execution_count": 2,
   "metadata": {},
   "outputs": [],
   "source": [
    "df = pd.read_csv('C:/Users/Benedict/Desktop/omdena-mumbai-chapter-air-quality/src/data/WorliMumbaiMPCB.csv')"
   ]
  },
  {
   "cell_type": "code",
   "execution_count": 3,
   "metadata": {},
   "outputs": [
    {
     "name": "stdout",
     "output_type": "stream",
     "text": [
      "The dataset has 76321 rows and 23 columns\n"
     ]
    }
   ],
   "source": [
    "print(f'The dataset has {df.shape[0]} rows and {df.shape[1]} columns')\n"
   ]
  },
  {
   "cell_type": "code",
   "execution_count": 4,
   "metadata": {},
   "outputs": [
    {
     "data": {
      "text/html": [
       "<div>\n",
       "<style scoped>\n",
       "    .dataframe tbody tr th:only-of-type {\n",
       "        vertical-align: middle;\n",
       "    }\n",
       "\n",
       "    .dataframe tbody tr th {\n",
       "        vertical-align: top;\n",
       "    }\n",
       "\n",
       "    .dataframe thead th {\n",
       "        text-align: right;\n",
       "    }\n",
       "</style>\n",
       "<table border=\"1\" class=\"dataframe\">\n",
       "  <thead>\n",
       "    <tr style=\"text-align: right;\">\n",
       "      <th></th>\n",
       "      <th>Unnamed: 0</th>\n",
       "      <th>From Date</th>\n",
       "      <th>To Date</th>\n",
       "      <th>PM2.5</th>\n",
       "      <th>PM10</th>\n",
       "      <th>NO</th>\n",
       "      <th>NO2</th>\n",
       "      <th>NOx</th>\n",
       "      <th>NH3</th>\n",
       "      <th>SO2</th>\n",
       "      <th>...</th>\n",
       "      <th>Toluene</th>\n",
       "      <th>Eth-Benzene</th>\n",
       "      <th>MP-Xylene</th>\n",
       "      <th>RH</th>\n",
       "      <th>WS</th>\n",
       "      <th>WD</th>\n",
       "      <th>BP</th>\n",
       "      <th>AT</th>\n",
       "      <th>TOT-RF</th>\n",
       "      <th>Unnamed: 22</th>\n",
       "    </tr>\n",
       "  </thead>\n",
       "  <tbody>\n",
       "    <tr>\n",
       "      <th>0</th>\n",
       "      <td>1</td>\n",
       "      <td>01-01-2021 00:00</td>\n",
       "      <td>01-01-2021 00:15</td>\n",
       "      <td>153</td>\n",
       "      <td>208.31</td>\n",
       "      <td>7.6</td>\n",
       "      <td>34.82</td>\n",
       "      <td>42.42</td>\n",
       "      <td>20.51</td>\n",
       "      <td>18.2</td>\n",
       "      <td>...</td>\n",
       "      <td>None</td>\n",
       "      <td>6.84</td>\n",
       "      <td>31.01</td>\n",
       "      <td>86.38</td>\n",
       "      <td>0.56</td>\n",
       "      <td>230.78</td>\n",
       "      <td>None</td>\n",
       "      <td>23.67</td>\n",
       "      <td>0</td>\n",
       "      <td>NaN</td>\n",
       "    </tr>\n",
       "    <tr>\n",
       "      <th>1</th>\n",
       "      <td>2</td>\n",
       "      <td>01-01-2021 00:15</td>\n",
       "      <td>01-01-2021 00:30</td>\n",
       "      <td>153</td>\n",
       "      <td>212</td>\n",
       "      <td>7.94</td>\n",
       "      <td>34.18</td>\n",
       "      <td>42.12</td>\n",
       "      <td>19.82</td>\n",
       "      <td>18.01</td>\n",
       "      <td>...</td>\n",
       "      <td>None</td>\n",
       "      <td>39.88</td>\n",
       "      <td>3.72</td>\n",
       "      <td>86.83</td>\n",
       "      <td>0.69</td>\n",
       "      <td>255.87</td>\n",
       "      <td>None</td>\n",
       "      <td>23.65</td>\n",
       "      <td>0</td>\n",
       "      <td>NaN</td>\n",
       "    </tr>\n",
       "  </tbody>\n",
       "</table>\n",
       "<p>2 rows × 23 columns</p>\n",
       "</div>"
      ],
      "text/plain": [
       "   Unnamed: 0         From Date           To Date PM2.5    PM10    NO    NO2  \\\n",
       "0           1  01-01-2021 00:00  01-01-2021 00:15   153  208.31   7.6  34.82   \n",
       "1           2  01-01-2021 00:15  01-01-2021 00:30   153     212  7.94  34.18   \n",
       "\n",
       "     NOx    NH3    SO2  ... Toluene Eth-Benzene MP-Xylene     RH    WS  \\\n",
       "0  42.42  20.51   18.2  ...    None        6.84     31.01  86.38  0.56   \n",
       "1  42.12  19.82  18.01  ...    None       39.88      3.72  86.83  0.69   \n",
       "\n",
       "       WD    BP     AT TOT-RF Unnamed: 22  \n",
       "0  230.78  None  23.67      0         NaN  \n",
       "1  255.87  None  23.65      0         NaN  \n",
       "\n",
       "[2 rows x 23 columns]"
      ]
     },
     "execution_count": 4,
     "metadata": {},
     "output_type": "execute_result"
    }
   ],
   "source": [
    "df.head(2)"
   ]
  },
  {
   "cell_type": "code",
   "execution_count": 5,
   "metadata": {},
   "outputs": [
    {
     "data": {
      "text/plain": [
       "Index(['Unnamed: 0', 'From Date', 'To Date', 'PM2.5', 'PM10', 'NO', 'NO2',\n",
       "       'NOx', 'NH3', 'SO2', 'CO', 'Ozone', 'Benzene', 'Toluene', 'Eth-Benzene',\n",
       "       'MP-Xylene', 'RH', 'WS', 'WD', 'BP', 'AT', 'TOT-RF', 'Unnamed: 22'],\n",
       "      dtype='object')"
      ]
     },
     "execution_count": 5,
     "metadata": {},
     "output_type": "execute_result"
    }
   ],
   "source": [
    "df.columns"
   ]
  },
  {
   "cell_type": "code",
   "execution_count": 6,
   "metadata": {},
   "outputs": [],
   "source": [
    "df = df[['To Date', 'PM2.5', 'PM10', 'NO', 'NO2',\n",
    "       'NOx', 'NH3', 'SO2', 'CO', 'Ozone', 'Benzene', 'Toluene', 'Eth-Benzene',\n",
    "       'MP-Xylene', 'RH', 'WS', 'WD', 'BP', 'AT','TOT-RF']]"
   ]
  },
  {
   "attachments": {},
   "cell_type": "markdown",
   "metadata": {},
   "source": [
    "Made changes to columns ;\n",
    "- The time interval for the date was just 15 seconds and the interval is not that huge to make changes to the values\n",
    "- Unnamed : 0 is a column that contains the index\n",
    "- Unnamed : 25  contains a lot of null values and the description of the data is not clear,\n",
    "- We already have our required columns and the others are just features that can help contribute to the results gained for aqi"
   ]
  },
  {
   "cell_type": "code",
   "execution_count": 7,
   "metadata": {},
   "outputs": [
    {
     "data": {
      "text/html": [
       "<div>\n",
       "<style scoped>\n",
       "    .dataframe tbody tr th:only-of-type {\n",
       "        vertical-align: middle;\n",
       "    }\n",
       "\n",
       "    .dataframe tbody tr th {\n",
       "        vertical-align: top;\n",
       "    }\n",
       "\n",
       "    .dataframe thead th {\n",
       "        text-align: right;\n",
       "    }\n",
       "</style>\n",
       "<table border=\"1\" class=\"dataframe\">\n",
       "  <thead>\n",
       "    <tr style=\"text-align: right;\">\n",
       "      <th></th>\n",
       "      <th>To Date</th>\n",
       "      <th>PM2.5</th>\n",
       "      <th>PM10</th>\n",
       "      <th>NO</th>\n",
       "      <th>NO2</th>\n",
       "      <th>NOx</th>\n",
       "      <th>NH3</th>\n",
       "      <th>SO2</th>\n",
       "      <th>CO</th>\n",
       "      <th>Ozone</th>\n",
       "      <th>Benzene</th>\n",
       "      <th>Toluene</th>\n",
       "      <th>Eth-Benzene</th>\n",
       "      <th>MP-Xylene</th>\n",
       "      <th>RH</th>\n",
       "      <th>WS</th>\n",
       "      <th>WD</th>\n",
       "      <th>BP</th>\n",
       "      <th>AT</th>\n",
       "      <th>TOT-RF</th>\n",
       "    </tr>\n",
       "  </thead>\n",
       "  <tbody>\n",
       "    <tr>\n",
       "      <th>0</th>\n",
       "      <td>01-01-2021 00:15</td>\n",
       "      <td>153</td>\n",
       "      <td>208.31</td>\n",
       "      <td>7.6</td>\n",
       "      <td>34.82</td>\n",
       "      <td>42.42</td>\n",
       "      <td>20.51</td>\n",
       "      <td>18.2</td>\n",
       "      <td>0.9</td>\n",
       "      <td>0.87</td>\n",
       "      <td>0</td>\n",
       "      <td>None</td>\n",
       "      <td>6.84</td>\n",
       "      <td>31.01</td>\n",
       "      <td>86.38</td>\n",
       "      <td>0.56</td>\n",
       "      <td>230.78</td>\n",
       "      <td>None</td>\n",
       "      <td>23.67</td>\n",
       "      <td>0</td>\n",
       "    </tr>\n",
       "    <tr>\n",
       "      <th>1</th>\n",
       "      <td>01-01-2021 00:30</td>\n",
       "      <td>153</td>\n",
       "      <td>212</td>\n",
       "      <td>7.94</td>\n",
       "      <td>34.18</td>\n",
       "      <td>42.12</td>\n",
       "      <td>19.82</td>\n",
       "      <td>18.01</td>\n",
       "      <td>0.89</td>\n",
       "      <td>0.8</td>\n",
       "      <td>0.06</td>\n",
       "      <td>None</td>\n",
       "      <td>39.88</td>\n",
       "      <td>3.72</td>\n",
       "      <td>86.83</td>\n",
       "      <td>0.69</td>\n",
       "      <td>255.87</td>\n",
       "      <td>None</td>\n",
       "      <td>23.65</td>\n",
       "      <td>0</td>\n",
       "    </tr>\n",
       "    <tr>\n",
       "      <th>2</th>\n",
       "      <td>01-01-2021 00:45</td>\n",
       "      <td>153</td>\n",
       "      <td>212</td>\n",
       "      <td>7.75</td>\n",
       "      <td>30.37</td>\n",
       "      <td>38.12</td>\n",
       "      <td>19.88</td>\n",
       "      <td>18.21</td>\n",
       "      <td>0.89</td>\n",
       "      <td>0.94</td>\n",
       "      <td>2.75</td>\n",
       "      <td>None</td>\n",
       "      <td>33.42</td>\n",
       "      <td>109.14</td>\n",
       "      <td>86.86</td>\n",
       "      <td>0.9</td>\n",
       "      <td>259.7</td>\n",
       "      <td>None</td>\n",
       "      <td>23.6</td>\n",
       "      <td>0</td>\n",
       "    </tr>\n",
       "    <tr>\n",
       "      <th>3</th>\n",
       "      <td>01-01-2021 01:00</td>\n",
       "      <td>None</td>\n",
       "      <td>212</td>\n",
       "      <td>7.63</td>\n",
       "      <td>28.81</td>\n",
       "      <td>36.45</td>\n",
       "      <td>20.1</td>\n",
       "      <td>18.16</td>\n",
       "      <td>0.88</td>\n",
       "      <td>0.95</td>\n",
       "      <td>0</td>\n",
       "      <td>None</td>\n",
       "      <td>0.42</td>\n",
       "      <td>36.88</td>\n",
       "      <td>86.85</td>\n",
       "      <td>0.58</td>\n",
       "      <td>257.98</td>\n",
       "      <td>None</td>\n",
       "      <td>23.5</td>\n",
       "      <td>0</td>\n",
       "    </tr>\n",
       "    <tr>\n",
       "      <th>4</th>\n",
       "      <td>01-01-2021 01:15</td>\n",
       "      <td>None</td>\n",
       "      <td>None</td>\n",
       "      <td>None</td>\n",
       "      <td>None</td>\n",
       "      <td>None</td>\n",
       "      <td>None</td>\n",
       "      <td>None</td>\n",
       "      <td>None</td>\n",
       "      <td>None</td>\n",
       "      <td>None</td>\n",
       "      <td>None</td>\n",
       "      <td>None</td>\n",
       "      <td>None</td>\n",
       "      <td>None</td>\n",
       "      <td>None</td>\n",
       "      <td>None</td>\n",
       "      <td>None</td>\n",
       "      <td>None</td>\n",
       "      <td>0</td>\n",
       "    </tr>\n",
       "  </tbody>\n",
       "</table>\n",
       "</div>"
      ],
      "text/plain": [
       "            To Date PM2.5    PM10    NO    NO2    NOx    NH3    SO2    CO  \\\n",
       "0  01-01-2021 00:15   153  208.31   7.6  34.82  42.42  20.51   18.2   0.9   \n",
       "1  01-01-2021 00:30   153     212  7.94  34.18  42.12  19.82  18.01  0.89   \n",
       "2  01-01-2021 00:45   153     212  7.75  30.37  38.12  19.88  18.21  0.89   \n",
       "3  01-01-2021 01:00  None     212  7.63  28.81  36.45   20.1  18.16  0.88   \n",
       "4  01-01-2021 01:15  None    None  None   None   None   None   None  None   \n",
       "\n",
       "  Ozone Benzene Toluene Eth-Benzene MP-Xylene     RH    WS      WD    BP  \\\n",
       "0  0.87       0    None        6.84     31.01  86.38  0.56  230.78  None   \n",
       "1   0.8    0.06    None       39.88      3.72  86.83  0.69  255.87  None   \n",
       "2  0.94    2.75    None       33.42    109.14  86.86   0.9   259.7  None   \n",
       "3  0.95       0    None        0.42     36.88  86.85  0.58  257.98  None   \n",
       "4  None    None    None        None      None   None  None    None  None   \n",
       "\n",
       "      AT  TOT-RF  \n",
       "0  23.67       0  \n",
       "1  23.65       0  \n",
       "2   23.6       0  \n",
       "3   23.5       0  \n",
       "4   None       0  "
      ]
     },
     "execution_count": 7,
     "metadata": {},
     "output_type": "execute_result"
    }
   ],
   "source": [
    "df.head()"
   ]
  },
  {
   "cell_type": "code",
   "execution_count": 8,
   "metadata": {},
   "outputs": [
    {
     "name": "stdout",
     "output_type": "stream",
     "text": [
      "<class 'pandas.core.frame.DataFrame'>\n",
      "RangeIndex: 76321 entries, 0 to 76320\n",
      "Data columns (total 20 columns):\n",
      " #   Column       Non-Null Count  Dtype \n",
      "---  ------       --------------  ----- \n",
      " 0   To Date      76321 non-null  object\n",
      " 1   PM2.5        76321 non-null  object\n",
      " 2   PM10         76321 non-null  object\n",
      " 3   NO           76321 non-null  object\n",
      " 4   NO2          76321 non-null  object\n",
      " 5   NOx          76321 non-null  object\n",
      " 6   NH3          76321 non-null  object\n",
      " 7   SO2          76321 non-null  object\n",
      " 8   CO           76321 non-null  object\n",
      " 9   Ozone        76321 non-null  object\n",
      " 10  Benzene      76321 non-null  object\n",
      " 11  Toluene      76321 non-null  object\n",
      " 12  Eth-Benzene  76321 non-null  object\n",
      " 13  MP-Xylene    76321 non-null  object\n",
      " 14  RH           76321 non-null  object\n",
      " 15  WS           76321 non-null  object\n",
      " 16  WD           76321 non-null  object\n",
      " 17  BP           76321 non-null  object\n",
      " 18  AT           76321 non-null  object\n",
      " 19  TOT-RF       76321 non-null  int64 \n",
      "dtypes: int64(1), object(19)\n",
      "memory usage: 11.6+ MB\n"
     ]
    }
   ],
   "source": [
    "df.info()"
   ]
  },
  {
   "cell_type": "code",
   "execution_count": 9,
   "metadata": {},
   "outputs": [],
   "source": [
    "df.replace('None', np.nan, inplace=True)"
   ]
  },
  {
   "cell_type": "code",
   "execution_count": 11,
   "metadata": {},
   "outputs": [],
   "source": [
    "#changing the datatypes\n",
    "df[['PM2.5', 'PM10', 'NO', 'NO2',\n",
    "       'NOx', 'NH3', 'SO2', 'CO', 'Ozone', 'Benzene', 'Toluene', 'Eth-Benzene',\n",
    "       'MP-Xylene', 'RH', 'WS', 'WD', 'BP', 'AT','TOT-RF']].astype(float)\n",
    "\n",
    "df['To Date'] = pd.to_datetime(df['To Date'])"
   ]
  },
  {
   "cell_type": "code",
   "execution_count": 12,
   "metadata": {},
   "outputs": [
    {
     "name": "stdout",
     "output_type": "stream",
     "text": [
      "<class 'pandas.core.frame.DataFrame'>\n",
      "RangeIndex: 76321 entries, 0 to 76320\n",
      "Data columns (total 20 columns):\n",
      " #   Column       Non-Null Count  Dtype         \n",
      "---  ------       --------------  -----         \n",
      " 0   To Date      76321 non-null  datetime64[ns]\n",
      " 1   PM2.5        65413 non-null  object        \n",
      " 2   PM10         51456 non-null  object        \n",
      " 3   NO           54105 non-null  object        \n",
      " 4   NO2          46521 non-null  object        \n",
      " 5   NOx          57549 non-null  object        \n",
      " 6   NH3          44030 non-null  object        \n",
      " 7   SO2          52408 non-null  object        \n",
      " 8   CO           53762 non-null  object        \n",
      " 9   Ozone        53051 non-null  object        \n",
      " 10  Benzene      62376 non-null  object        \n",
      " 11  Toluene      0 non-null      float64       \n",
      " 12  Eth-Benzene  36912 non-null  object        \n",
      " 13  MP-Xylene    31368 non-null  object        \n",
      " 14  RH           55945 non-null  object        \n",
      " 15  WS           55938 non-null  object        \n",
      " 16  WD           55973 non-null  object        \n",
      " 17  BP           17807 non-null  object        \n",
      " 18  AT           55866 non-null  object        \n",
      " 19  TOT-RF       76321 non-null  int64         \n",
      "dtypes: datetime64[ns](1), float64(1), int64(1), object(17)\n",
      "memory usage: 11.6+ MB\n"
     ]
    }
   ],
   "source": [
    "df.info()"
   ]
  },
  {
   "cell_type": "code",
   "execution_count": 13,
   "metadata": {},
   "outputs": [],
   "source": [
    "df['year'] = df['To Date'].dt.year\n",
    "df['month'] = df['To Date'].dt.month\n",
    "df['day'] = df['To Date'].dt.day\n",
    "\n"
   ]
  },
  {
   "cell_type": "code",
   "execution_count": 14,
   "metadata": {},
   "outputs": [
    {
     "data": {
      "text/plain": [
       "Index(['To Date', 'PM2.5', 'PM10', 'NO', 'NO2', 'NOx', 'NH3', 'SO2', 'CO',\n",
       "       'Ozone', 'Benzene', 'Toluene', 'Eth-Benzene', 'MP-Xylene', 'RH', 'WS',\n",
       "       'WD', 'BP', 'AT', 'TOT-RF', 'year', 'month', 'day'],\n",
       "      dtype='object')"
      ]
     },
     "execution_count": 14,
     "metadata": {},
     "output_type": "execute_result"
    }
   ],
   "source": [
    "df.columns"
   ]
  },
  {
   "attachments": {},
   "cell_type": "markdown",
   "metadata": {},
   "source": [
    "- Removing rows that have all values missing  in the required features needed for aqi\n",
    "- Removing the date column"
   ]
  },
  {
   "cell_type": "code",
   "execution_count": 15,
   "metadata": {},
   "outputs": [],
   "source": [
    "df = df.dropna(subset=['PM2.5', 'PM10', 'NO', 'NO2', 'NOx', 'NH3', 'SO2', 'CO', 'Ozone'], how='all')"
   ]
  },
  {
   "cell_type": "code",
   "execution_count": 16,
   "metadata": {},
   "outputs": [
    {
     "data": {
      "text/plain": [
       "(68805, 23)"
      ]
     },
     "execution_count": 16,
     "metadata": {},
     "output_type": "execute_result"
    }
   ],
   "source": [
    "df.shape"
   ]
  },
  {
   "cell_type": "code",
   "execution_count": 17,
   "metadata": {},
   "outputs": [],
   "source": [
    "df = df.drop('To Date', axis=1)\n"
   ]
  },
  {
   "cell_type": "code",
   "execution_count": 18,
   "metadata": {},
   "outputs": [
    {
     "data": {
      "text/plain": [
       "PM2.5            4.929874\n",
       "PM10            25.214737\n",
       "NO              21.364726\n",
       "NO2             32.387181\n",
       "NOx             16.359276\n",
       "NH3             36.007558\n",
       "SO2             23.831117\n",
       "CO              21.863237\n",
       "Ozone           22.896592\n",
       "Benzene          9.574886\n",
       "Toluene        100.000000\n",
       "Eth-Benzene     46.508248\n",
       "MP-Xylene       54.510573\n",
       "RH              18.693409\n",
       "WS              18.703583\n",
       "WD              18.652714\n",
       "BP              74.119613\n",
       "AT              18.808226\n",
       "TOT-RF           0.000000\n",
       "year             0.000000\n",
       "month            0.000000\n",
       "day              0.000000\n",
       "dtype: float64"
      ]
     },
     "execution_count": 18,
     "metadata": {},
     "output_type": "execute_result"
    }
   ],
   "source": [
    "(df.isnull().sum() / len(df)) * 100"
   ]
  },
  {
   "attachments": {},
   "cell_type": "markdown",
   "metadata": {},
   "source": [
    "- Drop columnns that have more than 20% null values\n",
    "- NB: the required columns have no probelm with the null values since they are all less than"
   ]
  },
  {
   "cell_type": "code",
   "execution_count": 24,
   "metadata": {},
   "outputs": [],
   "source": [
    "threshold = len(df) * 0.5  # set the threshold to 50% of the total number of rows\n",
    "df.dropna(thresh=threshold, axis=1, inplace=True)\n"
   ]
  },
  {
   "cell_type": "code",
   "execution_count": 20,
   "metadata": {},
   "outputs": [
    {
     "data": {
      "text/plain": [
       "PM2.5           4.929874\n",
       "PM10           25.214737\n",
       "NO             21.364726\n",
       "NO2            32.387181\n",
       "NOx            16.359276\n",
       "NH3            36.007558\n",
       "SO2            23.831117\n",
       "CO             21.863237\n",
       "Ozone          22.896592\n",
       "Benzene         9.574886\n",
       "Eth-Benzene    46.508248\n",
       "RH             18.693409\n",
       "WS             18.703583\n",
       "WD             18.652714\n",
       "AT             18.808226\n",
       "TOT-RF          0.000000\n",
       "year            0.000000\n",
       "month           0.000000\n",
       "day             0.000000\n",
       "dtype: float64"
      ]
     },
     "execution_count": 20,
     "metadata": {},
     "output_type": "execute_result"
    }
   ],
   "source": [
    "(df.isnull().sum() / len(df)) * 100"
   ]
  },
  {
   "cell_type": "code",
   "execution_count": 21,
   "metadata": {},
   "outputs": [
    {
     "data": {
      "text/plain": [
       "(68805, 19)"
      ]
     },
     "execution_count": 21,
     "metadata": {},
     "output_type": "execute_result"
    }
   ],
   "source": [
    "df.shape"
   ]
  },
  {
   "cell_type": "code",
   "execution_count": 22,
   "metadata": {},
   "outputs": [],
   "source": [
    "#dropping duplicates\n",
    "df = df.drop_duplicates()"
   ]
  },
  {
   "cell_type": "code",
   "execution_count": 23,
   "metadata": {},
   "outputs": [
    {
     "data": {
      "text/plain": [
       "(66770, 19)"
      ]
     },
     "execution_count": 23,
     "metadata": {},
     "output_type": "execute_result"
    }
   ],
   "source": [
    "df.shape"
   ]
  },
  {
   "attachments": {},
   "cell_type": "markdown",
   "metadata": {},
   "source": [
    "## Data manipulation"
   ]
  },
  {
   "attachments": {},
   "cell_type": "markdown",
   "metadata": {},
   "source": [
    "Kalman Smoothing on Structural Time Series method is the best method among the methods considered, for imputing missing values in the context of air quality data under Missing Completely at Random (MCAR) mechanism."
   ]
  },
  {
   "attachments": {},
   "cell_type": "markdown",
   "metadata": {},
   "source": [
    "#### Imputation"
   ]
  },
  {
   "attachments": {},
   "cell_type": "markdown",
   "metadata": {},
   "source": [
    "## Visualization"
   ]
  },
  {
   "cell_type": "code",
   "execution_count": null,
   "metadata": {},
   "outputs": [],
   "source": []
  }
 ],
 "metadata": {
  "kernelspec": {
   "display_name": "Python 3",
   "language": "python",
   "name": "python3"
  },
  "language_info": {
   "codemirror_mode": {
    "name": "ipython",
    "version": 3
   },
   "file_extension": ".py",
   "mimetype": "text/x-python",
   "name": "python",
   "nbconvert_exporter": "python",
   "pygments_lexer": "ipython3",
   "version": "3.10.10"
  },
  "orig_nbformat": 4
 },
 "nbformat": 4,
 "nbformat_minor": 2
}
