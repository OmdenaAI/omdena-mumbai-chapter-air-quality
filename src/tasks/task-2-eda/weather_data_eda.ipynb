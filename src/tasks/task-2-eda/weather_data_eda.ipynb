{
  "nbformat": 4,
  "nbformat_minor": 0,
  "metadata": {
    "colab": {
      "provenance": []
    },
    "kernelspec": {
      "name": "python3",
      "display_name": "Python 3"
    },
    "language_info": {
      "name": "python"
    }
  },
  "cells": [
    {
      "cell_type": "code",
      "execution_count": 1,
      "metadata": {
        "id": "giyaGn8T-gpI"
      },
      "outputs": [],
      "source": [
        "import pandas as pd "
      ]
    },
    {
      "cell_type": "code",
      "source": [
        "df = pd.read_csv('/content/mumbai_weather_data.csv', index_col=0)"
      ],
      "metadata": {
        "id": "s3k01kMI-vPc"
      },
      "execution_count": 4,
      "outputs": []
    },
    {
      "cell_type": "code",
      "source": [
        "df.columns"
      ],
      "metadata": {
        "colab": {
          "base_uri": "https://localhost:8080/"
        },
        "id": "z538uNYS_F7s",
        "outputId": "a3a4562f-7942-463a-9c5b-0650f1692109"
      },
      "execution_count": 5,
      "outputs": [
        {
          "output_type": "execute_result",
          "data": {
            "text/plain": [
              "Index(['input_latitude', 'input_longitude', 'date', 'temperature', 'humidity',\n",
              "       'surface_pressure', 'rain', 'weathercode', 'cloudcover_low',\n",
              "       'cloudcover_mid', 'cloudcover_high', 'wind_speed', 'wind_direction',\n",
              "       'windgusts_10m', 'output_latitude', 'output_longitude'],\n",
              "      dtype='object')"
            ]
          },
          "metadata": {},
          "execution_count": 5
        }
      ]
    },
    {
      "cell_type": "code",
      "source": [
        "df.info()"
      ],
      "metadata": {
        "colab": {
          "base_uri": "https://localhost:8080/"
        },
        "id": "ieZjrsgP_HbA",
        "outputId": "60486e18-c621-417a-d804-dc5824597a73"
      },
      "execution_count": 6,
      "outputs": [
        {
          "output_type": "stream",
          "name": "stdout",
          "text": [
            "<class 'pandas.core.frame.DataFrame'>\n",
            "Int64Index: 436128 entries, 0 to 436127\n",
            "Data columns (total 16 columns):\n",
            " #   Column            Non-Null Count   Dtype  \n",
            "---  ------            --------------   -----  \n",
            " 0   input_latitude    436128 non-null  float64\n",
            " 1   input_longitude   436128 non-null  float64\n",
            " 2   date              436128 non-null  object \n",
            " 3   temperature       436128 non-null  float64\n",
            " 4   humidity          436128 non-null  int64  \n",
            " 5   surface_pressure  436128 non-null  float64\n",
            " 6   rain              436128 non-null  float64\n",
            " 7   weathercode       436128 non-null  int64  \n",
            " 8   cloudcover_low    436128 non-null  int64  \n",
            " 9   cloudcover_mid    436128 non-null  int64  \n",
            " 10  cloudcover_high   436128 non-null  int64  \n",
            " 11  wind_speed        436128 non-null  float64\n",
            " 12  wind_direction    436128 non-null  int64  \n",
            " 13  windgusts_10m     436128 non-null  float64\n",
            " 14  output_latitude   436128 non-null  float64\n",
            " 15  output_longitude  436128 non-null  float64\n",
            "dtypes: float64(9), int64(6), object(1)\n",
            "memory usage: 56.6+ MB\n"
          ]
        }
      ]
    },
    {
      "cell_type": "code",
      "source": [
        "df['date'] = pd.to_datetime(df.date, format='%Y-%m-%dT%H:%M') # Format Date column as datetime"
      ],
      "metadata": {
        "id": "BAKxym3i_R9d"
      },
      "execution_count": 8,
      "outputs": []
    },
    {
      "cell_type": "code",
      "source": [
        "df['date']"
      ],
      "metadata": {
        "colab": {
          "base_uri": "https://localhost:8080/"
        },
        "id": "l3KoULBB_egs",
        "outputId": "ce16639c-cc7f-4aa8-ed3c-0dca35a56b30"
      },
      "execution_count": 9,
      "outputs": [
        {
          "output_type": "execute_result",
          "data": {
            "text/plain": [
              "0        2021-01-01 00:00:00\n",
              "1        2021-01-01 01:00:00\n",
              "2        2021-01-01 02:00:00\n",
              "3        2021-01-01 03:00:00\n",
              "4        2021-01-01 04:00:00\n",
              "                 ...        \n",
              "436123   2023-04-06 19:00:00\n",
              "436124   2023-04-06 20:00:00\n",
              "436125   2023-04-06 21:00:00\n",
              "436126   2023-04-06 22:00:00\n",
              "436127   2023-04-06 23:00:00\n",
              "Name: date, Length: 436128, dtype: datetime64[ns]"
            ]
          },
          "metadata": {},
          "execution_count": 9
        }
      ]
    },
    {
      "cell_type": "code",
      "source": [
        "unique_pairs = df[['input_latitude', 'input_longitude']].drop_duplicates()"
      ],
      "metadata": {
        "id": "T845aZBB_2wy"
      },
      "execution_count": 20,
      "outputs": []
    },
    {
      "cell_type": "code",
      "source": [
        "unique_pairs"
      ],
      "metadata": {
        "colab": {
          "base_uri": "https://localhost:8080/",
          "height": 739
        },
        "id": "61zmAKXxBQ1W",
        "outputId": "a3b9e5b7-72bb-46f9-846c-74cfeeff0dce"
      },
      "execution_count": 21,
      "outputs": [
        {
          "output_type": "execute_result",
          "data": {
            "text/plain": [
              "        input_latitude  input_longitude\n",
              "0            19.044000        73.032500\n",
              "19416        19.113505        73.008978\n",
              "38832        19.053536        72.846430\n",
              "58248        19.137500        72.915056\n",
              "77664        19.232410        72.868950\n",
              "97080        19.165332        72.922099\n",
              "116496       18.967020        72.842140\n",
              "135912       18.993616        72.812811\n",
              "155328       19.108610        72.836220\n",
              "174744       19.192056        72.958519\n",
              "194160       19.252920        73.142019\n",
              "213576       19.047000        72.874600\n",
              "232992       19.205800        72.868200\n",
              "252408       19.175000        72.941900\n",
              "271824       19.197090        72.822040\n",
              "291240       19.008751        73.016620\n",
              "310656       19.000083        72.813993\n",
              "330072       19.072830        72.882607\n",
              "349488       19.086300        72.888800\n",
              "368904       19.100780        72.874620\n",
              "388320       19.224333        72.865811\n",
              "407736       19.049460        72.923000"
            ],
            "text/html": [
              "\n",
              "  <div id=\"df-fe455500-9304-4d76-8478-11d23762bfde\">\n",
              "    <div class=\"colab-df-container\">\n",
              "      <div>\n",
              "<style scoped>\n",
              "    .dataframe tbody tr th:only-of-type {\n",
              "        vertical-align: middle;\n",
              "    }\n",
              "\n",
              "    .dataframe tbody tr th {\n",
              "        vertical-align: top;\n",
              "    }\n",
              "\n",
              "    .dataframe thead th {\n",
              "        text-align: right;\n",
              "    }\n",
              "</style>\n",
              "<table border=\"1\" class=\"dataframe\">\n",
              "  <thead>\n",
              "    <tr style=\"text-align: right;\">\n",
              "      <th></th>\n",
              "      <th>input_latitude</th>\n",
              "      <th>input_longitude</th>\n",
              "    </tr>\n",
              "  </thead>\n",
              "  <tbody>\n",
              "    <tr>\n",
              "      <th>0</th>\n",
              "      <td>19.044000</td>\n",
              "      <td>73.032500</td>\n",
              "    </tr>\n",
              "    <tr>\n",
              "      <th>19416</th>\n",
              "      <td>19.113505</td>\n",
              "      <td>73.008978</td>\n",
              "    </tr>\n",
              "    <tr>\n",
              "      <th>38832</th>\n",
              "      <td>19.053536</td>\n",
              "      <td>72.846430</td>\n",
              "    </tr>\n",
              "    <tr>\n",
              "      <th>58248</th>\n",
              "      <td>19.137500</td>\n",
              "      <td>72.915056</td>\n",
              "    </tr>\n",
              "    <tr>\n",
              "      <th>77664</th>\n",
              "      <td>19.232410</td>\n",
              "      <td>72.868950</td>\n",
              "    </tr>\n",
              "    <tr>\n",
              "      <th>97080</th>\n",
              "      <td>19.165332</td>\n",
              "      <td>72.922099</td>\n",
              "    </tr>\n",
              "    <tr>\n",
              "      <th>116496</th>\n",
              "      <td>18.967020</td>\n",
              "      <td>72.842140</td>\n",
              "    </tr>\n",
              "    <tr>\n",
              "      <th>135912</th>\n",
              "      <td>18.993616</td>\n",
              "      <td>72.812811</td>\n",
              "    </tr>\n",
              "    <tr>\n",
              "      <th>155328</th>\n",
              "      <td>19.108610</td>\n",
              "      <td>72.836220</td>\n",
              "    </tr>\n",
              "    <tr>\n",
              "      <th>174744</th>\n",
              "      <td>19.192056</td>\n",
              "      <td>72.958519</td>\n",
              "    </tr>\n",
              "    <tr>\n",
              "      <th>194160</th>\n",
              "      <td>19.252920</td>\n",
              "      <td>73.142019</td>\n",
              "    </tr>\n",
              "    <tr>\n",
              "      <th>213576</th>\n",
              "      <td>19.047000</td>\n",
              "      <td>72.874600</td>\n",
              "    </tr>\n",
              "    <tr>\n",
              "      <th>232992</th>\n",
              "      <td>19.205800</td>\n",
              "      <td>72.868200</td>\n",
              "    </tr>\n",
              "    <tr>\n",
              "      <th>252408</th>\n",
              "      <td>19.175000</td>\n",
              "      <td>72.941900</td>\n",
              "    </tr>\n",
              "    <tr>\n",
              "      <th>271824</th>\n",
              "      <td>19.197090</td>\n",
              "      <td>72.822040</td>\n",
              "    </tr>\n",
              "    <tr>\n",
              "      <th>291240</th>\n",
              "      <td>19.008751</td>\n",
              "      <td>73.016620</td>\n",
              "    </tr>\n",
              "    <tr>\n",
              "      <th>310656</th>\n",
              "      <td>19.000083</td>\n",
              "      <td>72.813993</td>\n",
              "    </tr>\n",
              "    <tr>\n",
              "      <th>330072</th>\n",
              "      <td>19.072830</td>\n",
              "      <td>72.882607</td>\n",
              "    </tr>\n",
              "    <tr>\n",
              "      <th>349488</th>\n",
              "      <td>19.086300</td>\n",
              "      <td>72.888800</td>\n",
              "    </tr>\n",
              "    <tr>\n",
              "      <th>368904</th>\n",
              "      <td>19.100780</td>\n",
              "      <td>72.874620</td>\n",
              "    </tr>\n",
              "    <tr>\n",
              "      <th>388320</th>\n",
              "      <td>19.224333</td>\n",
              "      <td>72.865811</td>\n",
              "    </tr>\n",
              "    <tr>\n",
              "      <th>407736</th>\n",
              "      <td>19.049460</td>\n",
              "      <td>72.923000</td>\n",
              "    </tr>\n",
              "  </tbody>\n",
              "</table>\n",
              "</div>\n",
              "      <button class=\"colab-df-convert\" onclick=\"convertToInteractive('df-fe455500-9304-4d76-8478-11d23762bfde')\"\n",
              "              title=\"Convert this dataframe to an interactive table.\"\n",
              "              style=\"display:none;\">\n",
              "        \n",
              "  <svg xmlns=\"http://www.w3.org/2000/svg\" height=\"24px\"viewBox=\"0 0 24 24\"\n",
              "       width=\"24px\">\n",
              "    <path d=\"M0 0h24v24H0V0z\" fill=\"none\"/>\n",
              "    <path d=\"M18.56 5.44l.94 2.06.94-2.06 2.06-.94-2.06-.94-.94-2.06-.94 2.06-2.06.94zm-11 1L8.5 8.5l.94-2.06 2.06-.94-2.06-.94L8.5 2.5l-.94 2.06-2.06.94zm10 10l.94 2.06.94-2.06 2.06-.94-2.06-.94-.94-2.06-.94 2.06-2.06.94z\"/><path d=\"M17.41 7.96l-1.37-1.37c-.4-.4-.92-.59-1.43-.59-.52 0-1.04.2-1.43.59L10.3 9.45l-7.72 7.72c-.78.78-.78 2.05 0 2.83L4 21.41c.39.39.9.59 1.41.59.51 0 1.02-.2 1.41-.59l7.78-7.78 2.81-2.81c.8-.78.8-2.07 0-2.86zM5.41 20L4 18.59l7.72-7.72 1.47 1.35L5.41 20z\"/>\n",
              "  </svg>\n",
              "      </button>\n",
              "      \n",
              "  <style>\n",
              "    .colab-df-container {\n",
              "      display:flex;\n",
              "      flex-wrap:wrap;\n",
              "      gap: 12px;\n",
              "    }\n",
              "\n",
              "    .colab-df-convert {\n",
              "      background-color: #E8F0FE;\n",
              "      border: none;\n",
              "      border-radius: 50%;\n",
              "      cursor: pointer;\n",
              "      display: none;\n",
              "      fill: #1967D2;\n",
              "      height: 32px;\n",
              "      padding: 0 0 0 0;\n",
              "      width: 32px;\n",
              "    }\n",
              "\n",
              "    .colab-df-convert:hover {\n",
              "      background-color: #E2EBFA;\n",
              "      box-shadow: 0px 1px 2px rgba(60, 64, 67, 0.3), 0px 1px 3px 1px rgba(60, 64, 67, 0.15);\n",
              "      fill: #174EA6;\n",
              "    }\n",
              "\n",
              "    [theme=dark] .colab-df-convert {\n",
              "      background-color: #3B4455;\n",
              "      fill: #D2E3FC;\n",
              "    }\n",
              "\n",
              "    [theme=dark] .colab-df-convert:hover {\n",
              "      background-color: #434B5C;\n",
              "      box-shadow: 0px 1px 3px 1px rgba(0, 0, 0, 0.15);\n",
              "      filter: drop-shadow(0px 1px 2px rgba(0, 0, 0, 0.3));\n",
              "      fill: #FFFFFF;\n",
              "    }\n",
              "  </style>\n",
              "\n",
              "      <script>\n",
              "        const buttonEl =\n",
              "          document.querySelector('#df-fe455500-9304-4d76-8478-11d23762bfde button.colab-df-convert');\n",
              "        buttonEl.style.display =\n",
              "          google.colab.kernel.accessAllowed ? 'block' : 'none';\n",
              "\n",
              "        async function convertToInteractive(key) {\n",
              "          const element = document.querySelector('#df-fe455500-9304-4d76-8478-11d23762bfde');\n",
              "          const dataTable =\n",
              "            await google.colab.kernel.invokeFunction('convertToInteractive',\n",
              "                                                     [key], {});\n",
              "          if (!dataTable) return;\n",
              "\n",
              "          const docLinkHtml = 'Like what you see? Visit the ' +\n",
              "            '<a target=\"_blank\" href=https://colab.research.google.com/notebooks/data_table.ipynb>data table notebook</a>'\n",
              "            + ' to learn more about interactive tables.';\n",
              "          element.innerHTML = '';\n",
              "          dataTable['output_type'] = 'display_data';\n",
              "          await google.colab.output.renderOutput(dataTable, element);\n",
              "          const docLink = document.createElement('div');\n",
              "          docLink.innerHTML = docLinkHtml;\n",
              "          element.appendChild(docLink);\n",
              "        }\n",
              "      </script>\n",
              "    </div>\n",
              "  </div>\n",
              "  "
            ]
          },
          "metadata": {},
          "execution_count": 21
        }
      ]
    },
    {
      "cell_type": "code",
      "source": [
        "len(unique_pairs)"
      ],
      "metadata": {
        "colab": {
          "base_uri": "https://localhost:8080/"
        },
        "id": "IeBXOvzuADaX",
        "outputId": "809ec49b-abde-47bf-f833-ed0c3959ad39"
      },
      "execution_count": 17,
      "outputs": [
        {
          "output_type": "execute_result",
          "data": {
            "text/plain": [
              "22"
            ]
          },
          "metadata": {},
          "execution_count": 17
        }
      ]
    },
    {
      "cell_type": "code",
      "source": [
        "unique_pairs = df[['output_latitude', 'output_longitude']].drop_duplicates()"
      ],
      "metadata": {
        "id": "9DThHM1VA48T"
      },
      "execution_count": 18,
      "outputs": []
    },
    {
      "cell_type": "code",
      "source": [
        "len(unique_pairs)"
      ],
      "metadata": {
        "colab": {
          "base_uri": "https://localhost:8080/"
        },
        "id": "7Dbq9hLzBE9U",
        "outputId": "14469fbc-350d-4ccf-cd7d-0352c98c6f66"
      },
      "execution_count": 19,
      "outputs": [
        {
          "output_type": "execute_result",
          "data": {
            "text/plain": [
              "14"
            ]
          },
          "metadata": {},
          "execution_count": 19
        }
      ]
    },
    {
      "cell_type": "code",
      "source": [
        "# KhindipadaBhandupWestMumbaiIITM Lat-Long is [19.1653, 72.9221]\n",
        "# ChhatrapatiShivajiIntlAirportT2MumbaiMPCB is [19.1008, 72.8746]\n",
        "df_station = df[((df['input_latitude'].round(decimals=4) == 19.1653) & \n",
        "      (df['input_longitude'].round(decimals=4) == 72.9221)) |\n",
        "      ((df['input_latitude'].round(decimals=4) == 19.1008) & \n",
        "      (df['input_longitude'].round(decimals=4) == 72.8746))]"
      ],
      "metadata": {
        "id": "pPR5hTmiDUoh"
      },
      "execution_count": 30,
      "outputs": []
    },
    {
      "cell_type": "code",
      "source": [
        "df_station.columns"
      ],
      "metadata": {
        "colab": {
          "base_uri": "https://localhost:8080/"
        },
        "id": "tQlLz2G7Eand",
        "outputId": "b7f708e5-7bcf-4902-a259-7180fdc840e9"
      },
      "execution_count": 31,
      "outputs": [
        {
          "output_type": "execute_result",
          "data": {
            "text/plain": [
              "Index(['input_latitude', 'input_longitude', 'date', 'temperature', 'humidity',\n",
              "       'surface_pressure', 'rain', 'weathercode', 'cloudcover_low',\n",
              "       'cloudcover_mid', 'cloudcover_high', 'wind_speed', 'wind_direction',\n",
              "       'windgusts_10m', 'output_latitude', 'output_longitude'],\n",
              "      dtype='object')"
            ]
          },
          "metadata": {},
          "execution_count": 31
        }
      ]
    },
    {
      "cell_type": "code",
      "source": [
        "df.info()"
      ],
      "metadata": {
        "colab": {
          "base_uri": "https://localhost:8080/"
        },
        "id": "RBfNM96qE0Li",
        "outputId": "2abd462b-e65e-43a5-e66a-872b1f805e3f"
      },
      "execution_count": 32,
      "outputs": [
        {
          "output_type": "stream",
          "name": "stdout",
          "text": [
            "<class 'pandas.core.frame.DataFrame'>\n",
            "Int64Index: 436128 entries, 0 to 436127\n",
            "Data columns (total 16 columns):\n",
            " #   Column            Non-Null Count   Dtype         \n",
            "---  ------            --------------   -----         \n",
            " 0   input_latitude    436128 non-null  float64       \n",
            " 1   input_longitude   436128 non-null  float64       \n",
            " 2   date              436128 non-null  datetime64[ns]\n",
            " 3   temperature       436128 non-null  float64       \n",
            " 4   humidity          436128 non-null  int64         \n",
            " 5   surface_pressure  436128 non-null  float64       \n",
            " 6   rain              436128 non-null  float64       \n",
            " 7   weathercode       436128 non-null  int64         \n",
            " 8   cloudcover_low    436128 non-null  int64         \n",
            " 9   cloudcover_mid    436128 non-null  int64         \n",
            " 10  cloudcover_high   436128 non-null  int64         \n",
            " 11  wind_speed        436128 non-null  float64       \n",
            " 12  wind_direction    436128 non-null  int64         \n",
            " 13  windgusts_10m     436128 non-null  float64       \n",
            " 14  output_latitude   436128 non-null  float64       \n",
            " 15  output_longitude  436128 non-null  float64       \n",
            "dtypes: datetime64[ns](1), float64(9), int64(6)\n",
            "memory usage: 56.6 MB\n"
          ]
        }
      ]
    },
    {
      "cell_type": "code",
      "source": [
        "df_station.loc[(df_station['input_latitude'].round(decimals=4) == 19.1653) & \n",
        "       (df_station['input_longitude'].round(decimals=4) == 72.9221), 'station_name'] = 'KhindipadaBhandupWestMumbaiIITM'"
      ],
      "metadata": {
        "id": "lfo7y3vxHowK"
      },
      "execution_count": 43,
      "outputs": []
    },
    {
      "cell_type": "code",
      "source": [
        "# ChhatrapatiShivajiIntlAirportT2MumbaiMPCB is [19.1008, 72.8746]\n",
        "df_station.loc[(df_station['input_latitude'].round(decimals=4) == 19.1008) & \n",
        "       (df_station['input_longitude'].round(decimals=4) == 72.8746), 'station_name'] = 'ChhatrapatiShivajiIntlAirportT2MumbaiMPCB'"
      ],
      "metadata": {
        "id": "5LA1iDt5IkUd"
      },
      "execution_count": 44,
      "outputs": []
    },
    {
      "cell_type": "code",
      "source": [
        "df_station.columns"
      ],
      "metadata": {
        "colab": {
          "base_uri": "https://localhost:8080/"
        },
        "id": "aNXhofrhI5XW",
        "outputId": "f1bdd86f-2aad-48de-843b-7b27668fa7cf"
      },
      "execution_count": 38,
      "outputs": [
        {
          "output_type": "execute_result",
          "data": {
            "text/plain": [
              "Index(['input_latitude', 'input_longitude', 'date', 'temperature', 'humidity',\n",
              "       'surface_pressure', 'rain', 'weathercode', 'cloudcover_low',\n",
              "       'cloudcover_mid', 'cloudcover_high', 'wind_speed', 'wind_direction',\n",
              "       'windgusts_10m', 'output_latitude', 'output_longitude', 'station_name'],\n",
              "      dtype='object')"
            ]
          },
          "metadata": {},
          "execution_count": 38
        }
      ]
    },
    {
      "cell_type": "code",
      "source": [
        "df1 = df_station[df_station['station_name']=='KhindipadaBhandupWestMumbaiIITM']\n",
        "df1[['date', 'temperature']].set_index('date').plot()"
      ],
      "metadata": {
        "colab": {
          "base_uri": "https://localhost:8080/",
          "height": 488
        },
        "id": "jD3t-uBXFCNe",
        "outputId": "9c394e4c-2156-465c-8236-2e9c8af40f08"
      },
      "execution_count": 48,
      "outputs": [
        {
          "output_type": "execute_result",
          "data": {
            "text/plain": [
              "<Axes: xlabel='date'>"
            ]
          },
          "metadata": {},
          "execution_count": 48
        },
        {
          "output_type": "display_data",
          "data": {
            "text/plain": [
              "<Figure size 640x480 with 1 Axes>"
            ],
            "image/png": "[encoded data removed]"
          },
          "metadata": {}
        }
      ]
    },
    {
      "cell_type": "code",
      "source": [
        "df1['temperature'].describe()"
      ],
      "metadata": {
        "colab": {
          "base_uri": "https://localhost:8080/"
        },
        "id": "iFj74iCRKDJq",
        "outputId": "0b357f5a-969b-436a-bb47-77b722cd288b"
      },
      "execution_count": 54,
      "outputs": [
        {
          "output_type": "execute_result",
          "data": {
            "text/plain": [
              "count    19824.000000\n",
              "mean        26.413413\n",
              "std          3.427972\n",
              "min         15.000000\n",
              "25%         24.800000\n",
              "50%         26.300000\n",
              "75%         28.300000\n",
              "max         38.900000\n",
              "Name: temperature, dtype: float64"
            ]
          },
          "metadata": {},
          "execution_count": 54
        }
      ]
    },
    {
      "cell_type": "code",
      "source": [
        "df2 = df_station[df_station['station_name']=='ChhatrapatiShivajiIntlAirportT2MumbaiMPCB']\n",
        "df2[['date', 'temperature']].set_index('date').plot()"
      ],
      "metadata": {
        "colab": {
          "base_uri": "https://localhost:8080/",
          "height": 484
        },
        "id": "cd1i0ObGJRGS",
        "outputId": "c7583076-8c84-4d97-d326-53a7764f9a88"
      },
      "execution_count": 49,
      "outputs": [
        {
          "output_type": "execute_result",
          "data": {
            "text/plain": [
              "<Axes: xlabel='date'>"
            ]
          },
          "metadata": {},
          "execution_count": 49
        },
        {
          "output_type": "display_data",
          "data": {
            "text/plain": [
              "<Figure size 640x480 with 1 Axes>"
            ],
            "image/png": "[encoded data removed]"
          },
          "metadata": {}
        }
      ]
    },
    {
      "cell_type": "code",
      "source": [
        "df2['temperature'].describe()"
      ],
      "metadata": {
        "colab": {
          "base_uri": "https://localhost:8080/"
        },
        "id": "iqtyVyRzKfRm",
        "outputId": "d86eb041-960a-430f-fe98-f505d6d4f6c4"
      },
      "execution_count": 55,
      "outputs": [
        {
          "output_type": "execute_result",
          "data": {
            "text/plain": [
              "count    19824.000000\n",
              "mean        26.718861\n",
              "std          3.148315\n",
              "min         16.000000\n",
              "25%         25.200000\n",
              "50%         26.600000\n",
              "75%         28.600000\n",
              "max         38.400000\n",
              "Name: temperature, dtype: float64"
            ]
          },
          "metadata": {},
          "execution_count": 55
        }
      ]
    },
    {
      "cell_type": "code",
      "source": [
        "df1.to_csv('KhindipadaBhandupWestMumbaiIITM_weather.csv')\n",
        "df2.to_csv('ChhatrapatiShivajiIntlAirportT2MumbaiMPCB_weather.csv')"
      ],
      "metadata": {
        "id": "ux8I82f7FcN_"
      },
      "execution_count": 57,
      "outputs": []
    }
  ]
}