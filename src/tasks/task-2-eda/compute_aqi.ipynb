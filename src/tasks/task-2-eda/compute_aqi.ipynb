{
 "cells": [
  {
   "attachments": {},
   "cell_type": "markdown",
   "metadata": {},
   "source": [
    "# Compute AQI"
   ]
  },
  {
   "attachments": {},
   "cell_type": "markdown",
   "metadata": {},
   "source": [
    "Ref: https://www.kaggle.com/code/rohanrao/calculating-aqi-air-quality-index-tutorial/notebook"
   ]
  },
  {
   "cell_type": "code",
   "execution_count": 48,
   "metadata": {},
   "outputs": [],
   "source": [
    "## importing packages\n",
    "import numpy as np\n",
    "import pandas as pd\n",
    "import os"
   ]
  },
  {
   "cell_type": "code",
   "execution_count": 49,
   "metadata": {},
   "outputs": [
    {
     "name": "stdout",
     "output_type": "stream",
     "text": [
      "['BandraKurlaComplexMumbaiIITM.csv', 'BandraMumbaiMPCB.csv', 'BorivaliEastMumbaiIITM.csv', 'BorivaliEastMumbaiMPCB.csv', 'ChakalaAndheriEastMumbaiIITM.csv', 'ChhatrapatiShivajiIntlAirportT2MumbaiMPCB.csv', 'ColabaMumbaiMPCB.csv', 'DeonarMumbaiIITM.csv', 'KandivaliEastMumbaiMPCB.csv', 'KhindipadaBhandupWestMumbaiIITM.csv', 'KurlaMumbaiMPCB.csv', 'MaladWestMumbaiIITM.csv', 'MazgaonMumbaiIITM.csv', 'MulundWestMumbaiMPCB.csv', 'NavyNagarColabaMumbaiIITM.csv', 'PowaiMumbaiMPCB.csv', 'SiddharthNagarWorliMumbaiIITM.csv', 'SionMumbaiMPCB.csv', 'VasaiWestMumbaiMPCB.csv', 'VileParleWestMumbaiMPCB.csv', 'WorliMumbaiMPCB.csv']\n"
     ]
    }
   ],
   "source": [
    "directory = \"/Users/rnirms/Documents/omdena/data/CPCB_downloads/2023-03-07/csv_latest/\"\n",
    "all_files = os.listdir(directory)\n",
    "csv_files = [file for file in all_files if file.endswith(\".csv\")]\n",
    "csv_files = sorted(csv_files)\n",
    "print(csv_files)"
   ]
  },
  {
   "cell_type": "code",
   "execution_count": 50,
   "metadata": {},
   "outputs": [],
   "source": [
    "df_list = []\n",
    "station_names = []\n",
    "for filename in csv_files: \n",
    "    df_temp = pd.read_csv(os.path.join(directory, filename))\n",
    "    df_list.append(df_temp)\n",
    "    name, _ = os.path.splitext(filename)\n",
    "    station_names.append(name)\n",
    "data_dict = dict(zip(station_names, df_list))"
   ]
  },
  {
   "cell_type": "code",
   "execution_count": 51,
   "metadata": {},
   "outputs": [],
   "source": [
    "def clean_data(data):\n",
    "    data = data.iloc[:, 2:-1] # Remove columns: Unnamed:0, From Date, Unnamed:23\n",
    "    data = data.rename(columns={'To Date': 'Date'}) # Rename date column\n",
    "    data[\"Date\"] = pd.to_datetime(data.Date, format='%d-%m-%Y %H:%M') # Format Date column as datetime\n",
    "    data = data.replace('None', np.NaN) # Replace all 'None' to NaN\n",
    "    data[data.columns[1:]] = data[data.columns[1:]].astype(float) # Format all other columns to float \n",
    "\n",
    "    return data \n"
   ]
  },
  {
   "cell_type": "code",
   "execution_count": 52,
   "metadata": {},
   "outputs": [],
   "source": [
    "for key in data_dict.keys():\n",
    "    data_dict[key] = clean_data(data_dict[key])"
   ]
  },
  {
   "cell_type": "code",
   "execution_count": 53,
   "metadata": {},
   "outputs": [
    {
     "data": {
      "text/plain": [
       "Index(['Date', 'PM2.5', 'PM10', 'NO', 'NO2', 'NOx', 'NH3', 'SO2', 'CO',\n",
       "       'Ozone', 'Benzene', 'Toluene', 'Eth-Benzene', 'MP-Xylene', 'RH', 'WS',\n",
       "       'WD', 'SR', 'BP', 'Xylene', 'AT', 'RF', 'TOT-RF'],\n",
       "      dtype='object')"
      ]
     },
     "execution_count": 53,
     "metadata": {},
     "output_type": "execute_result"
    }
   ],
   "source": [
    "data_dict['BandraKurlaComplexMumbaiIITM'].columns"
   ]
  },
  {
   "cell_type": "code",
   "execution_count": 54,
   "metadata": {},
   "outputs": [
    {
     "data": {
      "text/html": [
       "<div>\n",
       "<style scoped>\n",
       "    .dataframe tbody tr th:only-of-type {\n",
       "        vertical-align: middle;\n",
       "    }\n",
       "\n",
       "    .dataframe tbody tr th {\n",
       "        vertical-align: top;\n",
       "    }\n",
       "\n",
       "    .dataframe thead th {\n",
       "        text-align: right;\n",
       "    }\n",
       "</style>\n",
       "<table border=\"1\" class=\"dataframe\">\n",
       "  <thead>\n",
       "    <tr style=\"text-align: right;\">\n",
       "      <th></th>\n",
       "      <th>Date</th>\n",
       "      <th>PM2.5</th>\n",
       "      <th>PM10</th>\n",
       "      <th>NO</th>\n",
       "      <th>NO2</th>\n",
       "      <th>NOx</th>\n",
       "      <th>NH3</th>\n",
       "      <th>SO2</th>\n",
       "      <th>CO</th>\n",
       "      <th>Ozone</th>\n",
       "      <th>...</th>\n",
       "      <th>MP-Xylene</th>\n",
       "      <th>RH</th>\n",
       "      <th>WS</th>\n",
       "      <th>WD</th>\n",
       "      <th>SR</th>\n",
       "      <th>BP</th>\n",
       "      <th>Xylene</th>\n",
       "      <th>AT</th>\n",
       "      <th>RF</th>\n",
       "      <th>TOT-RF</th>\n",
       "    </tr>\n",
       "  </thead>\n",
       "  <tbody>\n",
       "    <tr>\n",
       "      <th>0</th>\n",
       "      <td>2021-01-01 00:15:00</td>\n",
       "      <td>147.26</td>\n",
       "      <td>175.93</td>\n",
       "      <td>16.23</td>\n",
       "      <td>61.72</td>\n",
       "      <td>45.30</td>\n",
       "      <td>79.76</td>\n",
       "      <td>4.68</td>\n",
       "      <td>1.38</td>\n",
       "      <td>13.0</td>\n",
       "      <td>...</td>\n",
       "      <td>NaN</td>\n",
       "      <td>94.14</td>\n",
       "      <td>0.46</td>\n",
       "      <td>187.53</td>\n",
       "      <td>NaN</td>\n",
       "      <td>953.2</td>\n",
       "      <td>0.0</td>\n",
       "      <td>21.84</td>\n",
       "      <td>0.0</td>\n",
       "      <td>0.0</td>\n",
       "    </tr>\n",
       "    <tr>\n",
       "      <th>1</th>\n",
       "      <td>2021-01-01 00:30:00</td>\n",
       "      <td>145.37</td>\n",
       "      <td>173.96</td>\n",
       "      <td>16.88</td>\n",
       "      <td>61.50</td>\n",
       "      <td>45.75</td>\n",
       "      <td>79.01</td>\n",
       "      <td>18.49</td>\n",
       "      <td>1.38</td>\n",
       "      <td>15.0</td>\n",
       "      <td>...</td>\n",
       "      <td>NaN</td>\n",
       "      <td>94.99</td>\n",
       "      <td>0.47</td>\n",
       "      <td>224.11</td>\n",
       "      <td>NaN</td>\n",
       "      <td>953.2</td>\n",
       "      <td>0.0</td>\n",
       "      <td>21.84</td>\n",
       "      <td>0.0</td>\n",
       "      <td>0.0</td>\n",
       "    </tr>\n",
       "    <tr>\n",
       "      <th>2</th>\n",
       "      <td>2021-01-01 00:45:00</td>\n",
       "      <td>156.71</td>\n",
       "      <td>186.12</td>\n",
       "      <td>22.71</td>\n",
       "      <td>62.99</td>\n",
       "      <td>51.15</td>\n",
       "      <td>84.96</td>\n",
       "      <td>17.62</td>\n",
       "      <td>1.27</td>\n",
       "      <td>10.0</td>\n",
       "      <td>...</td>\n",
       "      <td>NaN</td>\n",
       "      <td>93.88</td>\n",
       "      <td>0.46</td>\n",
       "      <td>212.47</td>\n",
       "      <td>NaN</td>\n",
       "      <td>953.2</td>\n",
       "      <td>0.0</td>\n",
       "      <td>22.01</td>\n",
       "      <td>0.0</td>\n",
       "      <td>0.0</td>\n",
       "    </tr>\n",
       "    <tr>\n",
       "      <th>3</th>\n",
       "      <td>2021-01-01 01:00:00</td>\n",
       "      <td>171.18</td>\n",
       "      <td>205.41</td>\n",
       "      <td>16.55</td>\n",
       "      <td>59.13</td>\n",
       "      <td>44.19</td>\n",
       "      <td>77.83</td>\n",
       "      <td>18.14</td>\n",
       "      <td>1.23</td>\n",
       "      <td>12.0</td>\n",
       "      <td>...</td>\n",
       "      <td>NaN</td>\n",
       "      <td>93.38</td>\n",
       "      <td>0.27</td>\n",
       "      <td>216.65</td>\n",
       "      <td>NaN</td>\n",
       "      <td>954.2</td>\n",
       "      <td>0.0</td>\n",
       "      <td>21.99</td>\n",
       "      <td>0.0</td>\n",
       "      <td>0.0</td>\n",
       "    </tr>\n",
       "    <tr>\n",
       "      <th>4</th>\n",
       "      <td>2021-01-01 01:15:00</td>\n",
       "      <td>183.17</td>\n",
       "      <td>219.31</td>\n",
       "      <td>20.39</td>\n",
       "      <td>59.87</td>\n",
       "      <td>47.66</td>\n",
       "      <td>81.63</td>\n",
       "      <td>18.69</td>\n",
       "      <td>1.24</td>\n",
       "      <td>14.0</td>\n",
       "      <td>...</td>\n",
       "      <td>NaN</td>\n",
       "      <td>92.44</td>\n",
       "      <td>0.17</td>\n",
       "      <td>103.12</td>\n",
       "      <td>NaN</td>\n",
       "      <td>954.9</td>\n",
       "      <td>0.0</td>\n",
       "      <td>22.04</td>\n",
       "      <td>0.0</td>\n",
       "      <td>0.0</td>\n",
       "    </tr>\n",
       "  </tbody>\n",
       "</table>\n",
       "<p>5 rows × 23 columns</p>\n",
       "</div>"
      ],
      "text/plain": [
       "                 Date   PM2.5    PM10     NO    NO2    NOx    NH3    SO2  \\\n",
       "0 2021-01-01 00:15:00  147.26  175.93  16.23  61.72  45.30  79.76   4.68   \n",
       "1 2021-01-01 00:30:00  145.37  173.96  16.88  61.50  45.75  79.01  18.49   \n",
       "2 2021-01-01 00:45:00  156.71  186.12  22.71  62.99  51.15  84.96  17.62   \n",
       "3 2021-01-01 01:00:00  171.18  205.41  16.55  59.13  44.19  77.83  18.14   \n",
       "4 2021-01-01 01:15:00  183.17  219.31  20.39  59.87  47.66  81.63  18.69   \n",
       "\n",
       "     CO  Ozone  ...  MP-Xylene     RH    WS      WD  SR     BP  Xylene     AT  \\\n",
       "0  1.38   13.0  ...        NaN  94.14  0.46  187.53 NaN  953.2     0.0  21.84   \n",
       "1  1.38   15.0  ...        NaN  94.99  0.47  224.11 NaN  953.2     0.0  21.84   \n",
       "2  1.27   10.0  ...        NaN  93.88  0.46  212.47 NaN  953.2     0.0  22.01   \n",
       "3  1.23   12.0  ...        NaN  93.38  0.27  216.65 NaN  954.2     0.0  21.99   \n",
       "4  1.24   14.0  ...        NaN  92.44  0.17  103.12 NaN  954.9     0.0  22.04   \n",
       "\n",
       "    RF  TOT-RF  \n",
       "0  0.0     0.0  \n",
       "1  0.0     0.0  \n",
       "2  0.0     0.0  \n",
       "3  0.0     0.0  \n",
       "4  0.0     0.0  \n",
       "\n",
       "[5 rows x 23 columns]"
      ]
     },
     "execution_count": 54,
     "metadata": {},
     "output_type": "execute_result"
    }
   ],
   "source": [
    "data_dict['BandraKurlaComplexMumbaiIITM'].head()"
   ]
  },
  {
   "attachments": {},
   "cell_type": "markdown",
   "metadata": {},
   "source": [
    "## Get pollutant rolling averages "
   ]
  },
  {
   "cell_type": "code",
   "execution_count": 55,
   "metadata": {},
   "outputs": [],
   "source": [
    "def get_rolling_average(df):\n",
    "    if(\"PM10\" in df.columns):\n",
    "        df[\"PM10_24hr_avg\"] = df[\"PM10\"].rolling(window = 24, min_periods = 16).mean().values\n",
    "    \n",
    "    if(\"PM2.5\" in df.columns):\n",
    "        df[\"PM2.5_24hr_avg\"] = df[\"PM2.5\"].rolling(window = 24, min_periods = 16).mean().values\n",
    "\n",
    "    if(\"SO2\" in df.columns):    \n",
    "        df[\"SO2_24hr_avg\"] = df[\"SO2\"].rolling(window = 24, min_periods = 16).mean().values\n",
    "\n",
    "    if(\"NOx\" in df.columns):    \n",
    "        df[\"NOx_24hr_avg\"] = df[\"NOx\"].rolling(window = 24, min_periods = 16).mean().values\n",
    "\n",
    "    if(\"NH3\" in df.columns):\n",
    "        df[\"NH3_24hr_avg\"] = df[\"NH3\"].rolling(window = 24, min_periods = 16).mean().values\n",
    "    \n",
    "    if(\"CO\" in df.columns):\n",
    "        df[\"CO_8hr_max\"] = df[\"CO\"].rolling(window = 8, min_periods = 1).max().values\n",
    "    \n",
    "    if(\"Ozone\" in df.columns):\n",
    "        df[\"Ozone_8hr_max\"] = df[\"Ozone\"].rolling(window = 8, min_periods = 1).max().values\n",
    "\n",
    "    return df "
   ]
  },
  {
   "cell_type": "code",
   "execution_count": 56,
   "metadata": {},
   "outputs": [],
   "source": [
    "for key in data_dict.keys():\n",
    "    data_dict[key] = get_rolling_average(data_dict[key])"
   ]
  },
  {
   "cell_type": "code",
   "execution_count": 57,
   "metadata": {},
   "outputs": [
    {
     "data": {
      "text/plain": [
       "Index(['Date', 'PM2.5', 'PM10', 'NO', 'NO2', 'NOx', 'NH3', 'SO2', 'CO',\n",
       "       'Ozone', 'Benzene', 'Toluene', 'Eth-Benzene', 'MP-Xylene', 'RH', 'WS',\n",
       "       'WD', 'SR', 'BP', 'Xylene', 'AT', 'RF', 'TOT-RF', 'PM10_24hr_avg',\n",
       "       'PM2.5_24hr_avg', 'SO2_24hr_avg', 'NOx_24hr_avg', 'NH3_24hr_avg',\n",
       "       'CO_8hr_max', 'Ozone_8hr_max'],\n",
       "      dtype='object')"
      ]
     },
     "execution_count": 57,
     "metadata": {},
     "output_type": "execute_result"
    }
   ],
   "source": [
    "data_dict['BandraKurlaComplexMumbaiIITM'].columns"
   ]
  },
  {
   "attachments": {},
   "cell_type": "markdown",
   "metadata": {},
   "source": [
    "## Compute pollutant sub-index"
   ]
  },
  {
   "cell_type": "code",
   "execution_count": 58,
   "metadata": {},
   "outputs": [],
   "source": [
    "## PM2.5 Sub-Index calculation\n",
    "def get_PM25_subindex(x):\n",
    "    if x <= 30:\n",
    "        return x * 50 / 30\n",
    "    elif x <= 60:\n",
    "        return 50 + (x - 30) * 50 / 30\n",
    "    elif x <= 90:\n",
    "        return 100 + (x - 60) * 100 / 30\n",
    "    elif x <= 120:\n",
    "        return 200 + (x - 90) * 100 / 30\n",
    "    elif x <= 250:\n",
    "        return 300 + (x - 120) * 100 / 130\n",
    "    elif x > 250:\n",
    "        return 400 + (x - 250) * 100 / 130\n",
    "    else:\n",
    "        return 0"
   ]
  },
  {
   "cell_type": "code",
   "execution_count": 59,
   "metadata": {},
   "outputs": [],
   "source": [
    "for key in data_dict.keys():\n",
    "    data_dict[key][\"PM2.5_SubIndex\"] = data_dict[key][\"PM2.5_24hr_avg\"].apply(lambda x: get_PM25_subindex(x))"
   ]
  },
  {
   "cell_type": "code",
   "execution_count": 60,
   "metadata": {},
   "outputs": [],
   "source": [
    "## PM10 Sub-Index calculation\n",
    "def get_PM10_subindex(x):\n",
    "    if x <= 50:\n",
    "        return x\n",
    "    elif x <= 100:\n",
    "        return x\n",
    "    elif x <= 250:\n",
    "        return 100 + (x - 100) * 100 / 150\n",
    "    elif x <= 350:\n",
    "        return 200 + (x - 250)\n",
    "    elif x <= 430:\n",
    "        return 300 + (x - 350) * 100 / 80\n",
    "    elif x > 430:\n",
    "        return 400 + (x - 430) * 100 / 80\n",
    "    else:\n",
    "        return 0"
   ]
  },
  {
   "cell_type": "code",
   "execution_count": 61,
   "metadata": {},
   "outputs": [],
   "source": [
    "for key in data_dict.keys():\n",
    "    data_dict[key][\"PM10_SubIndex\"] = data_dict[key][\"PM10_24hr_avg\"].apply(lambda x: get_PM10_subindex(x))"
   ]
  },
  {
   "cell_type": "code",
   "execution_count": 62,
   "metadata": {},
   "outputs": [],
   "source": [
    "## SO2 Sub-Index calculation\n",
    "def get_SO2_subindex(x):\n",
    "    if x <= 40:\n",
    "        return x * 50 / 40\n",
    "    elif x <= 80:\n",
    "        return 50 + (x - 40) * 50 / 40\n",
    "    elif x <= 380:\n",
    "        return 100 + (x - 80) * 100 / 300\n",
    "    elif x <= 800:\n",
    "        return 200 + (x - 380) * 100 / 420\n",
    "    elif x <= 1600:\n",
    "        return 300 + (x - 800) * 100 / 800\n",
    "    elif x > 1600:\n",
    "        return 400 + (x - 1600) * 100 / 800\n",
    "    else:\n",
    "        return 0"
   ]
  },
  {
   "cell_type": "code",
   "execution_count": 63,
   "metadata": {},
   "outputs": [],
   "source": [
    "for key in data_dict.keys():\n",
    "    if(\"SO2_24hr_avg\" in data_dict[key].columns):\n",
    "        data_dict[key][\"SO2_SubIndex\"] = data_dict[key][\"SO2_24hr_avg\"].apply(lambda x: get_SO2_subindex(x))"
   ]
  },
  {
   "cell_type": "code",
   "execution_count": 64,
   "metadata": {},
   "outputs": [],
   "source": [
    "## NOx Sub-Index calculation\n",
    "def get_NOx_subindex(x):\n",
    "    if x <= 40:\n",
    "        return x * 50 / 40\n",
    "    elif x <= 80:\n",
    "        return 50 + (x - 40) * 50 / 40\n",
    "    elif x <= 180:\n",
    "        return 100 + (x - 80) * 100 / 100\n",
    "    elif x <= 280:\n",
    "        return 200 + (x - 180) * 100 / 100\n",
    "    elif x <= 400:\n",
    "        return 300 + (x - 280) * 100 / 120\n",
    "    elif x > 400:\n",
    "        return 400 + (x - 400) * 100 / 120\n",
    "    else:\n",
    "        return 0"
   ]
  },
  {
   "cell_type": "code",
   "execution_count": 65,
   "metadata": {},
   "outputs": [],
   "source": [
    "for key in data_dict.keys():\n",
    "    if(\"NOx_24hr_avg\" in data_dict[key].columns):\n",
    "        data_dict[key][\"NOx_SubIndex\"] = data_dict[key][\"NOx_24hr_avg\"].apply(lambda x: get_NOx_subindex(x))"
   ]
  },
  {
   "cell_type": "code",
   "execution_count": 66,
   "metadata": {},
   "outputs": [],
   "source": [
    "## NH3 Sub-Index calculation\n",
    "def get_NH3_subindex(x):\n",
    "    if x <= 200:\n",
    "        return x * 50 / 200\n",
    "    elif x <= 400:\n",
    "        return 50 + (x - 200) * 50 / 200\n",
    "    elif x <= 800:\n",
    "        return 100 + (x - 400) * 100 / 400\n",
    "    elif x <= 1200:\n",
    "        return 200 + (x - 800) * 100 / 400\n",
    "    elif x <= 1800:\n",
    "        return 300 + (x - 1200) * 100 / 600\n",
    "    elif x > 1800:\n",
    "        return 400 + (x - 1800) * 100 / 600\n",
    "    else:\n",
    "        return 0"
   ]
  },
  {
   "cell_type": "code",
   "execution_count": 67,
   "metadata": {},
   "outputs": [],
   "source": [
    "for key in data_dict.keys():\n",
    "    if(\"NH3_24hr_avg\" in data_dict[key].columns):\n",
    "        data_dict[key][\"NH3_SubIndex\"] = data_dict[key][\"NH3_24hr_avg\"].apply(lambda x: get_NH3_subindex(x))"
   ]
  },
  {
   "cell_type": "code",
   "execution_count": 68,
   "metadata": {},
   "outputs": [],
   "source": [
    "## CO Sub-Index calculation\n",
    "def get_CO_subindex(x):\n",
    "    if x <= 1:\n",
    "        return x * 50 / 1\n",
    "    elif x <= 2:\n",
    "        return 50 + (x - 1) * 50 / 1\n",
    "    elif x <= 10:\n",
    "        return 100 + (x - 2) * 100 / 8\n",
    "    elif x <= 17:\n",
    "        return 200 + (x - 10) * 100 / 7\n",
    "    elif x <= 34:\n",
    "        return 300 + (x - 17) * 100 / 17\n",
    "    elif x > 34:\n",
    "        return 400 + (x - 34) * 100 / 17\n",
    "    else:\n",
    "        return 0"
   ]
  },
  {
   "cell_type": "code",
   "execution_count": 69,
   "metadata": {},
   "outputs": [],
   "source": [
    "for key in data_dict.keys():\n",
    "    if(\"CO_24hr_avg\" in data_dict[key].columns):\n",
    "        data_dict[key][\"CO_SubIndex\"] = data_dict[key][\"CO_24hr_avg\"].apply(lambda x: get_CO_subindex(x))"
   ]
  },
  {
   "cell_type": "code",
   "execution_count": 70,
   "metadata": {},
   "outputs": [],
   "source": [
    "## Ozone Sub-Index calculation\n",
    "def get_Ozone_subindex(x):\n",
    "    if x <= 50:\n",
    "        return x * 50 / 50\n",
    "    elif x <= 100:\n",
    "        return 50 + (x - 50) * 50 / 50\n",
    "    elif x <= 168:\n",
    "        return 100 + (x - 100) * 100 / 68\n",
    "    elif x <= 208:\n",
    "        return 200 + (x - 168) * 100 / 40\n",
    "    elif x <= 748:\n",
    "        return 300 + (x - 208) * 100 / 539\n",
    "    elif x > 748:\n",
    "        return 400 + (x - 400) * 100 / 539\n",
    "    else:\n",
    "        return 0"
   ]
  },
  {
   "cell_type": "code",
   "execution_count": 71,
   "metadata": {},
   "outputs": [],
   "source": [
    "for key in data_dict.keys():\n",
    "    if(\"Ozone_24hr_avg\" in data_dict[key].columns):\n",
    "        data_dict[key][\"Ozone_SubIndex\"] = data_dict[key][\"Ozone_24hr_avg\"].apply(lambda x: get_CO_subindex(x))"
   ]
  },
  {
   "cell_type": "code",
   "execution_count": 72,
   "metadata": {},
   "outputs": [],
   "source": [
    "## AQI bucketing\n",
    "def get_AQI_bucket(x):\n",
    "    if x <= 50:\n",
    "        return \"Good\"\n",
    "    elif x <= 100:\n",
    "        return \"Satisfactory\"\n",
    "    elif x <= 200:\n",
    "        return \"Moderate\"\n",
    "    elif x <= 300:\n",
    "        return \"Poor\"\n",
    "    elif x <= 400:\n",
    "        return \"Very Poor\"\n",
    "    elif x > 400:\n",
    "        return \"Severe\"\n",
    "    else:\n",
    "        return np.NaN"
   ]
  },
  {
   "cell_type": "code",
   "execution_count": 73,
   "metadata": {},
   "outputs": [],
   "source": [
    "for key in data_dict.keys():\n",
    "    count = 0 \n",
    "    df = data_dict[key]\n",
    "    \n",
    "    count += (df[\"PM2.5_SubIndex\"] > 0).astype(int)\n",
    "    count += (df[\"PM10_SubIndex\"] > 0).astype(int)\n",
    "    if(\"SO2_SubIndex\" in df.columns):\n",
    "        count += (df[\"SO2_SubIndex\"] > 0).astype(int)\n",
    "    if(\"NOx_SubIndex\" in df.columns):\n",
    "        count += (df[\"NOx_SubIndex\"] > 0).astype(int)\n",
    "    if(\"NH3_SubIndex\" in df.columns):\n",
    "        count += (df[\"NH3_SubIndex\"] > 0).astype(int)\n",
    "    if(\"CO_SubIndex\" in df.columns):\n",
    "        count += (df[\"CO_SubIndex\"] > 0).astype(int)\n",
    "    if(\"Ozone_SubIndex\" in df.columns):\n",
    "        count += (df[\"Ozone_SubIndex\"] > 0).astype(int)\n",
    "\n",
    "    df[\"Checks\"] = count"
   ]
  },
  {
   "cell_type": "code",
   "execution_count": 74,
   "metadata": {},
   "outputs": [
    {
     "data": {
      "text/plain": [
       "Index(['Date', 'PM2.5', 'PM10', 'NO', 'NO2', 'NOx', 'NH3', 'SO2', 'CO',\n",
       "       'Ozone', 'Benzene', 'Toluene', 'Eth-Benzene', 'MP-Xylene', 'RH', 'WS',\n",
       "       'WD', 'SR', 'BP', 'Xylene', 'AT', 'RF', 'TOT-RF', 'PM10_24hr_avg',\n",
       "       'PM2.5_24hr_avg', 'SO2_24hr_avg', 'NOx_24hr_avg', 'NH3_24hr_avg',\n",
       "       'CO_8hr_max', 'Ozone_8hr_max', 'PM2.5_SubIndex', 'PM10_SubIndex',\n",
       "       'SO2_SubIndex', 'NOx_SubIndex', 'NH3_SubIndex', 'Checks'],\n",
       "      dtype='object')"
      ]
     },
     "execution_count": 74,
     "metadata": {},
     "output_type": "execute_result"
    }
   ],
   "source": [
    "data_dict['BandraKurlaComplexMumbaiIITM'].columns"
   ]
  },
  {
   "cell_type": "code",
   "execution_count": 75,
   "metadata": {},
   "outputs": [],
   "source": [
    "for key in data_dict.keys():\n",
    "    df = data_dict[key]\n",
    "\n",
    "    subindex_cols = [col for col in df.columns if 'SubIndex' in col]\n",
    "\n",
    "    df[\"AQI_calculated\"] = round(df[subindex_cols].max(axis = 1))\n",
    "    df.loc[df[\"PM2.5_SubIndex\"] + df[\"PM10_SubIndex\"] <= 0, \"AQI_calculated\"] = np.NaN\n",
    "    df.loc[df.Checks < 3, \"AQI_calculated\"] = np.NaN\n",
    "    df[\"AQI_bucket_calculated\"] = df[\"AQI_calculated\"].apply(lambda x: get_AQI_bucket(x))\n"
   ]
  },
  {
   "cell_type": "code",
   "execution_count": 76,
   "metadata": {},
   "outputs": [
    {
     "data": {
      "text/plain": [
       "Index(['Date', 'PM2.5', 'PM10', 'NO', 'NO2', 'NOx', 'NH3', 'SO2', 'CO',\n",
       "       'Ozone', 'Benzene', 'Toluene', 'Eth-Benzene', 'MP-Xylene', 'RH', 'WS',\n",
       "       'WD', 'SR', 'BP', 'Xylene', 'AT', 'RF', 'TOT-RF', 'PM10_24hr_avg',\n",
       "       'PM2.5_24hr_avg', 'SO2_24hr_avg', 'NOx_24hr_avg', 'NH3_24hr_avg',\n",
       "       'CO_8hr_max', 'Ozone_8hr_max', 'PM2.5_SubIndex', 'PM10_SubIndex',\n",
       "       'SO2_SubIndex', 'NOx_SubIndex', 'NH3_SubIndex', 'Checks',\n",
       "       'AQI_calculated', 'AQI_bucket_calculated'],\n",
       "      dtype='object')"
      ]
     },
     "execution_count": 76,
     "metadata": {},
     "output_type": "execute_result"
    }
   ],
   "source": [
    "data_dict['BandraKurlaComplexMumbaiIITM'].columns"
   ]
  },
  {
   "cell_type": "code",
   "execution_count": 78,
   "metadata": {},
   "outputs": [
    {
     "data": {
      "text/html": [
       "<div>\n",
       "<style scoped>\n",
       "    .dataframe tbody tr th:only-of-type {\n",
       "        vertical-align: middle;\n",
       "    }\n",
       "\n",
       "    .dataframe tbody tr th {\n",
       "        vertical-align: top;\n",
       "    }\n",
       "\n",
       "    .dataframe thead th {\n",
       "        text-align: right;\n",
       "    }\n",
       "</style>\n",
       "<table border=\"1\" class=\"dataframe\">\n",
       "  <thead>\n",
       "    <tr style=\"text-align: right;\">\n",
       "      <th></th>\n",
       "      <th>Date</th>\n",
       "      <th>PM2.5</th>\n",
       "      <th>PM10</th>\n",
       "      <th>NO</th>\n",
       "      <th>NO2</th>\n",
       "      <th>NOx</th>\n",
       "      <th>NH3</th>\n",
       "      <th>SO2</th>\n",
       "      <th>CO</th>\n",
       "      <th>Ozone</th>\n",
       "      <th>...</th>\n",
       "      <th>CO_8hr_max</th>\n",
       "      <th>Ozone_8hr_max</th>\n",
       "      <th>PM2.5_SubIndex</th>\n",
       "      <th>PM10_SubIndex</th>\n",
       "      <th>SO2_SubIndex</th>\n",
       "      <th>NOx_SubIndex</th>\n",
       "      <th>NH3_SubIndex</th>\n",
       "      <th>Checks</th>\n",
       "      <th>AQI_calculated</th>\n",
       "      <th>AQI_bucket_calculated</th>\n",
       "    </tr>\n",
       "  </thead>\n",
       "  <tbody>\n",
       "    <tr>\n",
       "      <th>76470</th>\n",
       "      <td>2023-03-08 13:45:00</td>\n",
       "      <td>89.07</td>\n",
       "      <td>187.55</td>\n",
       "      <td>128.94</td>\n",
       "      <td>107.15</td>\n",
       "      <td>163.90</td>\n",
       "      <td>173.35</td>\n",
       "      <td>50.83</td>\n",
       "      <td>0.0</td>\n",
       "      <td>165.0</td>\n",
       "      <td>...</td>\n",
       "      <td>0.02</td>\n",
       "      <td>176.0</td>\n",
       "      <td>195.481944</td>\n",
       "      <td>151.758056</td>\n",
       "      <td>72.715104</td>\n",
       "      <td>232.125833</td>\n",
       "      <td>51.753646</td>\n",
       "      <td>5</td>\n",
       "      <td>232.0</td>\n",
       "      <td>Poor</td>\n",
       "    </tr>\n",
       "    <tr>\n",
       "      <th>76471</th>\n",
       "      <td>2023-03-08 14:00:00</td>\n",
       "      <td>93.35</td>\n",
       "      <td>177.91</td>\n",
       "      <td>96.45</td>\n",
       "      <td>105.15</td>\n",
       "      <td>128.26</td>\n",
       "      <td>148.24</td>\n",
       "      <td>43.74</td>\n",
       "      <td>0.0</td>\n",
       "      <td>150.0</td>\n",
       "      <td>...</td>\n",
       "      <td>0.00</td>\n",
       "      <td>176.0</td>\n",
       "      <td>195.408333</td>\n",
       "      <td>151.686111</td>\n",
       "      <td>71.497917</td>\n",
       "      <td>230.913333</td>\n",
       "      <td>51.620729</td>\n",
       "      <td>5</td>\n",
       "      <td>231.0</td>\n",
       "      <td>Poor</td>\n",
       "    </tr>\n",
       "    <tr>\n",
       "      <th>76472</th>\n",
       "      <td>2023-03-08 14:15:00</td>\n",
       "      <td>95.64</td>\n",
       "      <td>177.82</td>\n",
       "      <td>118.26</td>\n",
       "      <td>158.14</td>\n",
       "      <td>177.40</td>\n",
       "      <td>179.00</td>\n",
       "      <td>40.37</td>\n",
       "      <td>0.0</td>\n",
       "      <td>192.0</td>\n",
       "      <td>...</td>\n",
       "      <td>0.00</td>\n",
       "      <td>192.0</td>\n",
       "      <td>196.983333</td>\n",
       "      <td>151.575000</td>\n",
       "      <td>69.706771</td>\n",
       "      <td>231.240417</td>\n",
       "      <td>51.801771</td>\n",
       "      <td>5</td>\n",
       "      <td>231.0</td>\n",
       "      <td>Poor</td>\n",
       "    </tr>\n",
       "    <tr>\n",
       "      <th>76473</th>\n",
       "      <td>2023-03-08 14:30:00</td>\n",
       "      <td>101.09</td>\n",
       "      <td>175.04</td>\n",
       "      <td>105.69</td>\n",
       "      <td>149.00</td>\n",
       "      <td>163.99</td>\n",
       "      <td>155.00</td>\n",
       "      <td>40.38</td>\n",
       "      <td>0.0</td>\n",
       "      <td>51.0</td>\n",
       "      <td>...</td>\n",
       "      <td>0.00</td>\n",
       "      <td>192.0</td>\n",
       "      <td>198.280556</td>\n",
       "      <td>151.417500</td>\n",
       "      <td>68.098437</td>\n",
       "      <td>229.282917</td>\n",
       "      <td>51.453333</td>\n",
       "      <td>5</td>\n",
       "      <td>229.0</td>\n",
       "      <td>Poor</td>\n",
       "    </tr>\n",
       "    <tr>\n",
       "      <th>76474</th>\n",
       "      <td>2023-03-08 14:41:00</td>\n",
       "      <td>92.99</td>\n",
       "      <td>196.95</td>\n",
       "      <td>101.40</td>\n",
       "      <td>159.51</td>\n",
       "      <td>164.63</td>\n",
       "      <td>171.00</td>\n",
       "      <td>42.69</td>\n",
       "      <td>0.0</td>\n",
       "      <td>166.0</td>\n",
       "      <td>...</td>\n",
       "      <td>0.00</td>\n",
       "      <td>192.0</td>\n",
       "      <td>198.395833</td>\n",
       "      <td>151.843889</td>\n",
       "      <td>66.548958</td>\n",
       "      <td>226.830833</td>\n",
       "      <td>51.115521</td>\n",
       "      <td>5</td>\n",
       "      <td>227.0</td>\n",
       "      <td>Poor</td>\n",
       "    </tr>\n",
       "  </tbody>\n",
       "</table>\n",
       "<p>5 rows × 38 columns</p>\n",
       "</div>"
      ],
      "text/plain": [
       "                     Date   PM2.5    PM10      NO     NO2     NOx     NH3  \\\n",
       "76470 2023-03-08 13:45:00   89.07  187.55  128.94  107.15  163.90  173.35   \n",
       "76471 2023-03-08 14:00:00   93.35  177.91   96.45  105.15  128.26  148.24   \n",
       "76472 2023-03-08 14:15:00   95.64  177.82  118.26  158.14  177.40  179.00   \n",
       "76473 2023-03-08 14:30:00  101.09  175.04  105.69  149.00  163.99  155.00   \n",
       "76474 2023-03-08 14:41:00   92.99  196.95  101.40  159.51  164.63  171.00   \n",
       "\n",
       "         SO2   CO  Ozone  ...  CO_8hr_max  Ozone_8hr_max  PM2.5_SubIndex  \\\n",
       "76470  50.83  0.0  165.0  ...        0.02          176.0      195.481944   \n",
       "76471  43.74  0.0  150.0  ...        0.00          176.0      195.408333   \n",
       "76472  40.37  0.0  192.0  ...        0.00          192.0      196.983333   \n",
       "76473  40.38  0.0   51.0  ...        0.00          192.0      198.280556   \n",
       "76474  42.69  0.0  166.0  ...        0.00          192.0      198.395833   \n",
       "\n",
       "       PM10_SubIndex  SO2_SubIndex  NOx_SubIndex  NH3_SubIndex  Checks  \\\n",
       "76470     151.758056     72.715104    232.125833     51.753646       5   \n",
       "76471     151.686111     71.497917    230.913333     51.620729       5   \n",
       "76472     151.575000     69.706771    231.240417     51.801771       5   \n",
       "76473     151.417500     68.098437    229.282917     51.453333       5   \n",
       "76474     151.843889     66.548958    226.830833     51.115521       5   \n",
       "\n",
       "       AQI_calculated  AQI_bucket_calculated  \n",
       "76470           232.0                   Poor  \n",
       "76471           231.0                   Poor  \n",
       "76472           231.0                   Poor  \n",
       "76473           229.0                   Poor  \n",
       "76474           227.0                   Poor  \n",
       "\n",
       "[5 rows x 38 columns]"
      ]
     },
     "execution_count": 78,
     "metadata": {},
     "output_type": "execute_result"
    }
   ],
   "source": [
    "df = data_dict['BandraKurlaComplexMumbaiIITM']\n",
    "df[~df.AQI_calculated.isna()].tail()\n"
   ]
  }
 ],
 "metadata": {
  "kernelspec": {
   "display_name": "mlops-course",
   "language": "python",
   "name": "python3"
  },
  "language_info": {
   "codemirror_mode": {
    "name": "ipython",
    "version": 3
   },
   "file_extension": ".py",
   "mimetype": "text/x-python",
   "name": "python",
   "nbconvert_exporter": "python",
   "pygments_lexer": "ipython3",
   "version": "3.8.15"
  },
  "orig_nbformat": 4
 },
 "nbformat": 4,
 "nbformat_minor": 2
}
