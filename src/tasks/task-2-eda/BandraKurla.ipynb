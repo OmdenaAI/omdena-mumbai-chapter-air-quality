{
 "cells": [
  {
   "attachments": {},
   "cell_type": "markdown",
   "metadata": {},
   "source": [
    "Data Preparation For BandraKurla complex"
   ]
  },
  {
   "cell_type": "code",
   "execution_count": 1,
   "metadata": {},
   "outputs": [],
   "source": [
    "import pandas as pd\n",
    "import matplotlib.pyplot as plt\n",
    "import numpy as np\n",
    "import seaborn as sns"
   ]
  },
  {
   "cell_type": "code",
   "execution_count": 2,
   "metadata": {},
   "outputs": [],
   "source": [
    "df = pd.read_csv('BandraKurlaComplexMumbaiIITM.csv')"
   ]
  },
  {
   "cell_type": "code",
   "execution_count": 3,
   "metadata": {},
   "outputs": [
    {
     "name": "stdout",
     "output_type": "stream",
     "text": [
      "The dataset has 76475 rows and 26 columns\n"
     ]
    }
   ],
   "source": [
    "print(f'The dataset has {df.shape[0]} rows and {df.shape[1]} columns')\n"
   ]
  },
  {
   "cell_type": "code",
   "execution_count": 4,
   "metadata": {},
   "outputs": [
    {
     "data": {
      "text/html": [
       "<div>\n",
       "<style scoped>\n",
       "    .dataframe tbody tr th:only-of-type {\n",
       "        vertical-align: middle;\n",
       "    }\n",
       "\n",
       "    .dataframe tbody tr th {\n",
       "        vertical-align: top;\n",
       "    }\n",
       "\n",
       "    .dataframe thead th {\n",
       "        text-align: right;\n",
       "    }\n",
       "</style>\n",
       "<table border=\"1\" class=\"dataframe\">\n",
       "  <thead>\n",
       "    <tr style=\"text-align: right;\">\n",
       "      <th></th>\n",
       "      <th>Unnamed: 0</th>\n",
       "      <th>From Date</th>\n",
       "      <th>To Date</th>\n",
       "      <th>PM2.5</th>\n",
       "      <th>PM10</th>\n",
       "      <th>NO</th>\n",
       "      <th>NO2</th>\n",
       "      <th>NOx</th>\n",
       "      <th>NH3</th>\n",
       "      <th>SO2</th>\n",
       "      <th>...</th>\n",
       "      <th>RH</th>\n",
       "      <th>WS</th>\n",
       "      <th>WD</th>\n",
       "      <th>SR</th>\n",
       "      <th>BP</th>\n",
       "      <th>Xylene</th>\n",
       "      <th>AT</th>\n",
       "      <th>RF</th>\n",
       "      <th>TOT-RF</th>\n",
       "      <th>Unnamed: 25</th>\n",
       "    </tr>\n",
       "  </thead>\n",
       "  <tbody>\n",
       "    <tr>\n",
       "      <th>0</th>\n",
       "      <td>1</td>\n",
       "      <td>01-01-2021 00:00</td>\n",
       "      <td>01-01-2021 00:15</td>\n",
       "      <td>147.26</td>\n",
       "      <td>175.93</td>\n",
       "      <td>16.23</td>\n",
       "      <td>61.72</td>\n",
       "      <td>45.3</td>\n",
       "      <td>79.76</td>\n",
       "      <td>4.68</td>\n",
       "      <td>...</td>\n",
       "      <td>94.14</td>\n",
       "      <td>0.46</td>\n",
       "      <td>187.53</td>\n",
       "      <td>None</td>\n",
       "      <td>953.2</td>\n",
       "      <td>0</td>\n",
       "      <td>21.84</td>\n",
       "      <td>0</td>\n",
       "      <td>0.0</td>\n",
       "      <td>NaN</td>\n",
       "    </tr>\n",
       "    <tr>\n",
       "      <th>1</th>\n",
       "      <td>2</td>\n",
       "      <td>01-01-2021 00:15</td>\n",
       "      <td>01-01-2021 00:30</td>\n",
       "      <td>145.37</td>\n",
       "      <td>173.96</td>\n",
       "      <td>16.88</td>\n",
       "      <td>61.5</td>\n",
       "      <td>45.75</td>\n",
       "      <td>79.01</td>\n",
       "      <td>18.49</td>\n",
       "      <td>...</td>\n",
       "      <td>94.99</td>\n",
       "      <td>0.47</td>\n",
       "      <td>224.11</td>\n",
       "      <td>None</td>\n",
       "      <td>953.2</td>\n",
       "      <td>0</td>\n",
       "      <td>21.84</td>\n",
       "      <td>0</td>\n",
       "      <td>0.0</td>\n",
       "      <td>NaN</td>\n",
       "    </tr>\n",
       "  </tbody>\n",
       "</table>\n",
       "<p>2 rows × 26 columns</p>\n",
       "</div>"
      ],
      "text/plain": [
       "   Unnamed: 0         From Date           To Date   PM2.5    PM10     NO  \\\n",
       "0           1  01-01-2021 00:00  01-01-2021 00:15  147.26  175.93  16.23   \n",
       "1           2  01-01-2021 00:15  01-01-2021 00:30  145.37  173.96  16.88   \n",
       "\n",
       "     NO2    NOx    NH3    SO2  ...     RH    WS      WD    SR     BP Xylene  \\\n",
       "0  61.72   45.3  79.76   4.68  ...  94.14  0.46  187.53  None  953.2      0   \n",
       "1   61.5  45.75  79.01  18.49  ...  94.99  0.47  224.11  None  953.2      0   \n",
       "\n",
       "      AT RF TOT-RF Unnamed: 25  \n",
       "0  21.84  0    0.0         NaN  \n",
       "1  21.84  0    0.0         NaN  \n",
       "\n",
       "[2 rows x 26 columns]"
      ]
     },
     "execution_count": 4,
     "metadata": {},
     "output_type": "execute_result"
    }
   ],
   "source": [
    "df.head(2)"
   ]
  },
  {
   "cell_type": "code",
   "execution_count": 5,
   "metadata": {},
   "outputs": [
    {
     "data": {
      "text/plain": [
       "Index(['Unnamed: 0', 'From Date', 'To Date', 'PM2.5', 'PM10', 'NO', 'NO2',\n",
       "       'NOx', 'NH3', 'SO2', 'CO', 'Ozone', 'Benzene', 'Toluene', 'Eth-Benzene',\n",
       "       'MP-Xylene', 'RH', 'WS', 'WD', 'SR', 'BP', 'Xylene', 'AT', 'RF',\n",
       "       'TOT-RF', 'Unnamed: 25'],\n",
       "      dtype='object')"
      ]
     },
     "execution_count": 5,
     "metadata": {},
     "output_type": "execute_result"
    }
   ],
   "source": [
    "df.columns"
   ]
  },
  {
   "cell_type": "code",
   "execution_count": 6,
   "metadata": {},
   "outputs": [],
   "source": [
    "df = df[['To Date', 'PM2.5', 'PM10', 'NO', 'NO2',\n",
    "       'NOx', 'NH3', 'SO2', 'CO', 'Ozone', 'Benzene', 'Toluene', 'Eth-Benzene',\n",
    "       'MP-Xylene', 'RH', 'WS', 'WD', 'SR', 'BP', 'Xylene', 'AT', 'RF',\n",
    "       'TOT-RF']]"
   ]
  },
  {
   "attachments": {},
   "cell_type": "markdown",
   "metadata": {},
   "source": [
    "Made changes to columns ;\n",
    "- The time interval for the date was just 15 seconds and the interval is not that huge to make changes to the values\n",
    "- Unnamed : 0 is a column that contains the index\n",
    "- Unnamed : 25  contains a lot of null values and the description of the data is not clear,\n",
    "- We already have our required columns and the others are just features that can help contribute to the results gained for aqi"
   ]
  },
  {
   "cell_type": "code",
   "execution_count": 7,
   "metadata": {},
   "outputs": [
    {
     "data": {
      "text/html": [
       "<div>\n",
       "<style scoped>\n",
       "    .dataframe tbody tr th:only-of-type {\n",
       "        vertical-align: middle;\n",
       "    }\n",
       "\n",
       "    .dataframe tbody tr th {\n",
       "        vertical-align: top;\n",
       "    }\n",
       "\n",
       "    .dataframe thead th {\n",
       "        text-align: right;\n",
       "    }\n",
       "</style>\n",
       "<table border=\"1\" class=\"dataframe\">\n",
       "  <thead>\n",
       "    <tr style=\"text-align: right;\">\n",
       "      <th></th>\n",
       "      <th>To Date</th>\n",
       "      <th>PM2.5</th>\n",
       "      <th>PM10</th>\n",
       "      <th>NO</th>\n",
       "      <th>NO2</th>\n",
       "      <th>NOx</th>\n",
       "      <th>NH3</th>\n",
       "      <th>SO2</th>\n",
       "      <th>CO</th>\n",
       "      <th>Ozone</th>\n",
       "      <th>...</th>\n",
       "      <th>MP-Xylene</th>\n",
       "      <th>RH</th>\n",
       "      <th>WS</th>\n",
       "      <th>WD</th>\n",
       "      <th>SR</th>\n",
       "      <th>BP</th>\n",
       "      <th>Xylene</th>\n",
       "      <th>AT</th>\n",
       "      <th>RF</th>\n",
       "      <th>TOT-RF</th>\n",
       "    </tr>\n",
       "  </thead>\n",
       "  <tbody>\n",
       "    <tr>\n",
       "      <th>0</th>\n",
       "      <td>01-01-2021 00:15</td>\n",
       "      <td>147.26</td>\n",
       "      <td>175.93</td>\n",
       "      <td>16.23</td>\n",
       "      <td>61.72</td>\n",
       "      <td>45.3</td>\n",
       "      <td>79.76</td>\n",
       "      <td>4.68</td>\n",
       "      <td>1.38</td>\n",
       "      <td>13</td>\n",
       "      <td>...</td>\n",
       "      <td>None</td>\n",
       "      <td>94.14</td>\n",
       "      <td>0.46</td>\n",
       "      <td>187.53</td>\n",
       "      <td>None</td>\n",
       "      <td>953.2</td>\n",
       "      <td>0</td>\n",
       "      <td>21.84</td>\n",
       "      <td>0</td>\n",
       "      <td>0.0</td>\n",
       "    </tr>\n",
       "    <tr>\n",
       "      <th>1</th>\n",
       "      <td>01-01-2021 00:30</td>\n",
       "      <td>145.37</td>\n",
       "      <td>173.96</td>\n",
       "      <td>16.88</td>\n",
       "      <td>61.5</td>\n",
       "      <td>45.75</td>\n",
       "      <td>79.01</td>\n",
       "      <td>18.49</td>\n",
       "      <td>1.38</td>\n",
       "      <td>15</td>\n",
       "      <td>...</td>\n",
       "      <td>None</td>\n",
       "      <td>94.99</td>\n",
       "      <td>0.47</td>\n",
       "      <td>224.11</td>\n",
       "      <td>None</td>\n",
       "      <td>953.2</td>\n",
       "      <td>0</td>\n",
       "      <td>21.84</td>\n",
       "      <td>0</td>\n",
       "      <td>0.0</td>\n",
       "    </tr>\n",
       "    <tr>\n",
       "      <th>2</th>\n",
       "      <td>01-01-2021 00:45</td>\n",
       "      <td>156.71</td>\n",
       "      <td>186.12</td>\n",
       "      <td>22.71</td>\n",
       "      <td>62.99</td>\n",
       "      <td>51.15</td>\n",
       "      <td>84.96</td>\n",
       "      <td>17.62</td>\n",
       "      <td>1.27</td>\n",
       "      <td>10</td>\n",
       "      <td>...</td>\n",
       "      <td>None</td>\n",
       "      <td>93.88</td>\n",
       "      <td>0.46</td>\n",
       "      <td>212.47</td>\n",
       "      <td>None</td>\n",
       "      <td>953.2</td>\n",
       "      <td>0</td>\n",
       "      <td>22.01</td>\n",
       "      <td>0</td>\n",
       "      <td>0.0</td>\n",
       "    </tr>\n",
       "    <tr>\n",
       "      <th>3</th>\n",
       "      <td>01-01-2021 01:00</td>\n",
       "      <td>171.18</td>\n",
       "      <td>205.41</td>\n",
       "      <td>16.55</td>\n",
       "      <td>59.13</td>\n",
       "      <td>44.19</td>\n",
       "      <td>77.83</td>\n",
       "      <td>18.14</td>\n",
       "      <td>1.23</td>\n",
       "      <td>12</td>\n",
       "      <td>...</td>\n",
       "      <td>None</td>\n",
       "      <td>93.38</td>\n",
       "      <td>0.27</td>\n",
       "      <td>216.65</td>\n",
       "      <td>None</td>\n",
       "      <td>954.2</td>\n",
       "      <td>0</td>\n",
       "      <td>21.99</td>\n",
       "      <td>0</td>\n",
       "      <td>0.0</td>\n",
       "    </tr>\n",
       "    <tr>\n",
       "      <th>4</th>\n",
       "      <td>01-01-2021 01:15</td>\n",
       "      <td>183.17</td>\n",
       "      <td>219.31</td>\n",
       "      <td>20.39</td>\n",
       "      <td>59.87</td>\n",
       "      <td>47.66</td>\n",
       "      <td>81.63</td>\n",
       "      <td>18.69</td>\n",
       "      <td>1.24</td>\n",
       "      <td>14</td>\n",
       "      <td>...</td>\n",
       "      <td>None</td>\n",
       "      <td>92.44</td>\n",
       "      <td>0.17</td>\n",
       "      <td>103.12</td>\n",
       "      <td>None</td>\n",
       "      <td>954.9</td>\n",
       "      <td>0</td>\n",
       "      <td>22.04</td>\n",
       "      <td>0</td>\n",
       "      <td>0.0</td>\n",
       "    </tr>\n",
       "  </tbody>\n",
       "</table>\n",
       "<p>5 rows × 23 columns</p>\n",
       "</div>"
      ],
      "text/plain": [
       "            To Date   PM2.5    PM10     NO    NO2    NOx    NH3    SO2    CO  \\\n",
       "0  01-01-2021 00:15  147.26  175.93  16.23  61.72   45.3  79.76   4.68  1.38   \n",
       "1  01-01-2021 00:30  145.37  173.96  16.88   61.5  45.75  79.01  18.49  1.38   \n",
       "2  01-01-2021 00:45  156.71  186.12  22.71  62.99  51.15  84.96  17.62  1.27   \n",
       "3  01-01-2021 01:00  171.18  205.41  16.55  59.13  44.19  77.83  18.14  1.23   \n",
       "4  01-01-2021 01:15  183.17  219.31  20.39  59.87  47.66  81.63  18.69  1.24   \n",
       "\n",
       "  Ozone  ... MP-Xylene     RH    WS      WD    SR     BP Xylene     AT RF  \\\n",
       "0    13  ...      None  94.14  0.46  187.53  None  953.2      0  21.84  0   \n",
       "1    15  ...      None  94.99  0.47  224.11  None  953.2      0  21.84  0   \n",
       "2    10  ...      None  93.88  0.46  212.47  None  953.2      0  22.01  0   \n",
       "3    12  ...      None  93.38  0.27  216.65  None  954.2      0  21.99  0   \n",
       "4    14  ...      None  92.44  0.17  103.12  None  954.9      0  22.04  0   \n",
       "\n",
       "  TOT-RF  \n",
       "0    0.0  \n",
       "1    0.0  \n",
       "2    0.0  \n",
       "3    0.0  \n",
       "4    0.0  \n",
       "\n",
       "[5 rows x 23 columns]"
      ]
     },
     "execution_count": 7,
     "metadata": {},
     "output_type": "execute_result"
    }
   ],
   "source": [
    "df.head()"
   ]
  },
  {
   "cell_type": "code",
   "execution_count": 8,
   "metadata": {},
   "outputs": [
    {
     "name": "stdout",
     "output_type": "stream",
     "text": [
      "<class 'pandas.core.frame.DataFrame'>\n",
      "RangeIndex: 76475 entries, 0 to 76474\n",
      "Data columns (total 23 columns):\n",
      " #   Column       Non-Null Count  Dtype  \n",
      "---  ------       --------------  -----  \n",
      " 0   To Date      76475 non-null  object \n",
      " 1   PM2.5        76475 non-null  object \n",
      " 2   PM10         76475 non-null  object \n",
      " 3   NO           76475 non-null  object \n",
      " 4   NO2          76475 non-null  object \n",
      " 5   NOx          76475 non-null  object \n",
      " 6   NH3          76475 non-null  object \n",
      " 7   SO2          76475 non-null  object \n",
      " 8   CO           76475 non-null  object \n",
      " 9   Ozone        76475 non-null  object \n",
      " 10  Benzene      76475 non-null  object \n",
      " 11  Toluene      76475 non-null  object \n",
      " 12  Eth-Benzene  76475 non-null  object \n",
      " 13  MP-Xylene    76475 non-null  object \n",
      " 14  RH           76475 non-null  object \n",
      " 15  WS           76475 non-null  object \n",
      " 16  WD           76475 non-null  object \n",
      " 17  SR           76475 non-null  object \n",
      " 18  BP           76475 non-null  object \n",
      " 19  Xylene       76475 non-null  object \n",
      " 20  AT           76475 non-null  object \n",
      " 21  RF           76475 non-null  object \n",
      " 22  TOT-RF       76475 non-null  float64\n",
      "dtypes: float64(1), object(22)\n",
      "memory usage: 13.4+ MB\n"
     ]
    }
   ],
   "source": [
    "df.info()"
   ]
  },
  {
   "cell_type": "code",
   "execution_count": 9,
   "metadata": {},
   "outputs": [],
   "source": [
    "df.replace('None', np.nan, inplace=True)"
   ]
  },
  {
   "cell_type": "code",
   "execution_count": 10,
   "metadata": {},
   "outputs": [],
   "source": [
    "#changing the datatypes\n",
    "df[['PM2.5', 'PM10', 'NO', 'NO2', 'NOx', 'NH3', 'SO2', 'CO',\n",
    "       'Ozone', 'Benzene', 'Toluene', 'Eth-Benzene', 'MP-Xylene', 'RH', 'WS',\n",
    "       'WD', 'SR', 'BP', 'Xylene', 'AT', 'RF', 'TOT-RF']]= df[['PM2.5', 'PM10', 'NO', 'NO2', 'NOx', 'NH3', 'SO2', 'CO',\n",
    "       'Ozone', 'Benzene', 'Toluene', 'Eth-Benzene', 'MP-Xylene', 'RH', 'WS',\n",
    "       'WD', 'SR', 'BP', 'Xylene', 'AT', 'RF', 'TOT-RF']].astype(float)\n",
    "\n",
    "df['To Date'] = pd.to_datetime(df['To Date'])"
   ]
  },
  {
   "cell_type": "code",
   "execution_count": 11,
   "metadata": {},
   "outputs": [
    {
     "name": "stdout",
     "output_type": "stream",
     "text": [
      "<class 'pandas.core.frame.DataFrame'>\n",
      "RangeIndex: 76475 entries, 0 to 76474\n",
      "Data columns (total 23 columns):\n",
      " #   Column       Non-Null Count  Dtype         \n",
      "---  ------       --------------  -----         \n",
      " 0   To Date      76475 non-null  datetime64[ns]\n",
      " 1   PM2.5        54706 non-null  float64       \n",
      " 2   PM10         54415 non-null  float64       \n",
      " 3   NO           51599 non-null  float64       \n",
      " 4   NO2          52139 non-null  float64       \n",
      " 5   NOx          52239 non-null  float64       \n",
      " 6   NH3          51777 non-null  float64       \n",
      " 7   SO2          52046 non-null  float64       \n",
      " 8   CO           54602 non-null  float64       \n",
      " 9   Ozone        54368 non-null  float64       \n",
      " 10  Benzene      56510 non-null  float64       \n",
      " 11  Toluene      56425 non-null  float64       \n",
      " 12  Eth-Benzene  53829 non-null  float64       \n",
      " 13  MP-Xylene    52911 non-null  float64       \n",
      " 14  RH           56278 non-null  float64       \n",
      " 15  WS           55954 non-null  float64       \n",
      " 16  WD           56084 non-null  float64       \n",
      " 17  SR           0 non-null      float64       \n",
      " 18  BP           56336 non-null  float64       \n",
      " 19  Xylene       56417 non-null  float64       \n",
      " 20  AT           42775 non-null  float64       \n",
      " 21  RF           56369 non-null  float64       \n",
      " 22  TOT-RF       76475 non-null  float64       \n",
      "dtypes: datetime64[ns](1), float64(22)\n",
      "memory usage: 13.4 MB\n"
     ]
    }
   ],
   "source": [
    "df.info()"
   ]
  },
  {
   "cell_type": "markdown",
   "metadata": {},
   "source": []
  },
  {
   "cell_type": "code",
   "execution_count": 12,
   "metadata": {},
   "outputs": [],
   "source": [
    "df['year'] = df['To Date'].dt.year\n",
    "df['month'] = df['To Date'].dt.month\n",
    "df['day'] = df['To Date'].dt.day\n",
    "\n"
   ]
  },
  {
   "cell_type": "code",
   "execution_count": 13,
   "metadata": {},
   "outputs": [
    {
     "data": {
      "text/plain": [
       "Index(['To Date', 'PM2.5', 'PM10', 'NO', 'NO2', 'NOx', 'NH3', 'SO2', 'CO',\n",
       "       'Ozone', 'Benzene', 'Toluene', 'Eth-Benzene', 'MP-Xylene', 'RH', 'WS',\n",
       "       'WD', 'SR', 'BP', 'Xylene', 'AT', 'RF', 'TOT-RF', 'year', 'month',\n",
       "       'day'],\n",
       "      dtype='object')"
      ]
     },
     "execution_count": 13,
     "metadata": {},
     "output_type": "execute_result"
    }
   ],
   "source": [
    "df.columns"
   ]
  },
  {
   "attachments": {},
   "cell_type": "markdown",
   "metadata": {},
   "source": [
    "- Removing rows that have all values missing  in the required features needed for aqi\n",
    "- Removing the date column"
   ]
  },
  {
   "cell_type": "code",
   "execution_count": 14,
   "metadata": {},
   "outputs": [],
   "source": [
    "df = df.dropna(subset=['PM2.5', 'PM10', 'NO', 'NO2', 'NOx', 'NH3', 'SO2', 'CO', 'Ozone'], how='all')"
   ]
  },
  {
   "cell_type": "code",
   "execution_count": 15,
   "metadata": {},
   "outputs": [
    {
     "data": {
      "text/plain": [
       "(57412, 26)"
      ]
     },
     "execution_count": 15,
     "metadata": {},
     "output_type": "execute_result"
    }
   ],
   "source": [
    "df.shape"
   ]
  },
  {
   "cell_type": "code",
   "execution_count": 16,
   "metadata": {},
   "outputs": [],
   "source": [
    "df = df.drop('To Date', axis=1)\n"
   ]
  },
  {
   "cell_type": "code",
   "execution_count": 17,
   "metadata": {},
   "outputs": [
    {
     "data": {
      "text/plain": [
       "PM2.5            4.713300\n",
       "PM10             5.220163\n",
       "NO              10.125061\n",
       "NO2              9.184491\n",
       "NOx              9.010311\n",
       "NH3              9.815021\n",
       "SO2              9.346478\n",
       "CO               4.894447\n",
       "Ozone            5.302027\n",
       "Benzene          1.973455\n",
       "Toluene          2.130217\n",
       "Eth-Benzene      6.651919\n",
       "MP-Xylene        8.247405\n",
       "RH               2.720686\n",
       "WS               3.285028\n",
       "WD               3.063819\n",
       "SR             100.000000\n",
       "BP               2.621403\n",
       "Xylene           2.140667\n",
       "AT              26.149585\n",
       "RF               2.565666\n",
       "TOT-RF           0.000000\n",
       "year             0.000000\n",
       "month            0.000000\n",
       "day              0.000000\n",
       "dtype: float64"
      ]
     },
     "execution_count": 17,
     "metadata": {},
     "output_type": "execute_result"
    }
   ],
   "source": [
    "(df.isnull().sum() / len(df)) * 100"
   ]
  },
  {
   "attachments": {},
   "cell_type": "markdown",
   "metadata": {},
   "source": [
    "- Drop columnns that have more than 20% null values\n",
    "- NB: the required columns have no probelm with the null values since they are all less than"
   ]
  },
  {
   "cell_type": "code",
   "execution_count": 20,
   "metadata": {},
   "outputs": [],
   "source": [
    "threshold = len(df) * 0.25  # set the threshold to 20% of the total number of rows\n",
    "df.dropna(thresh=threshold, axis=1, inplace=True)\n"
   ]
  },
  {
   "cell_type": "code",
   "execution_count": 21,
   "metadata": {},
   "outputs": [
    {
     "data": {
      "text/plain": [
       "PM2.5           4.713300\n",
       "PM10            5.220163\n",
       "NO             10.125061\n",
       "NO2             9.184491\n",
       "NOx             9.010311\n",
       "NH3             9.815021\n",
       "SO2             9.346478\n",
       "CO              4.894447\n",
       "Ozone           5.302027\n",
       "Benzene         1.973455\n",
       "Toluene         2.130217\n",
       "Eth-Benzene     6.651919\n",
       "MP-Xylene       8.247405\n",
       "RH              2.720686\n",
       "WS              3.285028\n",
       "WD              3.063819\n",
       "BP              2.621403\n",
       "Xylene          2.140667\n",
       "AT             26.149585\n",
       "RF              2.565666\n",
       "TOT-RF          0.000000\n",
       "year            0.000000\n",
       "month           0.000000\n",
       "day             0.000000\n",
       "dtype: float64"
      ]
     },
     "execution_count": 21,
     "metadata": {},
     "output_type": "execute_result"
    }
   ],
   "source": [
    "(df.isnull().sum() / len(df)) * 100"
   ]
  },
  {
   "cell_type": "code",
   "execution_count": 22,
   "metadata": {},
   "outputs": [
    {
     "data": {
      "text/plain": [
       "(57412, 24)"
      ]
     },
     "execution_count": 22,
     "metadata": {},
     "output_type": "execute_result"
    }
   ],
   "source": [
    "df.shape"
   ]
  },
  {
   "cell_type": "code",
   "execution_count": 23,
   "metadata": {},
   "outputs": [],
   "source": [
    "#dropping duplicates\n",
    "df = df.drop_duplicates()"
   ]
  },
  {
   "cell_type": "code",
   "execution_count": 24,
   "metadata": {},
   "outputs": [
    {
     "data": {
      "text/plain": [
       "(57393, 24)"
      ]
     },
     "execution_count": 24,
     "metadata": {},
     "output_type": "execute_result"
    }
   ],
   "source": [
    "df.shape"
   ]
  },
  {
   "attachments": {},
   "cell_type": "markdown",
   "metadata": {},
   "source": [
    "## Data manipulation"
   ]
  },
  {
   "attachments": {},
   "cell_type": "markdown",
   "metadata": {},
   "source": [
    "Kalman Smoothing on Structural Time Series method is the best method among the methods considered, for imputing missing values in the context of air quality data under Missing Completely at Random (MCAR) mechanism."
   ]
  },
  {
   "attachments": {},
   "cell_type": "markdown",
   "metadata": {},
   "source": [
    "#### Imputation"
   ]
  },
  {
   "attachments": {},
   "cell_type": "markdown",
   "metadata": {},
   "source": [
    "## Visualization"
   ]
  },
  {
   "cell_type": "code",
   "execution_count": null,
   "metadata": {},
   "outputs": [],
   "source": []
  }
 ],
 "metadata": {
  "kernelspec": {
   "display_name": "Python 3",
   "language": "python",
   "name": "python3"
  },
  "language_info": {
   "codemirror_mode": {
    "name": "ipython",
    "version": 3
   },
   "file_extension": ".py",
   "mimetype": "text/x-python",
   "name": "python",
   "nbconvert_exporter": "python",
   "pygments_lexer": "ipython3",
   "version": "3.10.10"
  },
  "orig_nbformat": 4
 },
 "nbformat": 4,
 "nbformat_minor": 2
}
