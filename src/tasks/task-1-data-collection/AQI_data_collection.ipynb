{
  "cells": [
    {
      "cell_type": "markdown",
      "id": "33da349e",
      "metadata": {
        "id": "33da349e"
      },
      "source": [
        "## DATA COLLECTION"
      ]
    },
    {
      "cell_type": "markdown",
      "id": "T_5IjA8xMCWQ",
      "metadata": {
        "id": "T_5IjA8xMCWQ"
      },
      "source": [
        "### Openweathermap"
      ]
    },
    {
      "cell_type": "markdown",
      "id": "018411e9",
      "metadata": {
        "id": "018411e9"
      },
      "source": [
        "* Using [Openweathermap](https://openweathermap.org/) for data collection <br>\n",
        "* For their API list visit - [apis](https://openweathermap.org/api) <br>\n",
        "* [API Documentation](https://openweathermap.org/api/air-pollution)\n",
        "* API used - http://api.openweathermap.org/data/2.5/air_pollution/history?lat={lat}&lon={lon}&start={start}&end={end}&appid={API key}"
      ]
    },
    {
      "cell_type": "code",
      "execution_count": null,
      "id": "95078957",
      "metadata": {
        "id": "95078957"
      },
      "outputs": [],
      "source": [
        "import requests\n",
        "import pandas as pd\n",
        "import json\n",
        "from datetime import datetime\n",
        "import time\n",
        "import os.path"
      ]
    },
    {
      "cell_type": "code",
      "execution_count": null,
      "id": "PKWLN1G3WkO1",
      "metadata": {
        "id": "PKWLN1G3WkO1"
      },
      "outputs": [],
      "source": [
        "#check your in colab\n",
        "try:\n",
        "  import google.colab\n",
        "  IN_COLAB = True\n",
        "except:\n",
        "  IN_COLAB = False\n",
        "IN_COLAB"
      ]
    },
    {
      "cell_type": "code",
      "execution_count": null,
      "id": "iSuIOOCmZTdf",
      "metadata": {
        "id": "iSuIOOCmZTdf"
      },
      "outputs": [],
      "source": [
        "cred_json = 'credentials.json'"
      ]
    },
    {
      "cell_type": "code",
      "execution_count": null,
      "id": "oVhnn_sjWmLN",
      "metadata": {
        "id": "oVhnn_sjWmLN"
      },
      "outputs": [],
      "source": [
        "if IN_COLAB == True:\n",
        "   from google.colab import files\n",
        "   import io\n",
        "   uploaded = files.upload()\n",
        "   file = io.BytesIO(uploaded[cred_json])\n",
        "   credentials = json.load(file)\n",
        "   \n",
        "else:\n",
        "   # Opening JSON file\n",
        "   file = open(cred_json)\n",
        "   credentials = json.load(file)\n",
        "   file.close()"
      ]
    },
    {
      "cell_type": "code",
      "execution_count": null,
      "id": "03970580",
      "metadata": {},
      "outputs": [],
      "source": [
        "# owm_aq =>  Open Weather Map Air Quality\n",
        "if IN_COLAB == True:\n",
        "   file_path = \"owm_aq.csv\"\n",
        "else:\n",
        "   file_path = \"..\\..\\data\\owm_aq.csv\"\n",
        "\n",
        "#Enter your APP ID here or fetch it from file\n",
        "APP_ID = credentials['OPENWEATHERMAP_API']\n",
        "# APP_ID"
      ]
    },
    {
      "cell_type": "code",
      "execution_count": null,
      "id": "879ab161",
      "metadata": {
        "id": "879ab161"
      },
      "outputs": [],
      "source": [
        "LAT = 19.07\n",
        "LON = 72.88\n",
        "\n",
        "#Date format (YYYY, M,D,H,m)\n",
        "#Extended the end date to 4/3/23\n",
        "\n",
        "# START_DATE = datetime(2020, 11, 25, 1, 0)\n",
        "START_DATE = datetime(2015, 1, 1, 1, 0)\n",
        "# END_DATE = datetime(2023, 3, 4, 23, 0)\n",
        "END_DATE = datetime.now()\n",
        "\n",
        "START_UNIX = int(time.mktime(START_DATE.timetuple()))\n",
        "END_UNIX = int(time.mktime(END_DATE.timetuple()))\n",
        "\n",
        "# print('Start unix: {}'.format(START_UNIX))\n",
        "# print('End unix: {}'.format(END_UNIX))\n",
        "\n",
        "# check file is already exists\n",
        "if os.path.isfile(file_path):\n",
        "    # print(\"File exists\")\n",
        "    df = pd.read_csv(file_path)\n",
        "    # create a Pandas Timestamp object\n",
        "    ts = pd.Timestamp(df.date.max())\n",
        "    # convert to integer\n",
        "    # ts_int = int(ts.timestamp() )\n",
        "    ts_int2 = int(ts.timestamp() + 1)\n",
        "    # print(ts_int, ' ', ts_int2)\n",
        "    # set start date from where last updated\n",
        "    START_UNIX = ts_int2"
      ]
    },
    {
      "cell_type": "code",
      "execution_count": null,
      "id": "sF--ctUe_pcg",
      "metadata": {
        "id": "sF--ctUe_pcg"
      },
      "outputs": [],
      "source": [
        "print('Start unix: {}'.format(START_UNIX))\n",
        "print('End unix: {}'.format(END_UNIX))"
      ]
    },
    {
      "cell_type": "code",
      "execution_count": null,
      "id": "30ee91b1",
      "metadata": {
        "id": "30ee91b1"
      },
      "outputs": [],
      "source": [
        "url = 'http://api.openweathermap.org/data/2.5/air_pollution/history?lat={}&lon={}&start={}&end={}&appid={}'.format(LAT,LON,START_UNIX,END_UNIX,APP_ID)"
      ]
    },
    {
      "cell_type": "code",
      "execution_count": null,
      "id": "37ea1244",
      "metadata": {
        "id": "37ea1244"
      },
      "outputs": [],
      "source": [
        "#Getting the response from the api\n",
        "response = requests.get(url)"
      ]
    },
    {
      "cell_type": "code",
      "execution_count": null,
      "id": "b631241c",
      "metadata": {
        "id": "b631241c"
      },
      "outputs": [],
      "source": [
        "#response text\n",
        "# response.text"
      ]
    },
    {
      "cell_type": "code",
      "execution_count": null,
      "id": "ca84b432",
      "metadata": {
        "id": "ca84b432"
      },
      "outputs": [],
      "source": [
        "r = json.loads(response.text)"
      ]
    },
    {
      "cell_type": "code",
      "execution_count": null,
      "id": "epp5b-7Z4v3-",
      "metadata": {
        "id": "epp5b-7Z4v3-"
      },
      "outputs": [],
      "source": [
        "len(r['list'])"
      ]
    },
    {
      "cell_type": "code",
      "execution_count": null,
      "id": "aecb7d77",
      "metadata": {
        "id": "aecb7d77"
      },
      "outputs": [],
      "source": [
        "#Parsing the variables and extracting the time,co,no2,o3,so2,pm2.5,pm10,nh3. Each row of data is stored as a list which is then converted to a dataframe\n",
        "#Some dates have multiple observations\n",
        "#Added the AQI column --\n",
        "data = []\n",
        "from datetime import datetime\n",
        "for c in r['list']:\n",
        "    # old code\n",
        "    # date = datetime.utcfromtimestamp(int(c['dt'])).strftime('%Y-%m-%d')\n",
        "    # new code - keeping time information\n",
        "    timestamp = datetime.fromtimestamp(int(c['dt']))\n",
        "    timestamp.strftime('%Y-%m-%d %H:%M:%S')\n",
        "    date = timestamp\n",
        "    data.append([date,c['main']['aqi'],c['components']['co'],c['components']['no'],c['components']['no2'],c['components']['o3'],c['components']['so2'],c['components']['pm2_5'],c['components']['pm10'],c['components']['nh3']])\n",
        "    "
      ]
    },
    {
      "cell_type": "code",
      "execution_count": null,
      "id": "da5e5f28",
      "metadata": {
        "id": "da5e5f28"
      },
      "outputs": [],
      "source": [
        "#exporting dataset\n",
        "frames = []\n",
        "if os.path.isfile(file_path):\n",
        "  df_existing = pd.read_csv(file_path)\n",
        "  frames.append(df_existing)\n",
        "if(len(data) > 0):\n",
        "  #Converting the list to a dataframe\n",
        "  df_new =pd.DataFrame(data,columns=['date','AQI','co','no','no2','o3','so2','pm2_5','pm10','nh3'])\n",
        "  frames.append(df_new)\n",
        "\n",
        "df = pd.concat(frames)"
      ]
    },
    {
      "cell_type": "code",
      "execution_count": null,
      "id": "wPOHFbSYIhU1",
      "metadata": {
        "id": "wPOHFbSYIhU1"
      },
      "outputs": [],
      "source": [
        "#exporting dataset\n",
        "# owm_aq =>  Open Weather Map Air Quality\n",
        "df.to_csv(file_path, index=False)"
      ]
    },
    {
      "cell_type": "code",
      "execution_count": null,
      "id": "3f4053bb",
      "metadata": {
        "id": "3f4053bb"
      },
      "outputs": [],
      "source": [
        "df.head()"
      ]
    },
    {
      "cell_type": "code",
      "execution_count": null,
      "id": "8cca30f0",
      "metadata": {
        "id": "8cca30f0"
      },
      "outputs": [],
      "source": [
        "df = pd.read_csv(file_path)"
      ]
    },
    {
      "cell_type": "code",
      "execution_count": null,
      "id": "b513e2fe",
      "metadata": {
        "id": "b513e2fe"
      },
      "outputs": [],
      "source": [
        "df.head()"
      ]
    },
    {
      "cell_type": "code",
      "execution_count": null,
      "id": "dc5cb695",
      "metadata": {
        "id": "dc5cb695"
      },
      "outputs": [],
      "source": [
        "df.isnull().sum()"
      ]
    },
    {
      "cell_type": "code",
      "execution_count": null,
      "id": "dc4e151a",
      "metadata": {
        "id": "dc4e151a"
      },
      "outputs": [],
      "source": [
        "df.date.min(), df.date.max(), df.shape"
      ]
    },
    {
      "cell_type": "code",
      "execution_count": null,
      "id": "-e365xKMIsHD",
      "metadata": {
        "id": "-e365xKMIsHD"
      },
      "outputs": [],
      "source": [
        "df.date.min(), df.date.max(), df.shape"
      ]
    },
    {
      "cell_type": "code",
      "execution_count": null,
      "id": "QTpLTHV2_zgk",
      "metadata": {
        "id": "QTpLTHV2_zgk"
      },
      "outputs": [],
      "source": [
        "# create a Pandas Timestamp object\n",
        "ts = pd.Timestamp(df.date.max())\n",
        "# convert to integer\n",
        "ts_int = int(ts.timestamp())\n",
        "ts_int2 = int(ts.timestamp() + 1)\n",
        "print(ts_int, ' ', ts_int2)"
      ]
    }
  ],
  "metadata": {
    "colab": {
      "provenance": []
    },
    "kernelspec": {
      "display_name": "mil",
      "language": "python",
      "name": "python3"
    },
    "language_info": {
      "codemirror_mode": {
        "name": "ipython",
        "version": 3
      },
      "file_extension": ".py",
      "mimetype": "text/x-python",
      "name": "python",
      "nbconvert_exporter": "python",
      "pygments_lexer": "ipython3",
      "version": "3.10.8 | packaged by conda-forge | (main, Nov 24 2022, 14:07:00) [MSC v.1916 64 bit (AMD64)]"
    },
    "vscode": {
      "interpreter": {
        "hash": "b4bda4aaba8de7bc16e51c0dd354fbbee990c3e67240801a595ff6b8b9534aa4"
      }
    }
  },
  "nbformat": 4,
  "nbformat_minor": 5
}
