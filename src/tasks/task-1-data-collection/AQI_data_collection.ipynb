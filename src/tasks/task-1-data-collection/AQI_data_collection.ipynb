{
  "nbformat": 4,
  "nbformat_minor": 0,
  "metadata": {
    "colab": {
      "provenance": [],
      "toc_visible": true
    },
    "kernelspec": {
      "name": "python3",
      "display_name": "Python 3"
    },
    "language_info": {
      "name": "python"
    }
  },
  "cells": [
    {
      "cell_type": "markdown",
      "source": [
        "## DATA COLLECTION"
      ],
      "metadata": {
        "id": "T6aJ4xGaQ0Wn"
      }
    },
    {
      "cell_type": "markdown",
      "source": [
        "# Open weather map"
      ],
      "metadata": {
        "id": "xkk5qi3mQ3QO"
      }
    }
  ]
}