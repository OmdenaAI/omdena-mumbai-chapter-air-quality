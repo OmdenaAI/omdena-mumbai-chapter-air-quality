{
 "cells": [
  {
   "cell_type": "markdown",
   "id": "ae0c0f32",
   "metadata": {},
   "source": [
    "# Blue Sky Analytics SpatialAQ API"
   ]
  },
  {
   "cell_type": "code",
   "execution_count": 5,
   "id": "6df3e4b6",
   "metadata": {},
   "outputs": [],
   "source": [
    "# This package helps us reach out to the API\n",
    "import requests\n",
    "# This package is necessary to ensure you receive data in a JSON format\n",
    "import json\n",
    "\n",
    "import pandas as pd"
   ]
  },
  {
   "cell_type": "markdown",
   "id": "7be50ad5",
   "metadata": {},
   "source": [
    "### PM2.5 for 1 Week"
   ]
  },
  {
   "cell_type": "code",
   "execution_count": 20,
   "id": "3f6943ea",
   "metadata": {},
   "outputs": [],
   "source": [
    "# Specifying parameters for the endpoint\n",
    "mydict={\n",
    "  'api-key': 'a4a9b215-151c-5d63-888c-b1372a326911',\n",
    "  'product': 'pm25',\n",
    "  'region': 'mumbai',\n",
    "  'regionType': 'district',\n",
    "  'duration': '1w'\n",
    "}"
   ]
  },
  {
   "cell_type": "code",
   "execution_count": 21,
   "id": "83cec555",
   "metadata": {},
   "outputs": [
    {
     "name": "stdout",
     "output_type": "stream",
     "text": [
      "{\n",
      "  \"data\": [\n",
      "    {\n",
      "      \"datetime\": \"2023-03-10T00:00:00.000Z\",\n",
      "      \"pm25\": 86.34292602539062\n",
      "    },\n",
      "    {\n",
      "      \"datetime\": \"2023-03-11T00:00:00.000Z\",\n",
      "      \"pm25\": 139.47581481933594\n",
      "    },\n",
      "    {\n",
      "      \"datetime\": \"2023-03-12T00:00:00.000Z\",\n",
      "      \"pm25\": 197.94598388671875\n",
      "    },\n",
      "    {\n",
      "      \"datetime\": \"2023-03-13T00:00:00.000Z\",\n",
      "      \"pm25\": 165.83419799804688\n",
      "    },\n",
      "    {\n",
      "      \"datetime\": \"2023-03-14T00:00:00.000Z\",\n",
      "      \"pm25\": 206.12835693359375\n",
      "    },\n",
      "    {\n",
      "      \"datetime\": \"2023-03-15T00:00:00.000Z\",\n",
      "      \"pm25\": 112.1551742553711\n",
      "    },\n",
      "    {\n",
      "      \"datetime\": \"2023-03-16T00:00:00.000Z\",\n",
      "      \"pm25\": 68.21656799316406\n",
      "    }\n",
      "  ],\n",
      "  \"meta\": {\n",
      "    \"admin_level\": 4,\n",
      "    \"duration\": \"1w\",\n",
      "    \"meta\": null,\n",
      "    \"name\": \"Mumbai\",\n",
      "    \"shapeId\": null\n",
      "  }\n",
      "}\n"
     ]
    }
   ],
   "source": [
    "#Making an API call and displaying the output.\n",
    "response = requests.get(\"https://gateway.blueskyhq.in/api/breezo/spatial\", params = mydict).json()\n",
    "print(json.dumps(response, indent=2))"
   ]
  },
  {
   "cell_type": "code",
   "execution_count": 22,
   "id": "cf6e9312",
   "metadata": {},
   "outputs": [
    {
     "data": {
      "text/html": [
       "<div>\n",
       "<style scoped>\n",
       "    .dataframe tbody tr th:only-of-type {\n",
       "        vertical-align: middle;\n",
       "    }\n",
       "\n",
       "    .dataframe tbody tr th {\n",
       "        vertical-align: top;\n",
       "    }\n",
       "\n",
       "    .dataframe thead th {\n",
       "        text-align: right;\n",
       "    }\n",
       "</style>\n",
       "<table border=\"1\" class=\"dataframe\">\n",
       "  <thead>\n",
       "    <tr style=\"text-align: right;\">\n",
       "      <th></th>\n",
       "      <th>datetime</th>\n",
       "      <th>pm25</th>\n",
       "    </tr>\n",
       "  </thead>\n",
       "  <tbody>\n",
       "    <tr>\n",
       "      <th>0</th>\n",
       "      <td>2023-03-10T00:00:00.000Z</td>\n",
       "      <td>86.342926</td>\n",
       "    </tr>\n",
       "    <tr>\n",
       "      <th>1</th>\n",
       "      <td>2023-03-11T00:00:00.000Z</td>\n",
       "      <td>139.475815</td>\n",
       "    </tr>\n",
       "    <tr>\n",
       "      <th>2</th>\n",
       "      <td>2023-03-12T00:00:00.000Z</td>\n",
       "      <td>197.945984</td>\n",
       "    </tr>\n",
       "    <tr>\n",
       "      <th>3</th>\n",
       "      <td>2023-03-13T00:00:00.000Z</td>\n",
       "      <td>165.834198</td>\n",
       "    </tr>\n",
       "    <tr>\n",
       "      <th>4</th>\n",
       "      <td>2023-03-14T00:00:00.000Z</td>\n",
       "      <td>206.128357</td>\n",
       "    </tr>\n",
       "    <tr>\n",
       "      <th>5</th>\n",
       "      <td>2023-03-15T00:00:00.000Z</td>\n",
       "      <td>112.155174</td>\n",
       "    </tr>\n",
       "    <tr>\n",
       "      <th>6</th>\n",
       "      <td>2023-03-16T00:00:00.000Z</td>\n",
       "      <td>68.216568</td>\n",
       "    </tr>\n",
       "  </tbody>\n",
       "</table>\n",
       "</div>"
      ],
      "text/plain": [
       "                   datetime        pm25\n",
       "0  2023-03-10T00:00:00.000Z   86.342926\n",
       "1  2023-03-11T00:00:00.000Z  139.475815\n",
       "2  2023-03-12T00:00:00.000Z  197.945984\n",
       "3  2023-03-13T00:00:00.000Z  165.834198\n",
       "4  2023-03-14T00:00:00.000Z  206.128357\n",
       "5  2023-03-15T00:00:00.000Z  112.155174\n",
       "6  2023-03-16T00:00:00.000Z   68.216568"
      ]
     },
     "execution_count": 22,
     "metadata": {},
     "output_type": "execute_result"
    }
   ],
   "source": [
    "# Convert the data to a dataframe\n",
    "week_df = pd.json_normalize(response, 'data')\n",
    "\n",
    "week_df"
   ]
  },
  {
   "cell_type": "markdown",
   "id": "ad15490e",
   "metadata": {},
   "source": [
    "### S02 for 1 Week"
   ]
  },
  {
   "cell_type": "code",
   "execution_count": 24,
   "id": "e8697921",
   "metadata": {
    "scrolled": true
   },
   "outputs": [
    {
     "data": {
      "text/html": [
       "<div>\n",
       "<style scoped>\n",
       "    .dataframe tbody tr th:only-of-type {\n",
       "        vertical-align: middle;\n",
       "    }\n",
       "\n",
       "    .dataframe tbody tr th {\n",
       "        vertical-align: top;\n",
       "    }\n",
       "\n",
       "    .dataframe thead th {\n",
       "        text-align: right;\n",
       "    }\n",
       "</style>\n",
       "<table border=\"1\" class=\"dataframe\">\n",
       "  <thead>\n",
       "    <tr style=\"text-align: right;\">\n",
       "      <th></th>\n",
       "      <th>datetime</th>\n",
       "      <th>so2</th>\n",
       "    </tr>\n",
       "  </thead>\n",
       "  <tbody>\n",
       "    <tr>\n",
       "      <th>0</th>\n",
       "      <td>2023-03-16T00:00:00.000Z</td>\n",
       "      <td>None</td>\n",
       "    </tr>\n",
       "  </tbody>\n",
       "</table>\n",
       "</div>"
      ],
      "text/plain": [
       "                   datetime   so2\n",
       "0  2023-03-16T00:00:00.000Z  None"
      ]
     },
     "execution_count": 24,
     "metadata": {},
     "output_type": "execute_result"
    }
   ],
   "source": [
    "# Specifying parameters for the endpoint\n",
    "mydict={\n",
    "  'api-key': 'a4a9b215-151c-5d63-888c-b1372a326911',\n",
    "  'product': 'so2',\n",
    "  'region': 'mumbai',\n",
    "  'regionType': 'district',\n",
    "  'duration': '1d'\n",
    "}\n",
    "\n",
    "#Making an API call and displaying the output.\n",
    "response = requests.get(\"https://gateway.blueskyhq.in/api/breezo/spatial\", params = mydict).json()\n",
    "\n",
    "# Convert the data to a dataframe\n",
    "so2 = pd.json_normalize(response, 'data')\n",
    "\n",
    "so2"
   ]
  },
  {
   "cell_type": "markdown",
   "id": "9ab5be88",
   "metadata": {},
   "source": [
    "### PM2.5 for 1 Month"
   ]
  },
  {
   "cell_type": "code",
   "execution_count": 26,
   "id": "5fdb5988",
   "metadata": {},
   "outputs": [
    {
     "name": "stdout",
     "output_type": "stream",
     "text": [
      "{\n",
      "  \"message\": \"Unauthorized\"\n",
      "}\n"
     ]
    }
   ],
   "source": [
    "# Specifying parameters for the endpoint\n",
    "mydict={\n",
    "  'api-key': 'a4a9b215-151c-5d63-888c-b1372a326911',\n",
    "  'product': 'pm25',\n",
    "  'region': 'mumbai',\n",
    "  'regionType': 'district',\n",
    "  'duration': '1m'\n",
    "}\n",
    "\n",
    "#Making an API call and displaying the output.\n",
    "response = requests.get(\"https://gateway.blueskyhq.in/api/breezo/spatial\", params = mydict).json()\n",
    "\n",
    "print(json.dumps(response, indent=2))"
   ]
  },
  {
   "cell_type": "markdown",
   "id": "efc757bd",
   "metadata": {},
   "source": [
    "* It seems we can't access data for a period more than 1 week with free plan\n",
    "* With free plan we can only make 300 api requests"
   ]
  }
 ],
 "metadata": {
  "kernelspec": {
   "display_name": "env",
   "language": "python",
   "name": "env"
  },
  "language_info": {
   "codemirror_mode": {
    "name": "ipython",
    "version": 3
   },
   "file_extension": ".py",
   "mimetype": "text/x-python",
   "name": "python",
   "nbconvert_exporter": "python",
   "pygments_lexer": "ipython3",
   "version": "3.10.7"
  }
 },
 "nbformat": 4,
 "nbformat_minor": 5
}
