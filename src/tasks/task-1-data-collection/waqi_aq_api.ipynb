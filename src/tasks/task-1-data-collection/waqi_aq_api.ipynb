{
 "cells": [
  {
   "cell_type": "code",
   "execution_count": 28,
   "id": "b338f93d-f5c3-41cf-93fd-c63f1d989022",
   "metadata": {},
   "outputs": [],
   "source": [
    "import requests\n",
    "\n",
    "loc_code = '13712' \n",
    "\n",
    "#some other Mumbai stations, for example\n",
    "#'12456'\n",
    "#'13715'\n",
    "#'13713'\n",
    "#'13712'\n",
    "\n",
    "#here I used an index like the above, but it's possible to compile a list of all Mumbai URLs instead\n",
    "#(see example in the location data below)\n",
    "URL = \"https://api.waqi.info/feed/@{loc_code}/\".format(loc_code=loc_code)\n",
    "\n",
    "#the token I issued personally (anyone can but I see no problem others will use this now)\n",
    "token = 'cd5b792d5b2d7a65e9c31fd710773253f2772f5d'\n",
    "\n",
    "#adding the token as a request parameter\n",
    "PARAMS = {'token':token}\n",
    "\n",
    "#sending the request\n",
    "r = requests.get(url = URL, params = PARAMS\n",
    "data = r.json()"
   ]
  },
  {
   "cell_type": "code",
   "execution_count": 29,
   "id": "4c25b5fd-faf3-41b5-8887-644eac1b1d6c",
   "metadata": {},
   "outputs": [
    {
     "data": {
      "text/plain": [
       "190"
      ]
     },
     "execution_count": 29,
     "metadata": {},
     "output_type": "execute_result"
    }
   ],
   "source": [
    "#current aqi (air quality index)\n",
    "data['data']['aqi']"
   ]
  },
  {
   "cell_type": "code",
   "execution_count": 30,
   "id": "479076cb-96ee-426c-a122-0d00505d836c",
   "metadata": {},
   "outputs": [
    {
     "data": {
      "text/plain": [
       "'2023-03-02 18:00:00'"
      ]
     },
     "execution_count": 30,
     "metadata": {},
     "output_type": "execute_result"
    }
   ],
   "source": [
    "#data timestamp\n",
    "data['data']['time']['s']"
   ]
  },
  {
   "cell_type": "code",
   "execution_count": 25,
   "id": "2b362a48-011a-488c-9666-f5c22cbce696",
   "metadata": {},
   "outputs": [
    {
     "data": {
      "text/plain": [
       "{'geo': [19.10078, 72.87462],\n",
       " 'name': 'Chhatrapati Shivaji Intl. Airport (T2), Mumbai, India',\n",
       " 'url': 'https://aqicn.org/city/india/mumbai/chhatrapati-shivaji-intl.-airport-t2',\n",
       " 'location': ''}"
      ]
     },
     "execution_count": 25,
     "metadata": {},
     "output_type": "execute_result"
    }
   ],
   "source": [
    "#location\n",
    "data['data']['city']"
   ]
  },
  {
   "cell_type": "code",
   "execution_count": 14,
   "id": "35e233b0-59d9-4a8f-b20f-bb19d1aae750",
   "metadata": {},
   "outputs": [
    {
     "data": {
      "text/plain": [
       "16.6"
      ]
     },
     "execution_count": 14,
     "metadata": {},
     "output_type": "execute_result"
    }
   ],
   "source": [
    "data['data']['iaqi']['co']['v']"
   ]
  },
  {
   "cell_type": "code",
   "execution_count": 18,
   "id": "2fbfce6d-764a-46a3-8010-202e8f53da73",
   "metadata": {},
   "outputs": [
    {
     "data": {
      "text/plain": [
       "[{'avg': 46, 'day': '2023-02-28', 'max': 46, 'min': 46},\n",
       " {'avg': 46, 'day': '2023-03-01', 'max': 46, 'min': 46},\n",
       " {'avg': 56, 'day': '2023-03-02', 'max': 58, 'min': 46},\n",
       " {'avg': 58, 'day': '2023-03-03', 'max': 58, 'min': 58},\n",
       " {'avg': 62, 'day': '2023-03-04', 'max': 67, 'min': 58},\n",
       " {'avg': 63, 'day': '2023-03-05', 'max': 73, 'min': 54},\n",
       " {'avg': 56, 'day': '2023-03-06', 'max': 58, 'min': 54},\n",
       " {'avg': 51, 'day': '2023-03-07', 'max': 58, 'min': 46},\n",
       " {'avg': 48, 'day': '2023-03-08', 'max': 55, 'min': 46}]"
      ]
     },
     "execution_count": 18,
     "metadata": {},
     "output_type": "execute_result"
    }
   ],
   "source": [
    "#get forecast of pm10 values\n",
    "data['data']['forecast']['daily']['pm10']"
   ]
  },
  {
   "cell_type": "code",
   "execution_count": 21,
   "id": "eb9f1da1-690f-4a47-805c-4753592185df",
   "metadata": {},
   "outputs": [
    {
     "data": {
      "text/plain": [
       "'2023-03-02 17:00:00'"
      ]
     },
     "execution_count": 21,
     "metadata": {},
     "output_type": "execute_result"
    }
   ],
   "source": [
    "data['data']['time']['s']"
   ]
  },
  {
   "cell_type": "code",
   "execution_count": 23,
   "id": "cb0d1adf-e74d-417a-9d57-cccf7e6a59ab",
   "metadata": {},
   "outputs": [
    {
     "data": {
      "text/plain": [
       "{'geo': [19.10078, 72.87462],\n",
       " 'name': 'Chhatrapati Shivaji Intl. Airport (T2), Mumbai, India',\n",
       " 'url': 'https://aqicn.org/city/india/mumbai/chhatrapati-shivaji-intl.-airport-t2',\n",
       " 'location': ''}"
      ]
     },
     "execution_count": 23,
     "metadata": {},
     "output_type": "execute_result"
    }
   ],
   "source": [
    "data['data']['city']"
   ]
  },
  {
   "cell_type": "code",
   "execution_count": 31,
   "id": "1d675c28-c211-4068-9df2-085a1044310e",
   "metadata": {},
   "outputs": [
    {
     "data": {
      "text/plain": [
       "{'status': 'ok',\n",
       " 'data': {'aqi': 190,\n",
       "  'idx': 13712,\n",
       "  'attributions': [{'url': 'http://cpcb.nic.in/',\n",
       "    'name': 'CPCB - India Central Pollution Control Board',\n",
       "    'logo': 'India-CPCB.png'},\n",
       "   {'url': 'https://waqi.info/', 'name': 'World Air Quality Index Project'}],\n",
       "  'city': {'geo': [19.04946, 72.923],\n",
       "   'name': 'Deonar, Mumbai, India',\n",
       "   'url': 'https://aqicn.org/city/india/mumbai/deonar',\n",
       "   'location': ''},\n",
       "  'dominentpol': 'pm25',\n",
       "  'iaqi': {'co': {'v': 5.1},\n",
       "   'dew': {'v': 9},\n",
       "   'h': {'v': 24},\n",
       "   'no2': {'v': 21.7},\n",
       "   'o3': {'v': 30.5},\n",
       "   'p': {'v': 1013},\n",
       "   'pm10': {'v': 130},\n",
       "   'pm25': {'v': 190},\n",
       "   'so2': {'v': 7.3},\n",
       "   't': {'v': 32},\n",
       "   'w': {'v': 1.1949999999999998},\n",
       "   'wg': {'v': 8.7}},\n",
       "  'time': {'s': '2023-03-02 18:00:00',\n",
       "   'tz': '+05:30',\n",
       "   'v': 1677780000,\n",
       "   'iso': '2023-03-02T18:00:00+05:30'},\n",
       "  'forecast': {'daily': {'o3': [{'avg': 15,\n",
       "      'day': '2023-02-28',\n",
       "      'max': 55,\n",
       "      'min': 1},\n",
       "     {'avg': 20, 'day': '2023-03-01', 'max': 65, 'min': 3},\n",
       "     {'avg': 18, 'day': '2023-03-02', 'max': 91, 'min': 2},\n",
       "     {'avg': 20, 'day': '2023-03-03', 'max': 156, 'min': 1},\n",
       "     {'avg': 23, 'day': '2023-03-04', 'max': 130, 'min': 1},\n",
       "     {'avg': 21, 'day': '2023-03-05', 'max': 78, 'min': 1},\n",
       "     {'avg': 16, 'day': '2023-03-06', 'max': 98, 'min': 1},\n",
       "     {'avg': 4, 'day': '2023-03-07', 'max': 4, 'min': 1}],\n",
       "    'pm10': [{'avg': 46, 'day': '2023-02-28', 'max': 46, 'min': 46},\n",
       "     {'avg': 47, 'day': '2023-03-01', 'max': 51, 'min': 46},\n",
       "     {'avg': 57, 'day': '2023-03-02', 'max': 58, 'min': 51},\n",
       "     {'avg': 58, 'day': '2023-03-03', 'max': 60, 'min': 58},\n",
       "     {'avg': 62, 'day': '2023-03-04', 'max': 73, 'min': 58},\n",
       "     {'avg': 64, 'day': '2023-03-05', 'max': 73, 'min': 58},\n",
       "     {'avg': 58, 'day': '2023-03-06', 'max': 58, 'min': 58},\n",
       "     {'avg': 52, 'day': '2023-03-07', 'max': 58, 'min': 46},\n",
       "     {'avg': 47, 'day': '2023-03-08', 'max': 58, 'min': 46}],\n",
       "    'pm25': [{'avg': 138, 'day': '2023-02-28', 'max': 138, 'min': 138},\n",
       "     {'avg': 138, 'day': '2023-03-01', 'max': 138, 'min': 138},\n",
       "     {'avg': 156, 'day': '2023-03-02', 'max': 159, 'min': 138},\n",
       "     {'avg': 159, 'day': '2023-03-03', 'max': 159, 'min': 159},\n",
       "     {'avg': 163, 'day': '2023-03-04', 'max': 174, 'min': 159},\n",
       "     {'avg': 160, 'day': '2023-03-05', 'max': 163, 'min': 159},\n",
       "     {'avg': 151, 'day': '2023-03-06', 'max': 159, 'min': 138},\n",
       "     {'avg': 147, 'day': '2023-03-07', 'max': 159, 'min': 138},\n",
       "     {'avg': 140, 'day': '2023-03-08', 'max': 155, 'min': 138}]}},\n",
       "  'debug': {'sync': '2023-03-02T22:27:32+09:00'}}}"
      ]
     },
     "execution_count": 31,
     "metadata": {},
     "output_type": "execute_result"
    }
   ],
   "source": [
    "#see all data\n",
    "data"
   ]
  }
 ],
 "metadata": {
  "kernelspec": {
   "display_name": "Python 3 (ipykernel)",
   "language": "python",
   "name": "python3"
  },
  "language_info": {
   "codemirror_mode": {
    "name": "ipython",
    "version": 3
   },
   "file_extension": ".py",
   "mimetype": "text/x-python",
   "name": "python",
   "nbconvert_exporter": "python",
   "pygments_lexer": "ipython3",
   "version": "3.10.0"
  }
 },
 "nbformat": 4,
 "nbformat_minor": 5
}
