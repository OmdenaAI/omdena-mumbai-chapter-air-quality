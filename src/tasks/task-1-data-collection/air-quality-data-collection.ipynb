{
 "cells": [
  {
   "cell_type": "markdown",
   "id": "33da349e",
   "metadata": {},
   "source": [
    "## DATA COLLECTION"
   ]
  },
  {
   "cell_type": "markdown",
   "id": "018411e9",
   "metadata": {},
   "source": [
    "* Using [Openweathermap](https://openweathermap.org/) for data collection <br>\n",
    "* For their API list visit - [apis](https://openweathermap.org/api) <br>\n",
    "* [API Documentation](https://openweathermap.org/api/air-pollution)\n",
    "* API used - http://api.openweathermap.org/data/2.5/air_pollution/history?lat={lat}&lon={lon}&start={start}&end={end}&appid={API key}"
   ]
  },
  {
   "cell_type": "code",
   "execution_count": null,
   "id": "95078957",
   "metadata": {},
   "outputs": [],
   "source": [
    "import requests\n",
    "import pandas as pd\n",
    "import json\n",
    "from datetime import datetime\n",
    "import time"
   ]
  },
  {
   "cell_type": "code",
   "execution_count": null,
   "id": "879ab161",
   "metadata": {},
   "outputs": [],
   "source": [
    "#Date format (YYYY, M,D,H,m)\n",
    "#Extended the end date to 4/3/23\n",
    "\n",
    "START_DATE = datetime(2020, 11, 25, 1, 0)\n",
    "END_DATE = datetime(2023, 3, 4, 23, 0)\n",
    "\n",
    "LAT = 19.07\n",
    "LON = 72.88\n",
    "\n",
    "#Enter your APP ID here\n",
    "APP_ID = 'a82bcbb38561edff907416a47e4c15f4'\n",
    "\n",
    "START_UNIX = int(time.mktime(START_DATE.timetuple()))\n",
    "END_UNIX = int(time.mktime(END_DATE.timetuple()))\n",
    "\n",
    "print('Start unix: {}'.format(START_UNIX))\n",
    "print('End unix: {}'.format(END_UNIX))"
   ]
  },
  {
   "cell_type": "code",
   "execution_count": null,
   "id": "30ee91b1",
   "metadata": {},
   "outputs": [],
   "source": [
    "url = 'http://api.openweathermap.org/data/2.5/air_pollution/history?lat={}&lon={}&start={}&end={}&appid={}'.format(LAT,LON,START_UNIX,END_UNIX,APP_ID)"
   ]
  },
  {
   "cell_type": "code",
   "execution_count": null,
   "id": "37ea1244",
   "metadata": {},
   "outputs": [],
   "source": [
    "#Getting the response from the api\n",
    "response = requests.get(url)"
   ]
  },
  {
   "cell_type": "code",
   "execution_count": null,
   "id": "b631241c",
   "metadata": {},
   "outputs": [],
   "source": [
    "#response text\n",
    "# response.text"
   ]
  },
  {
   "cell_type": "code",
   "execution_count": null,
   "id": "ca84b432",
   "metadata": {},
   "outputs": [],
   "source": [
    "r = json.loads(response.text)"
   ]
  },
  {
   "cell_type": "code",
   "execution_count": null,
   "id": "aecb7d77",
   "metadata": {},
   "outputs": [],
   "source": [
    "#Parsing the variables and extracting the time,co,no2,o3,so2,pm2.5,pm10,nh3. Each row of data is stored as a list which is then converted to a dataframe\n",
    "#Some dates have multiple observations\n",
    "#Added the AQI column --\n",
    "data = []\n",
    "\n",
    "for c in r['list']:\n",
    "    date = datetime.utcfromtimestamp(int(c['dt'])).strftime('%Y-%m-%d')\n",
    "    data.append([date,c['main']['aqi'],c['components']['co'],c['components']['no'],c['components']['no2'],c['components']['o3'],c['components']['so2'],c['components']['pm2_5'],c['components']['pm10'],c['components']['nh3']])"
   ]
  },
  {
   "cell_type": "code",
   "execution_count": null,
   "id": "96188e7a",
   "metadata": {},
   "outputs": [],
   "source": [
    "#Converting the list to a dataframe\n",
    "df =pd.DataFrame(data,columns=['date','AQI','co','no','no2','o3','so2','pm2_5','pm10','nh3'])"
   ]
  },
  {
   "cell_type": "code",
   "execution_count": null,
   "id": "3f4053bb",
   "metadata": {},
   "outputs": [],
   "source": [
    "df.head()"
   ]
  },
  {
   "cell_type": "code",
   "execution_count": null,
   "id": "da5e5f28",
   "metadata": {},
   "outputs": [],
   "source": [
    "#exporting dataset\n",
    "df.to_csv('../../data/airQuality_1.csv', index=False)"
   ]
  },
  {
   "cell_type": "code",
   "execution_count": null,
   "id": "8cca30f0",
   "metadata": {},
   "outputs": [],
   "source": [
    "df_read = pd.read_csv('../../data/airQuality_1.csv')"
   ]
  },
  {
   "cell_type": "code",
   "execution_count": null,
   "id": "b513e2fe",
   "metadata": {},
   "outputs": [],
   "source": [
    "df_read.head()"
   ]
  },
  {
   "cell_type": "code",
   "execution_count": null,
   "id": "dc5cb695",
   "metadata": {},
   "outputs": [],
   "source": [
    "df_read.isnull().sum()"
   ]
  },
  {
   "cell_type": "code",
   "execution_count": null,
   "id": "dc4e151a",
   "metadata": {},
   "outputs": [],
   "source": []
  }
 ],
 "metadata": {
  "kernelspec": {
   "display_name": "mil",
   "language": "python",
   "name": "python3"
  },
  "language_info": {
   "codemirror_mode": {
    "name": "ipython",
    "version": 3
   },
   "file_extension": ".py",
   "mimetype": "text/x-python",
   "name": "python",
   "nbconvert_exporter": "python",
   "pygments_lexer": "ipython3",
   "version": "3.10.8 | packaged by conda-forge | (main, Nov 24 2022, 14:07:00) [MSC v.1916 64 bit (AMD64)]"
  },
  "vscode": {
   "interpreter": {
    "hash": "b4bda4aaba8de7bc16e51c0dd354fbbee990c3e67240801a595ff6b8b9534aa4"
   }
  }
 },
 "nbformat": 4,
 "nbformat_minor": 5
}
