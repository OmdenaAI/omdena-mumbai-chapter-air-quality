{
 "cells": [
  {
   "cell_type": "markdown",
   "id": "33da349e",
   "metadata": {},
   "source": [
    "## DATA COLLECTION"
   ]
  },
  {
   "cell_type": "markdown",
   "id": "018411e9",
   "metadata": {},
   "source": [
    "* Using [Openweathermap](https://openweathermap.org/) for data collection <br>\n",
    "* For their API list visit - [apis](https://openweathermap.org/api) <br>\n",
    "* [API Documentation](https://openweathermap.org/api/air-pollution)\n",
    "* API used - http://api.openweathermap.org/data/2.5/air_pollution/history?lat={lat}&lon={lon}&start={start}&end={end}&appid={API key}"
   ]
  },
  {
   "cell_type": "code",
   "execution_count": 1,
   "id": "95078957",
   "metadata": {},
   "outputs": [],
   "source": [
    "import requests\n",
    "import pandas as pd\n",
    "import json\n",
    "from datetime import datetime\n",
    "import time"
   ]
  },
  {
   "cell_type": "code",
   "execution_count": 11,
   "id": "879ab161",
   "metadata": {},
   "outputs": [
    {
     "name": "stdout",
     "output_type": "stream",
     "text": [
      "Start unix: 1606266000\n",
      "End unix: 1677970800\n"
     ]
    }
   ],
   "source": [
    "#Date format (YYYY, M,D,H,m)\n",
    "#Extended the end date to 4/3/23\n",
    "\n",
    "START_DATE = datetime(2020, 11, 25, 1, 0)\n",
    "END_DATE = datetime(2023, 3, 4, 23, 0)\n",
    "\n",
    "LAT = 19.07\n",
    "LON = 72.88\n",
    "\n",
    "#Enter your APP ID here\n",
    "APP_ID = 'a82bcbb38561edff907416a47e4c15f4'\n",
    "\n",
    "START_UNIX = int(time.mktime(START_DATE.timetuple()))\n",
    "END_UNIX = int(time.mktime(END_DATE.timetuple()))\n",
    "\n",
    "print('Start unix: {}'.format(START_UNIX))\n",
    "print('End unix: {}'.format(END_UNIX))"
   ]
  },
  {
   "cell_type": "code",
   "execution_count": 12,
   "id": "30ee91b1",
   "metadata": {},
   "outputs": [],
   "source": [
    "url = 'http://api.openweathermap.org/data/2.5/air_pollution/history?lat={}&lon={}&start={}&end={}&appid={}'.format(LAT,LON,START_UNIX,END_UNIX,APP_ID)"
   ]
  },
  {
   "cell_type": "code",
   "execution_count": 13,
   "id": "37ea1244",
   "metadata": {},
   "outputs": [],
   "source": [
    "#Getting the response from the api\n",
    "response = requests.get(url)"
   ]
  },
  {
   "cell_type": "code",
   "execution_count": 15,
   "id": "b631241c",
   "metadata": {},
   "outputs": [
    {
     "name": "stdout",
     "output_type": "stream",
     "text": [
      "{'cod': 401, 'message': 'Invalid API key. Please see https://openweathermap.org/faq#error401 for more info.'}\n"
     ]
    }
   ],
   "source": [
    "#response text\n",
    "response.text"
   ]
  },
  {
   "attachments": {},
   "cell_type": "markdown",
   "id": "bff1377c",
   "metadata": {},
   "source": [
    "\n",
    "{\n",
    "  \"coord\":[\n",
    "    50,\n",
    "    50\n",
    "  ],\n",
    "  \"list\":[\n",
    "    {\n",
    "      \"dt\":1605182400,\n",
    "      \"main\":{\n",
    "        \"aqi\":1\n",
    "      },\n",
    "      \"components\":{\n",
    "        \"co\":201.94053649902344,\n",
    "        \"no\":0.01877197064459324,\n",
    "        \"no2\":0.7711350917816162,\n",
    "        \"o3\":68.66455078125,\n",
    "        \"so2\":0.6407499313354492,\n",
    "        \"pm2_5\":0.5,\n",
    "        \"pm10\":0.540438711643219,\n",
    "        \"nh3\":0.12369127571582794\n",
    "      }\n",
    "    }\n",
    "  ]\n",
    "}\n",
    "                   \n",
    "                \n",
    "      item['main']['aqi']"
   ]
  },
  {
   "cell_type": "code",
   "execution_count": 6,
   "id": "ca84b432",
   "metadata": {},
   "outputs": [],
   "source": [
    "r = json.loads(response.text)"
   ]
  },
  {
   "cell_type": "code",
   "execution_count": 7,
   "id": "aecb7d77",
   "metadata": {},
   "outputs": [],
   "source": [
    "#Parsing the variables and extracting the time,co,no2,o3,so2,pm2.5,pm10,nh3. Each row of data is stored as a list which is then converted to a dataframe\n",
    "#Some dates have multiple observations\n",
    "#Added the AQI column --\n",
    "data = []\n",
    "\n",
    "for c in r['list']:\n",
    "    date = datetime.utcfromtimestamp(int(c['dt'])).strftime('%Y-%m-%d')\n",
    "    data.append([date,c['main']['aqi']c['components']['co'],c['components']['no'],c['components']['no2'],c['components']['o3'],c['components']['so2'],c['components']['pm2_5'],c['components']['pm10'],c['components']['nh3']])"
   ]
  },
  {
   "cell_type": "code",
   "execution_count": 8,
   "id": "96188e7a",
   "metadata": {},
   "outputs": [],
   "source": [
    "#Converting the list to a dataframe\n",
    "df =pd.DataFrame(data,columns=['date','AQI','co','no','no2','o3','so2','pm2_5','pm10','nh3'])"
   ]
  },
  {
   "cell_type": "code",
   "execution_count": 9,
   "id": "3f4053bb",
   "metadata": {},
   "outputs": [
    {
     "data": {
      "text/html": [
       "<div>\n",
       "<style scoped>\n",
       "    .dataframe tbody tr th:only-of-type {\n",
       "        vertical-align: middle;\n",
       "    }\n",
       "\n",
       "    .dataframe tbody tr th {\n",
       "        vertical-align: top;\n",
       "    }\n",
       "\n",
       "    .dataframe thead th {\n",
       "        text-align: right;\n",
       "    }\n",
       "</style>\n",
       "<table border=\"1\" class=\"dataframe\">\n",
       "  <thead>\n",
       "    <tr style=\"text-align: right;\">\n",
       "      <th></th>\n",
       "      <th>date</th>\n",
       "      <th>co</th>\n",
       "      <th>no</th>\n",
       "      <th>no2</th>\n",
       "      <th>o3</th>\n",
       "      <th>so2</th>\n",
       "      <th>pm2_5</th>\n",
       "      <th>pm10</th>\n",
       "      <th>nh3</th>\n",
       "    </tr>\n",
       "  </thead>\n",
       "  <tbody>\n",
       "    <tr>\n",
       "      <th>0</th>\n",
       "      <td>2020-11-25</td>\n",
       "      <td>2162.93</td>\n",
       "      <td>0.00</td>\n",
       "      <td>58.95</td>\n",
       "      <td>72.96</td>\n",
       "      <td>95.37</td>\n",
       "      <td>346.73</td>\n",
       "      <td>385.34</td>\n",
       "      <td>9.37</td>\n",
       "    </tr>\n",
       "    <tr>\n",
       "      <th>1</th>\n",
       "      <td>2020-11-25</td>\n",
       "      <td>2403.26</td>\n",
       "      <td>0.02</td>\n",
       "      <td>78.83</td>\n",
       "      <td>58.65</td>\n",
       "      <td>123.98</td>\n",
       "      <td>371.86</td>\n",
       "      <td>412.33</td>\n",
       "      <td>12.29</td>\n",
       "    </tr>\n",
       "    <tr>\n",
       "      <th>2</th>\n",
       "      <td>2020-11-25</td>\n",
       "      <td>2883.91</td>\n",
       "      <td>3.21</td>\n",
       "      <td>111.04</td>\n",
       "      <td>41.84</td>\n",
       "      <td>158.31</td>\n",
       "      <td>421.50</td>\n",
       "      <td>468.55</td>\n",
       "      <td>17.48</td>\n",
       "    </tr>\n",
       "    <tr>\n",
       "      <th>3</th>\n",
       "      <td>2020-11-25</td>\n",
       "      <td>3738.40</td>\n",
       "      <td>15.87</td>\n",
       "      <td>138.46</td>\n",
       "      <td>47.21</td>\n",
       "      <td>188.83</td>\n",
       "      <td>503.57</td>\n",
       "      <td>561.90</td>\n",
       "      <td>28.63</td>\n",
       "    </tr>\n",
       "    <tr>\n",
       "      <th>4</th>\n",
       "      <td>2020-11-25</td>\n",
       "      <td>4913.33</td>\n",
       "      <td>22.35</td>\n",
       "      <td>178.22</td>\n",
       "      <td>70.81</td>\n",
       "      <td>221.25</td>\n",
       "      <td>622.25</td>\n",
       "      <td>698.88</td>\n",
       "      <td>47.62</td>\n",
       "    </tr>\n",
       "  </tbody>\n",
       "</table>\n",
       "</div>"
      ],
      "text/plain": [
       "         date       co     no     no2     o3     so2   pm2_5    pm10    nh3\n",
       "0  2020-11-25  2162.93   0.00   58.95  72.96   95.37  346.73  385.34   9.37\n",
       "1  2020-11-25  2403.26   0.02   78.83  58.65  123.98  371.86  412.33  12.29\n",
       "2  2020-11-25  2883.91   3.21  111.04  41.84  158.31  421.50  468.55  17.48\n",
       "3  2020-11-25  3738.40  15.87  138.46  47.21  188.83  503.57  561.90  28.63\n",
       "4  2020-11-25  4913.33  22.35  178.22  70.81  221.25  622.25  698.88  47.62"
      ]
     },
     "execution_count": 9,
     "metadata": {},
     "output_type": "execute_result"
    }
   ],
   "source": [
    "df.head()"
   ]
  },
  {
   "cell_type": "code",
   "execution_count": 10,
   "id": "da5e5f28",
   "metadata": {},
   "outputs": [],
   "source": [
    "#exporting dataset\n",
    "df.to_csv('../../data/airQuality_1.csv', index=False)"
   ]
  },
  {
   "cell_type": "code",
   "execution_count": 13,
   "id": "8cca30f0",
   "metadata": {},
   "outputs": [],
   "source": [
    "df_read = pd.read_csv('../../data/airQuality_1.csv')"
   ]
  },
  {
   "cell_type": "code",
   "execution_count": 14,
   "id": "b513e2fe",
   "metadata": {},
   "outputs": [
    {
     "data": {
      "text/html": [
       "<div>\n",
       "<style scoped>\n",
       "    .dataframe tbody tr th:only-of-type {\n",
       "        vertical-align: middle;\n",
       "    }\n",
       "\n",
       "    .dataframe tbody tr th {\n",
       "        vertical-align: top;\n",
       "    }\n",
       "\n",
       "    .dataframe thead th {\n",
       "        text-align: right;\n",
       "    }\n",
       "</style>\n",
       "<table border=\"1\" class=\"dataframe\">\n",
       "  <thead>\n",
       "    <tr style=\"text-align: right;\">\n",
       "      <th></th>\n",
       "      <th>date</th>\n",
       "      <th>co</th>\n",
       "      <th>no</th>\n",
       "      <th>no2</th>\n",
       "      <th>o3</th>\n",
       "      <th>so2</th>\n",
       "      <th>pm2_5</th>\n",
       "      <th>pm10</th>\n",
       "      <th>nh3</th>\n",
       "    </tr>\n",
       "  </thead>\n",
       "  <tbody>\n",
       "    <tr>\n",
       "      <th>0</th>\n",
       "      <td>2020-11-25</td>\n",
       "      <td>2162.93</td>\n",
       "      <td>0.00</td>\n",
       "      <td>58.95</td>\n",
       "      <td>72.96</td>\n",
       "      <td>95.37</td>\n",
       "      <td>346.73</td>\n",
       "      <td>385.34</td>\n",
       "      <td>9.37</td>\n",
       "    </tr>\n",
       "    <tr>\n",
       "      <th>1</th>\n",
       "      <td>2020-11-25</td>\n",
       "      <td>2403.26</td>\n",
       "      <td>0.02</td>\n",
       "      <td>78.83</td>\n",
       "      <td>58.65</td>\n",
       "      <td>123.98</td>\n",
       "      <td>371.86</td>\n",
       "      <td>412.33</td>\n",
       "      <td>12.29</td>\n",
       "    </tr>\n",
       "    <tr>\n",
       "      <th>2</th>\n",
       "      <td>2020-11-25</td>\n",
       "      <td>2883.91</td>\n",
       "      <td>3.21</td>\n",
       "      <td>111.04</td>\n",
       "      <td>41.84</td>\n",
       "      <td>158.31</td>\n",
       "      <td>421.50</td>\n",
       "      <td>468.55</td>\n",
       "      <td>17.48</td>\n",
       "    </tr>\n",
       "    <tr>\n",
       "      <th>3</th>\n",
       "      <td>2020-11-25</td>\n",
       "      <td>3738.40</td>\n",
       "      <td>15.87</td>\n",
       "      <td>138.46</td>\n",
       "      <td>47.21</td>\n",
       "      <td>188.83</td>\n",
       "      <td>503.57</td>\n",
       "      <td>561.90</td>\n",
       "      <td>28.63</td>\n",
       "    </tr>\n",
       "    <tr>\n",
       "      <th>4</th>\n",
       "      <td>2020-11-25</td>\n",
       "      <td>4913.33</td>\n",
       "      <td>22.35</td>\n",
       "      <td>178.22</td>\n",
       "      <td>70.81</td>\n",
       "      <td>221.25</td>\n",
       "      <td>622.25</td>\n",
       "      <td>698.88</td>\n",
       "      <td>47.62</td>\n",
       "    </tr>\n",
       "  </tbody>\n",
       "</table>\n",
       "</div>"
      ],
      "text/plain": [
       "         date       co     no     no2     o3     so2   pm2_5    pm10    nh3\n",
       "0  2020-11-25  2162.93   0.00   58.95  72.96   95.37  346.73  385.34   9.37\n",
       "1  2020-11-25  2403.26   0.02   78.83  58.65  123.98  371.86  412.33  12.29\n",
       "2  2020-11-25  2883.91   3.21  111.04  41.84  158.31  421.50  468.55  17.48\n",
       "3  2020-11-25  3738.40  15.87  138.46  47.21  188.83  503.57  561.90  28.63\n",
       "4  2020-11-25  4913.33  22.35  178.22  70.81  221.25  622.25  698.88  47.62"
      ]
     },
     "execution_count": 14,
     "metadata": {},
     "output_type": "execute_result"
    }
   ],
   "source": [
    "df_read.head()"
   ]
  },
  {
   "cell_type": "code",
   "execution_count": 15,
   "id": "dc5cb695",
   "metadata": {},
   "outputs": [
    {
     "data": {
      "text/plain": [
       "date     0\n",
       "co       0\n",
       "no       0\n",
       "no2      0\n",
       "o3       0\n",
       "so2      0\n",
       "pm2_5    0\n",
       "pm10     0\n",
       "nh3      0\n",
       "dtype: int64"
      ]
     },
     "execution_count": 15,
     "metadata": {},
     "output_type": "execute_result"
    }
   ],
   "source": [
    "df_read.isnull().sum()"
   ]
  },
  {
   "cell_type": "code",
   "execution_count": null,
   "id": "dc4e151a",
   "metadata": {},
   "outputs": [],
   "source": []
  }
 ],
 "metadata": {
  "kernelspec": {
   "display_name": "Python 3",
   "language": "python",
   "name": "python3"
  },
  "language_info": {
   "codemirror_mode": {
    "name": "ipython",
    "version": 3
   },
   "file_extension": ".py",
   "mimetype": "text/x-python",
   "name": "python",
   "nbconvert_exporter": "python",
   "pygments_lexer": "ipython3",
   "version": "3.10.10"
  }
 },
 "nbformat": 4,
 "nbformat_minor": 5
}
