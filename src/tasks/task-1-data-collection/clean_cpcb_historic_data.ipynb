{
 "cells": [
  {
   "cell_type": "code",
   "execution_count": 502,
   "metadata": {},
   "outputs": [],
   "source": [
    "import pandas as pd \n",
    "import os "
   ]
  },
  {
   "cell_type": "code",
   "execution_count": 503,
   "metadata": {},
   "outputs": [
    {
     "name": "stdout",
     "output_type": "stream",
     "text": [
      "['MazgaonMumbaiIITM.xlsx', 'SiddharthNagarWorliMumbaiIITM.xlsx', 'MulundWestMumbaiMPCB.xlsx', 'ColabaMumbaiMPCB.xlsx', 'KhindipadaBhandupWestMumbaiIITM.xlsx', 'VasaiWestMumbaiMPCB.xlsx', 'KandivaliEastMumbaiMPCB.xlsx', 'BorivaliEastMumbaiIITM.xlsx', 'KurlaMumbaiMPCB.xlsx', 'BandraKurlaComplexMumbaiIITM.xlsx', 'SionMumbaiMPCB.xlsx', 'MaladWestMumbaiIITM.xlsx', 'VileParleWestMumbaiMPCB.xlsx', 'DeonarMumbaiIITM.xlsx', 'PowaiMumbaiMPCB.xlsx', 'BorivaliEastMumbaiMPCB.xlsx', 'BandraMumbaiMPCB.xlsx', 'ChakalaAndheriEastMumbaiIITM.xlsx', 'NavyNagarColabaMumbaiIITM.xlsx', 'WorliMumbaiMPCB.xlsx', 'ChhatrapatiShivajiIntlAirportT2MumbaiMPCB.xlsx']\n"
     ]
    }
   ],
   "source": [
    "# folder containing the excel files downloaded from CPCB\n",
    "directory = \"/Users/rnirms/Documents/omdena/data/CPCB_downloads/2023-03-07/excel_files/\"\n",
    "\n",
    "# Get a list of all files in the directory\n",
    "all_files = os.listdir(directory)\n",
    "\n",
    "# Filter the list to include only .xlsx files\n",
    "xlsx_files = [file for file in all_files if file.endswith(\".xlsx\")]\n",
    "\n",
    "# Print the list of .xlsx files\n",
    "print(xlsx_files)\n"
   ]
  },
  {
   "cell_type": "code",
   "execution_count": 507,
   "metadata": {},
   "outputs": [],
   "source": [
    "def generate_csv(fname):\n",
    "    df = pd.read_excel(os.path.join(directory, fname))\n",
    "    index = df[df[df.columns[0]] == 'From Date'].index.tolist() #find the indices where the data wraps\n",
    "    nrows = index[1]-index[0]-4 #get the number of rows\n",
    "    df_data = pd.DataFrame() #initialise final data frame \n",
    "    for i in range(len(index)): \n",
    "        df_temp = df.iloc[list(range(index[i], index[i]+nrows)),:] #get rows with sensor readings\n",
    "        df_temp = df_temp.reset_index(drop=True) #reset the index \n",
    "        df_temp.columns =df_temp.iloc[0] #use top row as column header\n",
    "        df_temp = df_temp[1:] #remove top row\n",
    "        df_data = pd.concat([df_data, df_temp], axis = 1) #Add this slice to final data frame \n",
    "    df_data = df_data.T.drop_duplicates().T # remove the From/To time columns that repeat\n",
    "\n",
    "    # save final data frame as csv file \n",
    "    name, _ = os.path.splitext(fname)\n",
    "    csv_fname = name + \".csv\"\n",
    "    df_data.to_csv(os.path.join(directory, csv_fname))  "
   ]
  },
  {
   "cell_type": "code",
   "execution_count": 508,
   "metadata": {},
   "outputs": [],
   "source": [
    "for file in xlsx_files:\n",
    "    generate_csv(file)"
   ]
  }
 ],
 "metadata": {
  "kernelspec": {
   "display_name": "omdena-aq",
   "language": "python",
   "name": "python3"
  },
  "language_info": {
   "codemirror_mode": {
    "name": "ipython",
    "version": 3
   },
   "file_extension": ".py",
   "mimetype": "text/x-python",
   "name": "python",
   "nbconvert_exporter": "python",
   "pygments_lexer": "ipython3",
   "version": "3.11.0"
  },
  "orig_nbformat": 4
 },
 "nbformat": 4,
 "nbformat_minor": 2
}
