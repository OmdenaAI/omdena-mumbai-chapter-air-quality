{
  "nbformat": 4,
  "nbformat_minor": 0,
  "metadata": {
    "colab": {
      "provenance": []
    },
    "kernelspec": {
      "name": "python3",
      "display_name": "Python 3"
    },
    "language_info": {
      "name": "python"
    },
    "gpuClass": "standard"
  },
  "cells": [
    {
      "cell_type": "markdown",
      "source": [
        "#data.gov.in API\n",
        "\n",
        "### Resources\n",
        "*   Real time AQI data API: https://data.gov.in/apis/3b01bcb8-0b14-4abf-b6f2-c1bfd384ba69\n",
        "*   Tutorial on fetching data through api: https://medium.com/@prateekgaurav/fetching-data-through-api-in-python-66c536073770\n",
        "* Saving credentials outside the Jupyter notebook: https://towardsdatascience.com/store-api-credentials-easily-and-securely-in-jupyter-notebooks-50411e98e81c"
      ],
      "metadata": {
        "id": "xoGKlBeI86tF"
      }
    },
    {
      "cell_type": "code",
      "execution_count": 1,
      "metadata": {
        "id": "A2x25RGT2bx-"
      },
      "outputs": [],
      "source": [
        "from google.colab import files \n",
        "import requests\n",
        "import pandas as pd\n",
        "import io\n",
        "import json "
      ]
    },
    {
      "cell_type": "markdown",
      "source": [
        "* Register as a user at [data.gov.in](https://data.gov.in/)\n",
        "* Login and go to your dashboard and generate an API key\n",
        "* Save key in a JSON file, credentials.json as shown below: \n",
        "\n",
        "```\n",
        "{\n",
        "  \"datagovin_api_key\":\"YOUR_API_KEY\"  \n",
        "}\n",
        "\n",
        "```\n",
        "In the next cell upload this credentials.json file. \n"
      ],
      "metadata": {
        "id": "GBqsrsdwvi6j"
      }
    },
    {
      "cell_type": "code",
      "source": [
        "uploaded = files.upload()"
      ],
      "metadata": {
        "colab": {
          "base_uri": "https://localhost:8080/",
          "height": 74
        },
        "id": "mUuG0OswtgP0",
        "outputId": "7eb2543d-3e5c-42d9-894b-4f40320883ca"
      },
      "execution_count": 2,
      "outputs": [
        {
          "output_type": "display_data",
          "data": {
            "text/plain": [
              "<IPython.core.display.HTML object>"
            ],
            "text/html": [
              "\n",
              "     <input type=\"file\" id=\"files-cbbe8a0f-bd9a-4a00-8ecc-c290bba48764\" name=\"files[]\" multiple disabled\n",
              "        style=\"border:none\" />\n",
              "     <output id=\"result-cbbe8a0f-bd9a-4a00-8ecc-c290bba48764\">\n",
              "      Upload widget is only available when the cell has been executed in the\n",
              "      current browser session. Please rerun this cell to enable.\n",
              "      </output>\n",
              "      <script>// Copyright 2017 Google LLC\n",
              "//\n",
              "// Licensed under the Apache License, Version 2.0 (the \"License\");\n",
              "// you may not use this file except in compliance with the License.\n",
              "// You may obtain a copy of the License at\n",
              "//\n",
              "//      http://www.apache.org/licenses/LICENSE-2.0\n",
              "//\n",
              "// Unless required by applicable law or agreed to in writing, software\n",
              "// distributed under the License is distributed on an \"AS IS\" BASIS,\n",
              "// WITHOUT WARRANTIES OR CONDITIONS OF ANY KIND, either express or implied.\n",
              "// See the License for the specific language governing permissions and\n",
              "// limitations under the License.\n",
              "\n",
              "/**\n",
              " * @fileoverview Helpers for google.colab Python module.\n",
              " */\n",
              "(function(scope) {\n",
              "function span(text, styleAttributes = {}) {\n",
              "  const element = document.createElement('span');\n",
              "  element.textContent = text;\n",
              "  for (const key of Object.keys(styleAttributes)) {\n",
              "    element.style[key] = styleAttributes[key];\n",
              "  }\n",
              "  return element;\n",
              "}\n",
              "\n",
              "// Max number of bytes which will be uploaded at a time.\n",
              "const MAX_PAYLOAD_SIZE = 100 * 1024;\n",
              "\n",
              "function _uploadFiles(inputId, outputId) {\n",
              "  const steps = uploadFilesStep(inputId, outputId);\n",
              "  const outputElement = document.getElementById(outputId);\n",
              "  // Cache steps on the outputElement to make it available for the next call\n",
              "  // to uploadFilesContinue from Python.\n",
              "  outputElement.steps = steps;\n",
              "\n",
              "  return _uploadFilesContinue(outputId);\n",
              "}\n",
              "\n",
              "// This is roughly an async generator (not supported in the browser yet),\n",
              "// where there are multiple asynchronous steps and the Python side is going\n",
              "// to poll for completion of each step.\n",
              "// This uses a Promise to block the python side on completion of each step,\n",
              "// then passes the result of the previous step as the input to the next step.\n",
              "function _uploadFilesContinue(outputId) {\n",
              "  const outputElement = document.getElementById(outputId);\n",
              "  const steps = outputElement.steps;\n",
              "\n",
              "  const next = steps.next(outputElement.lastPromiseValue);\n",
              "  return Promise.resolve(next.value.promise).then((value) => {\n",
              "    // Cache the last promise value to make it available to the next\n",
              "    // step of the generator.\n",
              "    outputElement.lastPromiseValue = value;\n",
              "    return next.value.response;\n",
              "  });\n",
              "}\n",
              "\n",
              "/**\n",
              " * Generator function which is called between each async step of the upload\n",
              " * process.\n",
              " * @param {string} inputId Element ID of the input file picker element.\n",
              " * @param {string} outputId Element ID of the output display.\n",
              " * @return {!Iterable<!Object>} Iterable of next steps.\n",
              " */\n",
              "function* uploadFilesStep(inputId, outputId) {\n",
              "  const inputElement = document.getElementById(inputId);\n",
              "  inputElement.disabled = false;\n",
              "\n",
              "  const outputElement = document.getElementById(outputId);\n",
              "  outputElement.innerHTML = '';\n",
              "\n",
              "  const pickedPromise = new Promise((resolve) => {\n",
              "    inputElement.addEventListener('change', (e) => {\n",
              "      resolve(e.target.files);\n",
              "    });\n",
              "  });\n",
              "\n",
              "  const cancel = document.createElement('button');\n",
              "  inputElement.parentElement.appendChild(cancel);\n",
              "  cancel.textContent = 'Cancel upload';\n",
              "  const cancelPromise = new Promise((resolve) => {\n",
              "    cancel.onclick = () => {\n",
              "      resolve(null);\n",
              "    };\n",
              "  });\n",
              "\n",
              "  // Wait for the user to pick the files.\n",
              "  const files = yield {\n",
              "    promise: Promise.race([pickedPromise, cancelPromise]),\n",
              "    response: {\n",
              "      action: 'starting',\n",
              "    }\n",
              "  };\n",
              "\n",
              "  cancel.remove();\n",
              "\n",
              "  // Disable the input element since further picks are not allowed.\n",
              "  inputElement.disabled = true;\n",
              "\n",
              "  if (!files) {\n",
              "    return {\n",
              "      response: {\n",
              "        action: 'complete',\n",
              "      }\n",
              "    };\n",
              "  }\n",
              "\n",
              "  for (const file of files) {\n",
              "    const li = document.createElement('li');\n",
              "    li.append(span(file.name, {fontWeight: 'bold'}));\n",
              "    li.append(span(\n",
              "        `(${file.type || 'n/a'}) - ${file.size} bytes, ` +\n",
              "        `last modified: ${\n",
              "            file.lastModifiedDate ? file.lastModifiedDate.toLocaleDateString() :\n",
              "                                    'n/a'} - `));\n",
              "    const percent = span('0% done');\n",
              "    li.appendChild(percent);\n",
              "\n",
              "    outputElement.appendChild(li);\n",
              "\n",
              "    const fileDataPromise = new Promise((resolve) => {\n",
              "      const reader = new FileReader();\n",
              "      reader.onload = (e) => {\n",
              "        resolve(e.target.result);\n",
              "      };\n",
              "      reader.readAsArrayBuffer(file);\n",
              "    });\n",
              "    // Wait for the data to be ready.\n",
              "    let fileData = yield {\n",
              "      promise: fileDataPromise,\n",
              "      response: {\n",
              "        action: 'continue',\n",
              "      }\n",
              "    };\n",
              "\n",
              "    // Use a chunked sending to avoid message size limits. See b/62115660.\n",
              "    let position = 0;\n",
              "    do {\n",
              "      const length = Math.min(fileData.byteLength - position, MAX_PAYLOAD_SIZE);\n",
              "      const chunk = new Uint8Array(fileData, position, length);\n",
              "      position += length;\n",
              "\n",
              "      const base64 = btoa(String.fromCharCode.apply(null, chunk));\n",
              "      yield {\n",
              "        response: {\n",
              "          action: 'append',\n",
              "          file: file.name,\n",
              "          data: base64,\n",
              "        },\n",
              "      };\n",
              "\n",
              "      let percentDone = fileData.byteLength === 0 ?\n",
              "          100 :\n",
              "          Math.round((position / fileData.byteLength) * 100);\n",
              "      percent.textContent = `${percentDone}% done`;\n",
              "\n",
              "    } while (position < fileData.byteLength);\n",
              "  }\n",
              "\n",
              "  // All done.\n",
              "  yield {\n",
              "    response: {\n",
              "      action: 'complete',\n",
              "    }\n",
              "  };\n",
              "}\n",
              "\n",
              "scope.google = scope.google || {};\n",
              "scope.google.colab = scope.google.colab || {};\n",
              "scope.google.colab._files = {\n",
              "  _uploadFiles,\n",
              "  _uploadFilesContinue,\n",
              "};\n",
              "})(self);\n",
              "</script> "
            ]
          },
          "metadata": {}
        },
        {
          "output_type": "stream",
          "name": "stdout",
          "text": [
            "Saving credentials.json to credentials.json\n"
          ]
        }
      ]
    },
    {
      "cell_type": "code",
      "source": [
        "file = io.BytesIO(uploaded['credentials.json'])\n",
        "credentials = json.load(file)"
      ],
      "metadata": {
        "id": "trPQUAm3uRAx"
      },
      "execution_count": 3,
      "outputs": []
    },
    {
      "cell_type": "code",
      "source": [
        "api_link = \"https://api.data.gov.in/resource/3b01bcb8-0b14-4abf-b6f2-c1bfd384ba69\"\n",
        "api_key = credentials['datagovin_api_key']\n",
        "format = \"csv\"\n",
        "country = \"India\"\n",
        "state = \"Maharashtra\"\n",
        "city = \"Mumbai\"\n",
        "\n",
        "url_link = api_link + \"?api-key=\" + api_key + \\\n",
        "           \"&format=\" + format + \"&filters%5Bcountry%5D=\" + \\\n",
        "           country + \"&filters%5Bstate%5D=\" + state + \\\n",
        "           \"&filters%5Bcity%5D=\" + city\n"
      ],
      "metadata": {
        "id": "8wwrLO5Spg4u"
      },
      "execution_count": 4,
      "outputs": []
    },
    {
      "cell_type": "code",
      "source": [
        "urlData = requests.get(url_link).content"
      ],
      "metadata": {
        "id": "nFXi0rX6rbJE"
      },
      "execution_count": 5,
      "outputs": []
    },
    {
      "cell_type": "code",
      "source": [
        "#Converting the data to pandas dataframe.\n",
        "rawData = pd.read_csv(io.StringIO(urlData.decode('utf-8')))\n",
        "rawData.head(50)"
      ],
      "metadata": {
        "colab": {
          "base_uri": "https://localhost:8080/",
          "height": 363
        },
        "id": "iPmVHkTT5OCq",
        "outputId": "19e0e5a2-f34d-4f35-ab5e-541f3c24e086"
      },
      "execution_count": 6,
      "outputs": [
        {
          "output_type": "execute_result",
          "data": {
            "text/plain": [
              "     id country        state    city                              station  \\\n",
              "0  1461   India  Maharashtra  Mumbai  Bandra Kurla Complex, Mumbai - IITM   \n",
              "1  1462   India  Maharashtra  Mumbai  Bandra Kurla Complex, Mumbai - IITM   \n",
              "2  1463   India  Maharashtra  Mumbai  Bandra Kurla Complex, Mumbai - IITM   \n",
              "3  1464   India  Maharashtra  Mumbai  Bandra Kurla Complex, Mumbai - IITM   \n",
              "4  1465   India  Maharashtra  Mumbai  Bandra Kurla Complex, Mumbai - IITM   \n",
              "5  1466   India  Maharashtra  Mumbai  Bandra Kurla Complex, Mumbai - IITM   \n",
              "6  1467   India  Maharashtra  Mumbai  Bandra Kurla Complex, Mumbai - IITM   \n",
              "7  1468   India  Maharashtra  Mumbai         Borivali East, Mumbai - IITM   \n",
              "8  1469   India  Maharashtra  Mumbai         Borivali East, Mumbai - IITM   \n",
              "9  1470   India  Maharashtra  Mumbai         Borivali East, Mumbai - IITM   \n",
              "\n",
              "           last_update pollutant_id  pollutant_min  pollutant_max  \\\n",
              "0  03-03-2023 00:00:00        PM2.5            186            214   \n",
              "1  03-03-2023 00:00:00         PM10            148            156   \n",
              "2  03-03-2023 00:00:00          NO2             94            209   \n",
              "3  03-03-2023 00:00:00          NH3             18             67   \n",
              "4  03-03-2023 00:00:00          SO2             26            107   \n",
              "5  03-03-2023 00:00:00           CO             45            162   \n",
              "6  03-03-2023 00:00:00        OZONE             12            136   \n",
              "7  03-03-2023 00:00:00        PM2.5             96            344   \n",
              "8  03-03-2023 00:00:00         PM10            119            285   \n",
              "9  03-03-2023 00:00:00          NO2             64            161   \n",
              "\n",
              "   pollutant_avg  pollutant_unit  \n",
              "0            202             NaN  \n",
              "1            153             NaN  \n",
              "2            156             NaN  \n",
              "3             46             NaN  \n",
              "4             58             NaN  \n",
              "5            104             NaN  \n",
              "6             41             NaN  \n",
              "7            219             NaN  \n",
              "8            187             NaN  \n",
              "9            108             NaN  "
            ],
            "text/html": [
              "\n",
              "  <div id=\"df-dd7d01f4-3ab9-4c86-8dbf-328bec1ef314\">\n",
              "    <div class=\"colab-df-container\">\n",
              "      <div>\n",
              "<style scoped>\n",
              "    .dataframe tbody tr th:only-of-type {\n",
              "        vertical-align: middle;\n",
              "    }\n",
              "\n",
              "    .dataframe tbody tr th {\n",
              "        vertical-align: top;\n",
              "    }\n",
              "\n",
              "    .dataframe thead th {\n",
              "        text-align: right;\n",
              "    }\n",
              "</style>\n",
              "<table border=\"1\" class=\"dataframe\">\n",
              "  <thead>\n",
              "    <tr style=\"text-align: right;\">\n",
              "      <th></th>\n",
              "      <th>id</th>\n",
              "      <th>country</th>\n",
              "      <th>state</th>\n",
              "      <th>city</th>\n",
              "      <th>station</th>\n",
              "      <th>last_update</th>\n",
              "      <th>pollutant_id</th>\n",
              "      <th>pollutant_min</th>\n",
              "      <th>pollutant_max</th>\n",
              "      <th>pollutant_avg</th>\n",
              "      <th>pollutant_unit</th>\n",
              "    </tr>\n",
              "  </thead>\n",
              "  <tbody>\n",
              "    <tr>\n",
              "      <th>0</th>\n",
              "      <td>1461</td>\n",
              "      <td>India</td>\n",
              "      <td>Maharashtra</td>\n",
              "      <td>Mumbai</td>\n",
              "      <td>Bandra Kurla Complex, Mumbai - IITM</td>\n",
              "      <td>03-03-2023 00:00:00</td>\n",
              "      <td>PM2.5</td>\n",
              "      <td>186</td>\n",
              "      <td>214</td>\n",
              "      <td>202</td>\n",
              "      <td>NaN</td>\n",
              "    </tr>\n",
              "    <tr>\n",
              "      <th>1</th>\n",
              "      <td>1462</td>\n",
              "      <td>India</td>\n",
              "      <td>Maharashtra</td>\n",
              "      <td>Mumbai</td>\n",
              "      <td>Bandra Kurla Complex, Mumbai - IITM</td>\n",
              "      <td>03-03-2023 00:00:00</td>\n",
              "      <td>PM10</td>\n",
              "      <td>148</td>\n",
              "      <td>156</td>\n",
              "      <td>153</td>\n",
              "      <td>NaN</td>\n",
              "    </tr>\n",
              "    <tr>\n",
              "      <th>2</th>\n",
              "      <td>1463</td>\n",
              "      <td>India</td>\n",
              "      <td>Maharashtra</td>\n",
              "      <td>Mumbai</td>\n",
              "      <td>Bandra Kurla Complex, Mumbai - IITM</td>\n",
              "      <td>03-03-2023 00:00:00</td>\n",
              "      <td>NO2</td>\n",
              "      <td>94</td>\n",
              "      <td>209</td>\n",
              "      <td>156</td>\n",
              "      <td>NaN</td>\n",
              "    </tr>\n",
              "    <tr>\n",
              "      <th>3</th>\n",
              "      <td>1464</td>\n",
              "      <td>India</td>\n",
              "      <td>Maharashtra</td>\n",
              "      <td>Mumbai</td>\n",
              "      <td>Bandra Kurla Complex, Mumbai - IITM</td>\n",
              "      <td>03-03-2023 00:00:00</td>\n",
              "      <td>NH3</td>\n",
              "      <td>18</td>\n",
              "      <td>67</td>\n",
              "      <td>46</td>\n",
              "      <td>NaN</td>\n",
              "    </tr>\n",
              "    <tr>\n",
              "      <th>4</th>\n",
              "      <td>1465</td>\n",
              "      <td>India</td>\n",
              "      <td>Maharashtra</td>\n",
              "      <td>Mumbai</td>\n",
              "      <td>Bandra Kurla Complex, Mumbai - IITM</td>\n",
              "      <td>03-03-2023 00:00:00</td>\n",
              "      <td>SO2</td>\n",
              "      <td>26</td>\n",
              "      <td>107</td>\n",
              "      <td>58</td>\n",
              "      <td>NaN</td>\n",
              "    </tr>\n",
              "    <tr>\n",
              "      <th>5</th>\n",
              "      <td>1466</td>\n",
              "      <td>India</td>\n",
              "      <td>Maharashtra</td>\n",
              "      <td>Mumbai</td>\n",
              "      <td>Bandra Kurla Complex, Mumbai - IITM</td>\n",
              "      <td>03-03-2023 00:00:00</td>\n",
              "      <td>CO</td>\n",
              "      <td>45</td>\n",
              "      <td>162</td>\n",
              "      <td>104</td>\n",
              "      <td>NaN</td>\n",
              "    </tr>\n",
              "    <tr>\n",
              "      <th>6</th>\n",
              "      <td>1467</td>\n",
              "      <td>India</td>\n",
              "      <td>Maharashtra</td>\n",
              "      <td>Mumbai</td>\n",
              "      <td>Bandra Kurla Complex, Mumbai - IITM</td>\n",
              "      <td>03-03-2023 00:00:00</td>\n",
              "      <td>OZONE</td>\n",
              "      <td>12</td>\n",
              "      <td>136</td>\n",
              "      <td>41</td>\n",
              "      <td>NaN</td>\n",
              "    </tr>\n",
              "    <tr>\n",
              "      <th>7</th>\n",
              "      <td>1468</td>\n",
              "      <td>India</td>\n",
              "      <td>Maharashtra</td>\n",
              "      <td>Mumbai</td>\n",
              "      <td>Borivali East, Mumbai - IITM</td>\n",
              "      <td>03-03-2023 00:00:00</td>\n",
              "      <td>PM2.5</td>\n",
              "      <td>96</td>\n",
              "      <td>344</td>\n",
              "      <td>219</td>\n",
              "      <td>NaN</td>\n",
              "    </tr>\n",
              "    <tr>\n",
              "      <th>8</th>\n",
              "      <td>1469</td>\n",
              "      <td>India</td>\n",
              "      <td>Maharashtra</td>\n",
              "      <td>Mumbai</td>\n",
              "      <td>Borivali East, Mumbai - IITM</td>\n",
              "      <td>03-03-2023 00:00:00</td>\n",
              "      <td>PM10</td>\n",
              "      <td>119</td>\n",
              "      <td>285</td>\n",
              "      <td>187</td>\n",
              "      <td>NaN</td>\n",
              "    </tr>\n",
              "    <tr>\n",
              "      <th>9</th>\n",
              "      <td>1470</td>\n",
              "      <td>India</td>\n",
              "      <td>Maharashtra</td>\n",
              "      <td>Mumbai</td>\n",
              "      <td>Borivali East, Mumbai - IITM</td>\n",
              "      <td>03-03-2023 00:00:00</td>\n",
              "      <td>NO2</td>\n",
              "      <td>64</td>\n",
              "      <td>161</td>\n",
              "      <td>108</td>\n",
              "      <td>NaN</td>\n",
              "    </tr>\n",
              "  </tbody>\n",
              "</table>\n",
              "</div>\n",
              "      <button class=\"colab-df-convert\" onclick=\"convertToInteractive('df-dd7d01f4-3ab9-4c86-8dbf-328bec1ef314')\"\n",
              "              title=\"Convert this dataframe to an interactive table.\"\n",
              "              style=\"display:none;\">\n",
              "        \n",
              "  <svg xmlns=\"http://www.w3.org/2000/svg\" height=\"24px\"viewBox=\"0 0 24 24\"\n",
              "       width=\"24px\">\n",
              "    <path d=\"M0 0h24v24H0V0z\" fill=\"none\"/>\n",
              "    <path d=\"M18.56 5.44l.94 2.06.94-2.06 2.06-.94-2.06-.94-.94-2.06-.94 2.06-2.06.94zm-11 1L8.5 8.5l.94-2.06 2.06-.94-2.06-.94L8.5 2.5l-.94 2.06-2.06.94zm10 10l.94 2.06.94-2.06 2.06-.94-2.06-.94-.94-2.06-.94 2.06-2.06.94z\"/><path d=\"M17.41 7.96l-1.37-1.37c-.4-.4-.92-.59-1.43-.59-.52 0-1.04.2-1.43.59L10.3 9.45l-7.72 7.72c-.78.78-.78 2.05 0 2.83L4 21.41c.39.39.9.59 1.41.59.51 0 1.02-.2 1.41-.59l7.78-7.78 2.81-2.81c.8-.78.8-2.07 0-2.86zM5.41 20L4 18.59l7.72-7.72 1.47 1.35L5.41 20z\"/>\n",
              "  </svg>\n",
              "      </button>\n",
              "      \n",
              "  <style>\n",
              "    .colab-df-container {\n",
              "      display:flex;\n",
              "      flex-wrap:wrap;\n",
              "      gap: 12px;\n",
              "    }\n",
              "\n",
              "    .colab-df-convert {\n",
              "      background-color: #E8F0FE;\n",
              "      border: none;\n",
              "      border-radius: 50%;\n",
              "      cursor: pointer;\n",
              "      display: none;\n",
              "      fill: #1967D2;\n",
              "      height: 32px;\n",
              "      padding: 0 0 0 0;\n",
              "      width: 32px;\n",
              "    }\n",
              "\n",
              "    .colab-df-convert:hover {\n",
              "      background-color: #E2EBFA;\n",
              "      box-shadow: 0px 1px 2px rgba(60, 64, 67, 0.3), 0px 1px 3px 1px rgba(60, 64, 67, 0.15);\n",
              "      fill: #174EA6;\n",
              "    }\n",
              "\n",
              "    [theme=dark] .colab-df-convert {\n",
              "      background-color: #3B4455;\n",
              "      fill: #D2E3FC;\n",
              "    }\n",
              "\n",
              "    [theme=dark] .colab-df-convert:hover {\n",
              "      background-color: #434B5C;\n",
              "      box-shadow: 0px 1px 3px 1px rgba(0, 0, 0, 0.15);\n",
              "      filter: drop-shadow(0px 1px 2px rgba(0, 0, 0, 0.3));\n",
              "      fill: #FFFFFF;\n",
              "    }\n",
              "  </style>\n",
              "\n",
              "      <script>\n",
              "        const buttonEl =\n",
              "          document.querySelector('#df-dd7d01f4-3ab9-4c86-8dbf-328bec1ef314 button.colab-df-convert');\n",
              "        buttonEl.style.display =\n",
              "          google.colab.kernel.accessAllowed ? 'block' : 'none';\n",
              "\n",
              "        async function convertToInteractive(key) {\n",
              "          const element = document.querySelector('#df-dd7d01f4-3ab9-4c86-8dbf-328bec1ef314');\n",
              "          const dataTable =\n",
              "            await google.colab.kernel.invokeFunction('convertToInteractive',\n",
              "                                                     [key], {});\n",
              "          if (!dataTable) return;\n",
              "\n",
              "          const docLinkHtml = 'Like what you see? Visit the ' +\n",
              "            '<a target=\"_blank\" href=https://colab.research.google.com/notebooks/data_table.ipynb>data table notebook</a>'\n",
              "            + ' to learn more about interactive tables.';\n",
              "          element.innerHTML = '';\n",
              "          dataTable['output_type'] = 'display_data';\n",
              "          await google.colab.output.renderOutput(dataTable, element);\n",
              "          const docLink = document.createElement('div');\n",
              "          docLink.innerHTML = docLinkHtml;\n",
              "          element.appendChild(docLink);\n",
              "        }\n",
              "      </script>\n",
              "    </div>\n",
              "  </div>\n",
              "  "
            ]
          },
          "metadata": {},
          "execution_count": 6
        }
      ]
    },
    {
      "cell_type": "code",
      "source": [
        "rawData.shape"
      ],
      "metadata": {
        "colab": {
          "base_uri": "https://localhost:8080/"
        },
        "id": "2_lG_Bn-5ZSB",
        "outputId": "143f4cd6-b781-46e9-d830-7bfbb1b82089"
      },
      "execution_count": 7,
      "outputs": [
        {
          "output_type": "execute_result",
          "data": {
            "text/plain": [
              "(10, 11)"
            ]
          },
          "metadata": {},
          "execution_count": 7
        }
      ]
    },
    {
      "cell_type": "markdown",
      "source": [
        "To do: \n",
        "\n",
        "\n",
        "*   Get more than 10 rows of data - basically all stations in Mumbai \n",
        "*   Get historic data \n",
        "\n"
      ],
      "metadata": {
        "id": "q7fy4PA2uqPJ"
      }
    },
    {
      "cell_type": "markdown",
      "source": [
        "# WAQI API \n",
        "https://aqicn.org/api/"
      ],
      "metadata": {
        "id": "xl5ucGfEwpYn"
      }
    },
    {
      "cell_type": "markdown",
      "source": [
        "### Get AQI data for a particular station using station ID \n",
        "Credit: Eyal Hurvitz"
      ],
      "metadata": {
        "id": "I2npwwrn3UgQ"
      }
    },
    {
      "cell_type": "code",
      "source": [
        "loc_code = '13712'\n",
        "token = credentials['aqicn_api_key']\n",
        "URL = \"https://api.waqi.info/feed/@{loc_code}/\".format(loc_code=loc_code)\n",
        "PARAMS = {'token':token}\n",
        "r = requests.get(url = URL, params = PARAMS)"
      ],
      "metadata": {
        "id": "UIYDnAaQ25Fo"
      },
      "execution_count": 9,
      "outputs": []
    },
    {
      "cell_type": "code",
      "source": [
        "data = r.json()"
      ],
      "metadata": {
        "id": "_0rvGWKLyDoT"
      },
      "execution_count": 12,
      "outputs": []
    },
    {
      "cell_type": "code",
      "source": [
        "data['data']"
      ],
      "metadata": {
        "colab": {
          "base_uri": "https://localhost:8080/"
        },
        "id": "J1XF5EDCyF0Z",
        "outputId": "1c90cba9-c8f9-4251-eea7-ab42b10913bd"
      },
      "execution_count": 14,
      "outputs": [
        {
          "output_type": "execute_result",
          "data": {
            "text/plain": [
              "{'aqi': 330,\n",
              " 'idx': 13712,\n",
              " 'attributions': [{'url': 'http://cpcb.nic.in/',\n",
              "   'name': 'CPCB - India Central Pollution Control Board',\n",
              "   'logo': 'India-CPCB.png'},\n",
              "  {'url': 'https://waqi.info/', 'name': 'World Air Quality Index Project'}],\n",
              " 'city': {'geo': [19.04946, 72.923],\n",
              "  'name': 'Deonar, Mumbai, India',\n",
              "  'url': 'https://aqicn.org/city/india/mumbai/deonar',\n",
              "  'location': ''},\n",
              " 'dominentpol': 'pm25',\n",
              " 'iaqi': {'co': {'v': 3.3},\n",
              "  'dew': {'v': 12.5},\n",
              "  'h': {'v': 33.5},\n",
              "  'no2': {'v': 21.5},\n",
              "  'o3': {'v': 0.3},\n",
              "  'p': {'v': 1016},\n",
              "  'pm10': {'v': 301},\n",
              "  'pm25': {'v': 330},\n",
              "  'so2': {'v': 2.1},\n",
              "  't': {'v': 30},\n",
              "  'w': {'v': 0.16666666666666666},\n",
              "  'wg': {'v': 8.7}},\n",
              " 'time': {'s': '2023-03-03 00:00:00',\n",
              "  'tz': '+05:30',\n",
              "  'v': 1677801600,\n",
              "  'iso': '2023-03-03T00:00:00+05:30'},\n",
              " 'forecast': {'daily': {'o3': [{'avg': 20,\n",
              "     'day': '2023-03-01',\n",
              "     'max': 65,\n",
              "     'min': 3},\n",
              "    {'avg': 18, 'day': '2023-03-02', 'max': 91, 'min': 2},\n",
              "    {'avg': 20, 'day': '2023-03-03', 'max': 156, 'min': 1},\n",
              "    {'avg': 23, 'day': '2023-03-04', 'max': 130, 'min': 1},\n",
              "    {'avg': 21, 'day': '2023-03-05', 'max': 78, 'min': 1},\n",
              "    {'avg': 16, 'day': '2023-03-06', 'max': 98, 'min': 1},\n",
              "    {'avg': 4, 'day': '2023-03-07', 'max': 4, 'min': 1}],\n",
              "   'pm10': [{'avg': 47, 'day': '2023-03-01', 'max': 51, 'min': 46},\n",
              "    {'avg': 57, 'day': '2023-03-02', 'max': 58, 'min': 51},\n",
              "    {'avg': 58, 'day': '2023-03-03', 'max': 60, 'min': 58},\n",
              "    {'avg': 62, 'day': '2023-03-04', 'max': 73, 'min': 58},\n",
              "    {'avg': 64, 'day': '2023-03-05', 'max': 73, 'min': 58},\n",
              "    {'avg': 58, 'day': '2023-03-06', 'max': 58, 'min': 58},\n",
              "    {'avg': 52, 'day': '2023-03-07', 'max': 58, 'min': 46},\n",
              "    {'avg': 47, 'day': '2023-03-08', 'max': 58, 'min': 46}],\n",
              "   'pm25': [{'avg': 138, 'day': '2023-03-01', 'max': 138, 'min': 138},\n",
              "    {'avg': 156, 'day': '2023-03-02', 'max': 159, 'min': 138},\n",
              "    {'avg': 159, 'day': '2023-03-03', 'max': 159, 'min': 159},\n",
              "    {'avg': 163, 'day': '2023-03-04', 'max': 174, 'min': 159},\n",
              "    {'avg': 160, 'day': '2023-03-05', 'max': 163, 'min': 159},\n",
              "    {'avg': 151, 'day': '2023-03-06', 'max': 159, 'min': 138},\n",
              "    {'avg': 147, 'day': '2023-03-07', 'max': 159, 'min': 138},\n",
              "    {'avg': 140, 'day': '2023-03-08', 'max': 155, 'min': 138}]}},\n",
              " 'debug': {'sync': '2023-03-03T03:37:32+09:00'}}"
            ]
          },
          "metadata": {},
          "execution_count": 14
        }
      ]
    },
    {
      "cell_type": "markdown",
      "source": [
        "### Get list of station IDs in Mumbai \n",
        "Provide an area using to lat-long positions. I used google maps to get the lat-long values. Can be refined. "
      ],
      "metadata": {
        "id": "ya8lWN353hzG"
      }
    },
    {
      "cell_type": "code",
      "source": [
        "lat1 = '19.265739'\n",
        "lng1 = '72.782299'\n",
        "lat2 = '18.960356'\n",
        "lng2 = '73.221712'\n",
        "token = credentials['aqicn_api_key']\n",
        "URL = \"https://api.waqi.info/v2/map/bounds?latlng=\"+lat1+\",\"+lng1+\",\"+lat2+\",\"+lng2+\"&networks=all&token=\" + token\n",
        "r = requests.get(url = URL)\n"
      ],
      "metadata": {
        "id": "2z3uu9Ue0I6c"
      },
      "execution_count": 16,
      "outputs": []
    },
    {
      "cell_type": "code",
      "source": [
        "data = r.json()"
      ],
      "metadata": {
        "id": "ZzXLVPeB1D0T"
      },
      "execution_count": 20,
      "outputs": []
    },
    {
      "cell_type": "code",
      "source": [
        "station_ids = []\n",
        "for station in data['data']:\n",
        "  print(station['uid'], station['station']['name'])\n",
        "  station_ids.append(station['uid'])"
      ],
      "metadata": {
        "colab": {
          "base_uri": "https://localhost:8080/"
        },
        "id": "h0zbMeuT1Fm7",
        "outputId": "cfd07555-3ca1-4de6-d31a-d33efaf51cb2"
      },
      "execution_count": 30,
      "outputs": [
        {
          "output_type": "stream",
          "name": "stdout",
          "text": [
            "13706 Siddharth Nagar-Worli, Mumbai, India\n",
            "7020 Mumbai US Consulate, India (मुंबई अमेरिकी वाणिज्य दूतावास)\n",
            "13710 Khindipada-Bhandup West, Mumbai, India\n",
            "9143 Pimpleshwar Mandir, Dombivali, Thane, India\n",
            "12462 Khadakpada, Kalyan, India\n",
            "13709 Mazgaon, Mumbai, India\n",
            "12461 Mahape, Navi Mumbai, India\n",
            "12464 Sion, Mumbai, India\n",
            "13712 Deonar, Mumbai, India\n",
            "12454 Kurla, Mumbai, India\n",
            "12459 Powai, Mumbai, India\n",
            "13708 Mulund West, Mumbai, India\n",
            "13803 Malad West, Mumbai, India\n",
            "11921 Worli, Mumbai, India\n",
            "13715 Bandra Kurla Complex, Mumbai, India\n",
            "12460 Borivali East, Mumbai, India\n",
            "13714 Borivali East MPCB, Mumbai, India\n",
            "11898 Nerul, Navi Mumbai, India\n",
            "13702 Sector-19A Nerul, Navi Mumbai, India\n",
            "12455 Vile Parle West, Mumbai, India\n",
            "12456 Chhatrapati Shivaji Intl. Airport (T2), Mumbai, India\n",
            "13713 Chakala-Andheri East, Mumbai, India\n"
          ]
        }
      ]
    },
    {
      "cell_type": "code",
      "source": [
        "station_ids"
      ],
      "metadata": {
        "colab": {
          "base_uri": "https://localhost:8080/"
        },
        "id": "jzCdSXGo1ZEN",
        "outputId": "076dde48-aebc-4ebe-b0c7-19ce94ec4d41"
      },
      "execution_count": 31,
      "outputs": [
        {
          "output_type": "execute_result",
          "data": {
            "text/plain": [
              "[13706,\n",
              " 7020,\n",
              " 13710,\n",
              " 9143,\n",
              " 12462,\n",
              " 13709,\n",
              " 12461,\n",
              " 12464,\n",
              " 13712,\n",
              " 12454,\n",
              " 12459,\n",
              " 13708,\n",
              " 13803,\n",
              " 11921,\n",
              " 13715,\n",
              " 12460,\n",
              " 13714,\n",
              " 11898,\n",
              " 13702,\n",
              " 12455,\n",
              " 12456,\n",
              " 13713]"
            ]
          },
          "metadata": {},
          "execution_count": 31
        }
      ]
    },
    {
      "cell_type": "markdown",
      "source": [
        "### Get real time AQI data for all stations in Mumbai"
      ],
      "metadata": {
        "id": "RBDisRAw32XM"
      }
    },
    {
      "cell_type": "code",
      "source": [
        "aqi_data = []\n",
        "for s in station_ids:\n",
        "  loc_code = s\n",
        "  token = credentials['aqicn_api_key']\n",
        "  URL = \"https://api.waqi.info/feed/@{loc_code}/\".format(loc_code=loc_code)\n",
        "  PARAMS = {'token':token}\n",
        "  r = requests.get(url = URL, params = PARAMS)\n",
        "  data = r.json()\n",
        "  aqi_data.append(data['data'])"
      ],
      "metadata": {
        "id": "5yLcFSAW36RW"
      },
      "execution_count": 32,
      "outputs": []
    },
    {
      "cell_type": "code",
      "source": [
        "aqi_data[3]"
      ],
      "metadata": {
        "colab": {
          "base_uri": "https://localhost:8080/"
        },
        "id": "UvIwJJWf5-Ug",
        "outputId": "f1071065-b986-45f2-f84f-59cb6e39a278"
      },
      "execution_count": 43,
      "outputs": [
        {
          "output_type": "execute_result",
          "data": {
            "text/plain": [
              "{'aqi': 63,\n",
              " 'idx': 9143,\n",
              " 'attributions': [{'url': 'http://cpcb.nic.in/',\n",
              "   'name': 'CPCB - India Central Pollution Control Board',\n",
              "   'logo': 'India-CPCB.png'},\n",
              "  {'url': 'https://waqi.info/', 'name': 'World Air Quality Index Project'}],\n",
              " 'city': {'geo': [19.192056, 72.9585188],\n",
              "  'name': 'Pimpleshwar Mandir, Dombivali, Thane, India',\n",
              "  'url': 'https://aqicn.org/city/india/thane/pimpleshwar-mandir--dombivali',\n",
              "  'location': ''},\n",
              " 'dominentpol': 'o3',\n",
              " 'iaqi': {'co': {'v': 2.6},\n",
              "  'dew': {'v': 12.5},\n",
              "  'h': {'v': 37.334999999999994},\n",
              "  'no2': {'v': 8.3},\n",
              "  'o3': {'v': 63.4},\n",
              "  'p': {'v': 1013.5},\n",
              "  'pm10': {'v': 119},\n",
              "  'so2': {'v': 20.2},\n",
              "  't': {'v': 27},\n",
              "  'w': {'v': 0.315},\n",
              "  'wg': {'v': 8.7}},\n",
              " 'time': {'s': '2023-02-28 14:00:00',\n",
              "  'tz': '+05:30',\n",
              "  'v': 1677592800,\n",
              "  'iso': '2023-02-28T14:00:00+05:30'},\n",
              " 'forecast': {'daily': {'o3': [{'avg': 22,\n",
              "     'day': '2023-02-26',\n",
              "     'max': 38,\n",
              "     'min': 3},\n",
              "    {'avg': 15, 'day': '2023-02-27', 'max': 34, 'min': 4},\n",
              "    {'avg': 12, 'day': '2023-02-28', 'max': 43, 'min': 2},\n",
              "    {'avg': 16, 'day': '2023-03-01', 'max': 41, 'min': 2},\n",
              "    {'avg': 15, 'day': '2023-03-02', 'max': 52, 'min': 3},\n",
              "    {'avg': 13, 'day': '2023-03-03', 'max': 93, 'min': 1},\n",
              "    {'avg': 20, 'day': '2023-03-04', 'max': 97, 'min': 1},\n",
              "    {'avg': 3, 'day': '2023-03-05', 'max': 3, 'min': 1}],\n",
              "   'pm10': [{'avg': 46, 'day': '2023-02-26', 'max': 46, 'min': 46},\n",
              "    {'avg': 46, 'day': '2023-02-27', 'max': 46, 'min': 46},\n",
              "    {'avg': 46, 'day': '2023-02-28', 'max': 58, 'min': 46},\n",
              "    {'avg': 46, 'day': '2023-03-01', 'max': 46, 'min': 46},\n",
              "    {'avg': 57, 'day': '2023-03-02', 'max': 58, 'min': 46},\n",
              "    {'avg': 58, 'day': '2023-03-03', 'max': 58, 'min': 58},\n",
              "    {'avg': 62, 'day': '2023-03-04', 'max': 73, 'min': 58},\n",
              "    {'avg': 66, 'day': '2023-03-05', 'max': 73, 'min': 58},\n",
              "    {'avg': 58, 'day': '2023-03-06', 'max': 58, 'min': 47}],\n",
              "   'pm25': [{'avg': 111, 'day': '2023-02-26', 'max': 135, 'min': 89},\n",
              "    {'avg': 135, 'day': '2023-02-27', 'max': 138, 'min': 103},\n",
              "    {'avg': 138, 'day': '2023-02-28', 'max': 138, 'min': 138},\n",
              "    {'avg': 138, 'day': '2023-03-01', 'max': 138, 'min': 138},\n",
              "    {'avg': 153, 'day': '2023-03-02', 'max': 158, 'min': 138},\n",
              "    {'avg': 158, 'day': '2023-03-03', 'max': 159, 'min': 151},\n",
              "    {'avg': 163, 'day': '2023-03-04', 'max': 173, 'min': 159},\n",
              "    {'avg': 166, 'day': '2023-03-05', 'max': 173, 'min': 159},\n",
              "    {'avg': 158, 'day': '2023-03-06', 'max': 159, 'min': 139}]}},\n",
              " 'debug': {'sync': '2023-02-28T23:57:11+09:00'}}"
            ]
          },
          "metadata": {},
          "execution_count": 43
        }
      ]
    },
    {
      "cell_type": "code",
      "source": [],
      "metadata": {
        "id": "IVX4LpnB6Np8"
      },
      "execution_count": null,
      "outputs": []
    }
  ]
}